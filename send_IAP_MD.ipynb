{
 "cells": [
  {
   "cell_type": "markdown",
   "id": "260ae32d",
   "metadata": {},
   "source": [
    "# Molecular dynamics from pretrained m3gnet model"
   ]
  },
  {
   "cell_type": "code",
   "execution_count": 5,
   "id": "c2cacba1",
   "metadata": {},
   "outputs": [],
   "source": [
    "import ase \n",
    "import warnings\n",
    "import matgl\n",
    "import os\n",
    "import ML_library as MLL\n",
    "\n",
    "from ase.io                      import read, write\n",
    "from ase.io.vasp                 import write_vasp_xdatcar\n",
    "from pymatgen.io.vasp.inputs     import Poscar\n",
    "from pymatgen.core               import Structure, Lattice\n",
    "from matgl.ext.ase               import Relaxer, MolecularDynamics\n",
    "from pymatgen.io.ase             import AseAtomsAdaptor\n",
    "from ase.md.velocitydistribution import MaxwellBoltzmannDistribution\n",
    "\n",
    "for category in (UserWarning, DeprecationWarning):\n",
    "    warnings.filterwarnings('ignore', category=category, module='tensorflow')"
   ]
  },
  {
   "cell_type": "code",
   "execution_count": 27,
   "id": "82c6fa43",
   "metadata": {},
   "outputs": [],
   "source": [
    "# Define basic parameters\n",
    "\n",
    "#compound = 'LiMg'\n",
    "#polymorf = 'Pm-3m'\n",
    "\n",
    "temperature = 900  # In K\n",
    "ensemble    = 'nvt'  # NVT canonical ensemble\n",
    "timestep    = 1.5  # 1fs\n",
    "steps       = 67000\n",
    "loginterval = 10  # interval for record the log\n",
    "\n",
    "# Define various paths\n",
    "\n",
    "#path_to_folder     = f'Data/{compound}/{polymorf}'\n",
    "path_to_folder     =  '/Users/cibran/Desktop/Li10GeS2P12/stc-0'\n",
    "path_to_POSCAR     = f'{path_to_folder}/POSCAR'  # MP POSCAR (POSCAR_ini, DFT relaxed) is used\n",
    "path_to_POSCAR_ini = f'{path_to_folder}/POSCAR_ini'\n",
    "\n",
    "pot = matgl.load_model('M3GNet-MP-2021.2.8-PES')\n",
    "\n",
    "# If POSCAR is not there, we use the POSCAR_ini (DFT relaxed)\n",
    "#if not os.path.exists(path_to_POSCAR):\n",
    "#    system(f'cp {path_to_folder}/POSCAR_ini {path_to_folder}')\n",
    "\n",
    "trajectory  = f'{path_to_folder}/md.traj'  # save trajectory to mo.traj\n",
    "logfile     = f'{path_to_folder}/md.log'  # log file for MD\n",
    "\n",
    "# Write simulation parameters into INCAR\n",
    "with open(f'{path_to_folder}/INCAR', 'w') as file:\n",
    "    file.write(f'TEBEG = {temperature}\\n')\n",
    "    file.write(f'POTIM = {timestep}\\n')\n",
    "    file.write(f'NBLOCK = {loginterval}')\n",
    "    file.truncate()"
   ]
  },
  {
   "cell_type": "code",
   "execution_count": 7,
   "id": "53ea8e4f",
   "metadata": {},
   "outputs": [],
   "source": [
    "# Load the MP structure\n",
    "# DFT relaxed structure, supposed to work better\n",
    "\n",
    "if not os.path.exists(path_to_POSCAR):\n",
    "    if os.path.exists(path_to_POSCAR_ini):\n",
    "        # Copy POSCAR_ini as POSCAR\n",
    "        os.system(f'cp {path_to_POSCAR_ini} {path_to_POSCAR}')\n",
    "\n",
    "        # Relax POSCAR\n",
    "        MLL.structural_relaxation(path_to_folder, 'M3GNet-MP-2021.2.8-PES', verbose=False)\n",
    "        \n",
    "        # Copy CONTCAR as POSCAR\n",
    "        os.system(f'cp {path_to_folder}/CONTCAR {path_to_POSCAR}')\n",
    "    else:\n",
    "        sys.exit('Error: neither POSCAR nor POSCAR_ini files available.')\n",
    "\n",
    "atoms = Structure.from_file(path_to_POSCAR)"
   ]
  },
  {
   "cell_type": "code",
   "execution_count": 29,
   "id": "b8a4d793",
   "metadata": {
    "scrolled": false
   },
   "outputs": [
    {
     "name": "stderr",
     "output_type": "stream",
     "text": [
      "\n",
      "KeyboardInterrupt\n",
      "\n"
     ]
    }
   ],
   "source": [
    "ase_adaptor = AseAtomsAdaptor()\n",
    "\n",
    "# Create ase atom object\n",
    "md_atoms = ase_adaptor.get_atoms(atoms)\n",
    "\n",
    "# Initialize the velocity according to Maxwell Boltzamnn distribution\n",
    "MaxwellBoltzmannDistribution(md_atoms, temperature_K=temperature)\n",
    "\n",
    "# Create the MD class\n",
    "md = MolecularDynamics(\n",
    "    atoms=md_atoms,\n",
    "    potential=pot,\n",
    "    temperature=temperature,\n",
    "    ensemble=ensemble,\n",
    "    timestep=timestep, \n",
    "    trajectory=trajectory,\n",
    "    logfile=logfile,\n",
    "    loginterval=loginterval\n",
    ")\n",
    "\n",
    "# Run\n",
    "md.run(steps=steps)"
   ]
  },
  {
   "cell_type": "code",
   "execution_count": null,
   "id": "9de014a3",
   "metadata": {},
   "outputs": [],
   "source": [
    "# Read the .traj file\n",
    "atoms = read(trajectory, format='traj')\n",
    "\n",
    "# Access the atomic structure information\n",
    "cell      = atoms.get_cell()\n",
    "positions = atoms.get_positions()\n",
    "symbols   = atoms.get_chemical_symbols()"
   ]
  },
  {
   "cell_type": "code",
   "execution_count": 6,
   "id": "a91dfa56",
   "metadata": {},
   "outputs": [],
   "source": [
    "# Convert results to XDATCAR format\n",
    "ase_traj = ase.io.read(trajectory, index=':')\n",
    "ase.io.vasp.write_vasp_xdatcar(f'{path_to_folder}/XDATCAR', ase_traj, label=None)"
   ]
  }
 ],
 "metadata": {
  "kernelspec": {
   "display_name": "Python 3 (ipykernel)",
   "language": "python",
   "name": "python3"
  },
  "language_info": {
   "codemirror_mode": {
    "name": "ipython",
    "version": 3
   },
   "file_extension": ".py",
   "mimetype": "text/x-python",
   "name": "python",
   "nbconvert_exporter": "python",
   "pygments_lexer": "ipython3",
   "version": "3.11.1"
  }
 },
 "nbformat": 4,
 "nbformat_minor": 5
}
