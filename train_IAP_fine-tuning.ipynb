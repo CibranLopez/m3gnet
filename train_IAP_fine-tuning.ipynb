{
 "cells": [
  {
   "cell_type": "code",
   "execution_count": 1,
   "id": "ce15143c5a02981e",
   "metadata": {
    "ExecuteTime": {
     "end_time": "2024-03-07T10:48:56.830458Z",
     "start_time": "2024-03-07T10:48:46.529640Z"
    }
   },
   "outputs": [],
   "source": [
    "import numpy             as np\n",
    "import pandas            as pd\n",
    "import pytorch_lightning as pl\n",
    "import ML_library        as MLL\n",
    "import matplotlib.pyplot as plt\n",
    "import matgl\n",
    "import os\n",
    "import warnings\n",
    "import glob\n",
    "import torch\n",
    "\n",
    "from __future__                import annotations\n",
    "from pytorch_lightning.loggers import CSVLogger\n",
    "from matgl.ext.pymatgen        import Structure2Graph, get_element_list\n",
    "from matgl.graph.data          import M3GNetDataset, MGLDataLoader, collate_fn_efs\n",
    "from matgl.utils.training      import PotentialLightningModule\n",
    "\n",
    "# To suppress warnings for clearer output\n",
    "warnings.simplefilter('ignore')\n",
    "\n",
    "# Check if GPU is available\n",
    "device = torch.device('cuda' if torch.cuda.is_available() else 'cpu')"
   ]
  },
  {
   "cell_type": "code",
   "execution_count": 2,
   "id": "bdd19b6f63c722e4",
   "metadata": {
    "ExecuteTime": {
     "end_time": "2024-03-07T10:48:56.835851Z",
     "start_time": "2024-03-07T10:48:56.817417Z"
    }
   },
   "outputs": [
    {
     "data": {
      "text/plain": [
       "device(type='cpu')"
      ]
     },
     "execution_count": 2,
     "metadata": {},
     "output_type": "execute_result"
    }
   ],
   "source": [
    "device"
   ]
  },
  {
   "cell_type": "code",
   "execution_count": 3,
   "id": "8205eacc93a87700",
   "metadata": {
    "ExecuteTime": {
     "end_time": "2024-03-07T10:48:56.908060Z",
     "start_time": "2024-03-07T10:48:56.845170Z"
    }
   },
   "outputs": [],
   "source": [
    "data_train_path = 'm3gnet_dataset.xlsx'\n",
    "model_load_path = 'M3GNet-MP-2021.2.8-PES'\n",
    "model_save_path = 'finetuned_model'\n",
    "\n",
    "# Whether to include charge or not\n",
    "charged = True\n",
    "\n",
    "# 0: material, 1: charge state, 2: ionic step\n",
    "depth = 0\n",
    "\n",
    "# Define batch size\n",
    "batch_size = 128\n",
    "\n",
    "# Stress weight for training\n",
    "stress_weight = 0.0  # 0.7\n",
    "\n",
    "# Ratios for diving training data\n",
    "test_ratio       = 0.2\n",
    "validation_ratio = 0.2\n",
    "\n",
    "# Number of epoch for re-training\n",
    "max_epochs = 10\n",
    "\n",
    "# Learning-rate for re-training\n",
    "lr = 1e-4\n",
    "\n",
    "dpi = 100\n",
    "\n",
    "# Version of training you specifically want to analyze\n",
    "current_version = 1"
   ]
  },
  {
   "cell_type": "markdown",
   "id": "8531072de38c77ad",
   "metadata": {},
   "source": [
    "# Load simulation data"
   ]
  },
  {
   "cell_type": "code",
   "execution_count": 4,
   "id": "88c86b5aee65667b",
   "metadata": {
    "ExecuteTime": {
     "end_time": "2024-03-07T10:48:58.242488Z",
     "start_time": "2024-03-07T10:48:56.879920Z"
    }
   },
   "outputs": [
    {
     "name": "stdout",
     "output_type": "stream",
     "text": [
      "\n",
      "data-244\n",
      "\n",
      "data-620\n",
      "\n",
      "data-412\n",
      "\n",
      "data-415\n",
      "\n",
      "data-627\n",
      "\n",
      "data-243\n",
      "\n",
      "data-618\n",
      "\n",
      "data-288\n",
      "\n",
      "data-275\n",
      "\n",
      "data-423\n",
      "\n",
      "data-611\n",
      "\n",
      "data-281\n"
     ]
    },
    {
     "data": {
      "text/html": [
       "<div>\n",
       "<style scoped>\n",
       "    .dataframe tbody tr th:only-of-type {\n",
       "        vertical-align: middle;\n",
       "    }\n",
       "\n",
       "    .dataframe tbody tr th {\n",
       "        vertical-align: top;\n",
       "    }\n",
       "\n",
       "    .dataframe thead tr th {\n",
       "        text-align: left;\n",
       "    }\n",
       "</style>\n",
       "<table border=\"1\" class=\"dataframe\">\n",
       "  <thead>\n",
       "    <tr>\n",
       "      <th></th>\n",
       "      <th>data-244</th>\n",
       "      <th colspan=\"6\" halign=\"left\">data-620</th>\n",
       "      <th colspan=\"3\" halign=\"left\">data-412</th>\n",
       "      <th>...</th>\n",
       "      <th colspan=\"5\" halign=\"left\">data-423</th>\n",
       "      <th colspan=\"5\" halign=\"left\">data-611</th>\n",
       "    </tr>\n",
       "    <tr>\n",
       "      <th></th>\n",
       "      <th>0</th>\n",
       "      <th>0</th>\n",
       "      <th>1</th>\n",
       "      <th>2</th>\n",
       "      <th>3</th>\n",
       "      <th>4</th>\n",
       "      <th>5</th>\n",
       "      <th>0</th>\n",
       "      <th>1</th>\n",
       "      <th>2</th>\n",
       "      <th>...</th>\n",
       "      <th>13</th>\n",
       "      <th>14</th>\n",
       "      <th>15</th>\n",
       "      <th>16</th>\n",
       "      <th>17</th>\n",
       "      <th>0</th>\n",
       "      <th>1</th>\n",
       "      <th>2</th>\n",
       "      <th>3</th>\n",
       "      <th>4</th>\n",
       "    </tr>\n",
       "  </thead>\n",
       "  <tbody>\n",
       "    <tr>\n",
       "      <th>structure</th>\n",
       "      <td>[[3.33615302e+01 5.84467677e+00 2.59605999e-03...</td>\n",
       "      <td>[[0. 0. 0.] Gd, [ 0.      0.     58.7528] Gd, ...</td>\n",
       "      <td>[[0.         0.05303286 0.        ] Gd, [ 0.  ...</td>\n",
       "      <td>[[0.         0.09083842 0.        ] Gd, [ 0.  ...</td>\n",
       "      <td>[[0.         0.10042071 0.        ] Gd, [ 0.  ...</td>\n",
       "      <td>[[0.         0.10310386 0.        ] Gd, [ 0.  ...</td>\n",
       "      <td>[[0.         0.10636262 0.        ] Gd, [ 0.  ...</td>\n",
       "      <td>[[0.         0.01605117 0.01605117] Gd, [58.81...</td>\n",
       "      <td>[[-0.14904472  0.18096735 -0.17713168] Gd, [58...</td>\n",
       "      <td>[[-0.04738322  0.07378836 -0.03270408] Gd, [59...</td>\n",
       "      <td>...</td>\n",
       "      <td>[[ 0.18873338  0.03939749 -0.15933632] Gd, [58...</td>\n",
       "      <td>[[ 0.19091845  0.04124419 -0.16151926] Gd, [58...</td>\n",
       "      <td>[[ 0.19189738  0.04189677 -0.16238908] Gd, [58...</td>\n",
       "      <td>[[ 0.19362689  0.04352277 -0.16411899] Gd, [58...</td>\n",
       "      <td>[[ 0.19635622  0.04569262 -0.16684619] Gd, [58...</td>\n",
       "      <td>[[0. 0. 0.] Gd, [ 0.      0.     58.7528] Gd, ...</td>\n",
       "      <td>[[ 0.         -0.00628957  0.        ] Gd, [0....</td>\n",
       "      <td>[[0.         0.00455453 0.        ] Gd, [0.000...</td>\n",
       "      <td>[[0.         0.01105974 0.        ] Gd, [0.000...</td>\n",
       "      <td>[[0.         0.01355508 0.        ] Gd, [0.000...</td>\n",
       "    </tr>\n",
       "    <tr>\n",
       "      <th>energy</th>\n",
       "      <td>-412.577999</td>\n",
       "      <td>-826.155132</td>\n",
       "      <td>-826.405749</td>\n",
       "      <td>-826.414187</td>\n",
       "      <td>-826.414585</td>\n",
       "      <td>-826.415257</td>\n",
       "      <td>-826.415375</td>\n",
       "      <td>-830.225833</td>\n",
       "      <td>-831.447328</td>\n",
       "      <td>-832.020734</td>\n",
       "      <td>...</td>\n",
       "      <td>-832.343237</td>\n",
       "      <td>-832.343717</td>\n",
       "      <td>-832.344025</td>\n",
       "      <td>-832.344266</td>\n",
       "      <td>-832.344634</td>\n",
       "      <td>-826.270333</td>\n",
       "      <td>-826.45778</td>\n",
       "      <td>-826.467264</td>\n",
       "      <td>-826.46852</td>\n",
       "      <td>-826.468446</td>\n",
       "    </tr>\n",
       "    <tr>\n",
       "      <th>force</th>\n",
       "      <td>[[1.7e-05, -3.3e-05, 0.003824], [1.3e-05, -7.4...</td>\n",
       "      <td>[[0.0, 0.10137, -0.0], [0.0, 0.113333, -0.0], ...</td>\n",
       "      <td>[[-0.0, 0.075332, -0.0], [-0.0, 0.052073, -0.0...</td>\n",
       "      <td>[[0.0, 0.018956, -0.0], [0.0, 0.02052, -0.0], ...</td>\n",
       "      <td>[[0.0, 0.008732, 0.0], [0.0, 0.00968, 0.0], [0...</td>\n",
       "      <td>[[-0.0, 0.006542, 0.0], [-0.0, 0.006302, 0.0],...</td>\n",
       "      <td>[[0.0, 0.003934, 0.0], [0.0, 0.00258, 0.0], [0...</td>\n",
       "      <td>[[-0.285926, 0.316654, -0.370853], [0.222586, ...</td>\n",
       "      <td>[[0.33792, -0.357173, 0.479929], [-0.115185, -...</td>\n",
       "      <td>[[-0.048002, 0.058973, 0.051325], [0.096117, 0...</td>\n",
       "      <td>...</td>\n",
       "      <td>[[0.004716, 0.003865, -0.004807], [0.001945, -...</td>\n",
       "      <td>[[0.001594, 0.001101, -0.001458], [0.003603, -...</td>\n",
       "      <td>[[0.003441, 0.003074, -0.003472], [0.001406, -...</td>\n",
       "      <td>[[0.00147, 0.001027, -0.001489], [0.002891, -0...</td>\n",
       "      <td>[[0.00037, 0.000513, -0.000193], [0.002066, -0...</td>\n",
       "      <td>[[0.0, -0.012044, 0.0], [0.0, 0.013385, 0.0], ...</td>\n",
       "      <td>[[0.0, 0.020841, 0.0], [0.0, 0.028117, 0.0], [...</td>\n",
       "      <td>[[0.0, 0.009598, 0.0], [0.0, 0.005195, 0.0], [...</td>\n",
       "      <td>[[0.0, 0.003894, 0.0], [0.0, 0.00485, 0.0], [0...</td>\n",
       "      <td>[[-0.0, 0.001382, -0.0], [-0.0, 0.003261, -0.0...</td>\n",
       "    </tr>\n",
       "  </tbody>\n",
       "</table>\n",
       "<p>3 rows × 104 columns</p>\n",
       "</div>"
      ],
      "text/plain": [
       "                                                    data-244  \\\n",
       "                                                           0   \n",
       "structure  [[3.33615302e+01 5.84467677e+00 2.59605999e-03...   \n",
       "energy                                           -412.577999   \n",
       "force      [[1.7e-05, -3.3e-05, 0.003824], [1.3e-05, -7.4...   \n",
       "\n",
       "                                                    data-620  \\\n",
       "                                                           0   \n",
       "structure  [[0. 0. 0.] Gd, [ 0.      0.     58.7528] Gd, ...   \n",
       "energy                                           -826.155132   \n",
       "force      [[0.0, 0.10137, -0.0], [0.0, 0.113333, -0.0], ...   \n",
       "\n",
       "                                                              \\\n",
       "                                                           1   \n",
       "structure  [[0.         0.05303286 0.        ] Gd, [ 0.  ...   \n",
       "energy                                           -826.405749   \n",
       "force      [[-0.0, 0.075332, -0.0], [-0.0, 0.052073, -0.0...   \n",
       "\n",
       "                                                              \\\n",
       "                                                           2   \n",
       "structure  [[0.         0.09083842 0.        ] Gd, [ 0.  ...   \n",
       "energy                                           -826.414187   \n",
       "force      [[0.0, 0.018956, -0.0], [0.0, 0.02052, -0.0], ...   \n",
       "\n",
       "                                                              \\\n",
       "                                                           3   \n",
       "structure  [[0.         0.10042071 0.        ] Gd, [ 0.  ...   \n",
       "energy                                           -826.414585   \n",
       "force      [[0.0, 0.008732, 0.0], [0.0, 0.00968, 0.0], [0...   \n",
       "\n",
       "                                                              \\\n",
       "                                                           4   \n",
       "structure  [[0.         0.10310386 0.        ] Gd, [ 0.  ...   \n",
       "energy                                           -826.415257   \n",
       "force      [[-0.0, 0.006542, 0.0], [-0.0, 0.006302, 0.0],...   \n",
       "\n",
       "                                                              \\\n",
       "                                                           5   \n",
       "structure  [[0.         0.10636262 0.        ] Gd, [ 0.  ...   \n",
       "energy                                           -826.415375   \n",
       "force      [[0.0, 0.003934, 0.0], [0.0, 0.00258, 0.0], [0...   \n",
       "\n",
       "                                                    data-412  \\\n",
       "                                                           0   \n",
       "structure  [[0.         0.01605117 0.01605117] Gd, [58.81...   \n",
       "energy                                           -830.225833   \n",
       "force      [[-0.285926, 0.316654, -0.370853], [0.222586, ...   \n",
       "\n",
       "                                                              \\\n",
       "                                                           1   \n",
       "structure  [[-0.14904472  0.18096735 -0.17713168] Gd, [58...   \n",
       "energy                                           -831.447328   \n",
       "force      [[0.33792, -0.357173, 0.479929], [-0.115185, -...   \n",
       "\n",
       "                                                              ...  \\\n",
       "                                                           2  ...   \n",
       "structure  [[-0.04738322  0.07378836 -0.03270408] Gd, [59...  ...   \n",
       "energy                                           -832.020734  ...   \n",
       "force      [[-0.048002, 0.058973, 0.051325], [0.096117, 0...  ...   \n",
       "\n",
       "                                                    data-423  \\\n",
       "                                                          13   \n",
       "structure  [[ 0.18873338  0.03939749 -0.15933632] Gd, [58...   \n",
       "energy                                           -832.343237   \n",
       "force      [[0.004716, 0.003865, -0.004807], [0.001945, -...   \n",
       "\n",
       "                                                              \\\n",
       "                                                          14   \n",
       "structure  [[ 0.19091845  0.04124419 -0.16151926] Gd, [58...   \n",
       "energy                                           -832.343717   \n",
       "force      [[0.001594, 0.001101, -0.001458], [0.003603, -...   \n",
       "\n",
       "                                                              \\\n",
       "                                                          15   \n",
       "structure  [[ 0.19189738  0.04189677 -0.16238908] Gd, [58...   \n",
       "energy                                           -832.344025   \n",
       "force      [[0.003441, 0.003074, -0.003472], [0.001406, -...   \n",
       "\n",
       "                                                              \\\n",
       "                                                          16   \n",
       "structure  [[ 0.19362689  0.04352277 -0.16411899] Gd, [58...   \n",
       "energy                                           -832.344266   \n",
       "force      [[0.00147, 0.001027, -0.001489], [0.002891, -0...   \n",
       "\n",
       "                                                              \\\n",
       "                                                          17   \n",
       "structure  [[ 0.19635622  0.04569262 -0.16684619] Gd, [58...   \n",
       "energy                                           -832.344634   \n",
       "force      [[0.00037, 0.000513, -0.000193], [0.002066, -0...   \n",
       "\n",
       "                                                    data-611  \\\n",
       "                                                           0   \n",
       "structure  [[0. 0. 0.] Gd, [ 0.      0.     58.7528] Gd, ...   \n",
       "energy                                           -826.270333   \n",
       "force      [[0.0, -0.012044, 0.0], [0.0, 0.013385, 0.0], ...   \n",
       "\n",
       "                                                              \\\n",
       "                                                           1   \n",
       "structure  [[ 0.         -0.00628957  0.        ] Gd, [0....   \n",
       "energy                                            -826.45778   \n",
       "force      [[0.0, 0.020841, 0.0], [0.0, 0.028117, 0.0], [...   \n",
       "\n",
       "                                                              \\\n",
       "                                                           2   \n",
       "structure  [[0.         0.00455453 0.        ] Gd, [0.000...   \n",
       "energy                                           -826.467264   \n",
       "force      [[0.0, 0.009598, 0.0], [0.0, 0.005195, 0.0], [...   \n",
       "\n",
       "                                                              \\\n",
       "                                                           3   \n",
       "structure  [[0.         0.01105974 0.        ] Gd, [0.000...   \n",
       "energy                                            -826.46852   \n",
       "force      [[0.0, 0.003894, 0.0], [0.0, 0.00485, 0.0], [0...   \n",
       "\n",
       "                                                              \n",
       "                                                           4  \n",
       "structure  [[0.         0.01355508 0.        ] Gd, [0.000...  \n",
       "energy                                           -826.468446  \n",
       "force      [[-0.0, 0.001382, -0.0], [-0.0, 0.003261, -0.0...  \n",
       "\n",
       "[3 rows x 104 columns]"
      ]
     },
     "execution_count": 4,
     "metadata": {},
     "output_type": "execute_result"
    }
   ],
   "source": [
    "# Each folder names a new column, and structure, energy, forces and stresses\n",
    "# of each ionic step are loaded\n",
    "\n",
    "if os.path.exists(data_train_path):\n",
    "    # Load data for model training\n",
    "    m3gnet_dataset = pd.read_excel(data_train_path, index_col=0, header=[0,1,2])\n",
    "else:\n",
    "    # Path to dataset, structured as:\n",
    "    # path_to_dataset\n",
    "    #     material_i\n",
    "    #         defect_i\n",
    "    #             simulation_i (containing vasprun.xml)\n",
    "    #path_to_dataset = '../../../../Desktop/defects/gamma'\n",
    "    path_to_dataset = '../../../Desktop/CeO2-data'\n",
    "\n",
    "    # Extract the data\n",
    "    #source_m3gnet_dataset = MLL.extract_vaspruns_dataset(path_to_dataset, charged=charged)\n",
    "    source_m3gnet_dataset = MLL.extract_OUTCAR_dataset(path_to_dataset)\n",
    "    #source_m3gnet_dataset.to_excel(data_train_path)\n",
    "\n",
    "source_m3gnet_dataset"
   ]
  },
  {
   "cell_type": "code",
   "execution_count": 5,
   "id": "5fdaa03ef6b919c1",
   "metadata": {
    "ExecuteTime": {
     "end_time": "2024-03-07T10:48:58.270577Z",
     "start_time": "2024-03-07T10:48:58.242340Z"
    }
   },
   "outputs": [
    {
     "data": {
      "text/plain": [
       "3"
      ]
     },
     "execution_count": 5,
     "metadata": {},
     "output_type": "execute_result"
    }
   ],
   "source": [
    "len(source_m3gnet_dataset)"
   ]
  },
  {
   "cell_type": "markdown",
   "id": "1665e69cec7b6e4e",
   "metadata": {},
   "source": [
    "# Split data into train-validation-test sets"
   ]
  },
  {
   "cell_type": "markdown",
   "id": "f2a4ca22ac0cab57",
   "metadata": {},
   "source": [
    "### Decide if we split in terms of mateiral, defect state or simulation directly"
   ]
  },
  {
   "cell_type": "code",
   "execution_count": 6,
   "id": "ebcae6e798ff6059",
   "metadata": {
    "ExecuteTime": {
     "end_time": "2024-03-07T10:48:58.319125Z",
     "start_time": "2024-03-07T10:48:58.267793Z"
    }
   },
   "outputs": [],
   "source": [
    "# Clone (copy) the DataFrame\n",
    "m3gnet_dataset = source_m3gnet_dataset.copy()\n",
    "\n",
    "# Remove the outer (top-level) column index up to depth-1 level\n",
    "for i in range(depth):\n",
    "    m3gnet_dataset.columns = m3gnet_dataset.columns.droplevel(0)"
   ]
  },
  {
   "cell_type": "code",
   "execution_count": 7,
   "id": "f2292e14517e0ad3",
   "metadata": {
    "ExecuteTime": {
     "end_time": "2024-03-07T10:49:00.578986Z",
     "start_time": "2024-03-07T10:48:58.324241Z"
    }
   },
   "outputs": [
    {
     "data": {
      "text/html": [
       "<div>\n",
       "<style scoped>\n",
       "    .dataframe tbody tr th:only-of-type {\n",
       "        vertical-align: middle;\n",
       "    }\n",
       "\n",
       "    .dataframe tbody tr th {\n",
       "        vertical-align: top;\n",
       "    }\n",
       "\n",
       "    .dataframe thead tr th {\n",
       "        text-align: left;\n",
       "    }\n",
       "</style>\n",
       "<table border=\"1\" class=\"dataframe\">\n",
       "  <thead>\n",
       "    <tr>\n",
       "      <th></th>\n",
       "      <th>data-244</th>\n",
       "      <th colspan=\"6\" halign=\"left\">data-620</th>\n",
       "      <th colspan=\"3\" halign=\"left\">data-412</th>\n",
       "      <th>...</th>\n",
       "      <th colspan=\"5\" halign=\"left\">data-423</th>\n",
       "      <th colspan=\"5\" halign=\"left\">data-611</th>\n",
       "    </tr>\n",
       "    <tr>\n",
       "      <th></th>\n",
       "      <th>0</th>\n",
       "      <th>0</th>\n",
       "      <th>1</th>\n",
       "      <th>2</th>\n",
       "      <th>3</th>\n",
       "      <th>4</th>\n",
       "      <th>5</th>\n",
       "      <th>0</th>\n",
       "      <th>1</th>\n",
       "      <th>2</th>\n",
       "      <th>...</th>\n",
       "      <th>13</th>\n",
       "      <th>14</th>\n",
       "      <th>15</th>\n",
       "      <th>16</th>\n",
       "      <th>17</th>\n",
       "      <th>0</th>\n",
       "      <th>1</th>\n",
       "      <th>2</th>\n",
       "      <th>3</th>\n",
       "      <th>4</th>\n",
       "    </tr>\n",
       "  </thead>\n",
       "  <tbody>\n",
       "    <tr>\n",
       "      <th>structure</th>\n",
       "      <td>[[3.33615302e+01 5.84467677e+00 2.59605999e-03...</td>\n",
       "      <td>[[0. 0. 0.] Gd, [ 0.      0.     58.7528] Gd, ...</td>\n",
       "      <td>[[0.         0.05303286 0.        ] Gd, [ 0.  ...</td>\n",
       "      <td>[[0.         0.09083842 0.        ] Gd, [ 0.  ...</td>\n",
       "      <td>[[0.         0.10042071 0.        ] Gd, [ 0.  ...</td>\n",
       "      <td>[[0.         0.10310386 0.        ] Gd, [ 0.  ...</td>\n",
       "      <td>[[0.         0.10636262 0.        ] Gd, [ 0.  ...</td>\n",
       "      <td>[[0.         0.01605117 0.01605117] Gd, [58.81...</td>\n",
       "      <td>[[-0.14904472  0.18096735 -0.17713168] Gd, [58...</td>\n",
       "      <td>[[-0.04738322  0.07378836 -0.03270408] Gd, [59...</td>\n",
       "      <td>...</td>\n",
       "      <td>[[ 0.18873338  0.03939749 -0.15933632] Gd, [58...</td>\n",
       "      <td>[[ 0.19091845  0.04124419 -0.16151926] Gd, [58...</td>\n",
       "      <td>[[ 0.19189738  0.04189677 -0.16238908] Gd, [58...</td>\n",
       "      <td>[[ 0.19362689  0.04352277 -0.16411899] Gd, [58...</td>\n",
       "      <td>[[ 0.19635622  0.04569262 -0.16684619] Gd, [58...</td>\n",
       "      <td>[[0. 0. 0.] Gd, [ 0.      0.     58.7528] Gd, ...</td>\n",
       "      <td>[[ 0.         -0.00628957  0.        ] Gd, [0....</td>\n",
       "      <td>[[0.         0.00455453 0.        ] Gd, [0.000...</td>\n",
       "      <td>[[0.         0.01105974 0.        ] Gd, [0.000...</td>\n",
       "      <td>[[0.         0.01355508 0.        ] Gd, [0.000...</td>\n",
       "    </tr>\n",
       "    <tr>\n",
       "      <th>energy</th>\n",
       "      <td>-412.577999</td>\n",
       "      <td>-826.155132</td>\n",
       "      <td>-826.405749</td>\n",
       "      <td>-826.414187</td>\n",
       "      <td>-826.414585</td>\n",
       "      <td>-826.415257</td>\n",
       "      <td>-826.415375</td>\n",
       "      <td>-830.225833</td>\n",
       "      <td>-831.447328</td>\n",
       "      <td>-832.020734</td>\n",
       "      <td>...</td>\n",
       "      <td>-832.343237</td>\n",
       "      <td>-832.343717</td>\n",
       "      <td>-832.344025</td>\n",
       "      <td>-832.344266</td>\n",
       "      <td>-832.344634</td>\n",
       "      <td>-826.270333</td>\n",
       "      <td>-826.45778</td>\n",
       "      <td>-826.467264</td>\n",
       "      <td>-826.46852</td>\n",
       "      <td>-826.468446</td>\n",
       "    </tr>\n",
       "    <tr>\n",
       "      <th>force</th>\n",
       "      <td>[[1.7e-05, -3.3e-05, 0.003824], [1.3e-05, -7.4...</td>\n",
       "      <td>[[0.0, 0.10137, -0.0], [0.0, 0.113333, -0.0], ...</td>\n",
       "      <td>[[-0.0, 0.075332, -0.0], [-0.0, 0.052073, -0.0...</td>\n",
       "      <td>[[0.0, 0.018956, -0.0], [0.0, 0.02052, -0.0], ...</td>\n",
       "      <td>[[0.0, 0.008732, 0.0], [0.0, 0.00968, 0.0], [0...</td>\n",
       "      <td>[[-0.0, 0.006542, 0.0], [-0.0, 0.006302, 0.0],...</td>\n",
       "      <td>[[0.0, 0.003934, 0.0], [0.0, 0.00258, 0.0], [0...</td>\n",
       "      <td>[[-0.285926, 0.316654, -0.370853], [0.222586, ...</td>\n",
       "      <td>[[0.33792, -0.357173, 0.479929], [-0.115185, -...</td>\n",
       "      <td>[[-0.048002, 0.058973, 0.051325], [0.096117, 0...</td>\n",
       "      <td>...</td>\n",
       "      <td>[[0.004716, 0.003865, -0.004807], [0.001945, -...</td>\n",
       "      <td>[[0.001594, 0.001101, -0.001458], [0.003603, -...</td>\n",
       "      <td>[[0.003441, 0.003074, -0.003472], [0.001406, -...</td>\n",
       "      <td>[[0.00147, 0.001027, -0.001489], [0.002891, -0...</td>\n",
       "      <td>[[0.00037, 0.000513, -0.000193], [0.002066, -0...</td>\n",
       "      <td>[[0.0, -0.012044, 0.0], [0.0, 0.013385, 0.0], ...</td>\n",
       "      <td>[[0.0, 0.020841, 0.0], [0.0, 0.028117, 0.0], [...</td>\n",
       "      <td>[[0.0, 0.009598, 0.0], [0.0, 0.005195, 0.0], [...</td>\n",
       "      <td>[[0.0, 0.003894, 0.0], [0.0, 0.00485, 0.0], [0...</td>\n",
       "      <td>[[-0.0, 0.001382, -0.0], [-0.0, 0.003261, -0.0...</td>\n",
       "    </tr>\n",
       "  </tbody>\n",
       "</table>\n",
       "<p>3 rows × 104 columns</p>\n",
       "</div>"
      ],
      "text/plain": [
       "                                                    data-244  \\\n",
       "                                                           0   \n",
       "structure  [[3.33615302e+01 5.84467677e+00 2.59605999e-03...   \n",
       "energy                                           -412.577999   \n",
       "force      [[1.7e-05, -3.3e-05, 0.003824], [1.3e-05, -7.4...   \n",
       "\n",
       "                                                    data-620  \\\n",
       "                                                           0   \n",
       "structure  [[0. 0. 0.] Gd, [ 0.      0.     58.7528] Gd, ...   \n",
       "energy                                           -826.155132   \n",
       "force      [[0.0, 0.10137, -0.0], [0.0, 0.113333, -0.0], ...   \n",
       "\n",
       "                                                              \\\n",
       "                                                           1   \n",
       "structure  [[0.         0.05303286 0.        ] Gd, [ 0.  ...   \n",
       "energy                                           -826.405749   \n",
       "force      [[-0.0, 0.075332, -0.0], [-0.0, 0.052073, -0.0...   \n",
       "\n",
       "                                                              \\\n",
       "                                                           2   \n",
       "structure  [[0.         0.09083842 0.        ] Gd, [ 0.  ...   \n",
       "energy                                           -826.414187   \n",
       "force      [[0.0, 0.018956, -0.0], [0.0, 0.02052, -0.0], ...   \n",
       "\n",
       "                                                              \\\n",
       "                                                           3   \n",
       "structure  [[0.         0.10042071 0.        ] Gd, [ 0.  ...   \n",
       "energy                                           -826.414585   \n",
       "force      [[0.0, 0.008732, 0.0], [0.0, 0.00968, 0.0], [0...   \n",
       "\n",
       "                                                              \\\n",
       "                                                           4   \n",
       "structure  [[0.         0.10310386 0.        ] Gd, [ 0.  ...   \n",
       "energy                                           -826.415257   \n",
       "force      [[-0.0, 0.006542, 0.0], [-0.0, 0.006302, 0.0],...   \n",
       "\n",
       "                                                              \\\n",
       "                                                           5   \n",
       "structure  [[0.         0.10636262 0.        ] Gd, [ 0.  ...   \n",
       "energy                                           -826.415375   \n",
       "force      [[0.0, 0.003934, 0.0], [0.0, 0.00258, 0.0], [0...   \n",
       "\n",
       "                                                    data-412  \\\n",
       "                                                           0   \n",
       "structure  [[0.         0.01605117 0.01605117] Gd, [58.81...   \n",
       "energy                                           -830.225833   \n",
       "force      [[-0.285926, 0.316654, -0.370853], [0.222586, ...   \n",
       "\n",
       "                                                              \\\n",
       "                                                           1   \n",
       "structure  [[-0.14904472  0.18096735 -0.17713168] Gd, [58...   \n",
       "energy                                           -831.447328   \n",
       "force      [[0.33792, -0.357173, 0.479929], [-0.115185, -...   \n",
       "\n",
       "                                                              ...  \\\n",
       "                                                           2  ...   \n",
       "structure  [[-0.04738322  0.07378836 -0.03270408] Gd, [59...  ...   \n",
       "energy                                           -832.020734  ...   \n",
       "force      [[-0.048002, 0.058973, 0.051325], [0.096117, 0...  ...   \n",
       "\n",
       "                                                    data-423  \\\n",
       "                                                          13   \n",
       "structure  [[ 0.18873338  0.03939749 -0.15933632] Gd, [58...   \n",
       "energy                                           -832.343237   \n",
       "force      [[0.004716, 0.003865, -0.004807], [0.001945, -...   \n",
       "\n",
       "                                                              \\\n",
       "                                                          14   \n",
       "structure  [[ 0.19091845  0.04124419 -0.16151926] Gd, [58...   \n",
       "energy                                           -832.343717   \n",
       "force      [[0.001594, 0.001101, -0.001458], [0.003603, -...   \n",
       "\n",
       "                                                              \\\n",
       "                                                          15   \n",
       "structure  [[ 0.19189738  0.04189677 -0.16238908] Gd, [58...   \n",
       "energy                                           -832.344025   \n",
       "force      [[0.003441, 0.003074, -0.003472], [0.001406, -...   \n",
       "\n",
       "                                                              \\\n",
       "                                                          16   \n",
       "structure  [[ 0.19362689  0.04352277 -0.16411899] Gd, [58...   \n",
       "energy                                           -832.344266   \n",
       "force      [[0.00147, 0.001027, -0.001489], [0.002891, -0...   \n",
       "\n",
       "                                                              \\\n",
       "                                                          17   \n",
       "structure  [[ 0.19635622  0.04569262 -0.16684619] Gd, [58...   \n",
       "energy                                           -832.344634   \n",
       "force      [[0.00037, 0.000513, -0.000193], [0.002066, -0...   \n",
       "\n",
       "                                                    data-611  \\\n",
       "                                                           0   \n",
       "structure  [[0. 0. 0.] Gd, [ 0.      0.     58.7528] Gd, ...   \n",
       "energy                                           -826.270333   \n",
       "force      [[0.0, -0.012044, 0.0], [0.0, 0.013385, 0.0], ...   \n",
       "\n",
       "                                                              \\\n",
       "                                                           1   \n",
       "structure  [[ 0.         -0.00628957  0.        ] Gd, [0....   \n",
       "energy                                            -826.45778   \n",
       "force      [[0.0, 0.020841, 0.0], [0.0, 0.028117, 0.0], [...   \n",
       "\n",
       "                                                              \\\n",
       "                                                           2   \n",
       "structure  [[0.         0.00455453 0.        ] Gd, [0.000...   \n",
       "energy                                           -826.467264   \n",
       "force      [[0.0, 0.009598, 0.0], [0.0, 0.005195, 0.0], [...   \n",
       "\n",
       "                                                              \\\n",
       "                                                           3   \n",
       "structure  [[0.         0.01105974 0.        ] Gd, [0.000...   \n",
       "energy                                            -826.46852   \n",
       "force      [[0.0, 0.003894, 0.0], [0.0, 0.00485, 0.0], [0...   \n",
       "\n",
       "                                                              \n",
       "                                                           4  \n",
       "structure  [[0.         0.01355508 0.        ] Gd, [0.000...  \n",
       "energy                                           -826.468446  \n",
       "force      [[-0.0, 0.001382, -0.0], [-0.0, 0.003261, -0.0...  \n",
       "\n",
       "[3 rows x 104 columns]"
      ]
     },
     "execution_count": 7,
     "metadata": {},
     "output_type": "execute_result"
    }
   ],
   "source": [
    "m3gnet_dataset"
   ]
  },
  {
   "cell_type": "markdown",
   "id": "86b2b102ec3e5805",
   "metadata": {},
   "source": [
    "### Splitting into train-validation-test sets"
   ]
  },
  {
   "cell_type": "code",
   "execution_count": 8,
   "id": "bdde103a45a6c1ed",
   "metadata": {
    "ExecuteTime": {
     "end_time": "2024-03-07T10:49:00.680802Z",
     "start_time": "2024-03-07T10:49:00.592786Z"
    }
   },
   "outputs": [
    {
     "name": "stdout",
     "output_type": "stream",
     "text": [
      "Using 41 samples to train, 23 to evaluate, and 40 to test\n"
     ]
    }
   ],
   "source": [
    "# Check if data has been already split, else do it randomly\n",
    "\n",
    "path_to_test_labels       = 'test_labels.txt'\n",
    "path_to_validation_labels = 'validation_labels.txt'\n",
    "path_to_train_labels      = 'train_labels.txt'\n",
    "\n",
    "if os.path.exists(path_to_test_labels) and os.path.exists(path_to_validation_labels) and os.path.exists(path_to_train_labels):\n",
    "    # Read labels splitting (which are strings)\n",
    "    test_labels       = np.genfromtxt(path_to_test_labels,       dtype='str').tolist()\n",
    "    validation_labels = np.genfromtxt(path_to_validation_labels, dtype='str').tolist()\n",
    "    train_labels      = np.genfromtxt(path_to_train_labels,      dtype='str').tolist()\n",
    "else:\n",
    "    # Define unique labels, wrt the outer column\n",
    "    unique_labels = np.unique(m3gnet_dataset.columns.get_level_values(0))\n",
    "\n",
    "    # Shuffle the list of unique labels\n",
    "    np.random.shuffle(unique_labels)\n",
    "\n",
    "    # Define the sizes of every set\n",
    "    # Corresponds to the size wrt the number of unique materials in the dataset\n",
    "    test_size       = int(test_ratio       * len(unique_labels))\n",
    "    validation_size = int(validation_ratio * len(unique_labels))\n",
    "\n",
    "    test_labels       = unique_labels[:test_size]\n",
    "    validation_labels = unique_labels[test_size:test_size+validation_size]\n",
    "    train_labels      = unique_labels[test_size+validation_size:]\n",
    "    \n",
    "    # Save this splitting for transfer-learning approaches\n",
    "    np.savetxt(path_to_test_labels,       test_labels,       fmt='%s')\n",
    "    np.savetxt(path_to_validation_labels, validation_labels, fmt='%s')\n",
    "    np.savetxt(path_to_train_labels,      train_labels,      fmt='%s')\n",
    "\n",
    "# Use the loaded/computed labels to generate split datasets\n",
    "test_dataset       = m3gnet_dataset[test_labels]\n",
    "validation_dataset = m3gnet_dataset[validation_labels]\n",
    "train_dataset      = m3gnet_dataset[train_labels]\n",
    "\n",
    "n_test       = np.shape(test_dataset)[1]\n",
    "n_validation = np.shape(validation_dataset)[1]\n",
    "n_train      = np.shape(train_dataset)[1]\n",
    "\n",
    "print(f'Using {n_train} samples to train, {n_validation} to evaluate, and {n_test} to test')"
   ]
  },
  {
   "cell_type": "markdown",
   "id": "66e4970ac31246c2",
   "metadata": {},
   "source": [
    "### Convert into graph database"
   ]
  },
  {
   "cell_type": "code",
   "execution_count": 9,
   "id": "99448a3c9aa48ee1",
   "metadata": {
    "ExecuteTime": {
     "end_time": "2024-03-07T10:49:06.157953Z",
     "start_time": "2024-03-07T10:49:00.638772Z"
    }
   },
   "outputs": [
    {
     "name": "stderr",
     "output_type": "stream",
     "text": [
      "100%|██████████| 41/41 [00:02<00:00, 18.73it/s]\n",
      "100%|██████████| 23/23 [00:00<00:00, 25.42it/s]\n",
      "100%|██████████| 40/40 [00:01<00:00, 24.48it/s]\n"
     ]
    }
   ],
   "source": [
    "all_data = []\n",
    "for i in range(3):  # Iterate over train-validation-test sets\n",
    "    name    = ['train', 'val', 'test'][i]\n",
    "    dataset = [train_dataset, validation_dataset, test_dataset][i]\n",
    "    \n",
    "    for j in range(len(dataset.loc['force'].values)):\n",
    "        dataset.loc['force'].values[j] = dataset.loc['force'].values.tolist()[j].tolist()\n",
    "    \n",
    "    # Extract data from dataset\n",
    "    structures    = dataset.loc['structure'].values.tolist()\n",
    "    element_types = get_element_list(structures)\n",
    "    converter     = Structure2Graph(element_types=element_types, cutoff=5.0)\n",
    "    \n",
    "    # Define data labels from dataset\n",
    "    if stress_weight == 0:\n",
    "        stresses = [np.zeros((3, 3)).tolist() for s in structures]\n",
    "    else:\n",
    "        stresses = dataset.loc['stress'].values.tolist()\n",
    "\n",
    "    labels = {\n",
    "        'energies': dataset.loc['energy'].values.tolist(),\n",
    "        'forces':   dataset.loc['force'].values.tolist(),\n",
    "        'stresses': stresses,\n",
    "    }\n",
    "    \n",
    "    # Generate dataset\n",
    "    data = M3GNetDataset(\n",
    "        filename=f'dgl_graph-{name}.bin',\n",
    "        filename_line_graph=f'dgl_line_graph-{name}.bin',\n",
    "        filename_state_attr=f'state_attr-{name}.pt',\n",
    "        filename_labels=f'labels-{name}.json',\n",
    "        threebody_cutoff=4.0,\n",
    "        structures=structures,\n",
    "        converter=converter,\n",
    "        labels=labels,\n",
    "        name=f'M3GNetDataset-{name}',\n",
    "    )\n",
    "    all_data.append(data)\n",
    "\n",
    "train_data, val_data, test_data = all_data"
   ]
  },
  {
   "cell_type": "code",
   "execution_count": 10,
   "id": "679eb23293e5a538",
   "metadata": {
    "ExecuteTime": {
     "end_time": "2024-03-07T10:49:06.200906Z",
     "start_time": "2024-03-07T10:49:06.175024Z"
    }
   },
   "outputs": [],
   "source": [
    "train_loader, val_loader, test_loader = MGLDataLoader(\n",
    "    train_data=train_data,\n",
    "    val_data=val_data,\n",
    "    test_data=test_data,\n",
    "    collate_fn=collate_fn_efs,\n",
    "    batch_size=batch_size,\n",
    "    num_workers=1,\n",
    "    pin_memory=True,\n",
    ")"
   ]
  },
  {
   "cell_type": "markdown",
   "id": "f9fb577b",
   "metadata": {},
   "source": [
    "# Retrain model"
   ]
  },
  {
   "cell_type": "code",
   "execution_count": 11,
   "id": "7fac981a",
   "metadata": {
    "ExecuteTime": {
     "end_time": "2024-03-07T10:49:27.595906Z",
     "start_time": "2024-03-07T10:49:26.178661Z"
    }
   },
   "outputs": [],
   "source": [
    "# Download a pre-trained M3GNet\n",
    "m3gnet_nnp       = matgl.load_model(model_load_path)\n",
    "model_pretrained = m3gnet_nnp.model\n",
    "\n",
    "# Stress and site-wise are added to training loss\n",
    "# Stresses are being computed (calc_stress=True)\n",
    "lit_module_finetune = PotentialLightningModule(model=model_pretrained,\n",
    "                                               stress_weight=stress_weight,\n",
    "                                               loss='mse_loss',\n",
    "                                               lr=lr)"
   ]
  },
  {
   "cell_type": "code",
   "execution_count": null,
   "id": "2a3ffedd",
   "metadata": {
    "ExecuteTime": {
     "start_time": "2024-03-07T10:49:27.602858Z"
    },
    "is_executing": true,
    "scrolled": true
   },
   "outputs": [
    {
     "name": "stderr",
     "output_type": "stream",
     "text": [
      "GPU available: False, used: False\n",
      "TPU available: False, using: 0 TPU cores\n",
      "IPU available: False, using: 0 IPUs\n",
      "HPU available: False, using: 0 HPUs\n",
      "\n",
      "  | Name  | Type              | Params\n",
      "--------------------------------------------\n",
      "0 | mae   | MeanAbsoluteError | 0     \n",
      "1 | rmse  | MeanSquaredError  | 0     \n",
      "2 | model | Potential         | 288 K \n",
      "--------------------------------------------\n",
      "288 K     Trainable params\n",
      "0         Non-trainable params\n",
      "288 K     Total params\n",
      "1.153     Total estimated model params size (MB)\n"
     ]
    },
    {
     "data": {
      "application/vnd.jupyter.widget-view+json": {
       "model_id": "1313856b6073460bbbd43e852906f950",
       "version_major": 2,
       "version_minor": 0
      },
      "text/plain": [
       "Sanity Checking: 0it [00:00, ?it/s]"
      ]
     },
     "metadata": {},
     "output_type": "display_data"
    },
    {
     "data": {
      "application/vnd.jupyter.widget-view+json": {
       "model_id": "901548aa1cde495c8a6baa2846a3a54c",
       "version_major": 2,
       "version_minor": 0
      },
      "text/plain": [
       "Training: 0it [00:00, ?it/s]"
      ]
     },
     "metadata": {},
     "output_type": "display_data"
    },
    {
     "data": {
      "application/vnd.jupyter.widget-view+json": {
       "model_id": "fdf5b0717a1c43feab4f0ad2cc644b20",
       "version_major": 2,
       "version_minor": 0
      },
      "text/plain": [
       "Validation: 0it [00:00, ?it/s]"
      ]
     },
     "metadata": {},
     "output_type": "display_data"
    }
   ],
   "source": [
    "# If you wish to disable GPU or MPS (M1 mac) training, use the accelerator='cpu' kwarg.\n",
    "# accelerator='auto' selects the appropriate Accelerator\n",
    "logger  = CSVLogger('logs',\n",
    "                    name='M3GNet_finetuning')\n",
    "\n",
    "trainer = pl.Trainer(max_epochs=max_epochs,\n",
    "                     logger=logger,\n",
    "                     accelerator='cpu',\n",
    "                     inference_mode=False)\n",
    "\n",
    "trainer.fit(model=lit_module_finetune,\n",
    "            train_dataloaders=train_loader,\n",
    "            val_dataloaders=val_loader\n",
    "           )\n",
    "\n",
    "# Save trained model\n",
    "model_pretrained.model.save(model_save_path)"
   ]
  },
  {
   "cell_type": "markdown",
   "id": "080f1dbc",
   "metadata": {},
   "source": [
    "# Analyze metrics"
   ]
  },
  {
   "cell_type": "code",
   "execution_count": 1,
   "id": "1b3f2256",
   "metadata": {
    "ExecuteTime": {
     "end_time": "2024-03-07T13:04:04.236305Z",
     "start_time": "2024-03-07T13:04:02.979150Z"
    },
    "scrolled": true
   },
   "outputs": [
    {
     "ename": "NameError",
     "evalue": "name 'trainer' is not defined",
     "output_type": "error",
     "traceback": [
      "\u001b[0;31m---------------------------------------------------------------------------\u001b[0m",
      "\u001b[0;31mNameError\u001b[0m                                 Traceback (most recent call last)",
      "Cell \u001b[0;32mIn[1], line 2\u001b[0m\n\u001b[1;32m      1\u001b[0m \u001b[38;5;66;03m# E_MAE = meV/atom, F_MAE = eV/A, S_MAE = GPa\u001b[39;00m\n\u001b[0;32m----> 2\u001b[0m \u001b[43mtrainer\u001b[49m\u001b[38;5;241m.\u001b[39mtest(model\u001b[38;5;241m=\u001b[39mlit_module_finetune,\n\u001b[1;32m      3\u001b[0m             dataloaders\u001b[38;5;241m=\u001b[39mtest_loader\n\u001b[1;32m      4\u001b[0m            )\n",
      "\u001b[0;31mNameError\u001b[0m: name 'trainer' is not defined"
     ]
    }
   ],
   "source": [
    "# E_MAE = meV/atom, F_MAE = eV/A, S_MAE = GPa\n",
    "trainer.test(model=lit_module_finetune,\n",
    "            dataloaders=test_loader\n",
    "           )"
   ]
  },
  {
   "cell_type": "code",
   "execution_count": null,
   "id": "9a914e28",
   "metadata": {
    "scrolled": true
   },
   "outputs": [],
   "source": [
    "# Read the CSV file\n",
    "path_to_csv = f'logs/M3GNet_finetuning/version_{current_version}'\n",
    "df = pd.read_csv(f'{path_to_csv}/metrics.csv')\n",
    "df.head()"
   ]
  },
  {
   "cell_type": "code",
   "execution_count": null,
   "id": "a3134249",
   "metadata": {
    "ExecuteTime": {
     "end_time": "2024-02-26T15:43:41.352064167Z",
     "start_time": "2024-02-26T15:43:41.351990960Z"
    },
    "scrolled": true
   },
   "outputs": [],
   "source": [
    "# NaN to zero\n",
    "df = df.fillna(0)\n",
    "\n",
    "# Calculate the sum of every two consecutive rows\n",
    "df = df.groupby(df.index // 2).sum()\n",
    "df.head()"
   ]
  },
  {
   "cell_type": "code",
   "execution_count": null,
   "id": "643704df",
   "metadata": {
    "ExecuteTime": {
     "start_time": "2024-02-20T11:11:01.699191223Z"
    }
   },
   "outputs": [],
   "source": [
    "# Get the list of loss column names\n",
    "loss_columns = [col for col in df.columns if col.startswith('val_') or col.startswith('train_')]\n",
    "\n",
    "# Create a figure and axis\n",
    "fig = plt.subplots(figsize=(10, 6))\n",
    "\n",
    "# Plot each loss\n",
    "for loss_column in loss_columns:\n",
    "    plt.plot(df.index, np.log(df[loss_column]), label=loss_column)\n",
    "\n",
    "plt.xlabel('Epoch')\n",
    "plt.ylabel('Loss')\n",
    "plt.legend(loc=(1.01, 0))\n",
    "plt.savefig(f'm3gnet_loss.eps', dpi=dpi, bbox_inches='tight')\n",
    "plt.show()"
   ]
  },
  {
   "cell_type": "code",
   "execution_count": 45,
   "id": "9d85d562",
   "metadata": {
    "ExecuteTime": {
     "end_time": "2024-02-20T09:19:59.496787113Z",
     "start_time": "2024-02-20T09:19:59.491695716Z"
    }
   },
   "outputs": [
    {
     "data": {
      "text/plain": [
       "(0.0135606033727526, 0.0874462649226188, 0.0)"
      ]
     },
     "execution_count": 45,
     "metadata": {},
     "output_type": "execute_result"
    }
   ],
   "source": [
    "df['val_Energy_MAE'].iloc[-2], df['val_Force_MAE'].iloc[-2], df['val_Stress_MAE'].iloc[-2]"
   ]
  },
  {
   "cell_type": "code",
   "execution_count": 46,
   "id": "bc01f877",
   "metadata": {
    "ExecuteTime": {
     "end_time": "2024-02-20T09:20:01.235372917Z",
     "start_time": "2024-02-20T09:20:01.228383929Z"
    }
   },
   "outputs": [
    {
     "data": {
      "text/plain": [
       "(0.0, 0.0, 0.0)"
      ]
     },
     "execution_count": 46,
     "metadata": {},
     "output_type": "execute_result"
    }
   ],
   "source": [
    "df['val_Energy_MAE'].iloc[-1], df['val_Force_MAE'].iloc[-1], df['val_Stress_MAE'].iloc[-1]"
   ]
  },
  {
   "cell_type": "markdown",
   "id": "d8e76beb",
   "metadata": {},
   "source": [
    "# Cleanup the notebook"
   ]
  },
  {
   "cell_type": "code",
   "execution_count": 14,
   "id": "a7147751",
   "metadata": {
    "ExecuteTime": {
     "end_time": "2024-02-28T16:43:27.471122972Z",
     "start_time": "2024-02-28T16:43:27.430455453Z"
    }
   },
   "outputs": [],
   "source": [
    "# This code just performs cleanup for this notebook from temporal files\n",
    "\n",
    "patterns = ['dgl_graph*.bin', 'dgl_line_graph*.bin', 'state_attr*.pt', 'labels*.json', 'labels*.txt']\n",
    "for pattern in patterns:\n",
    "    files = glob.glob(pattern)\n",
    "    for file in files:\n",
    "        try:\n",
    "            os.remove(file)\n",
    "        except FileNotFoundError:\n",
    "            pass\n",
    "\n",
    "#shutil.rmtree('logs')\n",
    "#shutil.rmtree('trained_model')\n",
    "#shutil.rmtree('finetuned_model')"
   ]
  }
 ],
 "metadata": {
  "kernelspec": {
   "display_name": "Python 3 (ipykernel)",
   "language": "python",
   "name": "python3"
  },
  "language_info": {
   "codemirror_mode": {
    "name": "ipython",
    "version": 3
   },
   "file_extension": ".py",
   "mimetype": "text/x-python",
   "name": "python",
   "nbconvert_exporter": "python",
   "pygments_lexer": "ipython3",
   "version": "3.11.1"
  }
 },
 "nbformat": 4,
 "nbformat_minor": 5
}
