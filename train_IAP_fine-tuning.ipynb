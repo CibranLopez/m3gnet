{
 "cells": [
  {
   "cell_type": "code",
   "outputs": [],
   "source": [
    "import numpy             as np\n",
    "import pytorch_lightning as pl\n",
    "import ML_library        as MLL\n",
    "import matplotlib.pyplot as plt\n",
    "import matgl\n",
    "import os\n",
    "import warnings\n",
    "import torch\n",
    "import json\n",
    "\n",
    "from __future__                import annotations\n",
    "from pytorch_lightning.loggers import CSVLogger\n",
    "from matgl.ext.pymatgen        import Structure2Graph, get_element_list\n",
    "from matgl.graph.data          import M3GNetDataset, MGLDataLoader, collate_fn_efs\n",
    "from matgl.utils.training      import PotentialLightningModule\n",
    "\n",
    "# To suppress warnings for clearer output\n",
    "warnings.simplefilter('ignore')\n",
    "\n",
    "# Check if GPU is available\n",
    "device = torch.device('cuda' if torch.cuda.is_available() else 'cpu')"
   ],
   "metadata": {
    "collapsed": false,
    "ExecuteTime": {
     "end_time": "2024-06-30T17:45:48.003113545Z",
     "start_time": "2024-06-30T17:45:45.643307030Z"
    }
   },
   "id": "779806c81501309a",
   "execution_count": 1
  },
  {
   "cell_type": "code",
   "outputs": [
    {
     "data": {
      "text/plain": "device(type='cpu')"
     },
     "execution_count": 2,
     "metadata": {},
     "output_type": "execute_result"
    }
   ],
   "source": [
    "device"
   ],
   "metadata": {
    "collapsed": false,
    "ExecuteTime": {
     "end_time": "2024-06-30T17:45:48.012542539Z",
     "start_time": "2024-06-30T17:45:48.006414099Z"
    }
   },
   "id": "e5618a095f97c090",
   "execution_count": 2
  },
  {
   "cell_type": "code",
   "outputs": [],
   "source": [
    "model_load_path = 'M3GNet-MP-2021.2.8-PES'\n",
    "model_save_path = 'finetuned_model'\n",
    "\n",
    "# Whether to include charge or not\n",
    "charged = False\n",
    "\n",
    "# 0: material, 1: charge state, 2: ionic step\n",
    "depth = 1\n",
    "\n",
    "# Define batch size\n",
    "batch_size = 128\n",
    "\n",
    "# Stress weight for training\n",
    "stress_weight = 0.7  # 0.7\n",
    "\n",
    "# Ratios for diving training data\n",
    "test_ratio       = 0.2\n",
    "validation_ratio = 0.2\n",
    "\n",
    "# Number of epoch for re-training\n",
    "max_epochs = 5\n",
    "\n",
    "# Learning-rate for re-training\n",
    "lr = 1e-4\n",
    "\n",
    "dpi = 100\n",
    "\n",
    "# Version of training you specifically want to analyze\n",
    "current_version = 0\n",
    "\n",
    "# Each folder names a new column, and structure, energy, forces and stresses\n",
    "# of each ionic step are loaded\n",
    "\n",
    "# Path to dataset, structured as:\n",
    "# path_to_dataset\n",
    "#     material_i\n",
    "#         defect_i\n",
    "#             simulation_i (containing vasprun.xml)\n",
    "\n",
    "path_to_dataset = '/home/cibran/Desktop/defects/no-pressure/HSE06+D3+SOC'\n",
    "#path_to_dataset = '../../../Desktop/CeO2-data'\n",
    "\n",
    "# Create and save as a dictionary\n",
    "model_parameters = {\n",
    "    'model_load_path':  model_load_path,\n",
    "    'model_save_path':  model_save_path,\n",
    "    'charged':          charged,\n",
    "    'depth':            depth,\n",
    "    'batch_size':       batch_size,\n",
    "    'stress_weight':    stress_weight,\n",
    "    'test_ratio':       test_ratio,\n",
    "    'validation_ratio': validation_ratio,\n",
    "    'max_epochs':       max_epochs,\n",
    "    'lr':               lr,\n",
    "    'path_to_dataset':  path_to_dataset,\n",
    "}\n",
    "\n",
    "# Write the dictionary to the file in JSON format\n",
    "with open(f'{model_save_path}/model_parameters.json', 'w') as json_file:\n",
    "    json.dump(model_parameters, json_file)"
   ],
   "metadata": {
    "collapsed": false,
    "ExecuteTime": {
     "end_time": "2024-06-30T17:45:48.015544842Z",
     "start_time": "2024-06-30T17:45:48.009734801Z"
    }
   },
   "id": "d1c59ad8430839a7",
   "execution_count": 3
  },
  {
   "cell_type": "markdown",
   "source": [
    "# Load simulation data"
   ],
   "metadata": {
    "collapsed": false
   },
   "id": "e1609cea53c3b6fe"
  },
  {
   "cell_type": "code",
   "outputs": [
    {
     "name": "stdout",
     "output_type": "stream",
     "text": [
      "\n",
      "BiSeI\n",
      "\tas_1_Bi_on_Se_-1\n",
      "\tas_1_Bi_on_Se_-2\n",
      "\tas_1_Bi_on_Se_0\n",
      "\tas_1_Bi_on_Se_1\n",
      "\tas_1_Bi_on_Se_2\n",
      "\tas_1_Bi_on_Se_3\n",
      "\tas_1_Bi_on_Se_4\n",
      "\tas_1_Bi_on_Se_5\n",
      "\tas_1_I_on_Bi_-1\n",
      "\tas_1_I_on_Bi_-2\n",
      "\tas_1_I_on_Bi_0\n",
      "\tas_1_I_on_Bi_1\n",
      "\tas_1_I_on_Bi_2\n",
      "\tas_1_I_on_Bi_3\n",
      "\tas_1_I_on_Bi_4\n",
      "\tas_1_I_on_Bi_5\n",
      "\tas_1_Se_on_Bi_-1\n",
      "\tas_1_Se_on_Bi_-2\n",
      "\tas_1_Se_on_Bi_0\n",
      "\tas_1_Se_on_Bi_1\n",
      "\tas_1_Se_on_Bi_2\n",
      "\tas_1_Se_on_Bi_3\n",
      "\tas_1_Se_on_Bi_4\n",
      "\tas_1_Se_on_Bi_5\n",
      "\tas_2_Bi_on_I_-1\n",
      "\tas_2_Bi_on_I_-2\n",
      "\tas_2_Bi_on_I_0\n",
      "\tas_2_Bi_on_I_1\n",
      "\tas_2_Bi_on_I_2\n",
      "\tas_2_Bi_on_I_3\n",
      "\tas_2_Bi_on_I_4\n",
      "\tas_2_Bi_on_I_5\n",
      "\tas_2_I_on_Se_-1\n",
      "\tas_2_I_on_Se_-2\n",
      "\tas_2_I_on_Se_0\n",
      "\tas_2_I_on_Se_1\n",
      "\tas_2_I_on_Se_2\n",
      "\tas_2_I_on_Se_3\n",
      "\tas_2_I_on_Se_4\n",
      "\tas_2_I_on_Se_5\n",
      "\tas_2_Se_on_I_-1\n",
      "\tas_2_Se_on_I_-2\n",
      "\tas_2_Se_on_I_0\n",
      "\tas_2_Se_on_I_1\n",
      "\tas_2_Se_on_I_2\n",
      "\tas_2_Se_on_I_3\n",
      "\tas_2_Se_on_I_4\n",
      "\tas_2_Se_on_I_5\n",
      "\tinter_10_Se_0\n",
      "\tinter_11_Se_0\n",
      "\tinter_12_Se_0\n",
      "\tinter_13_Se_0\n",
      "\tinter_14_Se_0\n",
      "\tinter_15_Se_0\n",
      "\tinter_16_Se_0\n",
      "\tinter_17_I_0\n",
      "\tinter_18_I_0\n",
      "\tinter_19_I_0\n",
      "\tinter_1_Bi_0\n",
      "\tinter_20_I_0\n",
      "\tinter_21_I_0\n",
      "\tinter_22_I_0\n",
      "\tinter_23_I_0\n",
      "\tinter_24_I_0\n",
      "\tinter_2_Bi_0\n",
      "\tinter_3_Bi_0\n",
      "\tinter_4_Bi_0\n",
      "\tinter_5_Bi_0\n",
      "\tinter_6_Bi_0\n",
      "\tinter_7_Bi_0\n",
      "\tinter_8_Bi_0\n",
      "\tinter_9_Se_0\n",
      "\tsupercell\n",
      "\tvac_1_Bi_-1\n",
      "\tvac_1_Bi_-2\n",
      "\tvac_1_Bi_-3\n",
      "\tvac_1_Bi_0\n",
      "\tvac_1_Bi_1\n",
      "\tvac_1_Bi_2\n",
      "\tvac_1_Bi_3\n",
      "\tvac_2_Se_-1\n",
      "\tvac_2_Se_-2\n",
      "\tvac_2_Se_0\n",
      "Error: vasprun not correctly loaded.\n",
      "\tvac_2_Se_1\n",
      "Error: vasprun not correctly loaded.\n",
      "\tvac_2_Se_2\n",
      "Error: vasprun not correctly loaded.\n",
      "Error: vasprun not correctly loaded.\n",
      "\tvac_3_I_-1\n",
      "\tvac_3_I_0\n",
      "\tvac_3_I_1\n",
      "Error: vasprun not correctly loaded.\n",
      "Error: vasprun not correctly loaded.\n",
      "\n",
      "BiSBr\n",
      "\tas_1_Bi_on_S_-1\n",
      "\tas_1_Bi_on_S_-2\n",
      "\tas_1_Bi_on_S_0\n",
      "\tas_1_Bi_on_S_1\n",
      "\tas_1_Bi_on_S_2\n",
      "\tas_1_Bi_on_S_3\n",
      "\tas_1_Bi_on_S_4\n",
      "\tas_1_Bi_on_S_5\n",
      "\tas_1_Br_on_Bi_-1\n",
      "\tas_1_Br_on_Bi_-2\n",
      "\tas_1_Br_on_Bi_0\n",
      "\tas_1_Br_on_Bi_1\n",
      "\tas_1_Br_on_Bi_2\n",
      "\tas_1_Br_on_Bi_3\n",
      "\tas_1_Br_on_Bi_4\n",
      "\tas_1_Br_on_Bi_5\n",
      "\tas_1_S_on_Bi_-1\n",
      "\tas_1_S_on_Bi_-2\n",
      "\tas_1_S_on_Bi_0\n",
      "\tas_1_S_on_Bi_1\n",
      "\tas_1_S_on_Bi_2\n",
      "\tas_1_S_on_Bi_3\n",
      "\tas_1_S_on_Bi_4\n",
      "\tas_1_S_on_Bi_5\n",
      "Error: vasprun not correctly loaded.\n",
      "\tas_2_Bi_on_Br_-1\n",
      "\tas_2_Bi_on_Br_-2\n",
      "\tas_2_Bi_on_Br_0\n",
      "\tas_2_Bi_on_Br_1\n",
      "\tas_2_Bi_on_Br_2\n",
      "\tas_2_Bi_on_Br_3\n",
      "\tas_2_Bi_on_Br_4\n",
      "\tas_2_Bi_on_Br_5\n",
      "\tas_2_Br_on_S_-1\n",
      "\tas_2_Br_on_S_-2\n",
      "\tas_2_Br_on_S_0\n",
      "\tas_2_Br_on_S_1\n",
      "\tas_2_Br_on_S_2\n",
      "\tas_2_Br_on_S_3\n",
      "\tas_2_Br_on_S_4\n",
      "\tas_2_Br_on_S_5\n",
      "\tas_2_S_on_Br_-1\n",
      "\tas_2_S_on_Br_-2\n",
      "\tas_2_S_on_Br_0\n",
      "\tas_2_S_on_Br_1\n",
      "\tas_2_S_on_Br_2\n",
      "\tas_2_S_on_Br_3\n",
      "\tas_2_S_on_Br_4\n",
      "\tinter_10_S_0\n",
      "\tinter_11_S_0\n",
      "\tinter_12_S_0\n",
      "\tinter_13_S_0\n",
      "\tinter_14_S_0\n",
      "\tinter_15_S_0\n",
      "\tinter_16_S_0\n",
      "\tinter_17_Br_0\n",
      "\tinter_18_Br_0\n",
      "\tinter_19_Br_0\n",
      "\tinter_1_Bi_0\n",
      "\tinter_20_Br_0\n",
      "\tinter_21_Br_0\n",
      "\tinter_22_Br_0\n",
      "\tinter_23_Br_0\n",
      "\tinter_24_Br_0\n",
      "\tinter_2_Bi_0\n",
      "\tinter_3_Bi_0\n",
      "\tinter_4_Bi_0\n",
      "\tinter_5_Bi_0\n",
      "\tinter_6_Bi_0\n",
      "\tinter_7_Bi_0\n",
      "\tinter_8_Bi_0\n",
      "\tinter_9_S_0\n",
      "\tsupercell\n",
      "\tvac_1_Bi_-1\n",
      "\tvac_1_Bi_-2\n",
      "\tvac_1_Bi_-3\n",
      "\tvac_1_Bi_0\n",
      "\tvac_1_Bi_1\n",
      "\tvac_1_Bi_2\n",
      "\tvac_1_Bi_3\n",
      "\tvac_2_S_-1\n",
      "\tvac_2_S_-2\n",
      "\tvac_2_S_0\n",
      "\tvac_2_S_1\n",
      "\tvac_2_S_2\n",
      "\tvac_3_Br_-1\n",
      "\tvac_3_Br_0\n",
      "\tvac_3_Br_1\n",
      "\n",
      "BiSeBr\n",
      "\tas_1_Bi_on_Se_-1\n",
      "\tas_1_Bi_on_Se_-2\n",
      "\tas_1_Bi_on_Se_0\n",
      "\tas_1_Bi_on_Se_1\n",
      "\tas_1_Bi_on_Se_2\n",
      "\tas_1_Bi_on_Se_3\n",
      "\tas_1_Bi_on_Se_4\n",
      "\tas_1_Bi_on_Se_5\n",
      "\tas_1_Br_on_Bi_-1\n",
      "\tas_1_Br_on_Bi_-2\n",
      "\tas_1_Br_on_Bi_0\n",
      "\tas_1_Br_on_Bi_1\n",
      "\tas_1_Br_on_Bi_2\n",
      "\tas_1_Br_on_Bi_3\n",
      "\tas_1_Br_on_Bi_4\n",
      "\tas_1_Br_on_Bi_5\n",
      "\tas_1_Se_on_Bi_-1\n",
      "\tas_1_Se_on_Bi_-2\n",
      "\tas_1_Se_on_Bi_0\n",
      "\tas_1_Se_on_Bi_1\n",
      "\tas_1_Se_on_Bi_2\n",
      "\tas_1_Se_on_Bi_3\n",
      "\tas_1_Se_on_Bi_4\n",
      "\tas_1_Se_on_Bi_5\n",
      "\tas_2_Bi_on_Br_-1\n",
      "\tas_2_Bi_on_Br_-2\n",
      "\tas_2_Bi_on_Br_0\n",
      "\tas_2_Bi_on_Br_1\n",
      "Error: vasprun not correctly loaded.\n",
      "\tas_2_Bi_on_Br_2\n",
      "\tas_2_Bi_on_Br_3\n",
      "Error: vasprun not correctly loaded.\n",
      "\tas_2_Bi_on_Br_4\n",
      "\tas_2_Bi_on_Br_5\n",
      "\tas_2_Br_on_Se_-1\n",
      "\tas_2_Br_on_Se_-2\n",
      "\tas_2_Br_on_Se_0\n",
      "\tas_2_Br_on_Se_1\n",
      "\tas_2_Br_on_Se_2\n",
      "\tas_2_Br_on_Se_3\n",
      "\tas_2_Br_on_Se_4\n",
      "\tas_2_Br_on_Se_5\n",
      "\tas_2_Se_on_Br_-1\n",
      "\tas_2_Se_on_Br_-2\n",
      "\tas_2_Se_on_Br_0\n",
      "Error: vasprun not correctly loaded.\n",
      "\tas_2_Se_on_Br_1\n",
      "\tas_2_Se_on_Br_2\n",
      "\tas_2_Se_on_Br_3\n",
      "\tas_2_Se_on_Br_4\n",
      "\tas_2_Se_on_Br_5\n",
      "\tinter_10_Se_0\n",
      "\tinter_11_Se_0\n",
      "\tinter_12_Se_0\n",
      "\tinter_13_Se_0\n",
      "\tinter_14_Se_0\n",
      "\tinter_15_Se_0\n",
      "\tinter_16_Se_0\n",
      "\tinter_17_Br_0\n",
      "\tinter_18_Br_0\n",
      "\tinter_19_Br_0\n",
      "\tinter_1_Bi_0\n",
      "\tinter_20_Br_0\n",
      "\tinter_21_Br_0\n",
      "\tinter_22_Br_0\n",
      "\tinter_23_Br_0\n",
      "\tinter_24_Br_0\n",
      "\tinter_2_Bi_0\n",
      "\tinter_3_Bi_0\n",
      "\tinter_4_Bi_0\n",
      "\tinter_5_Bi_0\n",
      "\tinter_6_Bi_0\n",
      "\tinter_7_Bi_0\n",
      "\tinter_8_Bi_0\n",
      "\tinter_9_Se_0\n",
      "\tsupercell\n",
      "\tvac_1_Bi_-1\n",
      "\tvac_1_Bi_-2\n",
      "\tvac_1_Bi_-3\n",
      "\tvac_1_Bi_0\n",
      "\tvac_1_Bi_1\n",
      "\tvac_1_Bi_2\n",
      "\tvac_1_Bi_3\n",
      "\tvac_2_Se_-1\n",
      "\tvac_2_Se_-2\n",
      "\tvac_2_Se_0\n",
      "\tvac_2_Se_1\n",
      "\tvac_2_Se_2\n",
      "\tvac_3_Br_-1\n",
      "\tvac_3_Br_0\n",
      "\tvac_3_Br_1\n",
      "\n",
      "BiSI\n",
      "\tas_1_Bi_on_S_-1\n",
      "Error: vasprun not correctly loaded.\n",
      "Error: vasprun not correctly loaded.\n",
      "\tas_1_Bi_on_S_-2\n",
      "\tas_1_Bi_on_S_0\n",
      "Error: vasprun not correctly loaded.\n",
      "Error: vasprun not correctly loaded.\n",
      "\tas_1_Bi_on_S_1\n",
      "Error: vasprun not correctly loaded.\n",
      "\tas_1_Bi_on_S_2\n",
      "Error: vasprun not correctly loaded.\n",
      "Error: vasprun not correctly loaded.\n",
      "\tas_1_Bi_on_S_3\n",
      "Error: vasprun not correctly loaded.\n",
      "Error: vasprun not correctly loaded.\n",
      "\tas_1_Bi_on_S_4\n",
      "\tas_1_Bi_on_S_5\n",
      "Error: vasprun not correctly loaded.\n",
      "Error: vasprun not correctly loaded.\n",
      "\tas_1_I_on_Bi_-1\n",
      "Error: vasprun not correctly loaded.\n",
      "Error: vasprun not correctly loaded.\n",
      "\tas_1_I_on_Bi_-2\n",
      "Error: vasprun not correctly loaded.\n",
      "Error: vasprun not correctly loaded.\n",
      "\tas_1_I_on_Bi_0\n",
      "\tas_1_I_on_Bi_1\n",
      "Error: vasprun not correctly loaded.\n",
      "Error: vasprun not correctly loaded.\n",
      "\tas_1_I_on_Bi_2\n",
      "Error: vasprun not correctly loaded.\n",
      "Error: vasprun not correctly loaded.\n",
      "\tas_1_I_on_Bi_3\n",
      "Error: vasprun not correctly loaded.\n",
      "Error: vasprun not correctly loaded.\n",
      "\tas_1_I_on_Bi_4\n",
      "Error: vasprun not correctly loaded.\n",
      "Error: vasprun not correctly loaded.\n",
      "\tas_1_I_on_Bi_5\n",
      "Error: vasprun not correctly loaded.\n",
      "Error: vasprun not correctly loaded.\n",
      "\tas_1_S_on_Bi_-1\n",
      "Error: vasprun not correctly loaded.\n",
      "\tas_1_S_on_Bi_-2\n",
      "\tas_1_S_on_Bi_0\n",
      "Error: vasprun not correctly loaded.\n",
      "Error: vasprun not correctly loaded.\n",
      "\tas_1_S_on_Bi_1\n",
      "Error: vasprun not correctly loaded.\n",
      "Error: vasprun not correctly loaded.\n",
      "\tas_1_S_on_Bi_2\n",
      "Error: vasprun not correctly loaded.\n",
      "\tas_1_S_on_Bi_3\n",
      "Error: vasprun not correctly loaded.\n",
      "\tas_1_S_on_Bi_4\n",
      "Error: vasprun not correctly loaded.\n",
      "Error: vasprun not correctly loaded.\n",
      "\tas_1_S_on_Bi_5\n",
      "\tas_2_Bi_on_I_-1\n",
      "Error: vasprun not correctly loaded.\n",
      "\tas_2_Bi_on_I_-2\n",
      "Error: vasprun not correctly loaded.\n",
      "Error: vasprun not correctly loaded.\n",
      "\tas_2_Bi_on_I_0\n",
      "\tas_2_Bi_on_I_1\n",
      "Error: vasprun not correctly loaded.\n",
      "\tas_2_Bi_on_I_2\n",
      "Error: vasprun not correctly loaded.\n",
      "\tas_2_Bi_on_I_3\n",
      "Error: vasprun not correctly loaded.\n",
      "\tas_2_Bi_on_I_4\n",
      "Error: vasprun not correctly loaded.\n",
      "\tas_2_Bi_on_I_5\n",
      "Error: vasprun not correctly loaded.\n",
      "\tas_2_I_on_S_-1\n",
      "Error: vasprun not correctly loaded.\n",
      "Error: vasprun not correctly loaded.\n",
      "\tas_2_I_on_S_-2\n",
      "Error: vasprun not correctly loaded.\n",
      "\tas_2_I_on_S_0\n",
      "Error: vasprun not correctly loaded.\n",
      "\tas_2_I_on_S_1\n",
      "Error: vasprun not correctly loaded.\n",
      "Error: vasprun not correctly loaded.\n",
      "\tas_2_I_on_S_2\n",
      "Error: vasprun not correctly loaded.\n",
      "\tas_2_I_on_S_3\n",
      "Error: vasprun not correctly loaded.\n",
      "\tas_2_I_on_S_4\n",
      "Error: vasprun not correctly loaded.\n",
      "\tas_2_I_on_S_5\n",
      "Error: vasprun not correctly loaded.\n",
      "\tas_2_S_on_I_-1\n",
      "\tas_2_S_on_I_-2\n",
      "Error: vasprun not correctly loaded.\n",
      "\tas_2_S_on_I_0\n",
      "\tas_2_S_on_I_1\n",
      "Error: vasprun not correctly loaded.\n",
      "\tas_2_S_on_I_2\n",
      "Error: vasprun not correctly loaded.\n",
      "Error: vasprun not correctly loaded.\n",
      "\tas_2_S_on_I_3\n",
      "Error: vasprun not correctly loaded.\n",
      "\tas_2_S_on_I_4\n",
      "\tas_2_S_on_I_5\n",
      "\tinter_10_S_0\n",
      "\tinter_11_S_0\n",
      "\tinter_12_S_0\n",
      "\tinter_13_S_0\n",
      "\tinter_14_S_0\n",
      "\tinter_15_S_0\n",
      "\tinter_16_S_0\n",
      "\tinter_17_I_0\n",
      "\tinter_18_I_0\n",
      "\tinter_19_I_0\n",
      "\tinter_1_Bi_0\n",
      "\tinter_20_I_0\n",
      "\tinter_21_I_0\n",
      "\tinter_22_I_0\n",
      "\tinter_23_I_0\n",
      "\tinter_24_I_0\n",
      "\tinter_2_Bi_0\n",
      "\tinter_3_Bi_0\n",
      "\tinter_4_Bi_0\n",
      "\tinter_5_Bi_0\n",
      "\tinter_6_Bi_0\n",
      "\tinter_7_Bi_0\n",
      "\tinter_8_Bi_0\n",
      "\tinter_9_S_0\n",
      "\tsupercell\n",
      "Error: vasprun not correctly loaded.\n",
      "\tvac_1_Bi_-1\n",
      "\tvac_1_Bi_-2\n",
      "\tvac_1_Bi_-3\n",
      "\tvac_1_Bi_0\n",
      "\tvac_1_Bi_1\n",
      "\tvac_1_Bi_2\n",
      "Error: vasprun not correctly loaded.\n",
      "\tvac_1_Bi_3\n",
      "Error: vasprun not correctly loaded.\n",
      "\tvac_2_S_-1\n",
      "Error: vasprun not correctly loaded.\n",
      "\tvac_2_S_-2\n",
      "\tvac_2_S_0\n",
      "\tvac_2_S_1\n",
      "Error: vasprun not correctly loaded.\n",
      "\tvac_2_S_2\n",
      "\tvac_3_I_-1\n",
      "\tvac_3_I_0\n",
      "Error: vasprun not correctly loaded.\n",
      "\tvac_3_I_1\n"
     ]
    },
    {
     "data": {
      "text/plain": "                                                          BiSeI   \n                                         BiSeI_as_1_Bi_on_Se_-1   \n                                       BiSeI_as_1_Bi_on_Se_-1_0   \nstructure     [[3.20554223 2.69087838 6.2844721 ] Bi2.986111...  \\\nenergy                                              -332.201029   \nforce         [[-1.758e-05, -0.05576483, 0.06748949], [-0.00...   \nstress        [[0.37653684100000007, -4.06e-07, -1.4012e-05]...   \ncharge_state                                                1.0   \n\n                                                                  \n                                                                  \n                                       BiSeI_as_1_Bi_on_Se_-1_1   \nstructure     [[3.20554185 2.68980224 6.28577442] Bi2.986111...  \\\nenergy                                              -332.205257   \nforce         [[2.12e-06, -0.03917954, 0.0565461], [-0.00415...   \nstress        [[0.398000739, 1.1290000000000001e-06, -1.2287...   \ncharge_state                                                1.0   \n\n                                                                  \n                                                                  \n                                       BiSeI_as_1_Bi_on_Se_-1_2   \nstructure     [[3.20554082 2.68657401 6.28968151] Bi2.986111...  \\\nenergy                                              -332.214596   \nforce         [[1.145e-05, 0.01512165, 0.01974694], [0.00337...   \nstress        [[0.47221751700000003, 1.622e-06, -1.311900000...   \ncharge_state                                                1.0   \n\n                                                                  \n                                                                  \n                                       BiSeI_as_1_Bi_on_Se_-1_3   \nstructure     [[3.20553877 2.68011736 6.29749557] Bi2.986111...  \\\nenergy                                              -332.218497   \nforce         [[1.213e-05, 0.117238, -0.04935513], [0.018972...   \nstress        [[0.6181730000000001, 3.3090000000000004e-06, ...   \ncharge_state                                                1.0   \n\n                                                                  \n                                                                  \n                                       BiSeI_as_1_Bi_on_Se_-1_4   \nstructure     [[3.20553941 2.68201515 6.29519891] Bi2.986111...  \\\nenergy                                               -332.21937   \nforce         [[1.607e-05, 0.09136057, -0.03256468], [0.0151...   \nstress        [[0.574663336, 1.5040000000000001e-06, -1.0783...   \ncharge_state                                                1.0   \n\n                                                                  \n                                                                  \n                                       BiSeI_as_1_Bi_on_Se_-1_5   \nstructure     [[3.20553992 2.68538527 6.29480408] Bi2.986111...  \\\nenergy                                              -332.222411   \nforce         [[4.59e-06, 0.05999323, -0.02038018], [0.01057...   \nstress        [[0.5943896940000001, 9.520000000000001e-07, -...   \ncharge_state                                                1.0   \n\n                                                                  \n                                                                  \n                                       BiSeI_as_1_Bi_on_Se_-1_6   \nstructure     [[3.20554056 2.69037574 6.29421935] Bi2.986111...  \\\nenergy                                              -332.224126   \nforce         [[2.6e-07, 0.00540864, -0.00471688], [0.003071...   \nstress        [[0.621268687, 3.136e-06, -9.69e-06], [3.20700...   \ncharge_state                                                1.0   \n\n                                                                  \n                                                                  \n                                       BiSeI_as_1_Bi_on_Se_-1_7   \nstructure     [[3.20554069 2.69129553 6.29386162] Bi2.986111...  \\\nenergy                                              -332.224771   \nforce         [[-7.96e-06, -0.00115106, 0.00317176], [0.0030...   \nstress        [[0.619873728, 9.6e-07, -1.0194000000000001e-0...   \ncharge_state                                                1.0   \n\n                                                                  \n                                                                  \n                                       BiSeI_as_1_Bi_on_Se_-1_8   \nstructure     [[3.20554082 2.69339033 6.29304694] Bi2.986111...  \\\nenergy                                              -332.225339   \nforce         [[-5.03e-06, -0.01041344, 0.0189011], [0.00342...   \nstress        [[0.621160947, 7.01e-07, -7.962000000000001e-0...   \ncharge_state                                                1.0   \n\n                                                                 ...   \n                                                                 ...   \n                                       BiSeI_as_1_Bi_on_Se_-1_9  ...   \nstructure     [[3.20554069 2.69357343 6.29384177] Bi2.986111...  ...  \\\nenergy                                              -332.225848  ...   \nforce         [[-3.5e-06, -0.00514903, 0.01458557], [0.00539...  ...   \nstress        [[0.621136258, 1.374e-06, -6.5410000000000006e...  ...   \ncharge_state                                                1.0  ...   \n\n                                                           BiSI   \n                                                 BiSI_vac_3_I_0   \n                                              BiSI_vac_3_I_0_10   \nstructure     [[1.06921291 3.1989865  3.85935785] Bi3+, [ 1....  \\\nenergy                                              -347.591763   \nforce         [[-0.00229769, -0.00495766, -0.00516805], [0.0...   \nstress        [[0.263782307, -0.022119496000000002, 0.001277...   \ncharge_state                                                0.0   \n\n                                                                  \n                                                                  \n                                              BiSI_vac_3_I_0_11   \nstructure     [[1.06787676 3.1990505  3.85994259] Bi3+, [ 1....  \\\nenergy                                               -347.59188   \nforce         [[-0.00264662, -0.00210474, -0.00320065], [0.0...   \nstress        [[0.26129351100000003, -0.021822126, 0.0014414...   \ncharge_state                                                0.0   \n\n                                                                  \n                                                                  \n                                              BiSI_vac_3_I_0_12   \nstructure     [[1.06386868 3.19924233 3.86169648] Bi3+, [ 1....  \\\nenergy                                              -347.592066   \nforce         [[-0.00302532, 0.00492659, 0.00023329], [0.003...   \nstress        [[0.26081747000000005, -0.021029699, 0.0018745...   \ncharge_state                                                0.0   \n\n                                                                  \n                                                                  \n                                              BiSI_vac_3_I_0_13   \nstructure     [[1.06203263 3.19969514 3.86241673] Bi3+, [ 1....  \\\nenergy                                              -347.592276   \nforce         [[-0.00183112, 0.00198203, 0.00029212], [0.002...   \nstress        [[0.26067501800000004, -0.02120698, 0.00157574...   \ncharge_state                                                0.0   \n\n                                                                  \n                                                                  \n                                              BiSI_vac_3_I_0_14   \nstructure     [[1.05879384 3.2004942  3.86368706] Bi3+, [ 1....  \\\nenergy                                              -347.592403   \nforce         [[0.00227096, 0.00084197, 0.00386464], [0.0005...   \nstress        [[0.2576231, -0.021571069000000002, 0.00089688...   \ncharge_state                                                0.0   \n\n                                                                  \n                                                                  \n                                              BiSI_vac_3_I_0_15   \nstructure     [[1.05738643 3.2009036  3.86445019] Bi3+, [ 1....  \\\nenergy                                              -347.592538   \nforce         [[0.00270389, -0.00072989, 0.00046305], [-0.00...   \nstress        [[0.254552777, -0.021745745, 0.000646594], [-0...   \ncharge_state                                                0.0   \n\n                                                                  \n                                                                  \n                                              BiSI_vac_3_I_0_16   \nstructure     [[1.05350019 3.20203415 3.86655707] Bi3+, [ 1....  \\\nenergy                                               -347.59266   \nforce         [[0.00562023, -0.00397949, -0.00521947], [-0.0...   \nstress        [[0.240984117, -0.022133796, -0.000328643], [-...   \ncharge_state                                                0.0   \n\n                                                                  \n                                                                  \n                                              BiSI_vac_3_I_0_17   \nstructure     [[1.05440983 3.20176957 3.86606394] Bi3+, [ 1....  \\\nenergy                                              -347.592683   \nforce         [[0.00534799, -0.00450728, -0.00335818], [0.00...   \nstress        [[0.244229264, -0.022021449000000002, -0.00021...   \ncharge_state                                                0.0   \n\n                                                                  \n                                                                  \n                                              BiSI_vac_3_I_0_18   \nstructure     [[1.05589807 3.2013365  3.86525701] Bi3+, [ 1....  \\\nenergy                                              -347.592671   \nforce         [[0.00616492, -0.00098103, -0.00304575], [-0.0...   \nstress        [[0.246749956, -0.021895744, 0.000218729000000...   \ncharge_state                                                0.0   \n\n                                                                 \n                                                 BiSI_vac_3_I_1  \n                                               BiSI_vac_3_I_1_0  \nstructure     [[1.10053179 3.23330857 3.84593827] Bi2.985915...  \nenergy                                              -353.004078  \nforce         [[-0.00029281, -0.00473422, -0.00517483], [0.0...  \nstress        [[1.074112078, 0.0015557700000000002, 0.001074...  \ncharge_state                                                1.0  \n\n[5 rows x 7044 columns]",
      "text/html": "<div>\n<style scoped>\n    .dataframe tbody tr th:only-of-type {\n        vertical-align: middle;\n    }\n\n    .dataframe tbody tr th {\n        vertical-align: top;\n    }\n\n    .dataframe thead tr th {\n        text-align: left;\n    }\n</style>\n<table border=\"1\" class=\"dataframe\">\n  <thead>\n    <tr>\n      <th></th>\n      <th colspan=\"10\" halign=\"left\">BiSeI</th>\n      <th>...</th>\n      <th colspan=\"10\" halign=\"left\">BiSI</th>\n    </tr>\n    <tr>\n      <th></th>\n      <th colspan=\"10\" halign=\"left\">BiSeI_as_1_Bi_on_Se_-1</th>\n      <th>...</th>\n      <th colspan=\"9\" halign=\"left\">BiSI_vac_3_I_0</th>\n      <th>BiSI_vac_3_I_1</th>\n    </tr>\n    <tr>\n      <th></th>\n      <th>BiSeI_as_1_Bi_on_Se_-1_0</th>\n      <th>BiSeI_as_1_Bi_on_Se_-1_1</th>\n      <th>BiSeI_as_1_Bi_on_Se_-1_2</th>\n      <th>BiSeI_as_1_Bi_on_Se_-1_3</th>\n      <th>BiSeI_as_1_Bi_on_Se_-1_4</th>\n      <th>BiSeI_as_1_Bi_on_Se_-1_5</th>\n      <th>BiSeI_as_1_Bi_on_Se_-1_6</th>\n      <th>BiSeI_as_1_Bi_on_Se_-1_7</th>\n      <th>BiSeI_as_1_Bi_on_Se_-1_8</th>\n      <th>BiSeI_as_1_Bi_on_Se_-1_9</th>\n      <th>...</th>\n      <th>BiSI_vac_3_I_0_10</th>\n      <th>BiSI_vac_3_I_0_11</th>\n      <th>BiSI_vac_3_I_0_12</th>\n      <th>BiSI_vac_3_I_0_13</th>\n      <th>BiSI_vac_3_I_0_14</th>\n      <th>BiSI_vac_3_I_0_15</th>\n      <th>BiSI_vac_3_I_0_16</th>\n      <th>BiSI_vac_3_I_0_17</th>\n      <th>BiSI_vac_3_I_0_18</th>\n      <th>BiSI_vac_3_I_1_0</th>\n    </tr>\n  </thead>\n  <tbody>\n    <tr>\n      <th>structure</th>\n      <td>[[3.20554223 2.69087838 6.2844721 ] Bi2.986111...</td>\n      <td>[[3.20554185 2.68980224 6.28577442] Bi2.986111...</td>\n      <td>[[3.20554082 2.68657401 6.28968151] Bi2.986111...</td>\n      <td>[[3.20553877 2.68011736 6.29749557] Bi2.986111...</td>\n      <td>[[3.20553941 2.68201515 6.29519891] Bi2.986111...</td>\n      <td>[[3.20553992 2.68538527 6.29480408] Bi2.986111...</td>\n      <td>[[3.20554056 2.69037574 6.29421935] Bi2.986111...</td>\n      <td>[[3.20554069 2.69129553 6.29386162] Bi2.986111...</td>\n      <td>[[3.20554082 2.69339033 6.29304694] Bi2.986111...</td>\n      <td>[[3.20554069 2.69357343 6.29384177] Bi2.986111...</td>\n      <td>...</td>\n      <td>[[1.06921291 3.1989865  3.85935785] Bi3+, [ 1....</td>\n      <td>[[1.06787676 3.1990505  3.85994259] Bi3+, [ 1....</td>\n      <td>[[1.06386868 3.19924233 3.86169648] Bi3+, [ 1....</td>\n      <td>[[1.06203263 3.19969514 3.86241673] Bi3+, [ 1....</td>\n      <td>[[1.05879384 3.2004942  3.86368706] Bi3+, [ 1....</td>\n      <td>[[1.05738643 3.2009036  3.86445019] Bi3+, [ 1....</td>\n      <td>[[1.05350019 3.20203415 3.86655707] Bi3+, [ 1....</td>\n      <td>[[1.05440983 3.20176957 3.86606394] Bi3+, [ 1....</td>\n      <td>[[1.05589807 3.2013365  3.86525701] Bi3+, [ 1....</td>\n      <td>[[1.10053179 3.23330857 3.84593827] Bi2.985915...</td>\n    </tr>\n    <tr>\n      <th>energy</th>\n      <td>-332.201029</td>\n      <td>-332.205257</td>\n      <td>-332.214596</td>\n      <td>-332.218497</td>\n      <td>-332.21937</td>\n      <td>-332.222411</td>\n      <td>-332.224126</td>\n      <td>-332.224771</td>\n      <td>-332.225339</td>\n      <td>-332.225848</td>\n      <td>...</td>\n      <td>-347.591763</td>\n      <td>-347.59188</td>\n      <td>-347.592066</td>\n      <td>-347.592276</td>\n      <td>-347.592403</td>\n      <td>-347.592538</td>\n      <td>-347.59266</td>\n      <td>-347.592683</td>\n      <td>-347.592671</td>\n      <td>-353.004078</td>\n    </tr>\n    <tr>\n      <th>force</th>\n      <td>[[-1.758e-05, -0.05576483, 0.06748949], [-0.00...</td>\n      <td>[[2.12e-06, -0.03917954, 0.0565461], [-0.00415...</td>\n      <td>[[1.145e-05, 0.01512165, 0.01974694], [0.00337...</td>\n      <td>[[1.213e-05, 0.117238, -0.04935513], [0.018972...</td>\n      <td>[[1.607e-05, 0.09136057, -0.03256468], [0.0151...</td>\n      <td>[[4.59e-06, 0.05999323, -0.02038018], [0.01057...</td>\n      <td>[[2.6e-07, 0.00540864, -0.00471688], [0.003071...</td>\n      <td>[[-7.96e-06, -0.00115106, 0.00317176], [0.0030...</td>\n      <td>[[-5.03e-06, -0.01041344, 0.0189011], [0.00342...</td>\n      <td>[[-3.5e-06, -0.00514903, 0.01458557], [0.00539...</td>\n      <td>...</td>\n      <td>[[-0.00229769, -0.00495766, -0.00516805], [0.0...</td>\n      <td>[[-0.00264662, -0.00210474, -0.00320065], [0.0...</td>\n      <td>[[-0.00302532, 0.00492659, 0.00023329], [0.003...</td>\n      <td>[[-0.00183112, 0.00198203, 0.00029212], [0.002...</td>\n      <td>[[0.00227096, 0.00084197, 0.00386464], [0.0005...</td>\n      <td>[[0.00270389, -0.00072989, 0.00046305], [-0.00...</td>\n      <td>[[0.00562023, -0.00397949, -0.00521947], [-0.0...</td>\n      <td>[[0.00534799, -0.00450728, -0.00335818], [0.00...</td>\n      <td>[[0.00616492, -0.00098103, -0.00304575], [-0.0...</td>\n      <td>[[-0.00029281, -0.00473422, -0.00517483], [0.0...</td>\n    </tr>\n    <tr>\n      <th>stress</th>\n      <td>[[0.37653684100000007, -4.06e-07, -1.4012e-05]...</td>\n      <td>[[0.398000739, 1.1290000000000001e-06, -1.2287...</td>\n      <td>[[0.47221751700000003, 1.622e-06, -1.311900000...</td>\n      <td>[[0.6181730000000001, 3.3090000000000004e-06, ...</td>\n      <td>[[0.574663336, 1.5040000000000001e-06, -1.0783...</td>\n      <td>[[0.5943896940000001, 9.520000000000001e-07, -...</td>\n      <td>[[0.621268687, 3.136e-06, -9.69e-06], [3.20700...</td>\n      <td>[[0.619873728, 9.6e-07, -1.0194000000000001e-0...</td>\n      <td>[[0.621160947, 7.01e-07, -7.962000000000001e-0...</td>\n      <td>[[0.621136258, 1.374e-06, -6.5410000000000006e...</td>\n      <td>...</td>\n      <td>[[0.263782307, -0.022119496000000002, 0.001277...</td>\n      <td>[[0.26129351100000003, -0.021822126, 0.0014414...</td>\n      <td>[[0.26081747000000005, -0.021029699, 0.0018745...</td>\n      <td>[[0.26067501800000004, -0.02120698, 0.00157574...</td>\n      <td>[[0.2576231, -0.021571069000000002, 0.00089688...</td>\n      <td>[[0.254552777, -0.021745745, 0.000646594], [-0...</td>\n      <td>[[0.240984117, -0.022133796, -0.000328643], [-...</td>\n      <td>[[0.244229264, -0.022021449000000002, -0.00021...</td>\n      <td>[[0.246749956, -0.021895744, 0.000218729000000...</td>\n      <td>[[1.074112078, 0.0015557700000000002, 0.001074...</td>\n    </tr>\n    <tr>\n      <th>charge_state</th>\n      <td>1.0</td>\n      <td>1.0</td>\n      <td>1.0</td>\n      <td>1.0</td>\n      <td>1.0</td>\n      <td>1.0</td>\n      <td>1.0</td>\n      <td>1.0</td>\n      <td>1.0</td>\n      <td>1.0</td>\n      <td>...</td>\n      <td>0.0</td>\n      <td>0.0</td>\n      <td>0.0</td>\n      <td>0.0</td>\n      <td>0.0</td>\n      <td>0.0</td>\n      <td>0.0</td>\n      <td>0.0</td>\n      <td>0.0</td>\n      <td>1.0</td>\n    </tr>\n  </tbody>\n</table>\n<p>5 rows × 7044 columns</p>\n</div>"
     },
     "execution_count": 4,
     "metadata": {},
     "output_type": "execute_result"
    }
   ],
   "source": [
    "# Extract the data\n",
    "source_m3gnet_dataset = MLL.extract_vaspruns_dataset(path_to_dataset, charged=charged)\n",
    "#source_m3gnet_dataset = MLL.extract_OUTCAR_dataset(path_to_dataset)\n",
    "source_m3gnet_dataset"
   ],
   "metadata": {
    "collapsed": false,
    "ExecuteTime": {
     "end_time": "2024-06-30T18:27:17.352152738Z",
     "start_time": "2024-06-30T17:45:48.014919787Z"
    }
   },
   "id": "3cfe7f0835742a45",
   "execution_count": 4
  },
  {
   "cell_type": "code",
   "outputs": [
    {
     "data": {
      "text/plain": "5"
     },
     "execution_count": 5,
     "metadata": {},
     "output_type": "execute_result"
    }
   ],
   "source": [
    "len(source_m3gnet_dataset)"
   ],
   "metadata": {
    "collapsed": false,
    "ExecuteTime": {
     "end_time": "2024-06-30T18:27:17.354977775Z",
     "start_time": "2024-06-30T18:27:17.343231139Z"
    }
   },
   "id": "391340862960b568",
   "execution_count": 5
  },
  {
   "cell_type": "markdown",
   "source": [
    "# Split data into train-validation-test sets"
   ],
   "metadata": {
    "collapsed": false
   },
   "id": "d80a1f1b05d2df52"
  },
  {
   "cell_type": "markdown",
   "source": [
    "### Decide if we split in terms of mateiral, defect state or simulation directly"
   ],
   "metadata": {
    "collapsed": false
   },
   "id": "5da76736aceeb39e"
  },
  {
   "cell_type": "code",
   "outputs": [
    {
     "data": {
      "text/plain": "                                         BiSeI_as_1_Bi_on_Se_-1   \n                                       BiSeI_as_1_Bi_on_Se_-1_0   \nstructure     [[3.20554223 2.69087838 6.2844721 ] Bi2.986111...  \\\nenergy                                              -332.201029   \nforce         [[-1.758e-05, -0.05576483, 0.06748949], [-0.00...   \nstress        [[0.37653684100000007, -4.06e-07, -1.4012e-05]...   \ncharge_state                                                1.0   \n\n                                                                  \n                                       BiSeI_as_1_Bi_on_Se_-1_1   \nstructure     [[3.20554185 2.68980224 6.28577442] Bi2.986111...  \\\nenergy                                              -332.205257   \nforce         [[2.12e-06, -0.03917954, 0.0565461], [-0.00415...   \nstress        [[0.398000739, 1.1290000000000001e-06, -1.2287...   \ncharge_state                                                1.0   \n\n                                                                  \n                                       BiSeI_as_1_Bi_on_Se_-1_2   \nstructure     [[3.20554082 2.68657401 6.28968151] Bi2.986111...  \\\nenergy                                              -332.214596   \nforce         [[1.145e-05, 0.01512165, 0.01974694], [0.00337...   \nstress        [[0.47221751700000003, 1.622e-06, -1.311900000...   \ncharge_state                                                1.0   \n\n                                                                  \n                                       BiSeI_as_1_Bi_on_Se_-1_3   \nstructure     [[3.20553877 2.68011736 6.29749557] Bi2.986111...  \\\nenergy                                              -332.218497   \nforce         [[1.213e-05, 0.117238, -0.04935513], [0.018972...   \nstress        [[0.6181730000000001, 3.3090000000000004e-06, ...   \ncharge_state                                                1.0   \n\n                                                                  \n                                       BiSeI_as_1_Bi_on_Se_-1_4   \nstructure     [[3.20553941 2.68201515 6.29519891] Bi2.986111...  \\\nenergy                                               -332.21937   \nforce         [[1.607e-05, 0.09136057, -0.03256468], [0.0151...   \nstress        [[0.574663336, 1.5040000000000001e-06, -1.0783...   \ncharge_state                                                1.0   \n\n                                                                  \n                                       BiSeI_as_1_Bi_on_Se_-1_5   \nstructure     [[3.20553992 2.68538527 6.29480408] Bi2.986111...  \\\nenergy                                              -332.222411   \nforce         [[4.59e-06, 0.05999323, -0.02038018], [0.01057...   \nstress        [[0.5943896940000001, 9.520000000000001e-07, -...   \ncharge_state                                                1.0   \n\n                                                                  \n                                       BiSeI_as_1_Bi_on_Se_-1_6   \nstructure     [[3.20554056 2.69037574 6.29421935] Bi2.986111...  \\\nenergy                                              -332.224126   \nforce         [[2.6e-07, 0.00540864, -0.00471688], [0.003071...   \nstress        [[0.621268687, 3.136e-06, -9.69e-06], [3.20700...   \ncharge_state                                                1.0   \n\n                                                                  \n                                       BiSeI_as_1_Bi_on_Se_-1_7   \nstructure     [[3.20554069 2.69129553 6.29386162] Bi2.986111...  \\\nenergy                                              -332.224771   \nforce         [[-7.96e-06, -0.00115106, 0.00317176], [0.0030...   \nstress        [[0.619873728, 9.6e-07, -1.0194000000000001e-0...   \ncharge_state                                                1.0   \n\n                                                                  \n                                       BiSeI_as_1_Bi_on_Se_-1_8   \nstructure     [[3.20554082 2.69339033 6.29304694] Bi2.986111...  \\\nenergy                                              -332.225339   \nforce         [[-5.03e-06, -0.01041344, 0.0189011], [0.00342...   \nstress        [[0.621160947, 7.01e-07, -7.962000000000001e-0...   \ncharge_state                                                1.0   \n\n                                                                 ...   \n                                       BiSeI_as_1_Bi_on_Se_-1_9  ...   \nstructure     [[3.20554069 2.69357343 6.29384177] Bi2.986111...  ...  \\\nenergy                                              -332.225848  ...   \nforce         [[-3.5e-06, -0.00514903, 0.01458557], [0.00539...  ...   \nstress        [[0.621136258, 1.374e-06, -6.5410000000000006e...  ...   \ncharge_state                                                1.0  ...   \n\n                                                 BiSI_vac_3_I_0   \n                                              BiSI_vac_3_I_0_10   \nstructure     [[1.06921291 3.1989865  3.85935785] Bi3+, [ 1....  \\\nenergy                                              -347.591763   \nforce         [[-0.00229769, -0.00495766, -0.00516805], [0.0...   \nstress        [[0.263782307, -0.022119496000000002, 0.001277...   \ncharge_state                                                0.0   \n\n                                                                  \n                                              BiSI_vac_3_I_0_11   \nstructure     [[1.06787676 3.1990505  3.85994259] Bi3+, [ 1....  \\\nenergy                                               -347.59188   \nforce         [[-0.00264662, -0.00210474, -0.00320065], [0.0...   \nstress        [[0.26129351100000003, -0.021822126, 0.0014414...   \ncharge_state                                                0.0   \n\n                                                                  \n                                              BiSI_vac_3_I_0_12   \nstructure     [[1.06386868 3.19924233 3.86169648] Bi3+, [ 1....  \\\nenergy                                              -347.592066   \nforce         [[-0.00302532, 0.00492659, 0.00023329], [0.003...   \nstress        [[0.26081747000000005, -0.021029699, 0.0018745...   \ncharge_state                                                0.0   \n\n                                                                  \n                                              BiSI_vac_3_I_0_13   \nstructure     [[1.06203263 3.19969514 3.86241673] Bi3+, [ 1....  \\\nenergy                                              -347.592276   \nforce         [[-0.00183112, 0.00198203, 0.00029212], [0.002...   \nstress        [[0.26067501800000004, -0.02120698, 0.00157574...   \ncharge_state                                                0.0   \n\n                                                                  \n                                              BiSI_vac_3_I_0_14   \nstructure     [[1.05879384 3.2004942  3.86368706] Bi3+, [ 1....  \\\nenergy                                              -347.592403   \nforce         [[0.00227096, 0.00084197, 0.00386464], [0.0005...   \nstress        [[0.2576231, -0.021571069000000002, 0.00089688...   \ncharge_state                                                0.0   \n\n                                                                  \n                                              BiSI_vac_3_I_0_15   \nstructure     [[1.05738643 3.2009036  3.86445019] Bi3+, [ 1....  \\\nenergy                                              -347.592538   \nforce         [[0.00270389, -0.00072989, 0.00046305], [-0.00...   \nstress        [[0.254552777, -0.021745745, 0.000646594], [-0...   \ncharge_state                                                0.0   \n\n                                                                  \n                                              BiSI_vac_3_I_0_16   \nstructure     [[1.05350019 3.20203415 3.86655707] Bi3+, [ 1....  \\\nenergy                                               -347.59266   \nforce         [[0.00562023, -0.00397949, -0.00521947], [-0.0...   \nstress        [[0.240984117, -0.022133796, -0.000328643], [-...   \ncharge_state                                                0.0   \n\n                                                                  \n                                              BiSI_vac_3_I_0_17   \nstructure     [[1.05440983 3.20176957 3.86606394] Bi3+, [ 1....  \\\nenergy                                              -347.592683   \nforce         [[0.00534799, -0.00450728, -0.00335818], [0.00...   \nstress        [[0.244229264, -0.022021449000000002, -0.00021...   \ncharge_state                                                0.0   \n\n                                                                  \n                                              BiSI_vac_3_I_0_18   \nstructure     [[1.05589807 3.2013365  3.86525701] Bi3+, [ 1....  \\\nenergy                                              -347.592671   \nforce         [[0.00616492, -0.00098103, -0.00304575], [-0.0...   \nstress        [[0.246749956, -0.021895744, 0.000218729000000...   \ncharge_state                                                0.0   \n\n                                                 BiSI_vac_3_I_1  \n                                               BiSI_vac_3_I_1_0  \nstructure     [[1.10053179 3.23330857 3.84593827] Bi2.985915...  \nenergy                                              -353.004078  \nforce         [[-0.00029281, -0.00473422, -0.00517483], [0.0...  \nstress        [[1.074112078, 0.0015557700000000002, 0.001074...  \ncharge_state                                                1.0  \n\n[5 rows x 7044 columns]",
      "text/html": "<div>\n<style scoped>\n    .dataframe tbody tr th:only-of-type {\n        vertical-align: middle;\n    }\n\n    .dataframe tbody tr th {\n        vertical-align: top;\n    }\n\n    .dataframe thead tr th {\n        text-align: left;\n    }\n</style>\n<table border=\"1\" class=\"dataframe\">\n  <thead>\n    <tr>\n      <th></th>\n      <th colspan=\"10\" halign=\"left\">BiSeI_as_1_Bi_on_Se_-1</th>\n      <th>...</th>\n      <th colspan=\"9\" halign=\"left\">BiSI_vac_3_I_0</th>\n      <th>BiSI_vac_3_I_1</th>\n    </tr>\n    <tr>\n      <th></th>\n      <th>BiSeI_as_1_Bi_on_Se_-1_0</th>\n      <th>BiSeI_as_1_Bi_on_Se_-1_1</th>\n      <th>BiSeI_as_1_Bi_on_Se_-1_2</th>\n      <th>BiSeI_as_1_Bi_on_Se_-1_3</th>\n      <th>BiSeI_as_1_Bi_on_Se_-1_4</th>\n      <th>BiSeI_as_1_Bi_on_Se_-1_5</th>\n      <th>BiSeI_as_1_Bi_on_Se_-1_6</th>\n      <th>BiSeI_as_1_Bi_on_Se_-1_7</th>\n      <th>BiSeI_as_1_Bi_on_Se_-1_8</th>\n      <th>BiSeI_as_1_Bi_on_Se_-1_9</th>\n      <th>...</th>\n      <th>BiSI_vac_3_I_0_10</th>\n      <th>BiSI_vac_3_I_0_11</th>\n      <th>BiSI_vac_3_I_0_12</th>\n      <th>BiSI_vac_3_I_0_13</th>\n      <th>BiSI_vac_3_I_0_14</th>\n      <th>BiSI_vac_3_I_0_15</th>\n      <th>BiSI_vac_3_I_0_16</th>\n      <th>BiSI_vac_3_I_0_17</th>\n      <th>BiSI_vac_3_I_0_18</th>\n      <th>BiSI_vac_3_I_1_0</th>\n    </tr>\n  </thead>\n  <tbody>\n    <tr>\n      <th>structure</th>\n      <td>[[3.20554223 2.69087838 6.2844721 ] Bi2.986111...</td>\n      <td>[[3.20554185 2.68980224 6.28577442] Bi2.986111...</td>\n      <td>[[3.20554082 2.68657401 6.28968151] Bi2.986111...</td>\n      <td>[[3.20553877 2.68011736 6.29749557] Bi2.986111...</td>\n      <td>[[3.20553941 2.68201515 6.29519891] Bi2.986111...</td>\n      <td>[[3.20553992 2.68538527 6.29480408] Bi2.986111...</td>\n      <td>[[3.20554056 2.69037574 6.29421935] Bi2.986111...</td>\n      <td>[[3.20554069 2.69129553 6.29386162] Bi2.986111...</td>\n      <td>[[3.20554082 2.69339033 6.29304694] Bi2.986111...</td>\n      <td>[[3.20554069 2.69357343 6.29384177] Bi2.986111...</td>\n      <td>...</td>\n      <td>[[1.06921291 3.1989865  3.85935785] Bi3+, [ 1....</td>\n      <td>[[1.06787676 3.1990505  3.85994259] Bi3+, [ 1....</td>\n      <td>[[1.06386868 3.19924233 3.86169648] Bi3+, [ 1....</td>\n      <td>[[1.06203263 3.19969514 3.86241673] Bi3+, [ 1....</td>\n      <td>[[1.05879384 3.2004942  3.86368706] Bi3+, [ 1....</td>\n      <td>[[1.05738643 3.2009036  3.86445019] Bi3+, [ 1....</td>\n      <td>[[1.05350019 3.20203415 3.86655707] Bi3+, [ 1....</td>\n      <td>[[1.05440983 3.20176957 3.86606394] Bi3+, [ 1....</td>\n      <td>[[1.05589807 3.2013365  3.86525701] Bi3+, [ 1....</td>\n      <td>[[1.10053179 3.23330857 3.84593827] Bi2.985915...</td>\n    </tr>\n    <tr>\n      <th>energy</th>\n      <td>-332.201029</td>\n      <td>-332.205257</td>\n      <td>-332.214596</td>\n      <td>-332.218497</td>\n      <td>-332.21937</td>\n      <td>-332.222411</td>\n      <td>-332.224126</td>\n      <td>-332.224771</td>\n      <td>-332.225339</td>\n      <td>-332.225848</td>\n      <td>...</td>\n      <td>-347.591763</td>\n      <td>-347.59188</td>\n      <td>-347.592066</td>\n      <td>-347.592276</td>\n      <td>-347.592403</td>\n      <td>-347.592538</td>\n      <td>-347.59266</td>\n      <td>-347.592683</td>\n      <td>-347.592671</td>\n      <td>-353.004078</td>\n    </tr>\n    <tr>\n      <th>force</th>\n      <td>[[-1.758e-05, -0.05576483, 0.06748949], [-0.00...</td>\n      <td>[[2.12e-06, -0.03917954, 0.0565461], [-0.00415...</td>\n      <td>[[1.145e-05, 0.01512165, 0.01974694], [0.00337...</td>\n      <td>[[1.213e-05, 0.117238, -0.04935513], [0.018972...</td>\n      <td>[[1.607e-05, 0.09136057, -0.03256468], [0.0151...</td>\n      <td>[[4.59e-06, 0.05999323, -0.02038018], [0.01057...</td>\n      <td>[[2.6e-07, 0.00540864, -0.00471688], [0.003071...</td>\n      <td>[[-7.96e-06, -0.00115106, 0.00317176], [0.0030...</td>\n      <td>[[-5.03e-06, -0.01041344, 0.0189011], [0.00342...</td>\n      <td>[[-3.5e-06, -0.00514903, 0.01458557], [0.00539...</td>\n      <td>...</td>\n      <td>[[-0.00229769, -0.00495766, -0.00516805], [0.0...</td>\n      <td>[[-0.00264662, -0.00210474, -0.00320065], [0.0...</td>\n      <td>[[-0.00302532, 0.00492659, 0.00023329], [0.003...</td>\n      <td>[[-0.00183112, 0.00198203, 0.00029212], [0.002...</td>\n      <td>[[0.00227096, 0.00084197, 0.00386464], [0.0005...</td>\n      <td>[[0.00270389, -0.00072989, 0.00046305], [-0.00...</td>\n      <td>[[0.00562023, -0.00397949, -0.00521947], [-0.0...</td>\n      <td>[[0.00534799, -0.00450728, -0.00335818], [0.00...</td>\n      <td>[[0.00616492, -0.00098103, -0.00304575], [-0.0...</td>\n      <td>[[-0.00029281, -0.00473422, -0.00517483], [0.0...</td>\n    </tr>\n    <tr>\n      <th>stress</th>\n      <td>[[0.37653684100000007, -4.06e-07, -1.4012e-05]...</td>\n      <td>[[0.398000739, 1.1290000000000001e-06, -1.2287...</td>\n      <td>[[0.47221751700000003, 1.622e-06, -1.311900000...</td>\n      <td>[[0.6181730000000001, 3.3090000000000004e-06, ...</td>\n      <td>[[0.574663336, 1.5040000000000001e-06, -1.0783...</td>\n      <td>[[0.5943896940000001, 9.520000000000001e-07, -...</td>\n      <td>[[0.621268687, 3.136e-06, -9.69e-06], [3.20700...</td>\n      <td>[[0.619873728, 9.6e-07, -1.0194000000000001e-0...</td>\n      <td>[[0.621160947, 7.01e-07, -7.962000000000001e-0...</td>\n      <td>[[0.621136258, 1.374e-06, -6.5410000000000006e...</td>\n      <td>...</td>\n      <td>[[0.263782307, -0.022119496000000002, 0.001277...</td>\n      <td>[[0.26129351100000003, -0.021822126, 0.0014414...</td>\n      <td>[[0.26081747000000005, -0.021029699, 0.0018745...</td>\n      <td>[[0.26067501800000004, -0.02120698, 0.00157574...</td>\n      <td>[[0.2576231, -0.021571069000000002, 0.00089688...</td>\n      <td>[[0.254552777, -0.021745745, 0.000646594], [-0...</td>\n      <td>[[0.240984117, -0.022133796, -0.000328643], [-...</td>\n      <td>[[0.244229264, -0.022021449000000002, -0.00021...</td>\n      <td>[[0.246749956, -0.021895744, 0.000218729000000...</td>\n      <td>[[1.074112078, 0.0015557700000000002, 0.001074...</td>\n    </tr>\n    <tr>\n      <th>charge_state</th>\n      <td>1.0</td>\n      <td>1.0</td>\n      <td>1.0</td>\n      <td>1.0</td>\n      <td>1.0</td>\n      <td>1.0</td>\n      <td>1.0</td>\n      <td>1.0</td>\n      <td>1.0</td>\n      <td>1.0</td>\n      <td>...</td>\n      <td>0.0</td>\n      <td>0.0</td>\n      <td>0.0</td>\n      <td>0.0</td>\n      <td>0.0</td>\n      <td>0.0</td>\n      <td>0.0</td>\n      <td>0.0</td>\n      <td>0.0</td>\n      <td>1.0</td>\n    </tr>\n  </tbody>\n</table>\n<p>5 rows × 7044 columns</p>\n</div>"
     },
     "execution_count": 6,
     "metadata": {},
     "output_type": "execute_result"
    }
   ],
   "source": [
    "# Clone (copy) the DataFrame\n",
    "m3gnet_dataset = source_m3gnet_dataset.copy()\n",
    "\n",
    "# Remove the outer (top-level) column index up to depth-1 level\n",
    "for i in range(depth):\n",
    "    m3gnet_dataset.columns = m3gnet_dataset.columns.droplevel(0)\n",
    "m3gnet_dataset"
   ],
   "metadata": {
    "collapsed": false,
    "ExecuteTime": {
     "end_time": "2024-06-30T18:27:17.649874920Z",
     "start_time": "2024-06-30T18:27:17.343499643Z"
    }
   },
   "id": "a7e3fefe39059077",
   "execution_count": 6
  },
  {
   "cell_type": "markdown",
   "source": [
    "### Splitting into train-validation-test sets"
   ],
   "metadata": {
    "collapsed": false
   },
   "id": "2b994f357ff9868e"
  },
  {
   "cell_type": "code",
   "outputs": [
    {
     "name": "stdout",
     "output_type": "stream",
     "text": [
      "Using 4344 samples to train, 1344 to evaluate, and 1356 to test\n"
     ]
    }
   ],
   "source": [
    "# Check if data has been already split, else do it randomly\n",
    "\n",
    "path_to_test_labels       = 'test_labels.txt'\n",
    "path_to_validation_labels = 'validation_labels.txt'\n",
    "path_to_train_labels      = 'train_labels.txt'\n",
    "\n",
    "if os.path.exists(path_to_test_labels) and os.path.exists(path_to_validation_labels) and os.path.exists(path_to_train_labels):\n",
    "    # Read labels splitting (which are strings)\n",
    "    test_labels       = np.genfromtxt(path_to_test_labels,       dtype='str').tolist()\n",
    "    validation_labels = np.genfromtxt(path_to_validation_labels, dtype='str').tolist()\n",
    "    train_labels      = np.genfromtxt(path_to_train_labels,      dtype='str').tolist()\n",
    "else:\n",
    "    # Define unique labels, wrt the outer column\n",
    "    unique_labels = np.unique(m3gnet_dataset.columns.get_level_values(0))\n",
    "\n",
    "    # Shuffle the list of unique labels\n",
    "    np.random.shuffle(unique_labels)\n",
    "\n",
    "    # Define the sizes of every set\n",
    "    # Corresponds to the size wrt the number of unique materials in the dataset\n",
    "    test_size       = int(test_ratio       * len(unique_labels))\n",
    "    validation_size = int(validation_ratio * len(unique_labels))\n",
    "\n",
    "    test_labels       = unique_labels[:test_size]\n",
    "    validation_labels = unique_labels[test_size:test_size+validation_size]\n",
    "    train_labels      = unique_labels[test_size+validation_size:]\n",
    "    \n",
    "    # Save this splitting for transfer-learning approaches\n",
    "    np.savetxt(path_to_test_labels,       test_labels,       fmt='%s')\n",
    "    np.savetxt(path_to_validation_labels, validation_labels, fmt='%s')\n",
    "    np.savetxt(path_to_train_labels,      train_labels,      fmt='%s')\n",
    "\n",
    "# Use the loaded/computed labels to generate split datasets\n",
    "test_dataset       = m3gnet_dataset[test_labels]\n",
    "validation_dataset = m3gnet_dataset[validation_labels]\n",
    "train_dataset      = m3gnet_dataset[train_labels]\n",
    "\n",
    "n_test       = np.shape(test_dataset)[1]\n",
    "n_validation = np.shape(validation_dataset)[1]\n",
    "n_train      = np.shape(train_dataset)[1]\n",
    "\n",
    "print(f'Using {n_train} samples to train, {n_validation} to evaluate, and {n_test} to test')"
   ],
   "metadata": {
    "collapsed": false,
    "ExecuteTime": {
     "end_time": "2024-06-30T18:27:17.670437519Z",
     "start_time": "2024-06-30T18:27:17.649924201Z"
    }
   },
   "id": "b2b0d5c0869ac35b",
   "execution_count": 7
  },
  {
   "cell_type": "markdown",
   "source": [
    "### Convert into graph database"
   ],
   "metadata": {
    "collapsed": false
   },
   "id": "5c23fdc4f757ea33"
  },
  {
   "cell_type": "code",
   "outputs": [
    {
     "name": "stderr",
     "output_type": "stream",
     "text": [
      "100%|██████████| 4344/4344 [00:20<00:00, 210.44it/s]\n",
      "100%|██████████| 1344/1344 [00:06<00:00, 214.08it/s]\n",
      "100%|██████████| 1356/1356 [00:06<00:00, 224.19it/s]\n"
     ]
    }
   ],
   "source": [
    "all_data = []\n",
    "for i in range(3):  # Iterate over train-validation-test sets\n",
    "    name    = ['train', 'val', 'test'][i]\n",
    "    dataset = [train_dataset, validation_dataset, test_dataset][i]\n",
    "\n",
    "    # Extract data from dataset\n",
    "    structures    = dataset.loc['structure'].values.tolist()\n",
    "    element_types = get_element_list(structures)\n",
    "    converter     = Structure2Graph(element_types=element_types, cutoff=5.0)\n",
    "    \n",
    "    # Define data labels from dataset\n",
    "    if stress_weight == 0:\n",
    "        stresses = [np.zeros((3, 3)).tolist() for s in structures]\n",
    "    else:\n",
    "        stresses = dataset.loc['stress'].values.tolist()\n",
    "\n",
    "    labels = {\n",
    "        'energies': dataset.loc['energy'].values.tolist(),\n",
    "        'forces':   dataset.loc['force'].values.tolist(),\n",
    "        'stresses': stresses,\n",
    "    }\n",
    "    \n",
    "    # Generate dataset\n",
    "    data = M3GNetDataset(\n",
    "        filename=f'dgl_graph-{name}.bin',\n",
    "        filename_line_graph=f'dgl_line_graph-{name}.bin',\n",
    "        filename_state_attr=f'state_attr-{name}.pt',\n",
    "        filename_labels=f'labels-{name}.json',\n",
    "        threebody_cutoff=4.0,\n",
    "        structures=structures,\n",
    "        converter=converter,\n",
    "        labels=labels,\n",
    "        name=f'M3GNetDataset-{name}',\n",
    "    )\n",
    "    all_data.append(data)\n",
    "\n",
    "train_data, val_data, test_data = all_data"
   ],
   "metadata": {
    "collapsed": false,
    "ExecuteTime": {
     "end_time": "2024-06-30T18:27:57.128626386Z",
     "start_time": "2024-06-30T18:27:17.710421390Z"
    }
   },
   "id": "a83c727f09af2351",
   "execution_count": 8
  },
  {
   "cell_type": "code",
   "outputs": [],
   "source": [
    "train_loader, val_loader, test_loader = MGLDataLoader(\n",
    "    train_data=train_data,\n",
    "    val_data=val_data,\n",
    "    test_data=test_data,\n",
    "    collate_fn=collate_fn_efs,\n",
    "    batch_size=batch_size,\n",
    "    num_workers=1,\n",
    "    pin_memory=True,\n",
    ")"
   ],
   "metadata": {
    "collapsed": false,
    "ExecuteTime": {
     "end_time": "2024-06-30T18:27:57.136894425Z",
     "start_time": "2024-06-30T18:27:57.130511229Z"
    }
   },
   "id": "d12af1f066e1a5fa",
   "execution_count": 9
  },
  {
   "cell_type": "markdown",
   "source": [
    "# Retrain model"
   ],
   "metadata": {
    "collapsed": false
   },
   "id": "d85e5b3eed64b62e"
  },
  {
   "cell_type": "code",
   "outputs": [],
   "source": [
    "# Download a pre-trained M3GNet\n",
    "m3gnet_nnp       = matgl.load_model(model_load_path)\n",
    "model_pretrained = m3gnet_nnp.model\n",
    "\n",
    "# Stress and site-wise are added to training loss\n",
    "# Stresses are being computed (calc_stress=True)\n",
    "lit_module_finetune = PotentialLightningModule(model=model_pretrained,\n",
    "                                               stress_weight=stress_weight,\n",
    "                                               loss='mse_loss',\n",
    "                                               lr=lr)"
   ],
   "metadata": {
    "collapsed": false,
    "ExecuteTime": {
     "end_time": "2024-06-30T18:27:57.329853817Z",
     "start_time": "2024-06-30T18:27:57.133248901Z"
    }
   },
   "id": "33c8bb3cf9c66427",
   "execution_count": 10
  },
  {
   "cell_type": "code",
   "outputs": [
    {
     "name": "stderr",
     "output_type": "stream",
     "text": [
      "GPU available: False, used: False\n",
      "TPU available: False, using: 0 TPU cores\n",
      "IPU available: False, using: 0 IPUs\n",
      "HPU available: False, using: 0 HPUs\n",
      "\n",
      "  | Name  | Type              | Params\n",
      "--------------------------------------------\n",
      "0 | mae   | MeanAbsoluteError | 0     \n",
      "1 | rmse  | MeanSquaredError  | 0     \n",
      "2 | model | Potential         | 288 K \n",
      "--------------------------------------------\n",
      "288 K     Trainable params\n",
      "0         Non-trainable params\n",
      "288 K     Total params\n",
      "1.153     Total estimated model params size (MB)\n"
     ]
    },
    {
     "data": {
      "text/plain": "Sanity Checking: |          | 0/? [00:00<?, ?it/s]",
      "application/vnd.jupyter.widget-view+json": {
       "version_major": 2,
       "version_minor": 0,
       "model_id": "1ae3f3a2b9c2478cb0b873b05176453a"
      }
     },
     "metadata": {},
     "output_type": "display_data"
    },
    {
     "data": {
      "text/plain": "Training: |          | 0/? [00:00<?, ?it/s]",
      "application/vnd.jupyter.widget-view+json": {
       "version_major": 2,
       "version_minor": 0,
       "model_id": "eb430fb14ddb49e5a51203fbcd07cf0b"
      }
     },
     "metadata": {},
     "output_type": "display_data"
    },
    {
     "data": {
      "text/plain": "Validation: |          | 0/? [00:00<?, ?it/s]",
      "application/vnd.jupyter.widget-view+json": {
       "version_major": 2,
       "version_minor": 0,
       "model_id": "6e83572d3fbb43f3a0169fbd60ad5599"
      }
     },
     "metadata": {},
     "output_type": "display_data"
    },
    {
     "data": {
      "text/plain": "Validation: |          | 0/? [00:00<?, ?it/s]",
      "application/vnd.jupyter.widget-view+json": {
       "version_major": 2,
       "version_minor": 0,
       "model_id": "bb8fda7475d241a6aa5e817477c59c57"
      }
     },
     "metadata": {},
     "output_type": "display_data"
    }
   ],
   "source": [
    "# If you wish to disable GPU or MPS (M1 mac) training, use the accelerator='cpu' kwarg.\n",
    "# accelerator='auto' selects the appropriate Accelerator\n",
    "logger  = CSVLogger('logs',\n",
    "                    name='M3GNet_finetuning')\n",
    "\n",
    "trainer = pl.Trainer(max_epochs=max_epochs,\n",
    "                     accelerator='auto',\n",
    "                     logger=logger,\n",
    "                     inference_mode=False)\n",
    "\n",
    "trainer.fit(model=lit_module_finetune,\n",
    "            train_dataloaders=train_loader,\n",
    "            val_dataloaders=val_loader\n",
    "           )\n",
    "\n",
    "# Save trained model\n",
    "lit_module_finetune.model.save(model_save_path)"
   ],
   "metadata": {
    "collapsed": false,
    "ExecuteTime": {
     "start_time": "2024-06-30T18:27:57.332326276Z"
    }
   },
   "id": "be25a530b8e55bf7",
   "execution_count": null
  },
  {
   "cell_type": "markdown",
   "source": [
    "# Analyze metrics"
   ],
   "metadata": {
    "collapsed": false
   },
   "id": "ef9e163c70f7bcc9"
  },
  {
   "cell_type": "code",
   "execution_count": null,
   "id": "1b3f2256",
   "metadata": {
    "scrolled": true
   },
   "outputs": [],
   "source": [
    "# E_MAE = meV/atom, F_MAE = eV/A, S_MAE = GPa\n",
    "trainer.test(model=lit_module_finetune,\n",
    "            dataloaders=test_loader\n",
    "           )"
   ]
  },
  {
   "cell_type": "code",
   "outputs": [],
   "source": [
    "import pandas as pd"
   ],
   "metadata": {
    "collapsed": false,
    "ExecuteTime": {
     "end_time": "2024-06-10T08:51:25.343338594Z",
     "start_time": "2024-06-10T08:51:25.061771727Z"
    }
   },
   "id": "fbd88415072ab1ab",
   "execution_count": 1
  },
  {
   "cell_type": "code",
   "outputs": [],
   "source": [
    "current_version = 0\n",
    "# Read the CSV file\n",
    "path_to_csv = f'logs/M3GNet_finetuning/version_{current_version}'\n",
    "df = pd.read_csv(f'{path_to_csv}/metrics.csv')\n",
    "df.head()"
   ],
   "metadata": {
    "collapsed": false
   },
   "id": "9ea916d30e0e4102"
  },
  {
   "cell_type": "code",
   "execution_count": null,
   "id": "a3134249",
   "metadata": {
    "scrolled": true,
    "ExecuteTime": {
     "end_time": "2024-02-26T15:43:41.352064167Z",
     "start_time": "2024-02-26T15:43:41.351990960Z"
    }
   },
   "outputs": [],
   "source": [
    "# NaN to zero\n",
    "df = df.fillna(0)\n",
    "\n",
    "# Calculate the sum of every two consecutive rows\n",
    "df = df.groupby(df.index // 2).sum()\n",
    "df.head()"
   ]
  },
  {
   "cell_type": "code",
   "execution_count": null,
   "id": "643704df",
   "metadata": {
    "ExecuteTime": {
     "start_time": "2024-02-20T11:11:01.699191223Z"
    }
   },
   "outputs": [],
   "source": [
    "# Get the list of loss column names\n",
    "loss_columns = [col for col in df.columns if col.startswith('val_') or col.startswith('train_')]\n",
    "\n",
    "# Create a figure and axis\n",
    "fig = plt.subplots(figsize=(10, 6))\n",
    "\n",
    "# Plot each loss\n",
    "for loss_column in loss_columns:\n",
    "    plt.plot(df.index, np.log(df[loss_column]), label=loss_column)\n",
    "\n",
    "plt.xlabel('Epoch')\n",
    "plt.ylabel('Loss')\n",
    "plt.legend(loc=(1.01, 0))\n",
    "plt.savefig(f'm3gnet_loss.eps', dpi=dpi, bbox_inches='tight')\n",
    "plt.show()"
   ]
  },
  {
   "cell_type": "code",
   "execution_count": 45,
   "id": "9d85d562",
   "metadata": {
    "ExecuteTime": {
     "end_time": "2024-02-20T09:19:59.496787113Z",
     "start_time": "2024-02-20T09:19:59.491695716Z"
    }
   },
   "outputs": [
    {
     "data": {
      "text/plain": "(0.0135606033727526, 0.0874462649226188, 0.0)"
     },
     "execution_count": 45,
     "metadata": {},
     "output_type": "execute_result"
    }
   ],
   "source": [
    "df['val_Energy_MAE'].iloc[-2], df['val_Force_MAE'].iloc[-2], df['val_Stress_MAE'].iloc[-2]"
   ]
  },
  {
   "cell_type": "code",
   "execution_count": 46,
   "id": "bc01f877",
   "metadata": {
    "ExecuteTime": {
     "end_time": "2024-02-20T09:20:01.235372917Z",
     "start_time": "2024-02-20T09:20:01.228383929Z"
    }
   },
   "outputs": [
    {
     "data": {
      "text/plain": "(0.0, 0.0, 0.0)"
     },
     "execution_count": 46,
     "metadata": {},
     "output_type": "execute_result"
    }
   ],
   "source": [
    "df['val_Energy_MAE'].iloc[-1], df['val_Force_MAE'].iloc[-1], df['val_Stress_MAE'].iloc[-1]"
   ]
  },
  {
   "cell_type": "markdown",
   "id": "d8e76beb",
   "metadata": {},
   "source": [
    "# Cleanup the notebook"
   ]
  },
  {
   "cell_type": "code",
   "execution_count": 14,
   "id": "a7147751",
   "metadata": {
    "ExecuteTime": {
     "end_time": "2024-02-28T16:43:27.471122972Z",
     "start_time": "2024-02-28T16:43:27.430455453Z"
    }
   },
   "outputs": [],
   "source": [
    "# This code just performs cleanup for this notebook from temporal files\n",
    "\n",
    "patterns = ['dgl_graph*.bin', 'dgl_line_graph*.bin', 'state_attr*.pt', 'labels*.json', '*labels.txt']\n",
    "for pattern in patterns:\n",
    "    files = glob.glob(pattern)\n",
    "    for file in files:\n",
    "        try:\n",
    "            os.remove(file)\n",
    "        except FileNotFoundError:\n",
    "            pass\n",
    "\n",
    "#shutil.rmtree('logs')\n",
    "#shutil.rmtree('trained_model')\n",
    "#shutil.rmtree('finetuned_model')"
   ]
  }
 ],
 "metadata": {
  "kernelspec": {
   "display_name": "Python 3 (ipykernel)",
   "language": "python",
   "name": "python3"
  },
  "language_info": {
   "codemirror_mode": {
    "name": "ipython",
    "version": 3
   },
   "file_extension": ".py",
   "mimetype": "text/x-python",
   "name": "python",
   "nbconvert_exporter": "python",
   "pygments_lexer": "ipython3",
   "version": "3.10.12"
  }
 },
 "nbformat": 4,
 "nbformat_minor": 5
}
