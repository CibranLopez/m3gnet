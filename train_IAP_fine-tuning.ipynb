{
 "cells": [
  {
   "cell_type": "code",
   "outputs": [],
   "source": [
    "import numpy             as np\n",
    "import pytorch_lightning as pl\n",
    "import ML_library        as MLL\n",
    "import matplotlib.pyplot as plt\n",
    "import matgl\n",
    "import os\n",
    "import warnings\n",
    "import torch\n",
    "import json\n",
    "\n",
    "from __future__                import annotations\n",
    "from pytorch_lightning.loggers import CSVLogger\n",
    "from matgl.ext.pymatgen        import Structure2Graph, get_element_list\n",
    "from matgl.graph.data          import M3GNetDataset, MGLDataLoader, collate_fn_efs\n",
    "from matgl.utils.training      import PotentialLightningModule\n",
    "\n",
    "# To suppress warnings for clearer output\n",
    "warnings.simplefilter('ignore')\n",
    "\n",
    "# Check if GPU is available\n",
    "device = torch.device('cuda' if torch.cuda.is_available() else 'cpu')"
   ],
   "metadata": {
    "collapsed": false,
    "ExecuteTime": {
     "end_time": "2024-09-18T08:27:27.147574730Z",
     "start_time": "2024-09-18T08:27:24.069664261Z"
    }
   },
   "id": "779806c81501309a",
   "execution_count": 1
  },
  {
   "cell_type": "code",
   "outputs": [
    {
     "data": {
      "text/plain": "device(type='cpu')"
     },
     "execution_count": 2,
     "metadata": {},
     "output_type": "execute_result"
    }
   ],
   "source": [
    "device"
   ],
   "metadata": {
    "collapsed": false,
    "ExecuteTime": {
     "end_time": "2024-09-18T08:27:27.152490681Z",
     "start_time": "2024-09-18T08:27:27.150481147Z"
    }
   },
   "id": "e5618a095f97c090",
   "execution_count": 2
  },
  {
   "cell_type": "code",
   "outputs": [],
   "source": [
    "model_load_path = 'M3GNet-MP-2021.2.8-PES'\n",
    "model_save_path = 'finetuned_model'\n",
    "\n",
    "# Whether to include charge or not\n",
    "charged = False\n",
    "\n",
    "# 0: material, 1: charge state, 2: ionic step\n",
    "depth = 1\n",
    "\n",
    "# Define batch size\n",
    "batch_size = 32\n",
    "\n",
    "# Stress weight for training\n",
    "stress_weight = 0.7  # 0.7\n",
    "\n",
    "# Ratios for diving training data\n",
    "test_ratio       = 0.2\n",
    "validation_ratio = 0.2\n",
    "\n",
    "# Number of epoch for re-training\n",
    "max_epochs = 1000\n",
    "\n",
    "# Learning-rate for re-training\n",
    "lr = 1e-4\n",
    "\n",
    "dpi = 100\n",
    "\n",
    "# Version of training you specifically want to analyze\n",
    "current_version = 0\n",
    "\n",
    "# Each folder names a new column, and structure, energy, forces and stresses\n",
    "# of each ionic step are loaded\n",
    "\n",
    "# Path to dataset, structured as:\n",
    "# path_to_dataset\n",
    "#     material_i\n",
    "#         defect_i\n",
    "#             simulation_i (containing vasprun.xml)\n",
    "\n",
    "path_to_dataset = '/home/cibran/Desktop/BiSBr-example/HSE06+D3+SOC'\n",
    "#path_to_dataset = '../../../Desktop/CeO2-data'\n",
    "\n",
    "# Create and save as a dictionary\n",
    "model_parameters = {\n",
    "    'model_load_path':  model_load_path,\n",
    "    'model_save_path':  model_save_path,\n",
    "    'charged':          charged,\n",
    "    'depth':            depth,\n",
    "    'batch_size':       batch_size,\n",
    "    'stress_weight':    stress_weight,\n",
    "    'test_ratio':       test_ratio,\n",
    "    'validation_ratio': validation_ratio,\n",
    "    'max_epochs':       max_epochs,\n",
    "    'lr':               lr,\n",
    "    'path_to_dataset':  path_to_dataset,\n",
    "}\n",
    "\n",
    "# Write the dictionary to the file in JSON format\n",
    "with open(f'{model_save_path}/model_parameters.json', 'w') as json_file:\n",
    "    json.dump(model_parameters, json_file)"
   ],
   "metadata": {
    "collapsed": false,
    "ExecuteTime": {
     "end_time": "2024-09-18T08:27:33.184927050Z",
     "start_time": "2024-09-18T08:27:33.102167187Z"
    }
   },
   "id": "d1c59ad8430839a7",
   "execution_count": 3
  },
  {
   "cell_type": "markdown",
   "source": [
    "# Load simulation data"
   ],
   "metadata": {
    "collapsed": false
   },
   "id": "e1609cea53c3b6fe"
  },
  {
   "cell_type": "code",
   "outputs": [
    {
     "name": "stdout",
     "output_type": "stream",
     "text": [
      "\n",
      "BiSBr\n",
      "\tas_1_Bi_on_S_-1\n",
      "\tas_1_Bi_on_S_-2\n",
      "\tas_1_Bi_on_S_0\n",
      "\tas_1_Bi_on_S_1\n",
      "\tas_1_Bi_on_S_2\n",
      "\tas_1_Bi_on_S_3\n",
      "\tas_1_Bi_on_S_4\n",
      "\tas_1_Bi_on_S_5\n",
      "\tas_1_Br_on_Bi_-1\n",
      "\tas_1_Br_on_Bi_-2\n",
      "\tas_1_Br_on_Bi_0\n",
      "\tas_1_Br_on_Bi_1\n",
      "\tas_1_Br_on_Bi_2\n",
      "\tas_1_Br_on_Bi_3\n",
      "\tas_1_Br_on_Bi_4\n",
      "\tas_1_Br_on_Bi_5\n",
      "\tas_1_S_on_Bi_-1\n",
      "\tas_1_S_on_Bi_-2\n",
      "\tas_1_S_on_Bi_0\n",
      "\tas_1_S_on_Bi_1\n",
      "\tas_1_S_on_Bi_2\n",
      "\tas_1_S_on_Bi_3\n",
      "\tas_1_S_on_Bi_4\n",
      "\tas_1_S_on_Bi_5\n",
      "\tas_2_Bi_on_Br_-1\n",
      "\tas_2_Bi_on_Br_-2\n",
      "\tas_2_Bi_on_Br_0\n",
      "\tas_2_Bi_on_Br_1\n",
      "\tas_2_Bi_on_Br_2\n",
      "\tas_2_Bi_on_Br_3\n",
      "\tas_2_Bi_on_Br_4\n",
      "\tas_2_Bi_on_Br_5\n",
      "\tas_2_Br_on_S_-1\n",
      "\tas_2_Br_on_S_-2\n",
      "\tas_2_Br_on_S_0\n",
      "\tas_2_Br_on_S_1\n",
      "\tas_2_Br_on_S_2\n",
      "\tas_2_Br_on_S_3\n",
      "\tas_2_Br_on_S_4\n",
      "\tas_2_Br_on_S_5\n",
      "\tas_2_S_on_Br_-1\n",
      "\tas_2_S_on_Br_-2\n",
      "\tas_2_S_on_Br_0\n",
      "\tas_2_S_on_Br_1\n",
      "\tas_2_S_on_Br_2\n",
      "\tas_2_S_on_Br_3\n",
      "\tas_2_S_on_Br_4\n",
      "\tas_2_S_on_Br_5\n",
      "\tinter_10_S_0\n",
      "\tinter_11_S_0\n",
      "\tinter_12_S_0\n",
      "\tinter_13_S_0\n",
      "\tinter_14_S_0\n",
      "\tinter_15_S_0\n",
      "\tinter_16_S_0\n",
      "\tinter_17_Br_0\n",
      "\tinter_18_Br_0\n",
      "\tinter_19_Br_0\n",
      "\tinter_1_Bi_0\n",
      "\tinter_20_Br_0\n",
      "\tinter_21_Br_0\n",
      "\tinter_22_Br_0\n",
      "\tinter_23_Br_0\n",
      "\tinter_24_Br_0\n",
      "\tinter_2_Bi_0\n",
      "\tinter_3_Bi_0\n",
      "\tinter_4_Bi_0\n",
      "\tinter_5_Bi_0\n",
      "\tinter_6_Bi_0\n",
      "\tinter_7_Bi_0\n",
      "\tinter_8_Bi_0\n",
      "\tinter_9_S_0\n",
      "\tsupercell\n",
      "\tvac_1_Bi_-1\n",
      "\tvac_1_Bi_-2\n",
      "\tvac_1_Bi_-3\n",
      "\tvac_1_Bi_0\n",
      "\tvac_1_Bi_1\n",
      "\tvac_1_Bi_2\n",
      "\tvac_1_Bi_3\n",
      "\tvac_2_S_-1\n",
      "\tvac_2_S_-2\n",
      "\tvac_2_S_0\n",
      "\tvac_2_S_1\n",
      "\tvac_2_S_2\n",
      "\tvac_3_Br_-1\n",
      "\tvac_3_Br_0\n",
      "\tvac_3_Br_1\n",
      "\n",
      "BiSI\n",
      "\tas_1_Bi_on_S_-1\n",
      "\tas_1_Bi_on_S_-2\n",
      "\tas_1_Bi_on_S_0\n",
      "Error: vasprun not correctly loaded.\n",
      "Error: vasprun not correctly loaded.\n",
      "\tas_1_Bi_on_S_1\n",
      "\tas_1_Bi_on_S_2\n",
      "\tas_1_Bi_on_S_3\n",
      "\tas_1_Bi_on_S_4\n",
      "\tas_1_Bi_on_S_5\n",
      "\tas_1_I_on_Bi_-1\n",
      "\tas_1_I_on_Bi_-2\n",
      "\tas_1_I_on_Bi_0\n",
      "\tas_1_I_on_Bi_1\n",
      "\tas_1_I_on_Bi_2\n",
      "\tas_1_I_on_Bi_3\n",
      "\tas_1_I_on_Bi_4\n",
      "\tas_1_I_on_Bi_5\n",
      "\tas_1_S_on_Bi_-1\n",
      "\tas_1_S_on_Bi_-2\n",
      "\tas_1_S_on_Bi_0\n",
      "Error: vasprun not correctly loaded.\n",
      "Error: vasprun not correctly loaded.\n",
      "\tas_1_S_on_Bi_1\n",
      "\tas_1_S_on_Bi_2\n",
      "\tas_1_S_on_Bi_3\n",
      "\tas_1_S_on_Bi_4\n",
      "\tas_1_S_on_Bi_5\n",
      "\tas_2_Bi_on_I_-1\n",
      "\tas_2_Bi_on_I_-2\n",
      "\tas_2_Bi_on_I_0\n",
      "\tas_2_Bi_on_I_1\n",
      "\tas_2_Bi_on_I_2\n",
      "\tas_2_Bi_on_I_3\n",
      "\tas_2_Bi_on_I_4\n",
      "\tas_2_Bi_on_I_5\n",
      "\tas_2_I_on_S_-1\n",
      "\tas_2_I_on_S_-2\n",
      "\tas_2_I_on_S_0\n",
      "Error: vasprun not correctly loaded.\n",
      "\tas_2_I_on_S_1\n",
      "\tas_2_I_on_S_2\n",
      "\tas_2_I_on_S_3\n",
      "\tas_2_I_on_S_4\n",
      "\tas_2_I_on_S_5\n",
      "\tas_2_S_on_I_-1\n",
      "\tas_2_S_on_I_-2\n",
      "\tas_2_S_on_I_0\n",
      "\tas_2_S_on_I_1\n",
      "\tas_2_S_on_I_2\n",
      "\tas_2_S_on_I_3\n",
      "\tas_2_S_on_I_4\n",
      "\tas_2_S_on_I_5\n",
      "\tinter_10_S_0\n",
      "\tinter_11_S_0\n",
      "\tinter_12_S_0\n",
      "\tinter_13_S_0\n",
      "\tinter_14_S_0\n",
      "\tinter_15_S_0\n",
      "\tinter_16_S_0\n",
      "\tinter_17_I_0\n",
      "\tinter_18_I_0\n",
      "\tinter_19_I_0\n",
      "\tinter_1_Bi_0\n",
      "\tinter_20_I_0\n",
      "\tinter_21_I_0\n",
      "\tinter_22_I_0\n",
      "\tinter_23_I_0\n",
      "\tinter_24_I_0\n",
      "\tinter_2_Bi_0\n",
      "\tinter_3_Bi_0\n",
      "\tinter_4_Bi_0\n",
      "\tinter_5_Bi_0\n",
      "\tinter_6_Bi_0\n",
      "\tinter_7_Bi_0\n",
      "\tinter_8_Bi_0\n",
      "\tinter_9_S_0\n",
      "\tsupercell\n",
      "Error: vasprun not correctly loaded.\n",
      "\tvac_1_Bi_-1\n",
      "\tvac_1_Bi_-2\n",
      "\tvac_1_Bi_-3\n",
      "\tvac_1_Bi_0\n",
      "Error: vasprun not correctly loaded.\n",
      "\tvac_1_Bi_1\n",
      "\tvac_1_Bi_2\n",
      "\tvac_1_Bi_3\n",
      "\tvac_2_S_-1\n",
      "\tvac_2_S_-2\n",
      "\tvac_2_S_0\n",
      "\tvac_2_S_1\n",
      "\tvac_2_S_2\n",
      "\tvac_3_I_-1\n",
      "\tvac_3_I_0\n",
      "Error: vasprun not correctly loaded.\n",
      "\tvac_3_I_1\n"
     ]
    },
    {
     "data": {
      "text/plain": "                                                          BiSBr   \n                                           BiSBr_as_1_Bi_on_S_0   \n                                         BiSBr_as_1_Bi_on_S_0_0   \nstructure     [[2.97958563 2.32358318 5.42154828] Bi3+, [0.8...  \\\nenergy                                              -360.760545   \nforce         [[0.07207828, 0.0310842, 0.04972352], [-0.0055...   \nstress        [[-2.1208515980000002, 0.010806431, -0.0143243...   \ncharge_state                                                0.0   \n\n                                                                  \n                                                                  \n                                         BiSBr_as_1_Bi_on_S_0_1   \nstructure     [[2.98097652 2.32418305 5.42250786] Bi3+, [0.8...  \\\nenergy                                              -360.763442   \nforce         [[0.06486033, 0.03654152, 0.0371568], [0.00147...   \nstress        [[-2.1110432200000004, 0.010463909, -0.0126552...   \ncharge_state                                                0.0   \n\n                                                                  \n                                                                  \n                                         BiSBr_as_1_Bi_on_S_0_2   \nstructure     [[2.9851492  2.32598249 5.4253864 ] Bi3+, [0.8...  \\\nenergy                                              -360.768975   \nforce         [[0.03532649, 0.05397151, -0.00280999], [0.019...   \nstress        [[-2.0844480300000003, 0.009275477, -0.0078117...   \ncharge_state                                                0.0   \n\n                                                                  \n                                                                  \n                                         BiSBr_as_1_Bi_on_S_0_3   \nstructure     [[2.99349468 2.32958154 5.43114348] Bi3+, [0.8...  \\\nenergy                                              -360.766246   \nforce         [[-0.01159648, 0.08372168, -0.07333601], [0.05...   \nstress        [[-2.035588583, 0.007574436, 0.001602463000000...   \ncharge_state                                                0.0   \n\n                                                                  \n                                                                  \n                                         BiSBr_as_1_Bi_on_S_0_4   \nstructure     [[2.98802546 2.32722299 5.42737065] Bi3+, [0.8...  \\\nenergy                                              -360.770153   \nforce         [[0.02034077, 0.06407088, -0.02805642], [0.032...   \nstress        [[-2.06438167, 0.008902324000000001, -0.004132...   \ncharge_state                                                0.0   \n\n                                                                  \n                                                                  \n                                         BiSBr_as_1_Bi_on_S_0_5   \nstructure     [[2.98996737 2.33020912 5.42707484] Bi3+, [0.8...  \\\nenergy                                              -360.772518   \nforce         [[0.01561428, 0.05459537, -0.01997754], [0.030...   \nstress        [[-2.040863056, 0.008602743000000001, -0.00327...   \ncharge_state                                                0.0   \n\n                                                                  \n                                                                  \n                                         BiSBr_as_1_Bi_on_S_0_6   \nstructure     [[2.9957932  2.33916767 5.4261875 ] Bi3+, [0.8...  \\\nenergy                                              -360.776215   \nforce         [[0.0070201, 0.02717547, 0.00706469], [0.02906...   \nstress        [[-1.9787528900000002, 0.008207387, -0.0001403...   \ncharge_state                                                0.0   \n\n                                                                  \n                                                                  \n                                         BiSBr_as_1_Bi_on_S_0_7   \nstructure     [[2.99709059 2.34116287 5.42598992] Bi3+, [0.8...  \\\nenergy                                              -360.776379   \nforce         [[0.00456369, 0.01994466, 0.01076315], [0.0294...   \nstress        [[-1.965631174, 0.008343637, 0.000813288000000...   \ncharge_state                                                0.0   \n\n                                                                  \n                                                                  \n                                         BiSBr_as_1_Bi_on_S_0_8   \nstructure     [[2.99910495 2.34513122 5.42645495] Bi3+, [0.9...  \\\nenergy                                              -360.778366   \nforce         [[0.01311377, 0.0108779, 0.02011294], [0.02765...   \nstress        [[-1.9737114, 0.009291921, -0.0013492830000000...   \ncharge_state                                                0.0   \n\n                                                                 ...   \n                                                                 ...   \n                                         BiSBr_as_1_Bi_on_S_0_9  ...   \nstructure     [[3.00127234 2.34940087 5.4269553 ] Bi3+, [0.9...  ...  \\\nenergy                                              -360.779611  ...   \nforce         [[0.02714164, -0.01028083, 0.03362521], [0.025...  ...   \nstress        [[-1.975341412, 0.010532467, -0.00380604800000...  ...   \ncharge_state                                                0.0  ...   \n\n                                                           BiSI   \n                                                 BiSI_vac_3_I_0   \n                                               BiSI_vac_3_I_0_9   \nstructure     [[1.06474125 3.20008223 3.86238877] Bi3+, [ 1....  \\\nenergy                                              -347.591459   \nforce         [[-0.00225108, -0.01744731, -0.01412228], [0.0...   \nstress        [[0.260954878, -0.019633911000000004, 0.001013...   \ncharge_state                                                0.0   \n\n                                                                  \n                                                                  \n                                              BiSI_vac_3_I_0_10   \nstructure     [[1.06921291 3.1989865  3.85935785] Bi3+, [ 1....  \\\nenergy                                              -347.591763   \nforce         [[-0.00229769, -0.00495766, -0.00516805], [0.0...   \nstress        [[0.263782307, -0.022119496000000002, 0.001277...   \ncharge_state                                                0.0   \n\n                                                                  \n                                                                  \n                                              BiSI_vac_3_I_0_11   \nstructure     [[1.06787676 3.1990505  3.85994259] Bi3+, [ 1....  \\\nenergy                                               -347.59188   \nforce         [[-0.00264662, -0.00210474, -0.00320065], [0.0...   \nstress        [[0.26129351100000003, -0.021822126, 0.0014414...   \ncharge_state                                                0.0   \n\n                                                                  \n                                                                  \n                                              BiSI_vac_3_I_0_12   \nstructure     [[1.06386868 3.19924233 3.86169648] Bi3+, [ 1....  \\\nenergy                                              -347.592066   \nforce         [[-0.00302532, 0.00492659, 0.00023329], [0.003...   \nstress        [[0.26081747000000005, -0.021029699, 0.0018745...   \ncharge_state                                                0.0   \n\n                                                                  \n                                                                  \n                                              BiSI_vac_3_I_0_13   \nstructure     [[1.06203263 3.19969514 3.86241673] Bi3+, [ 1....  \\\nenergy                                              -347.592276   \nforce         [[-0.00183112, 0.00198203, 0.00029212], [0.002...   \nstress        [[0.26067501800000004, -0.02120698, 0.00157574...   \ncharge_state                                                0.0   \n\n                                                                  \n                                                                  \n                                              BiSI_vac_3_I_0_14   \nstructure     [[1.05879384 3.2004942  3.86368706] Bi3+, [ 1....  \\\nenergy                                              -347.592403   \nforce         [[0.00227096, 0.00084197, 0.00386464], [0.0005...   \nstress        [[0.2576231, -0.021571069000000002, 0.00089688...   \ncharge_state                                                0.0   \n\n                                                                  \n                                                                  \n                                              BiSI_vac_3_I_0_15   \nstructure     [[1.05738643 3.2009036  3.86445019] Bi3+, [ 1....  \\\nenergy                                              -347.592538   \nforce         [[0.00270389, -0.00072989, 0.00046305], [-0.00...   \nstress        [[0.254552777, -0.021745745, 0.000646594], [-0...   \ncharge_state                                                0.0   \n\n                                                                  \n                                                                  \n                                              BiSI_vac_3_I_0_16   \nstructure     [[1.05350019 3.20203415 3.86655707] Bi3+, [ 1....  \\\nenergy                                               -347.59266   \nforce         [[0.00562023, -0.00397949, -0.00521947], [-0.0...   \nstress        [[0.240984117, -0.022133796, -0.000328643], [-...   \ncharge_state                                                0.0   \n\n                                                                  \n                                                                  \n                                              BiSI_vac_3_I_0_17   \nstructure     [[1.05440983 3.20176957 3.86606394] Bi3+, [ 1....  \\\nenergy                                              -347.592683   \nforce         [[0.00534799, -0.00450728, -0.00335818], [0.00...   \nstress        [[0.244229264, -0.022021449000000002, -0.00021...   \ncharge_state                                                0.0   \n\n                                                                 \n                                                                 \n                                              BiSI_vac_3_I_0_18  \nstructure     [[1.05589807 3.2013365  3.86525701] Bi3+, [ 1....  \nenergy                                              -347.592671  \nforce         [[0.00616492, -0.00098103, -0.00304575], [-0.0...  \nstress        [[0.246749956, -0.021895744, 0.000218729000000...  \ncharge_state                                                0.0  \n\n[5 rows x 1182 columns]",
      "text/html": "<div>\n<style scoped>\n    .dataframe tbody tr th:only-of-type {\n        vertical-align: middle;\n    }\n\n    .dataframe tbody tr th {\n        vertical-align: top;\n    }\n\n    .dataframe thead tr th {\n        text-align: left;\n    }\n</style>\n<table border=\"1\" class=\"dataframe\">\n  <thead>\n    <tr>\n      <th></th>\n      <th colspan=\"10\" halign=\"left\">BiSBr</th>\n      <th>...</th>\n      <th colspan=\"10\" halign=\"left\">BiSI</th>\n    </tr>\n    <tr>\n      <th></th>\n      <th colspan=\"10\" halign=\"left\">BiSBr_as_1_Bi_on_S_0</th>\n      <th>...</th>\n      <th colspan=\"10\" halign=\"left\">BiSI_vac_3_I_0</th>\n    </tr>\n    <tr>\n      <th></th>\n      <th>BiSBr_as_1_Bi_on_S_0_0</th>\n      <th>BiSBr_as_1_Bi_on_S_0_1</th>\n      <th>BiSBr_as_1_Bi_on_S_0_2</th>\n      <th>BiSBr_as_1_Bi_on_S_0_3</th>\n      <th>BiSBr_as_1_Bi_on_S_0_4</th>\n      <th>BiSBr_as_1_Bi_on_S_0_5</th>\n      <th>BiSBr_as_1_Bi_on_S_0_6</th>\n      <th>BiSBr_as_1_Bi_on_S_0_7</th>\n      <th>BiSBr_as_1_Bi_on_S_0_8</th>\n      <th>BiSBr_as_1_Bi_on_S_0_9</th>\n      <th>...</th>\n      <th>BiSI_vac_3_I_0_9</th>\n      <th>BiSI_vac_3_I_0_10</th>\n      <th>BiSI_vac_3_I_0_11</th>\n      <th>BiSI_vac_3_I_0_12</th>\n      <th>BiSI_vac_3_I_0_13</th>\n      <th>BiSI_vac_3_I_0_14</th>\n      <th>BiSI_vac_3_I_0_15</th>\n      <th>BiSI_vac_3_I_0_16</th>\n      <th>BiSI_vac_3_I_0_17</th>\n      <th>BiSI_vac_3_I_0_18</th>\n    </tr>\n  </thead>\n  <tbody>\n    <tr>\n      <th>structure</th>\n      <td>[[2.97958563 2.32358318 5.42154828] Bi3+, [0.8...</td>\n      <td>[[2.98097652 2.32418305 5.42250786] Bi3+, [0.8...</td>\n      <td>[[2.9851492  2.32598249 5.4253864 ] Bi3+, [0.8...</td>\n      <td>[[2.99349468 2.32958154 5.43114348] Bi3+, [0.8...</td>\n      <td>[[2.98802546 2.32722299 5.42737065] Bi3+, [0.8...</td>\n      <td>[[2.98996737 2.33020912 5.42707484] Bi3+, [0.8...</td>\n      <td>[[2.9957932  2.33916767 5.4261875 ] Bi3+, [0.8...</td>\n      <td>[[2.99709059 2.34116287 5.42598992] Bi3+, [0.8...</td>\n      <td>[[2.99910495 2.34513122 5.42645495] Bi3+, [0.9...</td>\n      <td>[[3.00127234 2.34940087 5.4269553 ] Bi3+, [0.9...</td>\n      <td>...</td>\n      <td>[[1.06474125 3.20008223 3.86238877] Bi3+, [ 1....</td>\n      <td>[[1.06921291 3.1989865  3.85935785] Bi3+, [ 1....</td>\n      <td>[[1.06787676 3.1990505  3.85994259] Bi3+, [ 1....</td>\n      <td>[[1.06386868 3.19924233 3.86169648] Bi3+, [ 1....</td>\n      <td>[[1.06203263 3.19969514 3.86241673] Bi3+, [ 1....</td>\n      <td>[[1.05879384 3.2004942  3.86368706] Bi3+, [ 1....</td>\n      <td>[[1.05738643 3.2009036  3.86445019] Bi3+, [ 1....</td>\n      <td>[[1.05350019 3.20203415 3.86655707] Bi3+, [ 1....</td>\n      <td>[[1.05440983 3.20176957 3.86606394] Bi3+, [ 1....</td>\n      <td>[[1.05589807 3.2013365  3.86525701] Bi3+, [ 1....</td>\n    </tr>\n    <tr>\n      <th>energy</th>\n      <td>-360.760545</td>\n      <td>-360.763442</td>\n      <td>-360.768975</td>\n      <td>-360.766246</td>\n      <td>-360.770153</td>\n      <td>-360.772518</td>\n      <td>-360.776215</td>\n      <td>-360.776379</td>\n      <td>-360.778366</td>\n      <td>-360.779611</td>\n      <td>...</td>\n      <td>-347.591459</td>\n      <td>-347.591763</td>\n      <td>-347.59188</td>\n      <td>-347.592066</td>\n      <td>-347.592276</td>\n      <td>-347.592403</td>\n      <td>-347.592538</td>\n      <td>-347.59266</td>\n      <td>-347.592683</td>\n      <td>-347.592671</td>\n    </tr>\n    <tr>\n      <th>force</th>\n      <td>[[0.07207828, 0.0310842, 0.04972352], [-0.0055...</td>\n      <td>[[0.06486033, 0.03654152, 0.0371568], [0.00147...</td>\n      <td>[[0.03532649, 0.05397151, -0.00280999], [0.019...</td>\n      <td>[[-0.01159648, 0.08372168, -0.07333601], [0.05...</td>\n      <td>[[0.02034077, 0.06407088, -0.02805642], [0.032...</td>\n      <td>[[0.01561428, 0.05459537, -0.01997754], [0.030...</td>\n      <td>[[0.0070201, 0.02717547, 0.00706469], [0.02906...</td>\n      <td>[[0.00456369, 0.01994466, 0.01076315], [0.0294...</td>\n      <td>[[0.01311377, 0.0108779, 0.02011294], [0.02765...</td>\n      <td>[[0.02714164, -0.01028083, 0.03362521], [0.025...</td>\n      <td>...</td>\n      <td>[[-0.00225108, -0.01744731, -0.01412228], [0.0...</td>\n      <td>[[-0.00229769, -0.00495766, -0.00516805], [0.0...</td>\n      <td>[[-0.00264662, -0.00210474, -0.00320065], [0.0...</td>\n      <td>[[-0.00302532, 0.00492659, 0.00023329], [0.003...</td>\n      <td>[[-0.00183112, 0.00198203, 0.00029212], [0.002...</td>\n      <td>[[0.00227096, 0.00084197, 0.00386464], [0.0005...</td>\n      <td>[[0.00270389, -0.00072989, 0.00046305], [-0.00...</td>\n      <td>[[0.00562023, -0.00397949, -0.00521947], [-0.0...</td>\n      <td>[[0.00534799, -0.00450728, -0.00335818], [0.00...</td>\n      <td>[[0.00616492, -0.00098103, -0.00304575], [-0.0...</td>\n    </tr>\n    <tr>\n      <th>stress</th>\n      <td>[[-2.1208515980000002, 0.010806431, -0.0143243...</td>\n      <td>[[-2.1110432200000004, 0.010463909, -0.0126552...</td>\n      <td>[[-2.0844480300000003, 0.009275477, -0.0078117...</td>\n      <td>[[-2.035588583, 0.007574436, 0.001602463000000...</td>\n      <td>[[-2.06438167, 0.008902324000000001, -0.004132...</td>\n      <td>[[-2.040863056, 0.008602743000000001, -0.00327...</td>\n      <td>[[-1.9787528900000002, 0.008207387, -0.0001403...</td>\n      <td>[[-1.965631174, 0.008343637, 0.000813288000000...</td>\n      <td>[[-1.9737114, 0.009291921, -0.0013492830000000...</td>\n      <td>[[-1.975341412, 0.010532467, -0.00380604800000...</td>\n      <td>...</td>\n      <td>[[0.260954878, -0.019633911000000004, 0.001013...</td>\n      <td>[[0.263782307, -0.022119496000000002, 0.001277...</td>\n      <td>[[0.26129351100000003, -0.021822126, 0.0014414...</td>\n      <td>[[0.26081747000000005, -0.021029699, 0.0018745...</td>\n      <td>[[0.26067501800000004, -0.02120698, 0.00157574...</td>\n      <td>[[0.2576231, -0.021571069000000002, 0.00089688...</td>\n      <td>[[0.254552777, -0.021745745, 0.000646594], [-0...</td>\n      <td>[[0.240984117, -0.022133796, -0.000328643], [-...</td>\n      <td>[[0.244229264, -0.022021449000000002, -0.00021...</td>\n      <td>[[0.246749956, -0.021895744, 0.000218729000000...</td>\n    </tr>\n    <tr>\n      <th>charge_state</th>\n      <td>0.0</td>\n      <td>0.0</td>\n      <td>0.0</td>\n      <td>0.0</td>\n      <td>0.0</td>\n      <td>0.0</td>\n      <td>0.0</td>\n      <td>0.0</td>\n      <td>0.0</td>\n      <td>0.0</td>\n      <td>...</td>\n      <td>0.0</td>\n      <td>0.0</td>\n      <td>0.0</td>\n      <td>0.0</td>\n      <td>0.0</td>\n      <td>0.0</td>\n      <td>0.0</td>\n      <td>0.0</td>\n      <td>0.0</td>\n      <td>0.0</td>\n    </tr>\n  </tbody>\n</table>\n<p>5 rows × 1182 columns</p>\n</div>"
     },
     "execution_count": 4,
     "metadata": {},
     "output_type": "execute_result"
    }
   ],
   "source": [
    "# Extract the data\n",
    "m3gnet_dataset = MLL.extract_vaspruns_dataset(path_to_dataset, charged=charged)\n",
    "#m3gnet_dataset = MLL.extract_OUTCAR_dataset(path_to_dataset)\n",
    "m3gnet_dataset"
   ],
   "metadata": {
    "collapsed": false,
    "ExecuteTime": {
     "end_time": "2024-09-18T08:40:03.628586440Z",
     "start_time": "2024-09-18T08:27:35.187655761Z"
    }
   },
   "id": "3cfe7f0835742a45",
   "execution_count": 4
  },
  {
   "cell_type": "markdown",
   "source": [
    "# Split data into train-validation-test sets"
   ],
   "metadata": {
    "collapsed": false
   },
   "id": "d80a1f1b05d2df52"
  },
  {
   "cell_type": "markdown",
   "source": [
    "### Decide if we split in terms of mateiral, defect state or simulation directly"
   ],
   "metadata": {
    "collapsed": false
   },
   "id": "5da76736aceeb39e"
  },
  {
   "cell_type": "code",
   "outputs": [
    {
     "data": {
      "text/plain": "                                           BiSBr_as_1_Bi_on_S_0   \n                                         BiSBr_as_1_Bi_on_S_0_0   \nstructure     [[2.97958563 2.32358318 5.42154828] Bi3+, [0.8...  \\\nenergy                                              -360.760545   \nforce         [[0.07207828, 0.0310842, 0.04972352], [-0.0055...   \nstress        [[-2.1208515980000002, 0.010806431, -0.0143243...   \ncharge_state                                                0.0   \n\n                                                                  \n                                         BiSBr_as_1_Bi_on_S_0_1   \nstructure     [[2.98097652 2.32418305 5.42250786] Bi3+, [0.8...  \\\nenergy                                              -360.763442   \nforce         [[0.06486033, 0.03654152, 0.0371568], [0.00147...   \nstress        [[-2.1110432200000004, 0.010463909, -0.0126552...   \ncharge_state                                                0.0   \n\n                                                                  \n                                         BiSBr_as_1_Bi_on_S_0_2   \nstructure     [[2.9851492  2.32598249 5.4253864 ] Bi3+, [0.8...  \\\nenergy                                              -360.768975   \nforce         [[0.03532649, 0.05397151, -0.00280999], [0.019...   \nstress        [[-2.0844480300000003, 0.009275477, -0.0078117...   \ncharge_state                                                0.0   \n\n                                                                  \n                                         BiSBr_as_1_Bi_on_S_0_3   \nstructure     [[2.99349468 2.32958154 5.43114348] Bi3+, [0.8...  \\\nenergy                                              -360.766246   \nforce         [[-0.01159648, 0.08372168, -0.07333601], [0.05...   \nstress        [[-2.035588583, 0.007574436, 0.001602463000000...   \ncharge_state                                                0.0   \n\n                                                                  \n                                         BiSBr_as_1_Bi_on_S_0_4   \nstructure     [[2.98802546 2.32722299 5.42737065] Bi3+, [0.8...  \\\nenergy                                              -360.770153   \nforce         [[0.02034077, 0.06407088, -0.02805642], [0.032...   \nstress        [[-2.06438167, 0.008902324000000001, -0.004132...   \ncharge_state                                                0.0   \n\n                                                                  \n                                         BiSBr_as_1_Bi_on_S_0_5   \nstructure     [[2.98996737 2.33020912 5.42707484] Bi3+, [0.8...  \\\nenergy                                              -360.772518   \nforce         [[0.01561428, 0.05459537, -0.01997754], [0.030...   \nstress        [[-2.040863056, 0.008602743000000001, -0.00327...   \ncharge_state                                                0.0   \n\n                                                                  \n                                         BiSBr_as_1_Bi_on_S_0_6   \nstructure     [[2.9957932  2.33916767 5.4261875 ] Bi3+, [0.8...  \\\nenergy                                              -360.776215   \nforce         [[0.0070201, 0.02717547, 0.00706469], [0.02906...   \nstress        [[-1.9787528900000002, 0.008207387, -0.0001403...   \ncharge_state                                                0.0   \n\n                                                                  \n                                         BiSBr_as_1_Bi_on_S_0_7   \nstructure     [[2.99709059 2.34116287 5.42598992] Bi3+, [0.8...  \\\nenergy                                              -360.776379   \nforce         [[0.00456369, 0.01994466, 0.01076315], [0.0294...   \nstress        [[-1.965631174, 0.008343637, 0.000813288000000...   \ncharge_state                                                0.0   \n\n                                                                  \n                                         BiSBr_as_1_Bi_on_S_0_8   \nstructure     [[2.99910495 2.34513122 5.42645495] Bi3+, [0.9...  \\\nenergy                                              -360.778366   \nforce         [[0.01311377, 0.0108779, 0.02011294], [0.02765...   \nstress        [[-1.9737114, 0.009291921, -0.0013492830000000...   \ncharge_state                                                0.0   \n\n                                                                 ...   \n                                         BiSBr_as_1_Bi_on_S_0_9  ...   \nstructure     [[3.00127234 2.34940087 5.4269553 ] Bi3+, [0.9...  ...  \\\nenergy                                              -360.779611  ...   \nforce         [[0.02714164, -0.01028083, 0.03362521], [0.025...  ...   \nstress        [[-1.975341412, 0.010532467, -0.00380604800000...  ...   \ncharge_state                                                0.0  ...   \n\n                                                 BiSI_vac_3_I_0   \n                                               BiSI_vac_3_I_0_9   \nstructure     [[1.06474125 3.20008223 3.86238877] Bi3+, [ 1....  \\\nenergy                                              -347.591459   \nforce         [[-0.00225108, -0.01744731, -0.01412228], [0.0...   \nstress        [[0.260954878, -0.019633911000000004, 0.001013...   \ncharge_state                                                0.0   \n\n                                                                  \n                                              BiSI_vac_3_I_0_10   \nstructure     [[1.06921291 3.1989865  3.85935785] Bi3+, [ 1....  \\\nenergy                                              -347.591763   \nforce         [[-0.00229769, -0.00495766, -0.00516805], [0.0...   \nstress        [[0.263782307, -0.022119496000000002, 0.001277...   \ncharge_state                                                0.0   \n\n                                                                  \n                                              BiSI_vac_3_I_0_11   \nstructure     [[1.06787676 3.1990505  3.85994259] Bi3+, [ 1....  \\\nenergy                                               -347.59188   \nforce         [[-0.00264662, -0.00210474, -0.00320065], [0.0...   \nstress        [[0.26129351100000003, -0.021822126, 0.0014414...   \ncharge_state                                                0.0   \n\n                                                                  \n                                              BiSI_vac_3_I_0_12   \nstructure     [[1.06386868 3.19924233 3.86169648] Bi3+, [ 1....  \\\nenergy                                              -347.592066   \nforce         [[-0.00302532, 0.00492659, 0.00023329], [0.003...   \nstress        [[0.26081747000000005, -0.021029699, 0.0018745...   \ncharge_state                                                0.0   \n\n                                                                  \n                                              BiSI_vac_3_I_0_13   \nstructure     [[1.06203263 3.19969514 3.86241673] Bi3+, [ 1....  \\\nenergy                                              -347.592276   \nforce         [[-0.00183112, 0.00198203, 0.00029212], [0.002...   \nstress        [[0.26067501800000004, -0.02120698, 0.00157574...   \ncharge_state                                                0.0   \n\n                                                                  \n                                              BiSI_vac_3_I_0_14   \nstructure     [[1.05879384 3.2004942  3.86368706] Bi3+, [ 1....  \\\nenergy                                              -347.592403   \nforce         [[0.00227096, 0.00084197, 0.00386464], [0.0005...   \nstress        [[0.2576231, -0.021571069000000002, 0.00089688...   \ncharge_state                                                0.0   \n\n                                                                  \n                                              BiSI_vac_3_I_0_15   \nstructure     [[1.05738643 3.2009036  3.86445019] Bi3+, [ 1....  \\\nenergy                                              -347.592538   \nforce         [[0.00270389, -0.00072989, 0.00046305], [-0.00...   \nstress        [[0.254552777, -0.021745745, 0.000646594], [-0...   \ncharge_state                                                0.0   \n\n                                                                  \n                                              BiSI_vac_3_I_0_16   \nstructure     [[1.05350019 3.20203415 3.86655707] Bi3+, [ 1....  \\\nenergy                                               -347.59266   \nforce         [[0.00562023, -0.00397949, -0.00521947], [-0.0...   \nstress        [[0.240984117, -0.022133796, -0.000328643], [-...   \ncharge_state                                                0.0   \n\n                                                                  \n                                              BiSI_vac_3_I_0_17   \nstructure     [[1.05440983 3.20176957 3.86606394] Bi3+, [ 1....  \\\nenergy                                              -347.592683   \nforce         [[0.00534799, -0.00450728, -0.00335818], [0.00...   \nstress        [[0.244229264, -0.022021449000000002, -0.00021...   \ncharge_state                                                0.0   \n\n                                                                 \n                                              BiSI_vac_3_I_0_18  \nstructure     [[1.05589807 3.2013365  3.86525701] Bi3+, [ 1....  \nenergy                                              -347.592671  \nforce         [[0.00616492, -0.00098103, -0.00304575], [-0.0...  \nstress        [[0.246749956, -0.021895744, 0.000218729000000...  \ncharge_state                                                0.0  \n\n[5 rows x 1182 columns]",
      "text/html": "<div>\n<style scoped>\n    .dataframe tbody tr th:only-of-type {\n        vertical-align: middle;\n    }\n\n    .dataframe tbody tr th {\n        vertical-align: top;\n    }\n\n    .dataframe thead tr th {\n        text-align: left;\n    }\n</style>\n<table border=\"1\" class=\"dataframe\">\n  <thead>\n    <tr>\n      <th></th>\n      <th colspan=\"10\" halign=\"left\">BiSBr_as_1_Bi_on_S_0</th>\n      <th>...</th>\n      <th colspan=\"10\" halign=\"left\">BiSI_vac_3_I_0</th>\n    </tr>\n    <tr>\n      <th></th>\n      <th>BiSBr_as_1_Bi_on_S_0_0</th>\n      <th>BiSBr_as_1_Bi_on_S_0_1</th>\n      <th>BiSBr_as_1_Bi_on_S_0_2</th>\n      <th>BiSBr_as_1_Bi_on_S_0_3</th>\n      <th>BiSBr_as_1_Bi_on_S_0_4</th>\n      <th>BiSBr_as_1_Bi_on_S_0_5</th>\n      <th>BiSBr_as_1_Bi_on_S_0_6</th>\n      <th>BiSBr_as_1_Bi_on_S_0_7</th>\n      <th>BiSBr_as_1_Bi_on_S_0_8</th>\n      <th>BiSBr_as_1_Bi_on_S_0_9</th>\n      <th>...</th>\n      <th>BiSI_vac_3_I_0_9</th>\n      <th>BiSI_vac_3_I_0_10</th>\n      <th>BiSI_vac_3_I_0_11</th>\n      <th>BiSI_vac_3_I_0_12</th>\n      <th>BiSI_vac_3_I_0_13</th>\n      <th>BiSI_vac_3_I_0_14</th>\n      <th>BiSI_vac_3_I_0_15</th>\n      <th>BiSI_vac_3_I_0_16</th>\n      <th>BiSI_vac_3_I_0_17</th>\n      <th>BiSI_vac_3_I_0_18</th>\n    </tr>\n  </thead>\n  <tbody>\n    <tr>\n      <th>structure</th>\n      <td>[[2.97958563 2.32358318 5.42154828] Bi3+, [0.8...</td>\n      <td>[[2.98097652 2.32418305 5.42250786] Bi3+, [0.8...</td>\n      <td>[[2.9851492  2.32598249 5.4253864 ] Bi3+, [0.8...</td>\n      <td>[[2.99349468 2.32958154 5.43114348] Bi3+, [0.8...</td>\n      <td>[[2.98802546 2.32722299 5.42737065] Bi3+, [0.8...</td>\n      <td>[[2.98996737 2.33020912 5.42707484] Bi3+, [0.8...</td>\n      <td>[[2.9957932  2.33916767 5.4261875 ] Bi3+, [0.8...</td>\n      <td>[[2.99709059 2.34116287 5.42598992] Bi3+, [0.8...</td>\n      <td>[[2.99910495 2.34513122 5.42645495] Bi3+, [0.9...</td>\n      <td>[[3.00127234 2.34940087 5.4269553 ] Bi3+, [0.9...</td>\n      <td>...</td>\n      <td>[[1.06474125 3.20008223 3.86238877] Bi3+, [ 1....</td>\n      <td>[[1.06921291 3.1989865  3.85935785] Bi3+, [ 1....</td>\n      <td>[[1.06787676 3.1990505  3.85994259] Bi3+, [ 1....</td>\n      <td>[[1.06386868 3.19924233 3.86169648] Bi3+, [ 1....</td>\n      <td>[[1.06203263 3.19969514 3.86241673] Bi3+, [ 1....</td>\n      <td>[[1.05879384 3.2004942  3.86368706] Bi3+, [ 1....</td>\n      <td>[[1.05738643 3.2009036  3.86445019] Bi3+, [ 1....</td>\n      <td>[[1.05350019 3.20203415 3.86655707] Bi3+, [ 1....</td>\n      <td>[[1.05440983 3.20176957 3.86606394] Bi3+, [ 1....</td>\n      <td>[[1.05589807 3.2013365  3.86525701] Bi3+, [ 1....</td>\n    </tr>\n    <tr>\n      <th>energy</th>\n      <td>-360.760545</td>\n      <td>-360.763442</td>\n      <td>-360.768975</td>\n      <td>-360.766246</td>\n      <td>-360.770153</td>\n      <td>-360.772518</td>\n      <td>-360.776215</td>\n      <td>-360.776379</td>\n      <td>-360.778366</td>\n      <td>-360.779611</td>\n      <td>...</td>\n      <td>-347.591459</td>\n      <td>-347.591763</td>\n      <td>-347.59188</td>\n      <td>-347.592066</td>\n      <td>-347.592276</td>\n      <td>-347.592403</td>\n      <td>-347.592538</td>\n      <td>-347.59266</td>\n      <td>-347.592683</td>\n      <td>-347.592671</td>\n    </tr>\n    <tr>\n      <th>force</th>\n      <td>[[0.07207828, 0.0310842, 0.04972352], [-0.0055...</td>\n      <td>[[0.06486033, 0.03654152, 0.0371568], [0.00147...</td>\n      <td>[[0.03532649, 0.05397151, -0.00280999], [0.019...</td>\n      <td>[[-0.01159648, 0.08372168, -0.07333601], [0.05...</td>\n      <td>[[0.02034077, 0.06407088, -0.02805642], [0.032...</td>\n      <td>[[0.01561428, 0.05459537, -0.01997754], [0.030...</td>\n      <td>[[0.0070201, 0.02717547, 0.00706469], [0.02906...</td>\n      <td>[[0.00456369, 0.01994466, 0.01076315], [0.0294...</td>\n      <td>[[0.01311377, 0.0108779, 0.02011294], [0.02765...</td>\n      <td>[[0.02714164, -0.01028083, 0.03362521], [0.025...</td>\n      <td>...</td>\n      <td>[[-0.00225108, -0.01744731, -0.01412228], [0.0...</td>\n      <td>[[-0.00229769, -0.00495766, -0.00516805], [0.0...</td>\n      <td>[[-0.00264662, -0.00210474, -0.00320065], [0.0...</td>\n      <td>[[-0.00302532, 0.00492659, 0.00023329], [0.003...</td>\n      <td>[[-0.00183112, 0.00198203, 0.00029212], [0.002...</td>\n      <td>[[0.00227096, 0.00084197, 0.00386464], [0.0005...</td>\n      <td>[[0.00270389, -0.00072989, 0.00046305], [-0.00...</td>\n      <td>[[0.00562023, -0.00397949, -0.00521947], [-0.0...</td>\n      <td>[[0.00534799, -0.00450728, -0.00335818], [0.00...</td>\n      <td>[[0.00616492, -0.00098103, -0.00304575], [-0.0...</td>\n    </tr>\n    <tr>\n      <th>stress</th>\n      <td>[[-2.1208515980000002, 0.010806431, -0.0143243...</td>\n      <td>[[-2.1110432200000004, 0.010463909, -0.0126552...</td>\n      <td>[[-2.0844480300000003, 0.009275477, -0.0078117...</td>\n      <td>[[-2.035588583, 0.007574436, 0.001602463000000...</td>\n      <td>[[-2.06438167, 0.008902324000000001, -0.004132...</td>\n      <td>[[-2.040863056, 0.008602743000000001, -0.00327...</td>\n      <td>[[-1.9787528900000002, 0.008207387, -0.0001403...</td>\n      <td>[[-1.965631174, 0.008343637, 0.000813288000000...</td>\n      <td>[[-1.9737114, 0.009291921, -0.0013492830000000...</td>\n      <td>[[-1.975341412, 0.010532467, -0.00380604800000...</td>\n      <td>...</td>\n      <td>[[0.260954878, -0.019633911000000004, 0.001013...</td>\n      <td>[[0.263782307, -0.022119496000000002, 0.001277...</td>\n      <td>[[0.26129351100000003, -0.021822126, 0.0014414...</td>\n      <td>[[0.26081747000000005, -0.021029699, 0.0018745...</td>\n      <td>[[0.26067501800000004, -0.02120698, 0.00157574...</td>\n      <td>[[0.2576231, -0.021571069000000002, 0.00089688...</td>\n      <td>[[0.254552777, -0.021745745, 0.000646594], [-0...</td>\n      <td>[[0.240984117, -0.022133796, -0.000328643], [-...</td>\n      <td>[[0.244229264, -0.022021449000000002, -0.00021...</td>\n      <td>[[0.246749956, -0.021895744, 0.000218729000000...</td>\n    </tr>\n    <tr>\n      <th>charge_state</th>\n      <td>0.0</td>\n      <td>0.0</td>\n      <td>0.0</td>\n      <td>0.0</td>\n      <td>0.0</td>\n      <td>0.0</td>\n      <td>0.0</td>\n      <td>0.0</td>\n      <td>0.0</td>\n      <td>0.0</td>\n      <td>...</td>\n      <td>0.0</td>\n      <td>0.0</td>\n      <td>0.0</td>\n      <td>0.0</td>\n      <td>0.0</td>\n      <td>0.0</td>\n      <td>0.0</td>\n      <td>0.0</td>\n      <td>0.0</td>\n      <td>0.0</td>\n    </tr>\n  </tbody>\n</table>\n<p>5 rows × 1182 columns</p>\n</div>"
     },
     "execution_count": 5,
     "metadata": {},
     "output_type": "execute_result"
    }
   ],
   "source": [
    "# Clone (copy) the DataFrame\n",
    "#m3gnet_dataset = source_m3gnet_dataset.copy()\n",
    "\n",
    "# Remove the outer (top-level) column index up to depth-1 level\n",
    "for i in range(depth):\n",
    "    m3gnet_dataset.columns = m3gnet_dataset.columns.droplevel(0)\n",
    "m3gnet_dataset"
   ],
   "metadata": {
    "collapsed": false,
    "ExecuteTime": {
     "end_time": "2024-09-18T08:40:03.969405212Z",
     "start_time": "2024-09-18T08:40:03.634160193Z"
    }
   },
   "id": "a7e3fefe39059077",
   "execution_count": 5
  },
  {
   "cell_type": "markdown",
   "source": [
    "### Splitting into train-validation-test sets"
   ],
   "metadata": {
    "collapsed": false
   },
   "id": "2b994f357ff9868e"
  },
  {
   "cell_type": "code",
   "outputs": [
    {
     "ename": "KeyError",
     "evalue": "\"['BiSI_as_1_I_on_Bi_2' 'BiSI_as_2_Bi_on_I_2' 'BiSI_as_1_S_on_Bi_4'\\n 'BiSI_vac_2_S_1' 'BiSI_vac_1_Bi_3' 'BiSI_as_2_Bi_on_I_1'\\n 'BiSI_as_2_I_on_S_2' 'BiSBr_as_1_Bi_on_S_2' 'BiSBr_as_1_S_on_Bi_-1'\\n 'BiSI_as_2_Bi_on_I_-1' 'BiSBr_as_1_Br_on_Bi_-2' 'BiSBr_vac_1_Bi_-1'\\n 'BiSI_vac_2_S_2' 'BiSBr_as_1_S_on_Bi_2' 'BiSBr_as_2_S_on_Br_2'\\n 'BiSBr_vac_1_Bi_2' 'BiSI_as_2_S_on_I_-1' 'BiSI_vac_1_Bi_-3'\\n 'BiSI_as_2_I_on_S_1' 'BiSBr_as_1_S_on_Bi_-2' 'BiSI_as_1_Bi_on_S_3'\\n 'BiSI_as_1_S_on_Bi_-2'] not in index\"",
     "output_type": "error",
     "traceback": [
      "\u001B[0;31m---------------------------------------------------------------------------\u001B[0m",
      "\u001B[0;31mKeyError\u001B[0m                                  Traceback (most recent call last)",
      "Cell \u001B[0;32mIn[6], line 34\u001B[0m\n\u001B[1;32m     31\u001B[0m     np\u001B[38;5;241m.\u001B[39msavetxt(path_to_train_labels,      train_labels,      fmt\u001B[38;5;241m=\u001B[39m\u001B[38;5;124m'\u001B[39m\u001B[38;5;132;01m%s\u001B[39;00m\u001B[38;5;124m'\u001B[39m)\n\u001B[1;32m     33\u001B[0m \u001B[38;5;66;03m# Use the loaded/computed labels to generate split datasets\u001B[39;00m\n\u001B[0;32m---> 34\u001B[0m test_dataset       \u001B[38;5;241m=\u001B[39m \u001B[43mm3gnet_dataset\u001B[49m\u001B[43m[\u001B[49m\u001B[43mtest_labels\u001B[49m\u001B[43m]\u001B[49m\n\u001B[1;32m     35\u001B[0m validation_dataset \u001B[38;5;241m=\u001B[39m m3gnet_dataset[validation_labels]\n\u001B[1;32m     36\u001B[0m train_dataset      \u001B[38;5;241m=\u001B[39m m3gnet_dataset[train_labels]\n",
      "File \u001B[0;32m~/Work/UCL/m3gnet/venv/lib/python3.11/site-packages/pandas/core/frame.py:3767\u001B[0m, in \u001B[0;36mDataFrame.__getitem__\u001B[0;34m(self, key)\u001B[0m\n\u001B[1;32m   3765\u001B[0m     \u001B[38;5;28;01mif\u001B[39;00m is_iterator(key):\n\u001B[1;32m   3766\u001B[0m         key \u001B[38;5;241m=\u001B[39m \u001B[38;5;28mlist\u001B[39m(key)\n\u001B[0;32m-> 3767\u001B[0m     indexer \u001B[38;5;241m=\u001B[39m \u001B[38;5;28;43mself\u001B[39;49m\u001B[38;5;241;43m.\u001B[39;49m\u001B[43mcolumns\u001B[49m\u001B[38;5;241;43m.\u001B[39;49m\u001B[43m_get_indexer_strict\u001B[49m\u001B[43m(\u001B[49m\u001B[43mkey\u001B[49m\u001B[43m,\u001B[49m\u001B[43m \u001B[49m\u001B[38;5;124;43m\"\u001B[39;49m\u001B[38;5;124;43mcolumns\u001B[39;49m\u001B[38;5;124;43m\"\u001B[39;49m\u001B[43m)\u001B[49m[\u001B[38;5;241m1\u001B[39m]\n\u001B[1;32m   3769\u001B[0m \u001B[38;5;66;03m# take() does not accept boolean indexers\u001B[39;00m\n\u001B[1;32m   3770\u001B[0m \u001B[38;5;28;01mif\u001B[39;00m \u001B[38;5;28mgetattr\u001B[39m(indexer, \u001B[38;5;124m\"\u001B[39m\u001B[38;5;124mdtype\u001B[39m\u001B[38;5;124m\"\u001B[39m, \u001B[38;5;28;01mNone\u001B[39;00m) \u001B[38;5;241m==\u001B[39m \u001B[38;5;28mbool\u001B[39m:\n",
      "File \u001B[0;32m~/Work/UCL/m3gnet/venv/lib/python3.11/site-packages/pandas/core/indexes/multi.py:2536\u001B[0m, in \u001B[0;36mMultiIndex._get_indexer_strict\u001B[0;34m(self, key, axis_name)\u001B[0m\n\u001B[1;32m   2533\u001B[0m \u001B[38;5;28;01mif\u001B[39;00m \u001B[38;5;28mlen\u001B[39m(keyarr) \u001B[38;5;129;01mand\u001B[39;00m \u001B[38;5;129;01mnot\u001B[39;00m \u001B[38;5;28misinstance\u001B[39m(keyarr[\u001B[38;5;241m0\u001B[39m], \u001B[38;5;28mtuple\u001B[39m):\n\u001B[1;32m   2534\u001B[0m     indexer \u001B[38;5;241m=\u001B[39m \u001B[38;5;28mself\u001B[39m\u001B[38;5;241m.\u001B[39m_get_indexer_level_0(keyarr)\n\u001B[0;32m-> 2536\u001B[0m     \u001B[38;5;28;43mself\u001B[39;49m\u001B[38;5;241;43m.\u001B[39;49m\u001B[43m_raise_if_missing\u001B[49m\u001B[43m(\u001B[49m\u001B[43mkey\u001B[49m\u001B[43m,\u001B[49m\u001B[43m \u001B[49m\u001B[43mindexer\u001B[49m\u001B[43m,\u001B[49m\u001B[43m \u001B[49m\u001B[43maxis_name\u001B[49m\u001B[43m)\u001B[49m\n\u001B[1;32m   2537\u001B[0m     \u001B[38;5;28;01mreturn\u001B[39;00m \u001B[38;5;28mself\u001B[39m[indexer], indexer\n\u001B[1;32m   2539\u001B[0m \u001B[38;5;28;01mreturn\u001B[39;00m \u001B[38;5;28msuper\u001B[39m()\u001B[38;5;241m.\u001B[39m_get_indexer_strict(key, axis_name)\n",
      "File \u001B[0;32m~/Work/UCL/m3gnet/venv/lib/python3.11/site-packages/pandas/core/indexes/multi.py:2554\u001B[0m, in \u001B[0;36mMultiIndex._raise_if_missing\u001B[0;34m(self, key, indexer, axis_name)\u001B[0m\n\u001B[1;32m   2552\u001B[0m cmask \u001B[38;5;241m=\u001B[39m check \u001B[38;5;241m==\u001B[39m \u001B[38;5;241m-\u001B[39m\u001B[38;5;241m1\u001B[39m\n\u001B[1;32m   2553\u001B[0m \u001B[38;5;28;01mif\u001B[39;00m cmask\u001B[38;5;241m.\u001B[39many():\n\u001B[0;32m-> 2554\u001B[0m     \u001B[38;5;28;01mraise\u001B[39;00m \u001B[38;5;167;01mKeyError\u001B[39;00m(\u001B[38;5;124mf\u001B[39m\u001B[38;5;124m\"\u001B[39m\u001B[38;5;132;01m{\u001B[39;00mkeyarr[cmask]\u001B[38;5;132;01m}\u001B[39;00m\u001B[38;5;124m not in index\u001B[39m\u001B[38;5;124m\"\u001B[39m)\n\u001B[1;32m   2555\u001B[0m \u001B[38;5;66;03m# We get here when levels still contain values which are not\u001B[39;00m\n\u001B[1;32m   2556\u001B[0m \u001B[38;5;66;03m# actually in Index anymore\u001B[39;00m\n\u001B[1;32m   2557\u001B[0m \u001B[38;5;28;01mraise\u001B[39;00m \u001B[38;5;167;01mKeyError\u001B[39;00m(\u001B[38;5;124mf\u001B[39m\u001B[38;5;124m\"\u001B[39m\u001B[38;5;132;01m{\u001B[39;00mkeyarr\u001B[38;5;132;01m}\u001B[39;00m\u001B[38;5;124m not in index\u001B[39m\u001B[38;5;124m\"\u001B[39m)\n",
      "\u001B[0;31mKeyError\u001B[0m: \"['BiSI_as_1_I_on_Bi_2' 'BiSI_as_2_Bi_on_I_2' 'BiSI_as_1_S_on_Bi_4'\\n 'BiSI_vac_2_S_1' 'BiSI_vac_1_Bi_3' 'BiSI_as_2_Bi_on_I_1'\\n 'BiSI_as_2_I_on_S_2' 'BiSBr_as_1_Bi_on_S_2' 'BiSBr_as_1_S_on_Bi_-1'\\n 'BiSI_as_2_Bi_on_I_-1' 'BiSBr_as_1_Br_on_Bi_-2' 'BiSBr_vac_1_Bi_-1'\\n 'BiSI_vac_2_S_2' 'BiSBr_as_1_S_on_Bi_2' 'BiSBr_as_2_S_on_Br_2'\\n 'BiSBr_vac_1_Bi_2' 'BiSI_as_2_S_on_I_-1' 'BiSI_vac_1_Bi_-3'\\n 'BiSI_as_2_I_on_S_1' 'BiSBr_as_1_S_on_Bi_-2' 'BiSI_as_1_Bi_on_S_3'\\n 'BiSI_as_1_S_on_Bi_-2'] not in index\""
     ]
    }
   ],
   "source": [
    "# Check if data has been already split, else do it randomly\n",
    "\n",
    "path_to_test_labels       = 'test_labels.txt'\n",
    "path_to_validation_labels = 'validation_labels.txt'\n",
    "path_to_train_labels      = 'train_labels.txt'\n",
    "\n",
    "if os.path.exists(path_to_test_labels) and os.path.exists(path_to_validation_labels) and os.path.exists(path_to_train_labels):\n",
    "    # Read labels splitting (which are strings)\n",
    "    test_labels       = np.genfromtxt(path_to_test_labels,       dtype='str').tolist()\n",
    "    validation_labels = np.genfromtxt(path_to_validation_labels, dtype='str').tolist()\n",
    "    train_labels      = np.genfromtxt(path_to_train_labels,      dtype='str').tolist()\n",
    "else:\n",
    "    # Define unique labels, wrt the outer column\n",
    "    unique_labels = np.unique(m3gnet_dataset.columns.get_level_values(0))\n",
    "\n",
    "    # Shuffle the list of unique labels\n",
    "    np.random.shuffle(unique_labels)\n",
    "\n",
    "    # Define the sizes of every set\n",
    "    # Corresponds to the size wrt the number of unique materials in the dataset\n",
    "    test_size       = int(test_ratio       * len(unique_labels))\n",
    "    validation_size = int(validation_ratio * len(unique_labels))\n",
    "\n",
    "    test_labels       = unique_labels[:test_size]\n",
    "    validation_labels = unique_labels[test_size:test_size+validation_size]\n",
    "    train_labels      = unique_labels[test_size+validation_size:]\n",
    "    \n",
    "    # Save this splitting for transfer-learning approaches\n",
    "    np.savetxt(path_to_test_labels,       test_labels,       fmt='%s')\n",
    "    np.savetxt(path_to_validation_labels, validation_labels, fmt='%s')\n",
    "    np.savetxt(path_to_train_labels,      train_labels,      fmt='%s')\n",
    "\n",
    "# Use the loaded/computed labels to generate split datasets\n",
    "test_dataset       = m3gnet_dataset[test_labels]\n",
    "validation_dataset = m3gnet_dataset[validation_labels]\n",
    "train_dataset      = m3gnet_dataset[train_labels]\n",
    "del m3gnet_dataset\n",
    "\n",
    "n_test       = np.shape(test_dataset)[1]\n",
    "n_validation = np.shape(validation_dataset)[1]\n",
    "n_train      = np.shape(train_dataset)[1]\n",
    "\n",
    "print(f'Using {n_train} samples to train, {n_validation} to evaluate, and {n_test} to test')"
   ],
   "metadata": {
    "collapsed": false,
    "ExecuteTime": {
     "end_time": "2024-09-18T08:40:04.350184255Z",
     "start_time": "2024-09-18T08:40:03.966595782Z"
    }
   },
   "id": "b2b0d5c0869ac35b",
   "execution_count": 6
  },
  {
   "cell_type": "markdown",
   "source": [
    "### Convert into graph database"
   ],
   "metadata": {
    "collapsed": false
   },
   "id": "5c23fdc4f757ea33"
  },
  {
   "cell_type": "code",
   "outputs": [],
   "source": [
    "all_data = []\n",
    "for i in range(3):  # Iterate over train-validation-test sets\n",
    "    name    = ['train', 'val', 'test'][i]\n",
    "    dataset = [train_dataset, validation_dataset, test_dataset][i]\n",
    "\n",
    "    # Extract data from dataset\n",
    "    structures    = dataset.loc['structure'].values.tolist()\n",
    "    element_types = get_element_list(structures)\n",
    "    converter     = Structure2Graph(element_types=element_types, cutoff=5.0)\n",
    "    \n",
    "    # Define data labels from dataset\n",
    "    if stress_weight == 0:\n",
    "        stresses = [np.zeros((3, 3)).tolist() for s in structures]\n",
    "    else:\n",
    "        stresses = dataset.loc['stress'].values.tolist()\n",
    "\n",
    "    labels = {\n",
    "        'energies': dataset.loc['energy'].values.tolist(),\n",
    "        'forces':   dataset.loc['force'].values.tolist(),\n",
    "        'stresses': stresses,\n",
    "    }\n",
    "    \n",
    "    # Generate dataset\n",
    "    data = M3GNetDataset(\n",
    "        filename=f'dgl_graph-{name}.bin',\n",
    "        filename_line_graph=f'dgl_line_graph-{name}.bin',\n",
    "        filename_state_attr=f'state_attr-{name}.pt',\n",
    "        filename_labels=f'labels-{name}.json',\n",
    "        threebody_cutoff=4.0,\n",
    "        structures=structures,\n",
    "        converter=converter,\n",
    "        labels=labels,\n",
    "        name=f'M3GNetDataset-{name}',\n",
    "    )\n",
    "    all_data.append(data)\n",
    "\n",
    "train_data, val_data, test_data = all_data\n",
    "del all_data, test_dataset, validation_dataset, train_dataset"
   ],
   "metadata": {
    "collapsed": false,
    "ExecuteTime": {
     "end_time": "2024-09-18T08:40:04.356504701Z",
     "start_time": "2024-09-18T08:40:04.351809315Z"
    }
   },
   "id": "a83c727f09af2351",
   "execution_count": null
  },
  {
   "cell_type": "code",
   "outputs": [],
   "source": [
    "train_loader, val_loader, test_loader = MGLDataLoader(\n",
    "    train_data=train_data,\n",
    "    val_data=val_data,\n",
    "    test_data=test_data,\n",
    "    collate_fn=collate_fn_efs,\n",
    "    batch_size=batch_size,\n",
    "    num_workers=16,\n",
    "    pin_memory=False  # True for more rapid data transfer to GPU, pinning memory to RAM\n",
    ")\n",
    "del train_data, val_data, test_data"
   ],
   "metadata": {
    "collapsed": false,
    "ExecuteTime": {
     "start_time": "2024-09-18T08:40:04.353184380Z"
    }
   },
   "id": "d12af1f066e1a5fa",
   "execution_count": null
  },
  {
   "cell_type": "markdown",
   "source": [
    "# Retrain model"
   ],
   "metadata": {
    "collapsed": false
   },
   "id": "d85e5b3eed64b62e"
  },
  {
   "cell_type": "code",
   "outputs": [],
   "source": [
    "# Download a pre-trained M3GNet\n",
    "m3gnet_nnp       = matgl.load_model(model_load_path)\n",
    "model_pretrained = m3gnet_nnp.model\n",
    "\n",
    "# Stress and site-wise are added to training loss\n",
    "# Stresses are being computed (calc_stress=True)\n",
    "lit_module_finetune = PotentialLightningModule(model=model_pretrained,\n",
    "                                               stress_weight=stress_weight,\n",
    "                                               loss='mse_loss',\n",
    "                                               lr=lr)"
   ],
   "metadata": {
    "collapsed": false,
    "ExecuteTime": {
     "start_time": "2024-09-18T08:40:04.354613294Z"
    }
   },
   "id": "33c8bb3cf9c66427",
   "execution_count": null
  },
  {
   "cell_type": "code",
   "outputs": [],
   "source": [
    "# If you wish to disable GPU or MPS (M1 mac) training, use the accelerator='cpu' kwarg.\n",
    "# accelerator='auto' selects the appropriate Accelerator\n",
    "logger  = CSVLogger('logs',\n",
    "                    name='M3GNet_finetuning')\n",
    "\n",
    "trainer = pl.Trainer(max_epochs=max_epochs,\n",
    "                     accelerator='auto',\n",
    "                     logger=logger,\n",
    "                     inference_mode=False)\n",
    "\n",
    "trainer.fit(model=lit_module_finetune,\n",
    "            train_dataloaders=train_loader,\n",
    "            val_dataloaders=val_loader\n",
    "           )\n",
    "\n",
    "# Save trained model\n",
    "lit_module_finetune.model.save(model_save_path)"
   ],
   "metadata": {
    "collapsed": false,
    "ExecuteTime": {
     "start_time": "2024-09-18T08:40:04.356190705Z"
    }
   },
   "id": "2ea8bc35a28e91c8",
   "execution_count": null
  },
  {
   "cell_type": "markdown",
   "source": [
    "# Analyze metrics"
   ],
   "metadata": {
    "collapsed": false
   },
   "id": "ef9e163c70f7bcc9"
  },
  {
   "cell_type": "code",
   "outputs": [],
   "source": [
    "# E_MAE = meV/atom, F_MAE = eV/A, S_MAE = GPa\n",
    "trainer.test(model=lit_module_finetune,\n",
    "            dataloaders=test_loader\n",
    "           )"
   ],
   "metadata": {
    "collapsed": false,
    "ExecuteTime": {
     "start_time": "2024-09-18T08:40:04.357729003Z"
    }
   },
   "id": "5a9f0ad509b5b499",
   "execution_count": null
  },
  {
   "cell_type": "code",
   "outputs": [],
   "source": [
    "import pandas as pd"
   ],
   "metadata": {
    "collapsed": false,
    "ExecuteTime": {
     "start_time": "2024-09-18T08:40:04.359150449Z"
    }
   },
   "id": "fbd88415072ab1ab",
   "execution_count": null
  },
  {
   "cell_type": "code",
   "outputs": [],
   "source": [
    "current_version = 0\n",
    "# Read the CSV file\n",
    "path_to_csv = f'logs/M3GNet_finetuning/version_{current_version}'\n",
    "df = pd.read_csv(f'{path_to_csv}/metrics.csv')\n",
    "df.head()"
   ],
   "metadata": {
    "collapsed": false,
    "ExecuteTime": {
     "start_time": "2024-09-18T08:40:04.360253759Z"
    }
   },
   "id": "9ea916d30e0e4102",
   "execution_count": null
  },
  {
   "cell_type": "code",
   "execution_count": null,
   "id": "a3134249",
   "metadata": {
    "scrolled": true,
    "ExecuteTime": {
     "start_time": "2024-09-18T08:40:04.372752859Z"
    }
   },
   "outputs": [],
   "source": [
    "# NaN to zero\n",
    "df = df.fillna(0)\n",
    "\n",
    "# Calculate the sum of every two consecutive rows\n",
    "df = df.groupby(df.index // 2).sum()\n",
    "df.head()"
   ]
  },
  {
   "cell_type": "code",
   "execution_count": null,
   "id": "643704df",
   "metadata": {
    "ExecuteTime": {
     "start_time": "2024-09-18T08:40:04.372923481Z"
    }
   },
   "outputs": [],
   "source": [
    "# Get the list of loss column names\n",
    "loss_columns = [col for col in df.columns if col.startswith('val_') or col.startswith('train_')]\n",
    "\n",
    "# Create a figure and axis\n",
    "fig = plt.subplots(figsize=(10, 6))\n",
    "\n",
    "# Plot each loss\n",
    "for loss_column in loss_columns:\n",
    "    plt.plot(df.index, np.log(df[loss_column]), label=loss_column)\n",
    "\n",
    "plt.xlabel('Epoch')\n",
    "plt.ylabel('Loss')\n",
    "plt.legend(loc=(1.01, 0))\n",
    "plt.savefig(f'm3gnet_loss.eps', dpi=dpi, bbox_inches='tight')\n",
    "plt.show()"
   ]
  },
  {
   "cell_type": "code",
   "execution_count": null,
   "id": "9d85d562",
   "metadata": {
    "ExecuteTime": {
     "start_time": "2024-09-18T08:40:04.373036417Z"
    }
   },
   "outputs": [],
   "source": [
    "df['val_Energy_MAE'].iloc[-2], df['val_Force_MAE'].iloc[-2], df['val_Stress_MAE'].iloc[-2]"
   ]
  },
  {
   "cell_type": "code",
   "execution_count": null,
   "id": "bc01f877",
   "metadata": {
    "ExecuteTime": {
     "start_time": "2024-09-18T08:40:04.373114130Z"
    }
   },
   "outputs": [],
   "source": [
    "df['val_Energy_MAE'].iloc[-1], df['val_Force_MAE'].iloc[-1], df['val_Stress_MAE'].iloc[-1]"
   ]
  },
  {
   "cell_type": "markdown",
   "id": "d8e76beb",
   "metadata": {},
   "source": [
    "# Cleanup the notebook"
   ]
  },
  {
   "cell_type": "code",
   "execution_count": 19,
   "id": "a7147751",
   "metadata": {
    "ExecuteTime": {
     "end_time": "2024-07-23T19:46:49.077033631Z",
     "start_time": "2024-07-23T19:46:48.828836849Z"
    }
   },
   "outputs": [
    {
     "ename": "NameError",
     "evalue": "name 'glob' is not defined",
     "output_type": "error",
     "traceback": [
      "\u001B[0;31m---------------------------------------------------------------------------\u001B[0m",
      "\u001B[0;31mNameError\u001B[0m                                 Traceback (most recent call last)",
      "Cell \u001B[0;32mIn[19], line 5\u001B[0m\n\u001B[1;32m      3\u001B[0m patterns \u001B[38;5;241m=\u001B[39m [\u001B[38;5;124m'\u001B[39m\u001B[38;5;124mdgl_graph*.bin\u001B[39m\u001B[38;5;124m'\u001B[39m, \u001B[38;5;124m'\u001B[39m\u001B[38;5;124mdgl_line_graph*.bin\u001B[39m\u001B[38;5;124m'\u001B[39m, \u001B[38;5;124m'\u001B[39m\u001B[38;5;124mstate_attr*.pt\u001B[39m\u001B[38;5;124m'\u001B[39m, \u001B[38;5;124m'\u001B[39m\u001B[38;5;124mlabels*.json\u001B[39m\u001B[38;5;124m'\u001B[39m, \u001B[38;5;124m'\u001B[39m\u001B[38;5;124m*labels.txt\u001B[39m\u001B[38;5;124m'\u001B[39m]\n\u001B[1;32m      4\u001B[0m \u001B[38;5;28;01mfor\u001B[39;00m pattern \u001B[38;5;129;01min\u001B[39;00m patterns:\n\u001B[0;32m----> 5\u001B[0m     files \u001B[38;5;241m=\u001B[39m \u001B[43mglob\u001B[49m\u001B[38;5;241m.\u001B[39mglob(pattern)\n\u001B[1;32m      6\u001B[0m     \u001B[38;5;28;01mfor\u001B[39;00m file \u001B[38;5;129;01min\u001B[39;00m files:\n\u001B[1;32m      7\u001B[0m         \u001B[38;5;28;01mtry\u001B[39;00m:\n",
      "\u001B[0;31mNameError\u001B[0m: name 'glob' is not defined"
     ]
    }
   ],
   "source": [
    "# This code just performs cleanup for this notebook from temporal files\n",
    "\n",
    "patterns = ['dgl_graph*.bin', 'dgl_line_graph*.bin', 'state_attr*.pt', 'labels*.json', '*labels.txt']\n",
    "for pattern in patterns:\n",
    "    files = glob.glob(pattern)\n",
    "    for file in files:\n",
    "        try:\n",
    "            os.remove(file)\n",
    "        except FileNotFoundError:\n",
    "            pass\n",
    "\n",
    "#shutil.rmtree('logs')\n",
    "#shutil.rmtree('trained_model')\n",
    "#shutil.rmtree('finetuned_model')"
   ]
  }
 ],
 "metadata": {
  "kernelspec": {
   "display_name": "Python 3 (ipykernel)",
   "language": "python",
   "name": "python3"
  },
  "language_info": {
   "codemirror_mode": {
    "name": "ipython",
    "version": 3
   },
   "file_extension": ".py",
   "mimetype": "text/x-python",
   "name": "python",
   "nbconvert_exporter": "python",
   "pygments_lexer": "ipython3",
   "version": "3.10.12"
  }
 },
 "nbformat": 4,
 "nbformat_minor": 5
}
