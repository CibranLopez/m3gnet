{
 "cells": [
  {
   "cell_type": "code",
   "outputs": [],
   "source": [
    "import numpy             as np\n",
    "import pytorch_lightning as pl\n",
    "import ML_library        as MLL\n",
    "import matplotlib.pyplot as plt\n",
    "import matgl\n",
    "import os\n",
    "import warnings\n",
    "import torch\n",
    "import json\n",
    "\n",
    "from __future__                import annotations\n",
    "from pytorch_lightning.loggers import CSVLogger\n",
    "from matgl.ext.pymatgen        import Structure2Graph, get_element_list\n",
    "from matgl.graph.data          import M3GNetDataset, MGLDataLoader, collate_fn_efs\n",
    "from matgl.utils.training      import PotentialLightningModule\n",
    "\n",
    "# To suppress warnings for clearer output\n",
    "warnings.simplefilter('ignore')\n",
    "\n",
    "# Check if GPU is available\n",
    "device = torch.device('cuda' if torch.cuda.is_available() else 'cpu')\n",
    "device = torch.device('cpu')"
   ],
   "metadata": {
    "collapsed": false,
    "ExecuteTime": {
     "end_time": "2024-06-09T15:20:33.590684738Z",
     "start_time": "2024-06-09T15:20:31.523305458Z"
    }
   },
   "id": "ce15143c5a02981e",
   "execution_count": 1
  },
  {
   "cell_type": "code",
   "outputs": [
    {
     "data": {
      "text/plain": "device(type='cpu')"
     },
     "execution_count": 2,
     "metadata": {},
     "output_type": "execute_result"
    }
   ],
   "source": [
    "device"
   ],
   "metadata": {
    "collapsed": false,
    "ExecuteTime": {
     "end_time": "2024-06-09T15:20:33.594637946Z",
     "start_time": "2024-06-09T15:20:33.592145446Z"
    }
   },
   "id": "bdd19b6f63c722e4",
   "execution_count": 2
  },
  {
   "cell_type": "code",
   "outputs": [],
   "source": [
    "model_load_path = 'M3GNet-MP-2021.2.8-PES'\n",
    "model_save_path = 'finetuned_model'\n",
    "\n",
    "# Whether to include charge or not\n",
    "charged = False\n",
    "\n",
    "# 0: material, 1: charge state, 2: ionic step\n",
    "depth = 1\n",
    "\n",
    "# Define batch size\n",
    "batch_size = 128\n",
    "\n",
    "# Stress weight for training\n",
    "stress_weight = 0.7  # 0.7\n",
    "\n",
    "# Ratios for diving training data\n",
    "test_ratio       = 0.2\n",
    "validation_ratio = 0.2\n",
    "\n",
    "# Number of epoch for re-training\n",
    "max_epochs = 1000\n",
    "\n",
    "# Learning-rate for re-training\n",
    "lr = 1e-4\n",
    "\n",
    "dpi = 100\n",
    "\n",
    "# Version of training you specifically want to analyze\n",
    "current_version = 0\n",
    "\n",
    "# Each folder names a new column, and structure, energy, forces and stresses\n",
    "# of each ionic step are loaded\n",
    "\n",
    "# Path to dataset, structured as:\n",
    "# path_to_dataset\n",
    "#     material_i\n",
    "#         defect_i\n",
    "#             simulation_i (containing vasprun.xml)\n",
    "\n",
    "path_to_dataset = '/home/claudio/Desktop/defects/ssc'\n",
    "#path_to_dataset = '../../../Desktop/CeO2-data'\n",
    "\n",
    "# Create and save as a dictionary\n",
    "model_parameters = {\n",
    "    'model_load_path':  model_load_path,\n",
    "    'model_save_path':  model_save_path,\n",
    "    'charged':          charged,\n",
    "    'depth':            depth,\n",
    "    'batch_size':       batch_size,\n",
    "    'stress_weight':    stress_weight,\n",
    "    'test_ratio':       test_ratio,\n",
    "    'validation_ratio': validation_ratio,\n",
    "    'max_epochs':       max_epochs,\n",
    "    'lr':               lr,\n",
    "    'path_to_dataset':  path_to_dataset,\n",
    "}\n",
    "\n",
    "# Write the dictionary to the file in JSON format\n",
    "with open(f'{model_save_path}/model_parameters.json', 'w') as json_file:\n",
    "    json.dump(model_parameters, json_file)"
   ],
   "metadata": {
    "collapsed": false,
    "ExecuteTime": {
     "end_time": "2024-06-09T15:20:37.703401411Z",
     "start_time": "2024-06-09T15:20:37.698606628Z"
    }
   },
   "id": "56f45e08761d9b85",
   "execution_count": 3
  },
  {
   "cell_type": "markdown",
   "source": [
    "# Load simulation data"
   ],
   "metadata": {
    "collapsed": false
   },
   "id": "b9ab721d6803aea7"
  },
  {
   "cell_type": "code",
   "outputs": [
    {
     "name": "stdout",
     "output_type": "stream",
     "text": [
      "\n",
      "BiSeBr\n",
      "\tsupercell\n",
      "\tvac_1_Bi_-1\n",
      "\tvac_1_Bi_-2\n",
      "\tvac_1_Bi_-3\n",
      "\tvac_1_Bi_0\n",
      "Error: vasprun not correctly loaded.\n",
      "\tvac_1_Bi_1\n",
      "\tvac_1_Bi_2\n",
      "\tvac_1_Bi_3\n",
      "\tvac_2_Se_-1\n",
      "Error: vasprun not correctly loaded.\n",
      "\tvac_2_Se_-2\n",
      "\tvac_2_Se_0\n",
      "\tvac_2_Se_1\n",
      "Error: vasprun not correctly loaded.\n",
      "\tvac_2_Se_2\n",
      "\tvac_3_Br_-1\n",
      "\tvac_3_Br_0\n",
      "\tvac_3_Br_1\n",
      "Error: vasprun not correctly loaded.\n",
      "\n",
      "BiSI\n",
      "\tas_1_Bi_on_S_-1\n",
      "Error: vasprun not correctly loaded.\n",
      "Error: vasprun not correctly loaded.\n",
      "\tas_1_Bi_on_S_-2\n",
      "\tas_1_Bi_on_S_0\n",
      "Error: vasprun not correctly loaded.\n",
      "Error: vasprun not correctly loaded.\n",
      "\tas_1_Bi_on_S_1\n",
      "Error: vasprun not correctly loaded.\n",
      "\tas_1_Bi_on_S_2\n",
      "Error: vasprun not correctly loaded.\n",
      "Error: vasprun not correctly loaded.\n",
      "\tas_1_Bi_on_S_3\n",
      "Error: vasprun not correctly loaded.\n",
      "Error: vasprun not correctly loaded.\n",
      "\tas_1_Bi_on_S_4\n",
      "\tas_1_Bi_on_S_5\n",
      "Error: vasprun not correctly loaded.\n",
      "Error: vasprun not correctly loaded.\n",
      "\tas_1_I_on_Bi_-1\n",
      "Error: vasprun not correctly loaded.\n",
      "Error: vasprun not correctly loaded.\n",
      "\tas_1_I_on_Bi_-2\n",
      "Error: vasprun not correctly loaded.\n",
      "Error: vasprun not correctly loaded.\n",
      "\tas_1_I_on_Bi_0\n",
      "\tas_1_I_on_Bi_1\n",
      "Error: vasprun not correctly loaded.\n",
      "Error: vasprun not correctly loaded.\n",
      "\tas_1_I_on_Bi_2\n",
      "Error: vasprun not correctly loaded.\n",
      "Error: vasprun not correctly loaded.\n",
      "\tas_1_I_on_Bi_3\n",
      "Error: vasprun not correctly loaded.\n",
      "Error: vasprun not correctly loaded.\n",
      "\tas_1_I_on_Bi_4\n",
      "Error: vasprun not correctly loaded.\n",
      "Error: vasprun not correctly loaded.\n",
      "\tas_1_I_on_Bi_5\n",
      "Error: vasprun not correctly loaded.\n",
      "Error: vasprun not correctly loaded.\n",
      "\tas_1_S_on_Bi_-1\n",
      "Error: vasprun not correctly loaded.\n",
      "\tas_1_S_on_Bi_-2\n",
      "\tas_1_S_on_Bi_0\n",
      "Error: vasprun not correctly loaded.\n",
      "Error: vasprun not correctly loaded.\n",
      "\tas_1_S_on_Bi_1\n",
      "Error: vasprun not correctly loaded.\n",
      "Error: vasprun not correctly loaded.\n",
      "\tas_1_S_on_Bi_2\n",
      "Error: vasprun not correctly loaded.\n",
      "\tas_1_S_on_Bi_3\n",
      "Error: vasprun not correctly loaded.\n",
      "\tas_1_S_on_Bi_4\n",
      "Error: vasprun not correctly loaded.\n",
      "Error: vasprun not correctly loaded.\n",
      "\tas_1_S_on_Bi_5\n",
      "\tas_2_Bi_on_I_-1\n",
      "Error: vasprun not correctly loaded.\n",
      "\tas_2_Bi_on_I_-2\n",
      "Error: vasprun not correctly loaded.\n",
      "Error: vasprun not correctly loaded.\n",
      "\tas_2_Bi_on_I_0\n",
      "\tas_2_Bi_on_I_1\n",
      "Error: vasprun not correctly loaded.\n",
      "\tas_2_Bi_on_I_2\n",
      "Error: vasprun not correctly loaded.\n",
      "\tas_2_Bi_on_I_3\n",
      "Error: vasprun not correctly loaded.\n",
      "\tas_2_Bi_on_I_4\n",
      "Error: vasprun not correctly loaded.\n",
      "\tas_2_Bi_on_I_5\n",
      "Error: vasprun not correctly loaded.\n",
      "\tas_2_I_on_S_-1\n",
      "Error: vasprun not correctly loaded.\n",
      "Error: vasprun not correctly loaded.\n",
      "\tas_2_I_on_S_-2\n",
      "Error: vasprun not correctly loaded.\n",
      "\tas_2_I_on_S_0\n",
      "Error: vasprun not correctly loaded.\n",
      "\tas_2_I_on_S_1\n",
      "Error: vasprun not correctly loaded.\n",
      "Error: vasprun not correctly loaded.\n",
      "\tas_2_I_on_S_2\n",
      "Error: vasprun not correctly loaded.\n",
      "\tas_2_I_on_S_3\n",
      "Error: vasprun not correctly loaded.\n",
      "\tas_2_I_on_S_4\n",
      "Error: vasprun not correctly loaded.\n",
      "\tas_2_I_on_S_5\n",
      "Error: vasprun not correctly loaded.\n",
      "\tas_2_S_on_I_-1\n",
      "\tas_2_S_on_I_-2\n",
      "Error: vasprun not correctly loaded.\n",
      "\tas_2_S_on_I_0\n",
      "\tas_2_S_on_I_1\n",
      "Error: vasprun not correctly loaded.\n",
      "\tas_2_S_on_I_2\n",
      "Error: vasprun not correctly loaded.\n",
      "Error: vasprun not correctly loaded.\n",
      "\tas_2_S_on_I_3\n",
      "Error: vasprun not correctly loaded.\n",
      "\tas_2_S_on_I_4\n",
      "\tsupercell\n",
      "Error: vasprun not correctly loaded.\n",
      "\tvac_1_Bi_-1\n",
      "\tvac_1_Bi_-2\n",
      "\tvac_1_Bi_-3\n",
      "\tvac_1_Bi_0\n",
      "\tvac_1_Bi_1\n",
      "\tvac_1_Bi_2\n",
      "Error: vasprun not correctly loaded.\n",
      "\tvac_1_Bi_3\n",
      "Error: vasprun not correctly loaded.\n",
      "\tvac_2_S_-1\n",
      "Error: vasprun not correctly loaded.\n",
      "\tvac_2_S_-2\n",
      "\tvac_2_S_0\n",
      "\tvac_2_S_1\n",
      "Error: vasprun not correctly loaded.\n",
      "\tvac_2_S_2\n",
      "\tvac_3_I_-1\n",
      "\tvac_3_I_0\n",
      "Error: vasprun not correctly loaded.\n",
      "\tvac_3_I_1\n",
      "\n",
      "BiSeI\n",
      "\tas_1_Bi_on_Se_0\n",
      "\n",
      "BiSBr\n",
      "\tsupercell\n",
      "\tvac_1_Bi_-1\n",
      "\tvac_1_Bi_-2\n",
      "\tvac_1_Bi_-3\n",
      "\tvac_1_Bi_0\n",
      "\tvac_1_Bi_2\n",
      "\tvac_2_S_-2\n",
      "\tvac_2_S_1\n",
      "\tvac_2_S_2\n",
      "\tvac_3_Br_-1\n",
      "\tvac_3_Br_0\n",
      "\tvac_3_Br_1\n"
     ]
    },
    {
     "data": {
      "text/plain": "                                                         BiSeBr  \\\n                                               BiSeBr_supercell   \n                                             BiSeBr_supercell_0   \nstructure     [[1.05001087 3.25166915 3.74301984] Bi3+, [ 1....   \nenergy                                              -347.410039   \nforce         [[0.0002852, 0.01197281, 0.00288491], [0.00028...   \nstress        [[1.1762277810000001, -4.271e-06, 3.386e-05], ...   \ncharge_state                                                  0   \n\n                                                                 \\\n                                                                  \n                                             BiSeBr_supercell_1   \nstructure     [[1.05086705 3.16956193 3.85341756] Bi3+, [ 1....   \nenergy                                              -344.844627   \nforce         [[-0.00351882, -0.48819068, -1.01077981], [-0....   \nstress        [[0.274642989, 3.5750000000000005e-06, 0.00035...   \ncharge_state                                                  0   \n\n                                                                 \\\n                                                                  \n                                             BiSeBr_supercell_2   \nstructure     [[1.05068306 3.1240652  3.78580039] Bi3+, [ 1....   \nenergy                                              -346.648057   \nforce         [[-0.00234526, 0.3603497, -0.05229271], [-0.00...   \nstress        [[2.015627935, 1.66e-07, 0.0002331870000000000...   \ncharge_state                                                  0   \n\n                                                                 \\\n                                                                  \n                                             BiSeBr_supercell_3   \nstructure     [[1.05069708 3.12754335 3.79096958] Bi3+, [ 1....   \nenergy                                              -346.663764   \nforce         [[-0.00234495, 0.31114309, -0.1159538], [-0.00...   \nstress        [[1.9108666520000002, 1.827e-06, 0.00024239900...   \ncharge_state                                                  0   \n\n                                                                 \\\n                                                                  \n                                             BiSeBr_supercell_4   \nstructure     [[1.05069973 3.12819108 3.79193238] Bi3+, [ 1....   \nenergy                                              -346.664183   \nforce         [[-0.00235177, 0.30193579, -0.12787169], [-0.0...   \nstress        [[1.8914506410000003, 1.5610000000000002e-06, ...   \ncharge_state                                                  0   \n\n                                                                 \\\n                                                                  \n                                             BiSeBr_supercell_5   \nstructure     [[1.05063149 3.13566626 3.78714785] Bi3+, [ 1....   \nenergy                                              -346.778365   \nforce         [[-0.00204809, 0.2692877, -0.08873734], [-0.00...   \nstress        [[1.9003650810000001, 1.528e-06, 0.00022538200...   \ncharge_state                                                  0   \n\n                                                                 \\\n                                                                  \n                                             BiSeBr_supercell_6   \nstructure     [[1.05042676 3.15809145 3.77279414] Bi3+, [ 1....   \nenergy                                              -347.013246   \nforce         [[-0.0010447, 0.16530022, 0.02586162], [-0.001...   \nstress        [[1.883242679, 5.86e-07, 0.000177014], [6.4e-0...   \ncharge_state                                                  0   \n\n                                                                 \\\n                                                                  \n                                             BiSeBr_supercell_7   \nstructure     [[1.05001718 3.20294185 3.74408661] Bi3+, [ 1....   \nenergy                                              -346.965799   \nforce         [[0.00128788, -0.08549818, 0.2541151], [0.0012...   \nstress        [[1.647880025, -1.5650000000000003e-06, 0.0001...   \ncharge_state                                                  0   \n\n                                                                 \\\n                                                                  \n                                             BiSeBr_supercell_8   \nstructure     [[1.05025243 3.17718159 3.76057508] Bi3+, [ 1....   \nenergy                                              -347.080769   \nforce         [[1.621e-05, 0.06217592, 0.12525049], [1.533e-...   \nstress        [[1.819741091, -4.1400000000000003e-07, 0.0001...   \ncharge_state                                                  0   \n\n                                                                 ...  \\\n                                                                 ...   \n                                             BiSeBr_supercell_9  ...   \nstructure     [[1.05019796 3.1868659  3.76397935] Bi3+, [ 1....  ...   \nenergy                                              -347.175199  ...   \nforce         [[0.0002503, 0.04097286, 0.08072092], [0.00024...  ...   \nstress        [[1.5781031470000002, -3.7100000000000003e-07,...  ...   \ncharge_state                                                  0  ...   \n\n                                                          BiSBr  \\\n                                               BiSBr_vac_3_Br_0   \n                                            BiSBr_vac_3_Br_0_24   \nstructure     [[0.99801396 3.32788676 3.78359324] Bi3+, [ 1....   \nenergy                                              -357.014135   \nforce         [[0.00376318, 0.00238075, -0.00449801], [-0.00...   \nstress        [[2.152978238, 0.000176565, -0.001665943], [0....   \ncharge_state                                                0.0   \n\n                                                                 \\\n                                                                  \n                                            BiSBr_vac_3_Br_0_25   \nstructure     [[0.99828472 3.32781641 3.78352826] Bi3+, [ 1....   \nenergy                                              -357.014183   \nforce         [[0.00028265, 0.00513489, -0.00418222], [0.004...   \nstress        [[2.148861257, 0.001051386, -0.001601949], [0....   \ncharge_state                                                0.0   \n\n                                                                 \\\n                                                                  \n                                            BiSBr_vac_3_Br_0_26   \nstructure     [[0.99855574 3.3283104  3.78301724] Bi3+, [ 1....   \nenergy                                              -357.014373   \nforce         [[-0.00315621, -0.00314707, -0.00117365], [0.0...   \nstress        [[2.147951402, 5.776000000000001e-05, -0.00185...   \ncharge_state                                                0.0   \n\n                                                                 \\\n                                                                  \n                                            BiSBr_vac_3_Br_0_27   \nstructure     [[0.99871817 3.3286069  3.78271074] Bi3+, [ 1....   \nenergy                                              -357.014399   \nforce         [[-0.00486497, -0.00716668, 0.00134633], [0.00...   \nstress        [[2.145998127, -0.000543678, -0.00204980700000...   \ncharge_state                                                0.0   \n\n                                                                 \\\n                                                                  \n                                            BiSBr_vac_3_Br_0_28   \nstructure     [[0.99836253 3.32816507 3.78243137] Bi3+, [ 1....   \nenergy                                              -357.014542   \nforce         [[0.00145237, 0.00149947, 0.00234208], [0.0021...   \nstress        [[2.14501845, -0.0017708430000000002, -0.00241...   \ncharge_state                                                0.0   \n\n                                                                 \\\n                                                                  \n                                            BiSBr_vac_3_Br_0_29   \nstructure     [[1.1088532  3.31772684 3.75532824] Bi3+, [ 1....   \nenergy                                              -357.050054   \nforce         [[-0.00265574, -0.00293793, -0.0022609], [-0.0...   \nstress        [[2.312504033, 0.005912474000000001, -0.001927...   \ncharge_state                                                0.0   \n\n                                                                 \\\n                                                                  \n                                            BiSBr_vac_3_Br_0_30   \nstructure     [[1.11647652 3.31838778 3.75634074] Bi3+, [ 1....   \nenergy                                              -357.049876   \nforce         [[-0.01120643, -0.0077323, -0.01314737], [0.01...   \nstress        [[2.308231472, 0.007647961000000001, -0.002211...   \ncharge_state                                                0.0   \n\n                                                                 \\\n                                                                  \n                                            BiSBr_vac_3_Br_0_31   \nstructure     [[1.11080591 3.31789619 3.75558767] Bi3+, [ 1....   \nenergy                                              -357.050068   \nforce         [[-0.00716679, -0.00423901, -0.00587288], [0.0...   \nstress        [[2.310852037, 0.006288439, -0.001936787], [0....   \ncharge_state                                                0.0   \n\n                                                                 \\\n                                                                  \n                                            BiSBr_vac_3_Br_0_32   \nstructure     [[1.11239025 3.31785433 3.75555436] Bi3+, [ 1....   \nenergy                                              -357.050179   \nforce         [[-0.00471567, -0.00084289, -0.00407501], [0.0...   \nstress        [[2.311410878, 0.006589566, -0.002428896], [0....   \ncharge_state                                                0.0   \n\n                                                                 \n                                               BiSBr_vac_3_Br_1  \n                                             BiSBr_vac_3_Br_1_0  \nstructure     [[1.08579589 3.32695611 3.7337176 ] Bi2.99+, [...  \nenergy                                              -360.773201  \nforce         [[-0.00310365, 3.953e-05, 0.00200667], [-0.002...  \nstress        [[3.149705549, 0.002586949, 0.002013559], [0.0...  \ncharge_state                                                1.0  \n\n[5 rows x 695 columns]",
      "text/html": "<div>\n<style scoped>\n    .dataframe tbody tr th:only-of-type {\n        vertical-align: middle;\n    }\n\n    .dataframe tbody tr th {\n        vertical-align: top;\n    }\n\n    .dataframe thead tr th {\n        text-align: left;\n    }\n</style>\n<table border=\"1\" class=\"dataframe\">\n  <thead>\n    <tr>\n      <th></th>\n      <th colspan=\"10\" halign=\"left\">BiSeBr</th>\n      <th>...</th>\n      <th colspan=\"10\" halign=\"left\">BiSBr</th>\n    </tr>\n    <tr>\n      <th></th>\n      <th colspan=\"10\" halign=\"left\">BiSeBr_supercell</th>\n      <th>...</th>\n      <th colspan=\"9\" halign=\"left\">BiSBr_vac_3_Br_0</th>\n      <th>BiSBr_vac_3_Br_1</th>\n    </tr>\n    <tr>\n      <th></th>\n      <th>BiSeBr_supercell_0</th>\n      <th>BiSeBr_supercell_1</th>\n      <th>BiSeBr_supercell_2</th>\n      <th>BiSeBr_supercell_3</th>\n      <th>BiSeBr_supercell_4</th>\n      <th>BiSeBr_supercell_5</th>\n      <th>BiSeBr_supercell_6</th>\n      <th>BiSeBr_supercell_7</th>\n      <th>BiSeBr_supercell_8</th>\n      <th>BiSeBr_supercell_9</th>\n      <th>...</th>\n      <th>BiSBr_vac_3_Br_0_24</th>\n      <th>BiSBr_vac_3_Br_0_25</th>\n      <th>BiSBr_vac_3_Br_0_26</th>\n      <th>BiSBr_vac_3_Br_0_27</th>\n      <th>BiSBr_vac_3_Br_0_28</th>\n      <th>BiSBr_vac_3_Br_0_29</th>\n      <th>BiSBr_vac_3_Br_0_30</th>\n      <th>BiSBr_vac_3_Br_0_31</th>\n      <th>BiSBr_vac_3_Br_0_32</th>\n      <th>BiSBr_vac_3_Br_1_0</th>\n    </tr>\n  </thead>\n  <tbody>\n    <tr>\n      <th>structure</th>\n      <td>[[1.05001087 3.25166915 3.74301984] Bi3+, [ 1....</td>\n      <td>[[1.05086705 3.16956193 3.85341756] Bi3+, [ 1....</td>\n      <td>[[1.05068306 3.1240652  3.78580039] Bi3+, [ 1....</td>\n      <td>[[1.05069708 3.12754335 3.79096958] Bi3+, [ 1....</td>\n      <td>[[1.05069973 3.12819108 3.79193238] Bi3+, [ 1....</td>\n      <td>[[1.05063149 3.13566626 3.78714785] Bi3+, [ 1....</td>\n      <td>[[1.05042676 3.15809145 3.77279414] Bi3+, [ 1....</td>\n      <td>[[1.05001718 3.20294185 3.74408661] Bi3+, [ 1....</td>\n      <td>[[1.05025243 3.17718159 3.76057508] Bi3+, [ 1....</td>\n      <td>[[1.05019796 3.1868659  3.76397935] Bi3+, [ 1....</td>\n      <td>...</td>\n      <td>[[0.99801396 3.32788676 3.78359324] Bi3+, [ 1....</td>\n      <td>[[0.99828472 3.32781641 3.78352826] Bi3+, [ 1....</td>\n      <td>[[0.99855574 3.3283104  3.78301724] Bi3+, [ 1....</td>\n      <td>[[0.99871817 3.3286069  3.78271074] Bi3+, [ 1....</td>\n      <td>[[0.99836253 3.32816507 3.78243137] Bi3+, [ 1....</td>\n      <td>[[1.1088532  3.31772684 3.75532824] Bi3+, [ 1....</td>\n      <td>[[1.11647652 3.31838778 3.75634074] Bi3+, [ 1....</td>\n      <td>[[1.11080591 3.31789619 3.75558767] Bi3+, [ 1....</td>\n      <td>[[1.11239025 3.31785433 3.75555436] Bi3+, [ 1....</td>\n      <td>[[1.08579589 3.32695611 3.7337176 ] Bi2.99+, [...</td>\n    </tr>\n    <tr>\n      <th>energy</th>\n      <td>-347.410039</td>\n      <td>-344.844627</td>\n      <td>-346.648057</td>\n      <td>-346.663764</td>\n      <td>-346.664183</td>\n      <td>-346.778365</td>\n      <td>-347.013246</td>\n      <td>-346.965799</td>\n      <td>-347.080769</td>\n      <td>-347.175199</td>\n      <td>...</td>\n      <td>-357.014135</td>\n      <td>-357.014183</td>\n      <td>-357.014373</td>\n      <td>-357.014399</td>\n      <td>-357.014542</td>\n      <td>-357.050054</td>\n      <td>-357.049876</td>\n      <td>-357.050068</td>\n      <td>-357.050179</td>\n      <td>-360.773201</td>\n    </tr>\n    <tr>\n      <th>force</th>\n      <td>[[0.0002852, 0.01197281, 0.00288491], [0.00028...</td>\n      <td>[[-0.00351882, -0.48819068, -1.01077981], [-0....</td>\n      <td>[[-0.00234526, 0.3603497, -0.05229271], [-0.00...</td>\n      <td>[[-0.00234495, 0.31114309, -0.1159538], [-0.00...</td>\n      <td>[[-0.00235177, 0.30193579, -0.12787169], [-0.0...</td>\n      <td>[[-0.00204809, 0.2692877, -0.08873734], [-0.00...</td>\n      <td>[[-0.0010447, 0.16530022, 0.02586162], [-0.001...</td>\n      <td>[[0.00128788, -0.08549818, 0.2541151], [0.0012...</td>\n      <td>[[1.621e-05, 0.06217592, 0.12525049], [1.533e-...</td>\n      <td>[[0.0002503, 0.04097286, 0.08072092], [0.00024...</td>\n      <td>...</td>\n      <td>[[0.00376318, 0.00238075, -0.00449801], [-0.00...</td>\n      <td>[[0.00028265, 0.00513489, -0.00418222], [0.004...</td>\n      <td>[[-0.00315621, -0.00314707, -0.00117365], [0.0...</td>\n      <td>[[-0.00486497, -0.00716668, 0.00134633], [0.00...</td>\n      <td>[[0.00145237, 0.00149947, 0.00234208], [0.0021...</td>\n      <td>[[-0.00265574, -0.00293793, -0.0022609], [-0.0...</td>\n      <td>[[-0.01120643, -0.0077323, -0.01314737], [0.01...</td>\n      <td>[[-0.00716679, -0.00423901, -0.00587288], [0.0...</td>\n      <td>[[-0.00471567, -0.00084289, -0.00407501], [0.0...</td>\n      <td>[[-0.00310365, 3.953e-05, 0.00200667], [-0.002...</td>\n    </tr>\n    <tr>\n      <th>stress</th>\n      <td>[[1.1762277810000001, -4.271e-06, 3.386e-05], ...</td>\n      <td>[[0.274642989, 3.5750000000000005e-06, 0.00035...</td>\n      <td>[[2.015627935, 1.66e-07, 0.0002331870000000000...</td>\n      <td>[[1.9108666520000002, 1.827e-06, 0.00024239900...</td>\n      <td>[[1.8914506410000003, 1.5610000000000002e-06, ...</td>\n      <td>[[1.9003650810000001, 1.528e-06, 0.00022538200...</td>\n      <td>[[1.883242679, 5.86e-07, 0.000177014], [6.4e-0...</td>\n      <td>[[1.647880025, -1.5650000000000003e-06, 0.0001...</td>\n      <td>[[1.819741091, -4.1400000000000003e-07, 0.0001...</td>\n      <td>[[1.5781031470000002, -3.7100000000000003e-07,...</td>\n      <td>...</td>\n      <td>[[2.152978238, 0.000176565, -0.001665943], [0....</td>\n      <td>[[2.148861257, 0.001051386, -0.001601949], [0....</td>\n      <td>[[2.147951402, 5.776000000000001e-05, -0.00185...</td>\n      <td>[[2.145998127, -0.000543678, -0.00204980700000...</td>\n      <td>[[2.14501845, -0.0017708430000000002, -0.00241...</td>\n      <td>[[2.312504033, 0.005912474000000001, -0.001927...</td>\n      <td>[[2.308231472, 0.007647961000000001, -0.002211...</td>\n      <td>[[2.310852037, 0.006288439, -0.001936787], [0....</td>\n      <td>[[2.311410878, 0.006589566, -0.002428896], [0....</td>\n      <td>[[3.149705549, 0.002586949, 0.002013559], [0.0...</td>\n    </tr>\n    <tr>\n      <th>charge_state</th>\n      <td>0</td>\n      <td>0</td>\n      <td>0</td>\n      <td>0</td>\n      <td>0</td>\n      <td>0</td>\n      <td>0</td>\n      <td>0</td>\n      <td>0</td>\n      <td>0</td>\n      <td>...</td>\n      <td>0.0</td>\n      <td>0.0</td>\n      <td>0.0</td>\n      <td>0.0</td>\n      <td>0.0</td>\n      <td>0.0</td>\n      <td>0.0</td>\n      <td>0.0</td>\n      <td>0.0</td>\n      <td>1.0</td>\n    </tr>\n  </tbody>\n</table>\n<p>5 rows × 695 columns</p>\n</div>"
     },
     "execution_count": 4,
     "metadata": {},
     "output_type": "execute_result"
    }
   ],
   "source": [
    "# Extract the data\n",
    "source_m3gnet_dataset = MLL.extract_vaspruns_dataset(path_to_dataset, charged=charged)\n",
    "#source_m3gnet_dataset = MLL.extract_OUTCAR_dataset(path_to_dataset)\n",
    "source_m3gnet_dataset"
   ],
   "metadata": {
    "collapsed": false,
    "ExecuteTime": {
     "end_time": "2024-06-09T15:32:17.661747127Z",
     "start_time": "2024-06-09T15:20:38.531945260Z"
    }
   },
   "id": "10befc44dd5f4f95",
   "execution_count": 4
  },
  {
   "cell_type": "code",
   "outputs": [
    {
     "data": {
      "text/plain": "5"
     },
     "execution_count": 5,
     "metadata": {},
     "output_type": "execute_result"
    }
   ],
   "source": [
    "len(source_m3gnet_dataset)"
   ],
   "metadata": {
    "collapsed": false,
    "ExecuteTime": {
     "end_time": "2024-06-09T15:32:17.665238140Z",
     "start_time": "2024-06-09T15:32:17.662694381Z"
    }
   },
   "id": "332793166ed735dc",
   "execution_count": 5
  },
  {
   "cell_type": "markdown",
   "source": [
    "# Split data into train-validation-test sets"
   ],
   "metadata": {
    "collapsed": false
   },
   "id": "8d024f9eab34c395"
  },
  {
   "cell_type": "markdown",
   "source": [
    "### Decide if we split in terms of mateiral, defect state or simulation directly"
   ],
   "metadata": {
    "collapsed": false
   },
   "id": "1f1a98b19ba72340"
  },
  {
   "cell_type": "code",
   "outputs": [
    {
     "data": {
      "text/plain": "                                               BiSeBr_supercell  \\\n                                             BiSeBr_supercell_0   \nstructure     [[1.05001087 3.25166915 3.74301984] Bi3+, [ 1....   \nenergy                                              -347.410039   \nforce         [[0.0002852, 0.01197281, 0.00288491], [0.00028...   \nstress        [[1.1762277810000001, -4.271e-06, 3.386e-05], ...   \ncharge_state                                                  0   \n\n                                                                 \\\n                                             BiSeBr_supercell_1   \nstructure     [[1.05086705 3.16956193 3.85341756] Bi3+, [ 1....   \nenergy                                              -344.844627   \nforce         [[-0.00351882, -0.48819068, -1.01077981], [-0....   \nstress        [[0.274642989, 3.5750000000000005e-06, 0.00035...   \ncharge_state                                                  0   \n\n                                                                 \\\n                                             BiSeBr_supercell_2   \nstructure     [[1.05068306 3.1240652  3.78580039] Bi3+, [ 1....   \nenergy                                              -346.648057   \nforce         [[-0.00234526, 0.3603497, -0.05229271], [-0.00...   \nstress        [[2.015627935, 1.66e-07, 0.0002331870000000000...   \ncharge_state                                                  0   \n\n                                                                 \\\n                                             BiSeBr_supercell_3   \nstructure     [[1.05069708 3.12754335 3.79096958] Bi3+, [ 1....   \nenergy                                              -346.663764   \nforce         [[-0.00234495, 0.31114309, -0.1159538], [-0.00...   \nstress        [[1.9108666520000002, 1.827e-06, 0.00024239900...   \ncharge_state                                                  0   \n\n                                                                 \\\n                                             BiSeBr_supercell_4   \nstructure     [[1.05069973 3.12819108 3.79193238] Bi3+, [ 1....   \nenergy                                              -346.664183   \nforce         [[-0.00235177, 0.30193579, -0.12787169], [-0.0...   \nstress        [[1.8914506410000003, 1.5610000000000002e-06, ...   \ncharge_state                                                  0   \n\n                                                                 \\\n                                             BiSeBr_supercell_5   \nstructure     [[1.05063149 3.13566626 3.78714785] Bi3+, [ 1....   \nenergy                                              -346.778365   \nforce         [[-0.00204809, 0.2692877, -0.08873734], [-0.00...   \nstress        [[1.9003650810000001, 1.528e-06, 0.00022538200...   \ncharge_state                                                  0   \n\n                                                                 \\\n                                             BiSeBr_supercell_6   \nstructure     [[1.05042676 3.15809145 3.77279414] Bi3+, [ 1....   \nenergy                                              -347.013246   \nforce         [[-0.0010447, 0.16530022, 0.02586162], [-0.001...   \nstress        [[1.883242679, 5.86e-07, 0.000177014], [6.4e-0...   \ncharge_state                                                  0   \n\n                                                                 \\\n                                             BiSeBr_supercell_7   \nstructure     [[1.05001718 3.20294185 3.74408661] Bi3+, [ 1....   \nenergy                                              -346.965799   \nforce         [[0.00128788, -0.08549818, 0.2541151], [0.0012...   \nstress        [[1.647880025, -1.5650000000000003e-06, 0.0001...   \ncharge_state                                                  0   \n\n                                                                 \\\n                                             BiSeBr_supercell_8   \nstructure     [[1.05025243 3.17718159 3.76057508] Bi3+, [ 1....   \nenergy                                              -347.080769   \nforce         [[1.621e-05, 0.06217592, 0.12525049], [1.533e-...   \nstress        [[1.819741091, -4.1400000000000003e-07, 0.0001...   \ncharge_state                                                  0   \n\n                                                                 ...  \\\n                                             BiSeBr_supercell_9  ...   \nstructure     [[1.05019796 3.1868659  3.76397935] Bi3+, [ 1....  ...   \nenergy                                              -347.175199  ...   \nforce         [[0.0002503, 0.04097286, 0.08072092], [0.00024...  ...   \nstress        [[1.5781031470000002, -3.7100000000000003e-07,...  ...   \ncharge_state                                                  0  ...   \n\n                                               BiSBr_vac_3_Br_0  \\\n                                            BiSBr_vac_3_Br_0_24   \nstructure     [[0.99801396 3.32788676 3.78359324] Bi3+, [ 1....   \nenergy                                              -357.014135   \nforce         [[0.00376318, 0.00238075, -0.00449801], [-0.00...   \nstress        [[2.152978238, 0.000176565, -0.001665943], [0....   \ncharge_state                                                0.0   \n\n                                                                 \\\n                                            BiSBr_vac_3_Br_0_25   \nstructure     [[0.99828472 3.32781641 3.78352826] Bi3+, [ 1....   \nenergy                                              -357.014183   \nforce         [[0.00028265, 0.00513489, -0.00418222], [0.004...   \nstress        [[2.148861257, 0.001051386, -0.001601949], [0....   \ncharge_state                                                0.0   \n\n                                                                 \\\n                                            BiSBr_vac_3_Br_0_26   \nstructure     [[0.99855574 3.3283104  3.78301724] Bi3+, [ 1....   \nenergy                                              -357.014373   \nforce         [[-0.00315621, -0.00314707, -0.00117365], [0.0...   \nstress        [[2.147951402, 5.776000000000001e-05, -0.00185...   \ncharge_state                                                0.0   \n\n                                                                 \\\n                                            BiSBr_vac_3_Br_0_27   \nstructure     [[0.99871817 3.3286069  3.78271074] Bi3+, [ 1....   \nenergy                                              -357.014399   \nforce         [[-0.00486497, -0.00716668, 0.00134633], [0.00...   \nstress        [[2.145998127, -0.000543678, -0.00204980700000...   \ncharge_state                                                0.0   \n\n                                                                 \\\n                                            BiSBr_vac_3_Br_0_28   \nstructure     [[0.99836253 3.32816507 3.78243137] Bi3+, [ 1....   \nenergy                                              -357.014542   \nforce         [[0.00145237, 0.00149947, 0.00234208], [0.0021...   \nstress        [[2.14501845, -0.0017708430000000002, -0.00241...   \ncharge_state                                                0.0   \n\n                                                                 \\\n                                            BiSBr_vac_3_Br_0_29   \nstructure     [[1.1088532  3.31772684 3.75532824] Bi3+, [ 1....   \nenergy                                              -357.050054   \nforce         [[-0.00265574, -0.00293793, -0.0022609], [-0.0...   \nstress        [[2.312504033, 0.005912474000000001, -0.001927...   \ncharge_state                                                0.0   \n\n                                                                 \\\n                                            BiSBr_vac_3_Br_0_30   \nstructure     [[1.11647652 3.31838778 3.75634074] Bi3+, [ 1....   \nenergy                                              -357.049876   \nforce         [[-0.01120643, -0.0077323, -0.01314737], [0.01...   \nstress        [[2.308231472, 0.007647961000000001, -0.002211...   \ncharge_state                                                0.0   \n\n                                                                 \\\n                                            BiSBr_vac_3_Br_0_31   \nstructure     [[1.11080591 3.31789619 3.75558767] Bi3+, [ 1....   \nenergy                                              -357.050068   \nforce         [[-0.00716679, -0.00423901, -0.00587288], [0.0...   \nstress        [[2.310852037, 0.006288439, -0.001936787], [0....   \ncharge_state                                                0.0   \n\n                                                                 \\\n                                            BiSBr_vac_3_Br_0_32   \nstructure     [[1.11239025 3.31785433 3.75555436] Bi3+, [ 1....   \nenergy                                              -357.050179   \nforce         [[-0.00471567, -0.00084289, -0.00407501], [0.0...   \nstress        [[2.311410878, 0.006589566, -0.002428896], [0....   \ncharge_state                                                0.0   \n\n                                               BiSBr_vac_3_Br_1  \n                                             BiSBr_vac_3_Br_1_0  \nstructure     [[1.08579589 3.32695611 3.7337176 ] Bi2.99+, [...  \nenergy                                              -360.773201  \nforce         [[-0.00310365, 3.953e-05, 0.00200667], [-0.002...  \nstress        [[3.149705549, 0.002586949, 0.002013559], [0.0...  \ncharge_state                                                1.0  \n\n[5 rows x 695 columns]",
      "text/html": "<div>\n<style scoped>\n    .dataframe tbody tr th:only-of-type {\n        vertical-align: middle;\n    }\n\n    .dataframe tbody tr th {\n        vertical-align: top;\n    }\n\n    .dataframe thead tr th {\n        text-align: left;\n    }\n</style>\n<table border=\"1\" class=\"dataframe\">\n  <thead>\n    <tr>\n      <th></th>\n      <th colspan=\"10\" halign=\"left\">BiSeBr_supercell</th>\n      <th>...</th>\n      <th colspan=\"9\" halign=\"left\">BiSBr_vac_3_Br_0</th>\n      <th>BiSBr_vac_3_Br_1</th>\n    </tr>\n    <tr>\n      <th></th>\n      <th>BiSeBr_supercell_0</th>\n      <th>BiSeBr_supercell_1</th>\n      <th>BiSeBr_supercell_2</th>\n      <th>BiSeBr_supercell_3</th>\n      <th>BiSeBr_supercell_4</th>\n      <th>BiSeBr_supercell_5</th>\n      <th>BiSeBr_supercell_6</th>\n      <th>BiSeBr_supercell_7</th>\n      <th>BiSeBr_supercell_8</th>\n      <th>BiSeBr_supercell_9</th>\n      <th>...</th>\n      <th>BiSBr_vac_3_Br_0_24</th>\n      <th>BiSBr_vac_3_Br_0_25</th>\n      <th>BiSBr_vac_3_Br_0_26</th>\n      <th>BiSBr_vac_3_Br_0_27</th>\n      <th>BiSBr_vac_3_Br_0_28</th>\n      <th>BiSBr_vac_3_Br_0_29</th>\n      <th>BiSBr_vac_3_Br_0_30</th>\n      <th>BiSBr_vac_3_Br_0_31</th>\n      <th>BiSBr_vac_3_Br_0_32</th>\n      <th>BiSBr_vac_3_Br_1_0</th>\n    </tr>\n  </thead>\n  <tbody>\n    <tr>\n      <th>structure</th>\n      <td>[[1.05001087 3.25166915 3.74301984] Bi3+, [ 1....</td>\n      <td>[[1.05086705 3.16956193 3.85341756] Bi3+, [ 1....</td>\n      <td>[[1.05068306 3.1240652  3.78580039] Bi3+, [ 1....</td>\n      <td>[[1.05069708 3.12754335 3.79096958] Bi3+, [ 1....</td>\n      <td>[[1.05069973 3.12819108 3.79193238] Bi3+, [ 1....</td>\n      <td>[[1.05063149 3.13566626 3.78714785] Bi3+, [ 1....</td>\n      <td>[[1.05042676 3.15809145 3.77279414] Bi3+, [ 1....</td>\n      <td>[[1.05001718 3.20294185 3.74408661] Bi3+, [ 1....</td>\n      <td>[[1.05025243 3.17718159 3.76057508] Bi3+, [ 1....</td>\n      <td>[[1.05019796 3.1868659  3.76397935] Bi3+, [ 1....</td>\n      <td>...</td>\n      <td>[[0.99801396 3.32788676 3.78359324] Bi3+, [ 1....</td>\n      <td>[[0.99828472 3.32781641 3.78352826] Bi3+, [ 1....</td>\n      <td>[[0.99855574 3.3283104  3.78301724] Bi3+, [ 1....</td>\n      <td>[[0.99871817 3.3286069  3.78271074] Bi3+, [ 1....</td>\n      <td>[[0.99836253 3.32816507 3.78243137] Bi3+, [ 1....</td>\n      <td>[[1.1088532  3.31772684 3.75532824] Bi3+, [ 1....</td>\n      <td>[[1.11647652 3.31838778 3.75634074] Bi3+, [ 1....</td>\n      <td>[[1.11080591 3.31789619 3.75558767] Bi3+, [ 1....</td>\n      <td>[[1.11239025 3.31785433 3.75555436] Bi3+, [ 1....</td>\n      <td>[[1.08579589 3.32695611 3.7337176 ] Bi2.99+, [...</td>\n    </tr>\n    <tr>\n      <th>energy</th>\n      <td>-347.410039</td>\n      <td>-344.844627</td>\n      <td>-346.648057</td>\n      <td>-346.663764</td>\n      <td>-346.664183</td>\n      <td>-346.778365</td>\n      <td>-347.013246</td>\n      <td>-346.965799</td>\n      <td>-347.080769</td>\n      <td>-347.175199</td>\n      <td>...</td>\n      <td>-357.014135</td>\n      <td>-357.014183</td>\n      <td>-357.014373</td>\n      <td>-357.014399</td>\n      <td>-357.014542</td>\n      <td>-357.050054</td>\n      <td>-357.049876</td>\n      <td>-357.050068</td>\n      <td>-357.050179</td>\n      <td>-360.773201</td>\n    </tr>\n    <tr>\n      <th>force</th>\n      <td>[[0.0002852, 0.01197281, 0.00288491], [0.00028...</td>\n      <td>[[-0.00351882, -0.48819068, -1.01077981], [-0....</td>\n      <td>[[-0.00234526, 0.3603497, -0.05229271], [-0.00...</td>\n      <td>[[-0.00234495, 0.31114309, -0.1159538], [-0.00...</td>\n      <td>[[-0.00235177, 0.30193579, -0.12787169], [-0.0...</td>\n      <td>[[-0.00204809, 0.2692877, -0.08873734], [-0.00...</td>\n      <td>[[-0.0010447, 0.16530022, 0.02586162], [-0.001...</td>\n      <td>[[0.00128788, -0.08549818, 0.2541151], [0.0012...</td>\n      <td>[[1.621e-05, 0.06217592, 0.12525049], [1.533e-...</td>\n      <td>[[0.0002503, 0.04097286, 0.08072092], [0.00024...</td>\n      <td>...</td>\n      <td>[[0.00376318, 0.00238075, -0.00449801], [-0.00...</td>\n      <td>[[0.00028265, 0.00513489, -0.00418222], [0.004...</td>\n      <td>[[-0.00315621, -0.00314707, -0.00117365], [0.0...</td>\n      <td>[[-0.00486497, -0.00716668, 0.00134633], [0.00...</td>\n      <td>[[0.00145237, 0.00149947, 0.00234208], [0.0021...</td>\n      <td>[[-0.00265574, -0.00293793, -0.0022609], [-0.0...</td>\n      <td>[[-0.01120643, -0.0077323, -0.01314737], [0.01...</td>\n      <td>[[-0.00716679, -0.00423901, -0.00587288], [0.0...</td>\n      <td>[[-0.00471567, -0.00084289, -0.00407501], [0.0...</td>\n      <td>[[-0.00310365, 3.953e-05, 0.00200667], [-0.002...</td>\n    </tr>\n    <tr>\n      <th>stress</th>\n      <td>[[1.1762277810000001, -4.271e-06, 3.386e-05], ...</td>\n      <td>[[0.274642989, 3.5750000000000005e-06, 0.00035...</td>\n      <td>[[2.015627935, 1.66e-07, 0.0002331870000000000...</td>\n      <td>[[1.9108666520000002, 1.827e-06, 0.00024239900...</td>\n      <td>[[1.8914506410000003, 1.5610000000000002e-06, ...</td>\n      <td>[[1.9003650810000001, 1.528e-06, 0.00022538200...</td>\n      <td>[[1.883242679, 5.86e-07, 0.000177014], [6.4e-0...</td>\n      <td>[[1.647880025, -1.5650000000000003e-06, 0.0001...</td>\n      <td>[[1.819741091, -4.1400000000000003e-07, 0.0001...</td>\n      <td>[[1.5781031470000002, -3.7100000000000003e-07,...</td>\n      <td>...</td>\n      <td>[[2.152978238, 0.000176565, -0.001665943], [0....</td>\n      <td>[[2.148861257, 0.001051386, -0.001601949], [0....</td>\n      <td>[[2.147951402, 5.776000000000001e-05, -0.00185...</td>\n      <td>[[2.145998127, -0.000543678, -0.00204980700000...</td>\n      <td>[[2.14501845, -0.0017708430000000002, -0.00241...</td>\n      <td>[[2.312504033, 0.005912474000000001, -0.001927...</td>\n      <td>[[2.308231472, 0.007647961000000001, -0.002211...</td>\n      <td>[[2.310852037, 0.006288439, -0.001936787], [0....</td>\n      <td>[[2.311410878, 0.006589566, -0.002428896], [0....</td>\n      <td>[[3.149705549, 0.002586949, 0.002013559], [0.0...</td>\n    </tr>\n    <tr>\n      <th>charge_state</th>\n      <td>0</td>\n      <td>0</td>\n      <td>0</td>\n      <td>0</td>\n      <td>0</td>\n      <td>0</td>\n      <td>0</td>\n      <td>0</td>\n      <td>0</td>\n      <td>0</td>\n      <td>...</td>\n      <td>0.0</td>\n      <td>0.0</td>\n      <td>0.0</td>\n      <td>0.0</td>\n      <td>0.0</td>\n      <td>0.0</td>\n      <td>0.0</td>\n      <td>0.0</td>\n      <td>0.0</td>\n      <td>1.0</td>\n    </tr>\n  </tbody>\n</table>\n<p>5 rows × 695 columns</p>\n</div>"
     },
     "execution_count": 6,
     "metadata": {},
     "output_type": "execute_result"
    }
   ],
   "source": [
    "# Clone (copy) the DataFrame\n",
    "m3gnet_dataset = source_m3gnet_dataset.copy()\n",
    "\n",
    "# Remove the outer (top-level) column index up to depth-1 level\n",
    "for i in range(depth):\n",
    "    m3gnet_dataset.columns = m3gnet_dataset.columns.droplevel(0)\n",
    "m3gnet_dataset"
   ],
   "metadata": {
    "collapsed": false,
    "ExecuteTime": {
     "end_time": "2024-06-09T15:32:17.867993840Z",
     "start_time": "2024-06-09T15:32:17.665313011Z"
    }
   },
   "id": "c41350f17a87c505",
   "execution_count": 6
  },
  {
   "cell_type": "markdown",
   "source": [
    "### Splitting into train-validation-test sets"
   ],
   "metadata": {
    "collapsed": false
   },
   "id": "cc0c5b07f52f66e6"
  },
  {
   "cell_type": "code",
   "outputs": [
    {
     "name": "stdout",
     "output_type": "stream",
     "text": [
      "Using 363 samples to train, 200 to evaluate, and 132 to test\n"
     ]
    }
   ],
   "source": [
    "# Check if data has been already split, else do it randomly\n",
    "\n",
    "path_to_test_labels       = 'test_labels.txt'\n",
    "path_to_validation_labels = 'validation_labels.txt'\n",
    "path_to_train_labels      = 'train_labels.txt'\n",
    "\n",
    "if os.path.exists(path_to_test_labels) and os.path.exists(path_to_validation_labels) and os.path.exists(path_to_train_labels):\n",
    "    # Read labels splitting (which are strings)\n",
    "    test_labels       = np.genfromtxt(path_to_test_labels,       dtype='str').tolist()\n",
    "    validation_labels = np.genfromtxt(path_to_validation_labels, dtype='str').tolist()\n",
    "    train_labels      = np.genfromtxt(path_to_train_labels,      dtype='str').tolist()\n",
    "else:\n",
    "    # Define unique labels, wrt the outer column\n",
    "    unique_labels = np.unique(m3gnet_dataset.columns.get_level_values(0))\n",
    "\n",
    "    # Shuffle the list of unique labels\n",
    "    np.random.shuffle(unique_labels)\n",
    "\n",
    "    # Define the sizes of every set\n",
    "    # Corresponds to the size wrt the number of unique materials in the dataset\n",
    "    test_size       = int(test_ratio       * len(unique_labels))\n",
    "    validation_size = int(validation_ratio * len(unique_labels))\n",
    "\n",
    "    test_labels       = unique_labels[:test_size]\n",
    "    validation_labels = unique_labels[test_size:test_size+validation_size]\n",
    "    train_labels      = unique_labels[test_size+validation_size:]\n",
    "    \n",
    "    # Save this splitting for transfer-learning approaches\n",
    "    np.savetxt(path_to_test_labels,       test_labels,       fmt='%s')\n",
    "    np.savetxt(path_to_validation_labels, validation_labels, fmt='%s')\n",
    "    np.savetxt(path_to_train_labels,      train_labels,      fmt='%s')\n",
    "\n",
    "# Use the loaded/computed labels to generate split datasets\n",
    "test_dataset       = m3gnet_dataset[test_labels]\n",
    "validation_dataset = m3gnet_dataset[validation_labels]\n",
    "train_dataset      = m3gnet_dataset[train_labels]\n",
    "\n",
    "n_test       = np.shape(test_dataset)[1]\n",
    "n_validation = np.shape(validation_dataset)[1]\n",
    "n_train      = np.shape(train_dataset)[1]\n",
    "\n",
    "print(f'Using {n_train} samples to train, {n_validation} to evaluate, and {n_test} to test')"
   ],
   "metadata": {
    "collapsed": false,
    "ExecuteTime": {
     "end_time": "2024-06-09T15:32:17.876686227Z",
     "start_time": "2024-06-09T15:32:17.870418386Z"
    }
   },
   "id": "4c904f82c68d4689",
   "execution_count": 7
  },
  {
   "cell_type": "markdown",
   "source": [
    "### Convert into graph database"
   ],
   "metadata": {
    "collapsed": false
   },
   "id": "43f0d3d7a3250578"
  },
  {
   "cell_type": "code",
   "outputs": [
    {
     "name": "stderr",
     "output_type": "stream",
     "text": [
      "100%|██████████| 363/363 [00:00<00:00, 424.75it/s]\n",
      "100%|██████████| 200/200 [00:00<00:00, 466.25it/s]\n",
      "100%|██████████| 132/132 [00:00<00:00, 474.55it/s]\n"
     ]
    }
   ],
   "source": [
    "all_data = []\n",
    "for i in range(3):  # Iterate over train-validation-test sets\n",
    "    name    = ['train', 'val', 'test'][i]\n",
    "    dataset = [train_dataset, validation_dataset, test_dataset][i]\n",
    "\n",
    "    # Extract data from dataset\n",
    "    structures    = dataset.loc['structure'].values.tolist()\n",
    "    element_types = get_element_list(structures)\n",
    "    converter     = Structure2Graph(element_types=element_types, cutoff=5.0)\n",
    "    \n",
    "    # Define data labels from dataset\n",
    "    if stress_weight == 0:\n",
    "        stresses = [np.zeros((3, 3)).tolist() for s in structures]\n",
    "    else:\n",
    "        stresses = dataset.loc['stress'].values.tolist()\n",
    "\n",
    "    labels = {\n",
    "        'energies': dataset.loc['energy'].values.tolist(),\n",
    "        'forces':   dataset.loc['force'].values.tolist(),\n",
    "        'stresses': stresses,\n",
    "    }\n",
    "    \n",
    "    # Generate dataset\n",
    "    data = M3GNetDataset(\n",
    "        filename=f'dgl_graph-{name}.bin',\n",
    "        filename_line_graph=f'dgl_line_graph-{name}.bin',\n",
    "        filename_state_attr=f'state_attr-{name}.pt',\n",
    "        filename_labels=f'labels-{name}.json',\n",
    "        threebody_cutoff=4.0,\n",
    "        structures=structures,\n",
    "        converter=converter,\n",
    "        labels=labels,\n",
    "        name=f'M3GNetDataset-{name}',\n",
    "    )\n",
    "    all_data.append(data)\n",
    "\n",
    "train_data, val_data, test_data = all_data"
   ],
   "metadata": {
    "collapsed": false,
    "ExecuteTime": {
     "end_time": "2024-06-09T15:32:19.985552150Z",
     "start_time": "2024-06-09T15:32:17.875879157Z"
    }
   },
   "id": "23bf3ba4b782d43b",
   "execution_count": 8
  },
  {
   "cell_type": "code",
   "outputs": [],
   "source": [
    "train_loader, val_loader, test_loader = MGLDataLoader(\n",
    "    train_data=train_data,\n",
    "    val_data=val_data,\n",
    "    test_data=test_data,\n",
    "    collate_fn=collate_fn_efs,\n",
    "    batch_size=batch_size,\n",
    "    num_workers=1,\n",
    "    pin_memory=True,\n",
    ")"
   ],
   "metadata": {
    "collapsed": false,
    "ExecuteTime": {
     "end_time": "2024-06-09T15:32:20.027398347Z",
     "start_time": "2024-06-09T15:32:19.986865102Z"
    }
   },
   "id": "caac10c1d7ad4689",
   "execution_count": 9
  },
  {
   "cell_type": "markdown",
   "source": [
    "# Retrain model"
   ],
   "metadata": {
    "collapsed": false
   },
   "id": "d43a7495b63247e3"
  },
  {
   "cell_type": "code",
   "outputs": [],
   "source": [
    "# Download a pre-trained M3GNet\n",
    "m3gnet_nnp       = matgl.load_model(model_load_path)\n",
    "model_pretrained = m3gnet_nnp.model\n",
    "\n",
    "# Stress and site-wise are added to training loss\n",
    "# Stresses are being computed (calc_stress=True)\n",
    "lit_module_finetune = PotentialLightningModule(model=model_pretrained,\n",
    "                                               stress_weight=stress_weight,\n",
    "                                               loss='mse_loss',\n",
    "                                               lr=lr)"
   ],
   "metadata": {
    "collapsed": false,
    "ExecuteTime": {
     "end_time": "2024-06-09T15:32:20.133060028Z",
     "start_time": "2024-06-09T15:32:20.027320871Z"
    }
   },
   "id": "a2050b252e60381b",
   "execution_count": 10
  },
  {
   "cell_type": "code",
   "outputs": [
    {
     "name": "stderr",
     "output_type": "stream",
     "text": [
      "GPU available: True (cuda), used: False\n",
      "TPU available: False, using: 0 TPU cores\n",
      "IPU available: False, using: 0 IPUs\n",
      "HPU available: False, using: 0 HPUs\n",
      "\n",
      "  | Name  | Type              | Params\n",
      "--------------------------------------------\n",
      "0 | mae   | MeanAbsoluteError | 0     \n",
      "1 | rmse  | MeanSquaredError  | 0     \n",
      "2 | model | Potential         | 288 K \n",
      "--------------------------------------------\n",
      "288 K     Trainable params\n",
      "0         Non-trainable params\n",
      "288 K     Total params\n",
      "1.153     Total estimated model params size (MB)\n"
     ]
    },
    {
     "name": "stdout",
     "output_type": "stream",
     "text": [
      "Epoch 0: 100%|██████████| 3/3 [00:22<00:00,  0.13it/s, v_num=30]           \n",
      "Validation: |          | 0/? [00:00<?, ?it/s]\u001B[A\n",
      "Validation:   0%|          | 0/2 [00:00<?, ?it/s]\u001B[A\n",
      "Validation DataLoader 0:   0%|          | 0/2 [00:00<?, ?it/s]\u001B[A"
     ]
    }
   ],
   "source": [
    "# If you wish to disable GPU or MPS (M1 mac) training, use the accelerator='cpu' kwarg.\n",
    "# accelerator='auto' selects the appropriate Accelerator\n",
    "logger  = CSVLogger('logs',\n",
    "                    name='M3GNet_finetuning')\n",
    "\n",
    "trainer = pl.Trainer(max_epochs=max_epochs,\n",
    "                     accelerator='cpu',\n",
    "                     logger=logger,\n",
    "                     inference_mode=False)\n",
    "\n",
    "trainer.fit(model=lit_module_finetune,\n",
    "            train_dataloaders=train_loader,\n",
    "            val_dataloaders=val_loader\n",
    "           )\n",
    "\n",
    "# Save trained model\n",
    "model_pretrained.model.save(model_save_path)"
   ],
   "metadata": {
    "collapsed": false,
    "is_executing": true,
    "ExecuteTime": {
     "start_time": "2024-06-09T16:11:37.530380125Z"
    }
   },
   "id": "6a538cdd118b3824",
   "execution_count": null
  },
  {
   "cell_type": "markdown",
   "source": [
    "# Analyze metrics"
   ],
   "metadata": {
    "collapsed": false
   },
   "id": "ef9e163c70f7bcc9"
  },
  {
   "cell_type": "code",
   "execution_count": null,
   "id": "1b3f2256",
   "metadata": {
    "scrolled": true,
    "ExecuteTime": {
     "start_time": "2024-06-09T15:32:21.029551126Z"
    }
   },
   "outputs": [],
   "source": [
    "# E_MAE = meV/atom, F_MAE = eV/A, S_MAE = GPa\n",
    "trainer.test(model=lit_module_finetune,\n",
    "            dataloaders=test_loader\n",
    "           )"
   ]
  },
  {
   "cell_type": "code",
   "outputs": [],
   "source": [
    "import pandas as pd"
   ],
   "metadata": {
    "collapsed": false,
    "ExecuteTime": {
     "end_time": "2024-06-10T08:51:25.343338594Z",
     "start_time": "2024-06-10T08:51:25.061771727Z"
    }
   },
   "id": "fbd88415072ab1ab",
   "execution_count": 1
  },
  {
   "cell_type": "code",
   "outputs": [],
   "source": [
    "current_version = 0\n",
    "# Read the CSV file\n",
    "path_to_csv = f'logs/M3GNet_finetuning/version_{current_version}'\n",
    "df = pd.read_csv(f'{path_to_csv}/metrics.csv')\n",
    "df.head()"
   ],
   "metadata": {
    "collapsed": false
   },
   "id": "9ea916d30e0e4102"
  },
  {
   "cell_type": "code",
   "execution_count": null,
   "id": "a3134249",
   "metadata": {
    "scrolled": true,
    "ExecuteTime": {
     "end_time": "2024-02-26T15:43:41.352064167Z",
     "start_time": "2024-02-26T15:43:41.351990960Z"
    }
   },
   "outputs": [],
   "source": [
    "# NaN to zero\n",
    "df = df.fillna(0)\n",
    "\n",
    "# Calculate the sum of every two consecutive rows\n",
    "df = df.groupby(df.index // 2).sum()\n",
    "df.head()"
   ]
  },
  {
   "cell_type": "code",
   "execution_count": null,
   "id": "643704df",
   "metadata": {
    "ExecuteTime": {
     "start_time": "2024-02-20T11:11:01.699191223Z"
    }
   },
   "outputs": [],
   "source": [
    "# Get the list of loss column names\n",
    "loss_columns = [col for col in df.columns if col.startswith('val_') or col.startswith('train_')]\n",
    "\n",
    "# Create a figure and axis\n",
    "fig = plt.subplots(figsize=(10, 6))\n",
    "\n",
    "# Plot each loss\n",
    "for loss_column in loss_columns:\n",
    "    plt.plot(df.index, np.log(df[loss_column]), label=loss_column)\n",
    "\n",
    "plt.xlabel('Epoch')\n",
    "plt.ylabel('Loss')\n",
    "plt.legend(loc=(1.01, 0))\n",
    "plt.savefig(f'm3gnet_loss.eps', dpi=dpi, bbox_inches='tight')\n",
    "plt.show()"
   ]
  },
  {
   "cell_type": "code",
   "execution_count": 45,
   "id": "9d85d562",
   "metadata": {
    "ExecuteTime": {
     "end_time": "2024-02-20T09:19:59.496787113Z",
     "start_time": "2024-02-20T09:19:59.491695716Z"
    }
   },
   "outputs": [
    {
     "data": {
      "text/plain": "(0.0135606033727526, 0.0874462649226188, 0.0)"
     },
     "execution_count": 45,
     "metadata": {},
     "output_type": "execute_result"
    }
   ],
   "source": [
    "df['val_Energy_MAE'].iloc[-2], df['val_Force_MAE'].iloc[-2], df['val_Stress_MAE'].iloc[-2]"
   ]
  },
  {
   "cell_type": "code",
   "execution_count": 46,
   "id": "bc01f877",
   "metadata": {
    "ExecuteTime": {
     "end_time": "2024-02-20T09:20:01.235372917Z",
     "start_time": "2024-02-20T09:20:01.228383929Z"
    }
   },
   "outputs": [
    {
     "data": {
      "text/plain": "(0.0, 0.0, 0.0)"
     },
     "execution_count": 46,
     "metadata": {},
     "output_type": "execute_result"
    }
   ],
   "source": [
    "df['val_Energy_MAE'].iloc[-1], df['val_Force_MAE'].iloc[-1], df['val_Stress_MAE'].iloc[-1]"
   ]
  },
  {
   "cell_type": "markdown",
   "id": "d8e76beb",
   "metadata": {},
   "source": [
    "# Cleanup the notebook"
   ]
  },
  {
   "cell_type": "code",
   "execution_count": 14,
   "id": "a7147751",
   "metadata": {
    "ExecuteTime": {
     "end_time": "2024-02-28T16:43:27.471122972Z",
     "start_time": "2024-02-28T16:43:27.430455453Z"
    }
   },
   "outputs": [],
   "source": [
    "# This code just performs cleanup for this notebook from temporal files\n",
    "\n",
    "patterns = ['dgl_graph*.bin', 'dgl_line_graph*.bin', 'state_attr*.pt', 'labels*.json', '*labels.txt']\n",
    "for pattern in patterns:\n",
    "    files = glob.glob(pattern)\n",
    "    for file in files:\n",
    "        try:\n",
    "            os.remove(file)\n",
    "        except FileNotFoundError:\n",
    "            pass\n",
    "\n",
    "#shutil.rmtree('logs')\n",
    "#shutil.rmtree('trained_model')\n",
    "#shutil.rmtree('finetuned_model')"
   ]
  }
 ],
 "metadata": {
  "kernelspec": {
   "display_name": "Python 3 (ipykernel)",
   "language": "python",
   "name": "python3"
  },
  "language_info": {
   "codemirror_mode": {
    "name": "ipython",
    "version": 3
   },
   "file_extension": ".py",
   "mimetype": "text/x-python",
   "name": "python",
   "nbconvert_exporter": "python",
   "pygments_lexer": "ipython3",
   "version": "3.10.12"
  }
 },
 "nbformat": 4,
 "nbformat_minor": 5
}
