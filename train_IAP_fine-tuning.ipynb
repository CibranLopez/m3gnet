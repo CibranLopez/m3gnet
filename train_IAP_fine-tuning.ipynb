{
 "cells": [
  {
   "cell_type": "code",
   "execution_count": 1,
   "id": "c2cacba1",
   "metadata": {
    "ExecuteTime": {
     "end_time": "2024-02-20T16:57:56.955954954Z",
     "start_time": "2024-02-20T16:57:54.615004766Z"
    }
   },
   "outputs": [],
   "source": [
    "import numpy             as np\n",
    "import pandas            as pd\n",
    "import pytorch_lightning as pl\n",
    "import ML_library        as MLL\n",
    "import matplotlib.pyplot as plt\n",
    "import matgl\n",
    "import os\n",
    "import warnings\n",
    "import glob\n",
    "\n",
    "from __future__                import annotations\n",
    "from pytorch_lightning.loggers import CSVLogger\n",
    "from matgl.ext.pymatgen        import Structure2Graph, get_element_list\n",
    "from matgl.graph.data          import M3GNetDataset, MGLDataLoader, collate_fn_efs\n",
    "from matgl.utils.training      import PotentialLightningModule\n",
    "\n",
    "# To suppress warnings for clearer output\n",
    "warnings.simplefilter('ignore')"
   ]
  },
  {
   "cell_type": "code",
   "execution_count": 2,
   "id": "bcb9beee",
   "metadata": {
    "ExecuteTime": {
     "end_time": "2024-02-20T16:57:56.962691050Z",
     "start_time": "2024-02-20T16:57:56.958192842Z"
    }
   },
   "outputs": [],
   "source": [
    "data_train_path = 'm3gnet_dataset.xlsx'\n",
    "model_load_path = 'M3GNet-MP-2021.2.8-PES'\n",
    "model_save_path = 'finetuned_model'\n",
    "\n",
    "# Whether to include charge or not\n",
    "charged = True\n",
    "\n",
    "# 0: material, 1: charge state, 2: ionic step\n",
    "depth = 1\n",
    "\n",
    "# Stress weight for training\n",
    "stress_weight = 0\n",
    "\n",
    "# Ratios for diving training data\n",
    "test_ratio       = 0.2\n",
    "validation_ratio = 0.2\n",
    "\n",
    "# Number of epoch for re-training\n",
    "max_epochs = 10\n",
    "\n",
    "# Learning-rate for re-training\n",
    "lr = 1e-4\n",
    "\n",
    "dpi = 100\n",
    "\n",
    "# Version of training you specifically want to analyze\n",
    "current_version = 1"
   ]
  },
  {
   "cell_type": "markdown",
   "id": "5361fc5f",
   "metadata": {},
   "source": [
    "# Load simulation data"
   ]
  },
  {
   "cell_type": "code",
   "outputs": [],
   "source": [
    "# Each folder names a new column, and structure, energy, forces and stresses\n",
    "# of each ionic step are loaded\n",
    "\n",
    "max_counter = 0\n",
    "if os.path.exists(data_train_path):\n",
    "    # Load data for model training\n",
    "    m3gnet_dataset = pd.read_excel(data_train_path, index_col=0, header=[0,1,2])\n",
    "else:\n",
    "    # Path to dataset, structured as:\n",
    "    # path_to_dataset\n",
    "    #     material_i\n",
    "    #         defect_i\n",
    "    #             simulation_i (containing vasprun.xml)\n",
    "    path_to_dataset = '../../../../Desktop/defects'\n",
    "\n",
    "    # Extract the data\n",
    "    source_m3gnet_dataset = MLL.extract_OUTCAR_dataset(path_to_dataset)\n",
    "    #source_m3gnet_dataset.to_excel(data_train_path)\n",
    "\n",
    "source_m3gnet_dataset"
   ],
   "metadata": {
    "collapsed": false
   },
   "id": "d51d74ecd665942"
  },
  {
   "cell_type": "code",
   "outputs": [],
   "source": [
    "len(source_m3gnet_dataset)"
   ],
   "metadata": {
    "collapsed": false
   },
   "id": "7cccd0552edb7710"
  },
  {
   "cell_type": "markdown",
   "source": [
    "# Split data into train-validation-test sets"
   ],
   "metadata": {
    "collapsed": false
   },
   "id": "ae87f53610e0d1fd"
  },
  {
   "cell_type": "markdown",
   "source": [
    "### Decide if we split in terms of mateiral, defect state or simulation directly"
   ],
   "metadata": {
    "collapsed": false
   },
   "id": "3203c6590e62b08e"
  },
  {
   "cell_type": "code",
   "outputs": [],
   "source": [
    "# Clone (copy) the DataFrame\n",
    "m3gnet_dataset = source_m3gnet_dataset.copy()\n",
    "\n",
    "# Remove the outer (top-level) column index up to depth-1 level\n",
    "for i in range(depth):\n",
    "    m3gnet_dataset.columns = m3gnet_dataset.columns.droplevel(0)"
   ],
   "metadata": {
    "collapsed": false
   },
   "id": "4b4a837d5893c535"
  },
  {
   "cell_type": "code",
   "outputs": [],
   "source": [
    "m3gnet_dataset"
   ],
   "metadata": {
    "collapsed": false
   },
   "id": "808b198c2df32c3a"
  },
  {
   "cell_type": "markdown",
   "source": [
    "### Splitting into train-validation-test sets"
   ],
   "metadata": {
    "collapsed": false
   },
   "id": "8c32c85b810ebfe6"
  },
  {
   "cell_type": "code",
   "outputs": [],
   "source": [
    "# Check if data has been already split, else do it randomly\n",
    "\n",
    "path_to_test_labels       = 'test_labels.txt'\n",
    "path_to_validation_labels = 'validation_labels.txt'\n",
    "path_to_train_labels      = 'train_labels.txt'\n",
    "\n",
    "if os.path.exists(path_to_test_labels) and os.path.exists(path_to_validation_labels) and os.path.exists(path_to_train_labels):\n",
    "    # Read labels splitting (which are strings)\n",
    "    test_labels       = np.genfromtxt(path_to_test_labels,       dtype='str').tolist()\n",
    "    validation_labels = np.genfromtxt(path_to_validation_labels, dtype='str').tolist()\n",
    "    train_labels      = np.genfromtxt(path_to_train_labels,      dtype='str').tolist()\n",
    "else:\n",
    "    # Define unique labels, wrt the outer column\n",
    "    unique_labels = np.unique(m3gnet_dataset.columns.get_level_values(0))\n",
    "\n",
    "    # Shuffle the list of unique labels\n",
    "    np.random.shuffle(unique_labels)\n",
    "\n",
    "    # Define the sizes of every set\n",
    "    # Corresponds to the size wrt the number of unique materials in the dataset\n",
    "    test_size       = int(test_ratio       * len(unique_labels))\n",
    "    validation_size = int(validation_ratio * len(unique_labels))\n",
    "\n",
    "    test_labels       = unique_labels[:test_size]\n",
    "    validation_labels = unique_labels[test_size:test_size+validation_size]\n",
    "    train_labels      = unique_labels[test_size+validation_size:]\n",
    "    \n",
    "    # Save this splitting for transfer-learning approaches\n",
    "    np.savetxt(path_to_test_labels,       test_labels,       fmt='%s')\n",
    "    np.savetxt(path_to_validation_labels, validation_labels, fmt='%s')\n",
    "    np.savetxt(path_to_train_labels,      train_labels,      fmt='%s')\n",
    "\n",
    "# Use the loaded/computed labels to generate split datasets\n",
    "test_dataset       = m3gnet_dataset[test_labels]\n",
    "validation_dataset = m3gnet_dataset[validation_labels]\n",
    "train_dataset      = m3gnet_dataset[train_labels]\n",
    "\n",
    "n_test       = np.shape(test_dataset)[1]\n",
    "n_validation = np.shape(validation_dataset)[1]\n",
    "n_train      = np.shape(train_dataset)[1]\n",
    "\n",
    "print(f'Using {n_train} samples to train, {n_validation} to evaluate, and {n_test} to test')"
   ],
   "metadata": {
    "collapsed": false
   },
   "id": "a9a0401814877fae"
  },
  {
   "cell_type": "markdown",
   "source": [
    "### Convert into graph database"
   ],
   "metadata": {
    "collapsed": false
   },
   "id": "8f2a097a08d3ec8e"
  },
  {
   "cell_type": "code",
   "outputs": [],
   "source": [
    "for i in range(len(train_dataset.loc['force'].values)):\n",
    "    train_dataset.loc['force'].values[i] = train_dataset.loc['force'].values[i].tolist()"
   ],
   "metadata": {
    "collapsed": false
   },
   "id": "b0c9be33152e321d"
  },
  {
   "cell_type": "code",
   "outputs": [],
   "source": [
    "for i in range(len(validation_dataset.loc['force'].values)):\n",
    "    validation_dataset.loc['force'].values[i] = validation_dataset.loc['force'].values[i].tolist()"
   ],
   "metadata": {
    "collapsed": false
   },
   "id": "920b43530d41113f"
  },
  {
   "cell_type": "code",
   "outputs": [],
   "source": [
    "for i in range(len(test_dataset.loc['force'].values)):\n",
    "    test_dataset.loc['force'].values[i] = test_dataset.loc['force'].values[i].tolist()"
   ],
   "metadata": {
    "collapsed": false
   },
   "id": "affdfbda12e57cab"
  },
  {
   "cell_type": "code",
   "outputs": [],
   "source": [
    "all_data = []\n",
    "for i in range(3):  # Iterate over train-validation-test sets\n",
    "    name    = ['train', 'val', 'test'][i]\n",
    "    dataset = [train_dataset, validation_dataset, test_dataset][i]\n",
    "    \n",
    "    # Extract data from dataset\n",
    "    structures    = dataset.loc['structure'].values.tolist()\n",
    "    element_types = get_element_list(structures)\n",
    "    converter     = Structure2Graph(element_types=element_types, cutoff=5.0)\n",
    "    \n",
    "    # Define data labels from dataset\n",
    "    stresses = dataset.loc['stress'].values.tolist()\n",
    "    if stress_weight == 0:\n",
    "        stresses = [np.zeros((3, 3)).tolist() for s in structures]\n",
    "\n",
    "    labels = {\n",
    "        'energies': dataset.loc['energy'].values.tolist(),\n",
    "        'forces':   dataset.loc['force'].values.tolist(),\n",
    "        'stresses': stresses,\n",
    "    }\n",
    "    \n",
    "    # Generate dataset\n",
    "    data = M3GNetDataset(\n",
    "        filename=f'dgl_graph-{name}.bin',\n",
    "        filename_line_graph=f'dgl_line_graph-{name}.bin',\n",
    "        filename_state_attr=f'state_attr-{name}.pt',\n",
    "        filename_labels=f'labels-{name}.json',\n",
    "        threebody_cutoff=4.0,\n",
    "        structures=structures,\n",
    "        converter=converter,\n",
    "        labels=labels,\n",
    "        name=f'M3GNetDataset-{name}',\n",
    "    )\n",
    "    all_data.append(data)\n",
    "\n",
    "train_data, val_data, test_data = all_data"
   ],
   "metadata": {
    "collapsed": false
   },
   "id": "8cb6d9c7e245ca79"
  },
  {
   "cell_type": "code",
   "execution_count": 12,
   "id": "9264d841",
   "metadata": {
    "ExecuteTime": {
     "end_time": "2024-02-20T17:04:07.627090830Z",
     "start_time": "2024-02-20T17:04:07.626959449Z"
    }
   },
   "outputs": [],
   "source": [
    "train_loader, val_loader, test_loader = MGLDataLoader(\n",
    "    train_data=train_data,\n",
    "    val_data=val_data,\n",
    "    test_data=test_data,\n",
    "    collate_fn=collate_fn_efs,\n",
    "    batch_size=2,\n",
    "    num_workers=1,\n",
    ")"
   ]
  },
  {
   "cell_type": "markdown",
   "id": "f9fb577b",
   "metadata": {},
   "source": [
    "# Retrain model"
   ]
  },
  {
   "cell_type": "code",
   "execution_count": 13,
   "id": "7fac981a",
   "metadata": {
    "ExecuteTime": {
     "end_time": "2024-02-20T17:04:07.800572881Z",
     "start_time": "2024-02-20T17:04:07.627143370Z"
    }
   },
   "outputs": [],
   "source": [
    "# Download a pre-trained M3GNet\n",
    "m3gnet_nnp       = matgl.load_model(model_load_path)\n",
    "model_pretrained = m3gnet_nnp.model\n",
    "\n",
    "# Stress and site-wise are added to training loss\n",
    "# Stresses are being computed (calc_stress=True)\n",
    "lit_module_finetune = PotentialLightningModule(model=model_pretrained,\n",
    "                                               stress_weight=stress_weight,\n",
    "                                               loss='mse_loss',\n",
    "                                               lr=lr)"
   ]
  },
  {
   "cell_type": "code",
   "execution_count": 14,
   "id": "2a3ffedd",
   "metadata": {
    "scrolled": true,
    "ExecuteTime": {
     "end_time": "2024-02-20T20:24:03.145261002Z",
     "start_time": "2024-02-20T17:04:07.802621337Z"
    }
   },
   "outputs": [
    {
     "name": "stderr",
     "output_type": "stream",
     "text": [
      "GPU available: False, used: False\n",
      "TPU available: False, using: 0 TPU cores\n",
      "IPU available: False, using: 0 IPUs\n",
      "HPU available: False, using: 0 HPUs\n",
      "Missing logger folder: logs/M3GNet_finetuning\n",
      "\n",
      "  | Name  | Type              | Params\n",
      "--------------------------------------------\n",
      "0 | mae   | MeanAbsoluteError | 0     \n",
      "1 | rmse  | MeanSquaredError  | 0     \n",
      "2 | model | Potential         | 288 K \n",
      "--------------------------------------------\n",
      "288 K     Trainable params\n",
      "0         Non-trainable params\n",
      "288 K     Total params\n",
      "1.153     Total estimated model params size (MB)\n"
     ]
    },
    {
     "data": {
      "text/plain": "Sanity Checking: |          | 0/? [00:00<?, ?it/s]",
      "application/vnd.jupyter.widget-view+json": {
       "version_major": 2,
       "version_minor": 0,
       "model_id": "6aca8a00d571446f8063483aed16e917"
      }
     },
     "metadata": {},
     "output_type": "display_data"
    },
    {
     "data": {
      "text/plain": "Training: |          | 0/? [00:00<?, ?it/s]",
      "application/vnd.jupyter.widget-view+json": {
       "version_major": 2,
       "version_minor": 0,
       "model_id": "e0df419ee56e4c32a98e1cdfd1f752f5"
      }
     },
     "metadata": {},
     "output_type": "display_data"
    },
    {
     "data": {
      "text/plain": "Validation: |          | 0/? [00:00<?, ?it/s]",
      "application/vnd.jupyter.widget-view+json": {
       "version_major": 2,
       "version_minor": 0,
       "model_id": "d3c4142b9761466e9417c45ecbaace3f"
      }
     },
     "metadata": {},
     "output_type": "display_data"
    },
    {
     "data": {
      "text/plain": "Validation: |          | 0/? [00:00<?, ?it/s]",
      "application/vnd.jupyter.widget-view+json": {
       "version_major": 2,
       "version_minor": 0,
       "model_id": "24160cf17c96426f875bd5a7f860a5e3"
      }
     },
     "metadata": {},
     "output_type": "display_data"
    },
    {
     "data": {
      "text/plain": "Validation: |          | 0/? [00:00<?, ?it/s]",
      "application/vnd.jupyter.widget-view+json": {
       "version_major": 2,
       "version_minor": 0,
       "model_id": "f72d6a342a9f464d8f26833baa50711a"
      }
     },
     "metadata": {},
     "output_type": "display_data"
    },
    {
     "data": {
      "text/plain": "Validation: |          | 0/? [00:00<?, ?it/s]",
      "application/vnd.jupyter.widget-view+json": {
       "version_major": 2,
       "version_minor": 0,
       "model_id": "b6246d6a6d8542ed831fbeefb3ff66ef"
      }
     },
     "metadata": {},
     "output_type": "display_data"
    },
    {
     "data": {
      "text/plain": "Validation: |          | 0/? [00:00<?, ?it/s]",
      "application/vnd.jupyter.widget-view+json": {
       "version_major": 2,
       "version_minor": 0,
       "model_id": "103248ba6db24e739d3b647719515c44"
      }
     },
     "metadata": {},
     "output_type": "display_data"
    },
    {
     "data": {
      "text/plain": "Validation: |          | 0/? [00:00<?, ?it/s]",
      "application/vnd.jupyter.widget-view+json": {
       "version_major": 2,
       "version_minor": 0,
       "model_id": "a30bfcbae81e4cc3b3e093d7192cebc3"
      }
     },
     "metadata": {},
     "output_type": "display_data"
    },
    {
     "data": {
      "text/plain": "Validation: |          | 0/? [00:00<?, ?it/s]",
      "application/vnd.jupyter.widget-view+json": {
       "version_major": 2,
       "version_minor": 0,
       "model_id": "70d4a8cb907743f8b81c4a81b1232908"
      }
     },
     "metadata": {},
     "output_type": "display_data"
    },
    {
     "data": {
      "text/plain": "Validation: |          | 0/? [00:00<?, ?it/s]",
      "application/vnd.jupyter.widget-view+json": {
       "version_major": 2,
       "version_minor": 0,
       "model_id": "2278d779d203441396ca0766e66cab26"
      }
     },
     "metadata": {},
     "output_type": "display_data"
    },
    {
     "data": {
      "text/plain": "Validation: |          | 0/? [00:00<?, ?it/s]",
      "application/vnd.jupyter.widget-view+json": {
       "version_major": 2,
       "version_minor": 0,
       "model_id": "c5335dfa83c843a6a119f69007a6c2bf"
      }
     },
     "metadata": {},
     "output_type": "display_data"
    },
    {
     "data": {
      "text/plain": "Validation: |          | 0/? [00:00<?, ?it/s]",
      "application/vnd.jupyter.widget-view+json": {
       "version_major": 2,
       "version_minor": 0,
       "model_id": "fda01b23a03a489d91d03aaaf95c160c"
      }
     },
     "metadata": {},
     "output_type": "display_data"
    },
    {
     "name": "stderr",
     "output_type": "stream",
     "text": [
      "`Trainer.fit` stopped: `max_epochs=10` reached.\n"
     ]
    }
   ],
   "source": [
    "# If you wish to disable GPU or MPS (M1 mac) training, use the accelerator='cpu' kwarg.\n",
    "# accelerator='auto' selects the appropriate Accelerator\n",
    "logger  = CSVLogger('logs',\n",
    "                    name='M3GNet_finetuning')\n",
    "\n",
    "trainer = pl.Trainer(max_epochs=max_epochs,\n",
    "                     accelerator='auto',\n",
    "                     logger=logger,\n",
    "                     inference_mode=False)\n",
    "\n",
    "trainer.fit(model=lit_module_finetune,\n",
    "            train_dataloaders=train_loader,\n",
    "            val_dataloaders=val_loader\n",
    "           )\n",
    "\n",
    "# Save trained model\n",
    "model_pretrained.save(model_save_path)"
   ]
  },
  {
   "cell_type": "markdown",
   "id": "080f1dbc",
   "metadata": {},
   "source": [
    "# Analyze metrics"
   ]
  },
  {
   "cell_type": "code",
   "execution_count": 15,
   "id": "1b3f2256",
   "metadata": {
    "scrolled": true,
    "ExecuteTime": {
     "end_time": "2024-02-20T20:26:53.371854443Z",
     "start_time": "2024-02-20T20:24:03.146194481Z"
    }
   },
   "outputs": [
    {
     "data": {
      "text/plain": "Testing: |          | 0/? [00:00<?, ?it/s]",
      "application/vnd.jupyter.widget-view+json": {
       "version_major": 2,
       "version_minor": 0,
       "model_id": "bf3ab9ce694f41ff9439016803d83c60"
      }
     },
     "metadata": {},
     "output_type": "display_data"
    },
    {
     "name": "stdout",
     "output_type": "stream",
     "text": [
      "────────────────────────────────────────────────────────────────────────────────────────────────────────────────────────\n",
      "       Test metric             DataLoader 0\n",
      "────────────────────────────────────────────────────────────────────────────────────────────────────────────────────────\n",
      "     test_Energy_MAE                nan\n",
      "    test_Energy_RMSE                nan\n",
      "     test_Force_MAE                 nan\n",
      "     test_Force_RMSE                nan\n",
      "   test_Site_Wise_MAE               0.0\n",
      "   test_Site_Wise_RMSE              0.0\n",
      "     test_Stress_MAE                0.0\n",
      "    test_Stress_RMSE                0.0\n",
      "     test_Total_Loss                nan\n",
      "────────────────────────────────────────────────────────────────────────────────────────────────────────────────────────\n"
     ]
    },
    {
     "data": {
      "text/plain": "[{'test_Total_Loss': nan,\n  'test_Energy_MAE': nan,\n  'test_Force_MAE': nan,\n  'test_Stress_MAE': 0.0,\n  'test_Site_Wise_MAE': 0.0,\n  'test_Energy_RMSE': nan,\n  'test_Force_RMSE': nan,\n  'test_Stress_RMSE': 0.0,\n  'test_Site_Wise_RMSE': 0.0}]"
     },
     "execution_count": 15,
     "metadata": {},
     "output_type": "execute_result"
    }
   ],
   "source": [
    "# E_MAE = meV/atom, F_MAE eV/A, S_MAE GPa\n",
    "trainer.test(model=lit_module_finetune,\n",
    "            dataloaders=test_loader\n",
    "           )"
   ]
  },
  {
   "cell_type": "code",
   "execution_count": null,
   "id": "9a914e28",
   "metadata": {
    "ExecuteTime": {
     "start_time": "2024-02-20T11:11:01.699126873Z"
    },
    "scrolled": true
   },
   "outputs": [],
   "source": [
    "# Read the CSV file\n",
    "path_to_csv = f'logs/M3GNet_finetuning/version_{current_version}'\n",
    "df = pd.read_csv(f'{path_to_csv}/metrics.csv')\n",
    "df.head()"
   ]
  },
  {
   "cell_type": "code",
   "execution_count": null,
   "id": "a3134249",
   "metadata": {
    "ExecuteTime": {
     "start_time": "2024-02-20T11:11:01.699159720Z"
    },
    "scrolled": true
   },
   "outputs": [],
   "source": [
    "# NaN to zero\n",
    "df = df.fillna(0)\n",
    "\n",
    "# Calculate the sum of every two consecutive rows\n",
    "df = df.groupby(df.index // 2).sum()\n",
    "df.head()"
   ]
  },
  {
   "cell_type": "code",
   "execution_count": null,
   "id": "643704df",
   "metadata": {
    "ExecuteTime": {
     "start_time": "2024-02-20T11:11:01.699191223Z"
    }
   },
   "outputs": [],
   "source": [
    "# Get the list of loss column names\n",
    "loss_columns = [col for col in df.columns if col.startswith('val_') or col.startswith('train_')]\n",
    "\n",
    "# Create a figure and axis\n",
    "fig = plt.subplots(figsize=(10, 6))\n",
    "\n",
    "# Plot each loss\n",
    "for loss_column in loss_columns:\n",
    "    plt.plot(df.index, np.log(df[loss_column]), label=loss_column)\n",
    "\n",
    "plt.xlabel('Epoch')\n",
    "plt.ylabel('Loss')\n",
    "plt.legend(loc=(1.01, 0))\n",
    "plt.savefig(f'm3gnet_loss.eps', dpi=dpi, bbox_inches='tight')\n",
    "plt.show()"
   ]
  },
  {
   "cell_type": "code",
   "execution_count": 45,
   "id": "9d85d562",
   "metadata": {
    "ExecuteTime": {
     "end_time": "2024-02-20T09:19:59.496787113Z",
     "start_time": "2024-02-20T09:19:59.491695716Z"
    }
   },
   "outputs": [
    {
     "data": {
      "text/plain": [
       "(0.0135606033727526, 0.0874462649226188, 0.0)"
      ]
     },
     "execution_count": 45,
     "metadata": {},
     "output_type": "execute_result"
    }
   ],
   "source": [
    "df['val_Energy_MAE'].iloc[-2], df['val_Force_MAE'].iloc[-2], df['val_Stress_MAE'].iloc[-2]"
   ]
  },
  {
   "cell_type": "code",
   "execution_count": 46,
   "id": "bc01f877",
   "metadata": {
    "ExecuteTime": {
     "end_time": "2024-02-20T09:20:01.235372917Z",
     "start_time": "2024-02-20T09:20:01.228383929Z"
    }
   },
   "outputs": [
    {
     "data": {
      "text/plain": [
       "(0.0, 0.0, 0.0)"
      ]
     },
     "execution_count": 46,
     "metadata": {},
     "output_type": "execute_result"
    }
   ],
   "source": [
    "df['val_Energy_MAE'].iloc[-1], df['val_Force_MAE'].iloc[-1], df['val_Stress_MAE'].iloc[-1]"
   ]
  },
  {
   "cell_type": "markdown",
   "id": "d8e76beb",
   "metadata": {},
   "source": [
    "# Cleanup the notebook"
   ]
  },
  {
   "cell_type": "code",
   "execution_count": 26,
   "id": "a7147751",
   "metadata": {
    "ExecuteTime": {
     "end_time": "2024-02-20T09:04:42.514729694Z",
     "start_time": "2024-02-20T09:04:42.507719078Z"
    }
   },
   "outputs": [],
   "source": [
    "# This code just performs cleanup for this notebook from temporal files\n",
    "\n",
    "patterns = ['dgl_graph*.bin', 'dgl_line_graph*.bin', 'state_attr*.pt', 'labels*.json']\n",
    "for pattern in patterns:\n",
    "    files = glob.glob(pattern)\n",
    "    for file in files:\n",
    "        try:\n",
    "            os.remove(file)\n",
    "        except FileNotFoundError:\n",
    "            pass\n",
    "\n",
    "#shutil.rmtree('logs')\n",
    "#shutil.rmtree('trained_model')\n",
    "#shutil.rmtree('finetuned_model')"
   ]
  }
 ],
 "metadata": {
  "kernelspec": {
   "display_name": "Python 3 (ipykernel)",
   "language": "python",
   "name": "python3"
  },
  "language_info": {
   "codemirror_mode": {
    "name": "ipython",
    "version": 3
   },
   "file_extension": ".py",
   "mimetype": "text/x-python",
   "name": "python",
   "nbconvert_exporter": "python",
   "pygments_lexer": "ipython3",
   "version": "3.10.12"
  }
 },
 "nbformat": 4,
 "nbformat_minor": 5
}
