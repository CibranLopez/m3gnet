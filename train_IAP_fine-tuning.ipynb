{
 "cells": [
  {
   "cell_type": "code",
   "outputs": [],
   "source": [
    "import numpy             as np\n",
    "import pytorch_lightning as pl\n",
    "import ML_library        as MLL\n",
    "import matplotlib.pyplot as plt\n",
    "import matgl\n",
    "import os\n",
    "import warnings\n",
    "import torch\n",
    "import json\n",
    "\n",
    "from __future__                import annotations\n",
    "from pytorch_lightning.loggers import CSVLogger\n",
    "from matgl.ext.pymatgen        import Structure2Graph, get_element_list\n",
    "from matgl.graph.data          import M3GNetDataset, MGLDataLoader, collate_fn_efs\n",
    "from matgl.utils.training      import PotentialLightningModule\n",
    "\n",
    "# To suppress warnings for clearer output\n",
    "warnings.simplefilter('ignore')\n",
    "\n",
    "# Check if GPU is available\n",
    "device = torch.device('cuda' if torch.cuda.is_available() else 'cpu')"
   ],
   "metadata": {
    "collapsed": false,
    "ExecuteTime": {
     "end_time": "2024-06-21T11:56:27.841130142Z",
     "start_time": "2024-06-21T11:56:24.689919267Z"
    }
   },
   "id": "779806c81501309a",
   "execution_count": 1
  },
  {
   "cell_type": "code",
   "outputs": [
    {
     "data": {
      "text/plain": "device(type='cpu')"
     },
     "execution_count": 2,
     "metadata": {},
     "output_type": "execute_result"
    }
   ],
   "source": [
    "device"
   ],
   "metadata": {
    "collapsed": false,
    "ExecuteTime": {
     "end_time": "2024-06-21T11:56:27.847561223Z",
     "start_time": "2024-06-21T11:56:27.844657017Z"
    }
   },
   "id": "e5618a095f97c090",
   "execution_count": 2
  },
  {
   "cell_type": "code",
   "outputs": [],
   "source": [
    "model_load_path = 'M3GNet-MP-2021.2.8-PES'\n",
    "model_save_path = 'finetuned_model'\n",
    "\n",
    "# Whether to include charge or not\n",
    "charged = False\n",
    "\n",
    "# 0: material, 1: charge state, 2: ionic step\n",
    "depth = 1\n",
    "\n",
    "# Define batch size\n",
    "batch_size = 128\n",
    "\n",
    "# Stress weight for training\n",
    "stress_weight = 0.7  # 0.7\n",
    "\n",
    "# Ratios for diving training data\n",
    "test_ratio       = 0.2\n",
    "validation_ratio = 0.2\n",
    "\n",
    "# Number of epoch for re-training\n",
    "max_epochs = 5\n",
    "\n",
    "# Learning-rate for re-training\n",
    "lr = 1e-4\n",
    "\n",
    "dpi = 100\n",
    "\n",
    "# Version of training you specifically want to analyze\n",
    "current_version = 0\n",
    "\n",
    "# Each folder names a new column, and structure, energy, forces and stresses\n",
    "# of each ionic step are loaded\n",
    "\n",
    "# Path to dataset, structured as:\n",
    "# path_to_dataset\n",
    "#     material_i\n",
    "#         defect_i\n",
    "#             simulation_i (containing vasprun.xml)\n",
    "\n",
    "path_to_dataset = '../../../Desktop/database/HSE06+D3+SOC'\n",
    "#path_to_dataset = '../../../Desktop/CeO2-data'\n",
    "\n",
    "# Create and save as a dictionary\n",
    "model_parameters = {\n",
    "    'model_load_path':  model_load_path,\n",
    "    'model_save_path':  model_save_path,\n",
    "    'charged':          charged,\n",
    "    'depth':            depth,\n",
    "    'batch_size':       batch_size,\n",
    "    'stress_weight':    stress_weight,\n",
    "    'test_ratio':       test_ratio,\n",
    "    'validation_ratio': validation_ratio,\n",
    "    'max_epochs':       max_epochs,\n",
    "    'lr':               lr,\n",
    "    'path_to_dataset':  path_to_dataset,\n",
    "}\n",
    "\n",
    "# Write the dictionary to the file in JSON format\n",
    "with open(f'{model_save_path}/model_parameters.json', 'w') as json_file:\n",
    "    json.dump(model_parameters, json_file)"
   ],
   "metadata": {
    "collapsed": false,
    "ExecuteTime": {
     "end_time": "2024-06-21T11:57:06.301910780Z",
     "start_time": "2024-06-21T11:57:06.261247874Z"
    }
   },
   "id": "d1c59ad8430839a7",
   "execution_count": 4
  },
  {
   "cell_type": "markdown",
   "source": [
    "# Load simulation data"
   ],
   "metadata": {
    "collapsed": false
   },
   "id": "e1609cea53c3b6fe"
  },
  {
   "cell_type": "code",
   "outputs": [
    {
     "name": "stdout",
     "output_type": "stream",
     "text": [
      "\n",
      "BiSBr\n",
      "\tvac_1_Bi_-2\n",
      "\tvac_1_Bi_-3\n",
      "\tvac_1_Bi_0\n",
      "\tvac_1_Bi_2\n",
      "\tvac_2_S_-2\n",
      "\tvac_2_S_1\n",
      "\tvac_2_S_2\n",
      "\tvac_3_Br_-1\n",
      "\tvac_3_Br_0\n"
     ]
    },
    {
     "data": {
      "text/plain": "                                                          BiSBr   \n                                              BiSBr_vac_1_Bi_-2   \n                                            BiSBr_vac_1_Bi_-2_0   \nstructure     [[ 1.12288994 11.84915635  3.76785106] Bi2.985...  \\\nenergy                                              -346.683161   \nforce         [[0.00835869, 0.00064517, 0.00031], [-0.007161...   \nstress        [[1.18883182, -0.045450646000000004, 0.0572963...   \ncharge_state                                                1.0   \n\n                                                                  \n                                                                  \n                                            BiSBr_vac_1_Bi_-2_1   \nstructure     [[ 1.12305124 11.84916887  3.76785702] Bi2.985...  \\\nenergy                                              -346.683238   \nforce         [[0.00825922, 0.00017896, 0.00014339], [-0.006...   \nstress        [[1.188422523, -0.04534139300000001, 0.0570914...   \ncharge_state                                                1.0   \n\n                                                                  \n                                                                  \n                                            BiSBr_vac_1_Bi_-2_2   \nstructure     [[ 1.12345278 11.84917762  3.76786401] Bi2.985...  \\\nenergy                                              -346.683418   \nforce         [[0.00843988, 0.00190129, -0.00032288], [-0.00...   \nstress        [[1.187356265, -0.045072649, 0.056845249], [-0...   \ncharge_state                                                1.0   \n\n                                                                  \n                                                                  \n                                            BiSBr_vac_1_Bi_-2_3   \nstructure     [[ 1.12356514 11.84918963  3.76786329] Bi2.985...  \\\nenergy                                               -346.68347   \nforce         [[0.00845843, 0.0007909, 0.00012468], [-0.0089...   \nstress        [[1.1868099900000002, -0.045100825000000004, 0...   \ncharge_state                                                1.0   \n\n                                                                  \n                                                                  \n                                            BiSBr_vac_1_Bi_-2_4   \nstructure     [[ 1.12378798 11.8491977   3.76786864] Bi2.985...  \\\nenergy                                              -346.683566   \nforce         [[0.00914372, 0.0006242, -0.00029772], [-0.007...   \nstress        [[1.185687683, -0.044955313000000004, 0.056849...   \ncharge_state                                                1.0   \n\n                                                                  \n                                                                  \n                                            BiSBr_vac_1_Bi_-2_5   \nstructure     [[ 1.12373388 11.8491965   3.76786854] Bi2.985...  \\\nenergy                                              -346.683546   \nforce         [[0.00970161, 0.00084707, -9.275e-05], [-0.007...   \nstress        [[1.1855293310000001, -0.045067341000000004, 0...   \ncharge_state                                                1.0   \n\n                                                                  \n                                                                  \n                                            BiSBr_vac_1_Bi_-2_6   \nstructure     [[ 1.12351003 11.84918929  3.76784839] Bi2.985...  \\\nenergy                                              -346.683451   \nforce         [[0.00897098, 0.00166177, -1.475e-05], [-0.006...   \nstress        [[1.1874243260000001, -0.045151206, 0.05688580...   \ncharge_state                                                1.0   \n\n                                                                  \n                                                                  \n                                            BiSBr_vac_1_Bi_-2_7   \nstructure     [[ 1.12387285 11.84919478  3.7678562 ] Bi2.985...  \\\nenergy                                              -346.683604   \nforce         [[0.0087766, 0.00174576, -0.00052072], [-0.006...   \nstress        [[1.186097223, -0.044836004000000006, 0.056903...   \ncharge_state                                                1.0   \n\n                                                                  \n                                                                  \n                                            BiSBr_vac_1_Bi_-2_8   \nstructure     [[ 1.12460783 11.84923424  3.76782196] Bi2.985...  \\\nenergy                                              -346.683912   \nforce         [[0.00971229, 0.00088492, 0.00024059], [-0.005...   \nstress        [[1.183644189, -0.04446411, 0.0571164360000000...   \ncharge_state                                                1.0   \n\n                                                                 ...   \n                                                                 ...   \n                                            BiSBr_vac_1_Bi_-2_9  ...   \nstructure     [[ 1.12569264 11.84926118  3.7678011 ] Bi2.985...  ...  \\\nenergy                                               -346.68434  ...   \nforce         [[0.01202756, 0.00091644, 0.00026965], [-0.005...  ...   \nstress        [[1.182371493, -0.043553064, 0.057390124], [-0...  ...   \ncharge_state                                                1.0  ...   \n\n                                                                  \n                                               BiSBr_vac_3_Br_0   \n                                            BiSBr_vac_3_Br_0_19   \nstructure     [[0.99954117 3.32938725 3.78335491] Bi3+, [ 1....  \\\nenergy                                              -357.012702   \nforce         [[-0.00848698, -0.00337636, 0.00832999], [0.00...   \nstress        [[2.188154276, 0.002678751, -0.005328923], [0....   \ncharge_state                                                0.0   \n\n                                                                  \n                                                                  \n                                            BiSBr_vac_3_Br_0_20   \nstructure     [[0.99915678 3.32910449 3.78321147] Bi3+, [ 1....  \\\nenergy                                               -357.01315   \nforce         [[-0.005821, -0.00269221, 0.00724404], [0.0032...   \nstress        [[2.184244166, 0.0014387890000000002, -0.00394...   \ncharge_state                                                0.0   \n\n                                                                  \n                                                                  \n                                            BiSBr_vac_3_Br_0_21   \nstructure     [[0.99868096 3.32875429 3.7830338 ] Bi3+, [ 1....  \\\nenergy                                              -357.013298   \nforce         [[-0.00205848, -0.0013421, 0.00560257], [-0.00...   \nstress        [[2.180521461, -4.3988000000000006e-05, -0.002...   \ncharge_state                                                0.0   \n\n                                                                  \n                                                                  \n                                            BiSBr_vac_3_Br_0_22   \nstructure     [[0.99817627 3.32839636 3.78334267] Bi3+, [ 1....  \\\nenergy                                              -357.013663   \nforce         [[0.00239626, -0.00056658, 0.00185966], [-0.00...   \nstress        [[2.170404267, -0.000531909, -0.00198525], [-0...   \ncharge_state                                                0.0   \n\n                                                                  \n                                                                  \n                                            BiSBr_vac_3_Br_0_23   \nstructure     [[0.99760687 3.32799246 3.78369102] Bi3+, [ 1....  \\\nenergy                                              -357.013789   \nforce         [[0.0085215, 0.00191985, -0.00363173], [-0.006...   \nstress        [[2.1597340970000003, -0.0010707029999999999, ...   \ncharge_state                                                0.0   \n\n                                                                  \n                                                                  \n                                            BiSBr_vac_3_Br_0_24   \nstructure     [[0.99801396 3.32788676 3.78359324] Bi3+, [ 1....  \\\nenergy                                              -357.014135   \nforce         [[0.00376318, 0.00238075, -0.00449801], [-0.00...   \nstress        [[2.152978238, 0.000176565, -0.001665943], [0....   \ncharge_state                                                0.0   \n\n                                                                  \n                                                                  \n                                            BiSBr_vac_3_Br_0_25   \nstructure     [[0.99828472 3.32781641 3.78352826] Bi3+, [ 1....  \\\nenergy                                              -357.014183   \nforce         [[0.00028265, 0.00513489, -0.00418222], [0.004...   \nstress        [[2.148861257, 0.001051386, -0.001601949], [0....   \ncharge_state                                                0.0   \n\n                                                                  \n                                                                  \n                                            BiSBr_vac_3_Br_0_26   \nstructure     [[0.99855574 3.3283104  3.78301724] Bi3+, [ 1....  \\\nenergy                                              -357.014373   \nforce         [[-0.00315621, -0.00314707, -0.00117365], [0.0...   \nstress        [[2.147951402, 5.776000000000001e-05, -0.00185...   \ncharge_state                                                0.0   \n\n                                                                  \n                                                                  \n                                            BiSBr_vac_3_Br_0_27   \nstructure     [[0.99871817 3.3286069  3.78271074] Bi3+, [ 1....  \\\nenergy                                              -357.014399   \nforce         [[-0.00486497, -0.00716668, 0.00134633], [0.00...   \nstress        [[2.145998127, -0.000543678, -0.00204980700000...   \ncharge_state                                                0.0   \n\n                                                                 \n                                                                 \n                                            BiSBr_vac_3_Br_0_28  \nstructure     [[0.99836253 3.32816507 3.78243137] Bi3+, [ 1....  \nenergy                                              -357.014542  \nforce         [[0.00145237, 0.00149947, 0.00234208], [0.0021...  \nstress        [[2.14501845, -0.0017708430000000002, -0.00241...  \ncharge_state                                                0.0  \n\n[5 rows x 273 columns]",
      "text/html": "<div>\n<style scoped>\n    .dataframe tbody tr th:only-of-type {\n        vertical-align: middle;\n    }\n\n    .dataframe tbody tr th {\n        vertical-align: top;\n    }\n\n    .dataframe thead tr th {\n        text-align: left;\n    }\n</style>\n<table border=\"1\" class=\"dataframe\">\n  <thead>\n    <tr>\n      <th></th>\n      <th colspan=\"21\" halign=\"left\">BiSBr</th>\n    </tr>\n    <tr>\n      <th></th>\n      <th colspan=\"10\" halign=\"left\">BiSBr_vac_1_Bi_-2</th>\n      <th>...</th>\n      <th colspan=\"10\" halign=\"left\">BiSBr_vac_3_Br_0</th>\n    </tr>\n    <tr>\n      <th></th>\n      <th>BiSBr_vac_1_Bi_-2_0</th>\n      <th>BiSBr_vac_1_Bi_-2_1</th>\n      <th>BiSBr_vac_1_Bi_-2_2</th>\n      <th>BiSBr_vac_1_Bi_-2_3</th>\n      <th>BiSBr_vac_1_Bi_-2_4</th>\n      <th>BiSBr_vac_1_Bi_-2_5</th>\n      <th>BiSBr_vac_1_Bi_-2_6</th>\n      <th>BiSBr_vac_1_Bi_-2_7</th>\n      <th>BiSBr_vac_1_Bi_-2_8</th>\n      <th>BiSBr_vac_1_Bi_-2_9</th>\n      <th>...</th>\n      <th>BiSBr_vac_3_Br_0_19</th>\n      <th>BiSBr_vac_3_Br_0_20</th>\n      <th>BiSBr_vac_3_Br_0_21</th>\n      <th>BiSBr_vac_3_Br_0_22</th>\n      <th>BiSBr_vac_3_Br_0_23</th>\n      <th>BiSBr_vac_3_Br_0_24</th>\n      <th>BiSBr_vac_3_Br_0_25</th>\n      <th>BiSBr_vac_3_Br_0_26</th>\n      <th>BiSBr_vac_3_Br_0_27</th>\n      <th>BiSBr_vac_3_Br_0_28</th>\n    </tr>\n  </thead>\n  <tbody>\n    <tr>\n      <th>structure</th>\n      <td>[[ 1.12288994 11.84915635  3.76785106] Bi2.985...</td>\n      <td>[[ 1.12305124 11.84916887  3.76785702] Bi2.985...</td>\n      <td>[[ 1.12345278 11.84917762  3.76786401] Bi2.985...</td>\n      <td>[[ 1.12356514 11.84918963  3.76786329] Bi2.985...</td>\n      <td>[[ 1.12378798 11.8491977   3.76786864] Bi2.985...</td>\n      <td>[[ 1.12373388 11.8491965   3.76786854] Bi2.985...</td>\n      <td>[[ 1.12351003 11.84918929  3.76784839] Bi2.985...</td>\n      <td>[[ 1.12387285 11.84919478  3.7678562 ] Bi2.985...</td>\n      <td>[[ 1.12460783 11.84923424  3.76782196] Bi2.985...</td>\n      <td>[[ 1.12569264 11.84926118  3.7678011 ] Bi2.985...</td>\n      <td>...</td>\n      <td>[[0.99954117 3.32938725 3.78335491] Bi3+, [ 1....</td>\n      <td>[[0.99915678 3.32910449 3.78321147] Bi3+, [ 1....</td>\n      <td>[[0.99868096 3.32875429 3.7830338 ] Bi3+, [ 1....</td>\n      <td>[[0.99817627 3.32839636 3.78334267] Bi3+, [ 1....</td>\n      <td>[[0.99760687 3.32799246 3.78369102] Bi3+, [ 1....</td>\n      <td>[[0.99801396 3.32788676 3.78359324] Bi3+, [ 1....</td>\n      <td>[[0.99828472 3.32781641 3.78352826] Bi3+, [ 1....</td>\n      <td>[[0.99855574 3.3283104  3.78301724] Bi3+, [ 1....</td>\n      <td>[[0.99871817 3.3286069  3.78271074] Bi3+, [ 1....</td>\n      <td>[[0.99836253 3.32816507 3.78243137] Bi3+, [ 1....</td>\n    </tr>\n    <tr>\n      <th>energy</th>\n      <td>-346.683161</td>\n      <td>-346.683238</td>\n      <td>-346.683418</td>\n      <td>-346.68347</td>\n      <td>-346.683566</td>\n      <td>-346.683546</td>\n      <td>-346.683451</td>\n      <td>-346.683604</td>\n      <td>-346.683912</td>\n      <td>-346.68434</td>\n      <td>...</td>\n      <td>-357.012702</td>\n      <td>-357.01315</td>\n      <td>-357.013298</td>\n      <td>-357.013663</td>\n      <td>-357.013789</td>\n      <td>-357.014135</td>\n      <td>-357.014183</td>\n      <td>-357.014373</td>\n      <td>-357.014399</td>\n      <td>-357.014542</td>\n    </tr>\n    <tr>\n      <th>force</th>\n      <td>[[0.00835869, 0.00064517, 0.00031], [-0.007161...</td>\n      <td>[[0.00825922, 0.00017896, 0.00014339], [-0.006...</td>\n      <td>[[0.00843988, 0.00190129, -0.00032288], [-0.00...</td>\n      <td>[[0.00845843, 0.0007909, 0.00012468], [-0.0089...</td>\n      <td>[[0.00914372, 0.0006242, -0.00029772], [-0.007...</td>\n      <td>[[0.00970161, 0.00084707, -9.275e-05], [-0.007...</td>\n      <td>[[0.00897098, 0.00166177, -1.475e-05], [-0.006...</td>\n      <td>[[0.0087766, 0.00174576, -0.00052072], [-0.006...</td>\n      <td>[[0.00971229, 0.00088492, 0.00024059], [-0.005...</td>\n      <td>[[0.01202756, 0.00091644, 0.00026965], [-0.005...</td>\n      <td>...</td>\n      <td>[[-0.00848698, -0.00337636, 0.00832999], [0.00...</td>\n      <td>[[-0.005821, -0.00269221, 0.00724404], [0.0032...</td>\n      <td>[[-0.00205848, -0.0013421, 0.00560257], [-0.00...</td>\n      <td>[[0.00239626, -0.00056658, 0.00185966], [-0.00...</td>\n      <td>[[0.0085215, 0.00191985, -0.00363173], [-0.006...</td>\n      <td>[[0.00376318, 0.00238075, -0.00449801], [-0.00...</td>\n      <td>[[0.00028265, 0.00513489, -0.00418222], [0.004...</td>\n      <td>[[-0.00315621, -0.00314707, -0.00117365], [0.0...</td>\n      <td>[[-0.00486497, -0.00716668, 0.00134633], [0.00...</td>\n      <td>[[0.00145237, 0.00149947, 0.00234208], [0.0021...</td>\n    </tr>\n    <tr>\n      <th>stress</th>\n      <td>[[1.18883182, -0.045450646000000004, 0.0572963...</td>\n      <td>[[1.188422523, -0.04534139300000001, 0.0570914...</td>\n      <td>[[1.187356265, -0.045072649, 0.056845249], [-0...</td>\n      <td>[[1.1868099900000002, -0.045100825000000004, 0...</td>\n      <td>[[1.185687683, -0.044955313000000004, 0.056849...</td>\n      <td>[[1.1855293310000001, -0.045067341000000004, 0...</td>\n      <td>[[1.1874243260000001, -0.045151206, 0.05688580...</td>\n      <td>[[1.186097223, -0.044836004000000006, 0.056903...</td>\n      <td>[[1.183644189, -0.04446411, 0.0571164360000000...</td>\n      <td>[[1.182371493, -0.043553064, 0.057390124], [-0...</td>\n      <td>...</td>\n      <td>[[2.188154276, 0.002678751, -0.005328923], [0....</td>\n      <td>[[2.184244166, 0.0014387890000000002, -0.00394...</td>\n      <td>[[2.180521461, -4.3988000000000006e-05, -0.002...</td>\n      <td>[[2.170404267, -0.000531909, -0.00198525], [-0...</td>\n      <td>[[2.1597340970000003, -0.0010707029999999999, ...</td>\n      <td>[[2.152978238, 0.000176565, -0.001665943], [0....</td>\n      <td>[[2.148861257, 0.001051386, -0.001601949], [0....</td>\n      <td>[[2.147951402, 5.776000000000001e-05, -0.00185...</td>\n      <td>[[2.145998127, -0.000543678, -0.00204980700000...</td>\n      <td>[[2.14501845, -0.0017708430000000002, -0.00241...</td>\n    </tr>\n    <tr>\n      <th>charge_state</th>\n      <td>1.0</td>\n      <td>1.0</td>\n      <td>1.0</td>\n      <td>1.0</td>\n      <td>1.0</td>\n      <td>1.0</td>\n      <td>1.0</td>\n      <td>1.0</td>\n      <td>1.0</td>\n      <td>1.0</td>\n      <td>...</td>\n      <td>0.0</td>\n      <td>0.0</td>\n      <td>0.0</td>\n      <td>0.0</td>\n      <td>0.0</td>\n      <td>0.0</td>\n      <td>0.0</td>\n      <td>0.0</td>\n      <td>0.0</td>\n      <td>0.0</td>\n    </tr>\n  </tbody>\n</table>\n<p>5 rows × 273 columns</p>\n</div>"
     },
     "execution_count": 5,
     "metadata": {},
     "output_type": "execute_result"
    }
   ],
   "source": [
    "# Extract the data\n",
    "source_m3gnet_dataset = MLL.extract_vaspruns_dataset(path_to_dataset, charged=charged)\n",
    "#source_m3gnet_dataset = MLL.extract_OUTCAR_dataset(path_to_dataset)\n",
    "source_m3gnet_dataset"
   ],
   "metadata": {
    "collapsed": false,
    "ExecuteTime": {
     "end_time": "2024-06-21T11:57:29.771790643Z",
     "start_time": "2024-06-21T11:57:07.317687901Z"
    }
   },
   "id": "3cfe7f0835742a45",
   "execution_count": 5
  },
  {
   "cell_type": "code",
   "outputs": [
    {
     "data": {
      "text/plain": "5"
     },
     "execution_count": 6,
     "metadata": {},
     "output_type": "execute_result"
    }
   ],
   "source": [
    "len(source_m3gnet_dataset)"
   ],
   "metadata": {
    "collapsed": false,
    "ExecuteTime": {
     "end_time": "2024-06-21T11:57:39.128998332Z",
     "start_time": "2024-06-21T11:57:39.053158152Z"
    }
   },
   "id": "391340862960b568",
   "execution_count": 6
  },
  {
   "cell_type": "markdown",
   "source": [
    "# Split data into train-validation-test sets"
   ],
   "metadata": {
    "collapsed": false
   },
   "id": "d80a1f1b05d2df52"
  },
  {
   "cell_type": "markdown",
   "source": [
    "### Decide if we split in terms of mateiral, defect state or simulation directly"
   ],
   "metadata": {
    "collapsed": false
   },
   "id": "5da76736aceeb39e"
  },
  {
   "cell_type": "code",
   "outputs": [
    {
     "data": {
      "text/plain": "                                              BiSBr_vac_1_Bi_-2   \n                                            BiSBr_vac_1_Bi_-2_0   \nstructure     [[ 1.12288994 11.84915635  3.76785106] Bi2.985...  \\\nenergy                                              -346.683161   \nforce         [[0.00835869, 0.00064517, 0.00031], [-0.007161...   \nstress        [[1.18883182, -0.045450646000000004, 0.0572963...   \ncharge_state                                                1.0   \n\n                                                                  \n                                            BiSBr_vac_1_Bi_-2_1   \nstructure     [[ 1.12305124 11.84916887  3.76785702] Bi2.985...  \\\nenergy                                              -346.683238   \nforce         [[0.00825922, 0.00017896, 0.00014339], [-0.006...   \nstress        [[1.188422523, -0.04534139300000001, 0.0570914...   \ncharge_state                                                1.0   \n\n                                                                  \n                                            BiSBr_vac_1_Bi_-2_2   \nstructure     [[ 1.12345278 11.84917762  3.76786401] Bi2.985...  \\\nenergy                                              -346.683418   \nforce         [[0.00843988, 0.00190129, -0.00032288], [-0.00...   \nstress        [[1.187356265, -0.045072649, 0.056845249], [-0...   \ncharge_state                                                1.0   \n\n                                                                  \n                                            BiSBr_vac_1_Bi_-2_3   \nstructure     [[ 1.12356514 11.84918963  3.76786329] Bi2.985...  \\\nenergy                                               -346.68347   \nforce         [[0.00845843, 0.0007909, 0.00012468], [-0.0089...   \nstress        [[1.1868099900000002, -0.045100825000000004, 0...   \ncharge_state                                                1.0   \n\n                                                                  \n                                            BiSBr_vac_1_Bi_-2_4   \nstructure     [[ 1.12378798 11.8491977   3.76786864] Bi2.985...  \\\nenergy                                              -346.683566   \nforce         [[0.00914372, 0.0006242, -0.00029772], [-0.007...   \nstress        [[1.185687683, -0.044955313000000004, 0.056849...   \ncharge_state                                                1.0   \n\n                                                                  \n                                            BiSBr_vac_1_Bi_-2_5   \nstructure     [[ 1.12373388 11.8491965   3.76786854] Bi2.985...  \\\nenergy                                              -346.683546   \nforce         [[0.00970161, 0.00084707, -9.275e-05], [-0.007...   \nstress        [[1.1855293310000001, -0.045067341000000004, 0...   \ncharge_state                                                1.0   \n\n                                                                  \n                                            BiSBr_vac_1_Bi_-2_6   \nstructure     [[ 1.12351003 11.84918929  3.76784839] Bi2.985...  \\\nenergy                                              -346.683451   \nforce         [[0.00897098, 0.00166177, -1.475e-05], [-0.006...   \nstress        [[1.1874243260000001, -0.045151206, 0.05688580...   \ncharge_state                                                1.0   \n\n                                                                  \n                                            BiSBr_vac_1_Bi_-2_7   \nstructure     [[ 1.12387285 11.84919478  3.7678562 ] Bi2.985...  \\\nenergy                                              -346.683604   \nforce         [[0.0087766, 0.00174576, -0.00052072], [-0.006...   \nstress        [[1.186097223, -0.044836004000000006, 0.056903...   \ncharge_state                                                1.0   \n\n                                                                  \n                                            BiSBr_vac_1_Bi_-2_8   \nstructure     [[ 1.12460783 11.84923424  3.76782196] Bi2.985...  \\\nenergy                                              -346.683912   \nforce         [[0.00971229, 0.00088492, 0.00024059], [-0.005...   \nstress        [[1.183644189, -0.04446411, 0.0571164360000000...   \ncharge_state                                                1.0   \n\n                                                                 ...   \n                                            BiSBr_vac_1_Bi_-2_9  ...   \nstructure     [[ 1.12569264 11.84926118  3.7678011 ] Bi2.985...  ...  \\\nenergy                                               -346.68434  ...   \nforce         [[0.01202756, 0.00091644, 0.00026965], [-0.005...  ...   \nstress        [[1.182371493, -0.043553064, 0.057390124], [-0...  ...   \ncharge_state                                                1.0  ...   \n\n                                               BiSBr_vac_3_Br_0   \n                                            BiSBr_vac_3_Br_0_19   \nstructure     [[0.99954117 3.32938725 3.78335491] Bi3+, [ 1....  \\\nenergy                                              -357.012702   \nforce         [[-0.00848698, -0.00337636, 0.00832999], [0.00...   \nstress        [[2.188154276, 0.002678751, -0.005328923], [0....   \ncharge_state                                                0.0   \n\n                                                                  \n                                            BiSBr_vac_3_Br_0_20   \nstructure     [[0.99915678 3.32910449 3.78321147] Bi3+, [ 1....  \\\nenergy                                               -357.01315   \nforce         [[-0.005821, -0.00269221, 0.00724404], [0.0032...   \nstress        [[2.184244166, 0.0014387890000000002, -0.00394...   \ncharge_state                                                0.0   \n\n                                                                  \n                                            BiSBr_vac_3_Br_0_21   \nstructure     [[0.99868096 3.32875429 3.7830338 ] Bi3+, [ 1....  \\\nenergy                                              -357.013298   \nforce         [[-0.00205848, -0.0013421, 0.00560257], [-0.00...   \nstress        [[2.180521461, -4.3988000000000006e-05, -0.002...   \ncharge_state                                                0.0   \n\n                                                                  \n                                            BiSBr_vac_3_Br_0_22   \nstructure     [[0.99817627 3.32839636 3.78334267] Bi3+, [ 1....  \\\nenergy                                              -357.013663   \nforce         [[0.00239626, -0.00056658, 0.00185966], [-0.00...   \nstress        [[2.170404267, -0.000531909, -0.00198525], [-0...   \ncharge_state                                                0.0   \n\n                                                                  \n                                            BiSBr_vac_3_Br_0_23   \nstructure     [[0.99760687 3.32799246 3.78369102] Bi3+, [ 1....  \\\nenergy                                              -357.013789   \nforce         [[0.0085215, 0.00191985, -0.00363173], [-0.006...   \nstress        [[2.1597340970000003, -0.0010707029999999999, ...   \ncharge_state                                                0.0   \n\n                                                                  \n                                            BiSBr_vac_3_Br_0_24   \nstructure     [[0.99801396 3.32788676 3.78359324] Bi3+, [ 1....  \\\nenergy                                              -357.014135   \nforce         [[0.00376318, 0.00238075, -0.00449801], [-0.00...   \nstress        [[2.152978238, 0.000176565, -0.001665943], [0....   \ncharge_state                                                0.0   \n\n                                                                  \n                                            BiSBr_vac_3_Br_0_25   \nstructure     [[0.99828472 3.32781641 3.78352826] Bi3+, [ 1....  \\\nenergy                                              -357.014183   \nforce         [[0.00028265, 0.00513489, -0.00418222], [0.004...   \nstress        [[2.148861257, 0.001051386, -0.001601949], [0....   \ncharge_state                                                0.0   \n\n                                                                  \n                                            BiSBr_vac_3_Br_0_26   \nstructure     [[0.99855574 3.3283104  3.78301724] Bi3+, [ 1....  \\\nenergy                                              -357.014373   \nforce         [[-0.00315621, -0.00314707, -0.00117365], [0.0...   \nstress        [[2.147951402, 5.776000000000001e-05, -0.00185...   \ncharge_state                                                0.0   \n\n                                                                  \n                                            BiSBr_vac_3_Br_0_27   \nstructure     [[0.99871817 3.3286069  3.78271074] Bi3+, [ 1....  \\\nenergy                                              -357.014399   \nforce         [[-0.00486497, -0.00716668, 0.00134633], [0.00...   \nstress        [[2.145998127, -0.000543678, -0.00204980700000...   \ncharge_state                                                0.0   \n\n                                                                 \n                                            BiSBr_vac_3_Br_0_28  \nstructure     [[0.99836253 3.32816507 3.78243137] Bi3+, [ 1....  \nenergy                                              -357.014542  \nforce         [[0.00145237, 0.00149947, 0.00234208], [0.0021...  \nstress        [[2.14501845, -0.0017708430000000002, -0.00241...  \ncharge_state                                                0.0  \n\n[5 rows x 273 columns]",
      "text/html": "<div>\n<style scoped>\n    .dataframe tbody tr th:only-of-type {\n        vertical-align: middle;\n    }\n\n    .dataframe tbody tr th {\n        vertical-align: top;\n    }\n\n    .dataframe thead tr th {\n        text-align: left;\n    }\n</style>\n<table border=\"1\" class=\"dataframe\">\n  <thead>\n    <tr>\n      <th></th>\n      <th colspan=\"10\" halign=\"left\">BiSBr_vac_1_Bi_-2</th>\n      <th>...</th>\n      <th colspan=\"10\" halign=\"left\">BiSBr_vac_3_Br_0</th>\n    </tr>\n    <tr>\n      <th></th>\n      <th>BiSBr_vac_1_Bi_-2_0</th>\n      <th>BiSBr_vac_1_Bi_-2_1</th>\n      <th>BiSBr_vac_1_Bi_-2_2</th>\n      <th>BiSBr_vac_1_Bi_-2_3</th>\n      <th>BiSBr_vac_1_Bi_-2_4</th>\n      <th>BiSBr_vac_1_Bi_-2_5</th>\n      <th>BiSBr_vac_1_Bi_-2_6</th>\n      <th>BiSBr_vac_1_Bi_-2_7</th>\n      <th>BiSBr_vac_1_Bi_-2_8</th>\n      <th>BiSBr_vac_1_Bi_-2_9</th>\n      <th>...</th>\n      <th>BiSBr_vac_3_Br_0_19</th>\n      <th>BiSBr_vac_3_Br_0_20</th>\n      <th>BiSBr_vac_3_Br_0_21</th>\n      <th>BiSBr_vac_3_Br_0_22</th>\n      <th>BiSBr_vac_3_Br_0_23</th>\n      <th>BiSBr_vac_3_Br_0_24</th>\n      <th>BiSBr_vac_3_Br_0_25</th>\n      <th>BiSBr_vac_3_Br_0_26</th>\n      <th>BiSBr_vac_3_Br_0_27</th>\n      <th>BiSBr_vac_3_Br_0_28</th>\n    </tr>\n  </thead>\n  <tbody>\n    <tr>\n      <th>structure</th>\n      <td>[[ 1.12288994 11.84915635  3.76785106] Bi2.985...</td>\n      <td>[[ 1.12305124 11.84916887  3.76785702] Bi2.985...</td>\n      <td>[[ 1.12345278 11.84917762  3.76786401] Bi2.985...</td>\n      <td>[[ 1.12356514 11.84918963  3.76786329] Bi2.985...</td>\n      <td>[[ 1.12378798 11.8491977   3.76786864] Bi2.985...</td>\n      <td>[[ 1.12373388 11.8491965   3.76786854] Bi2.985...</td>\n      <td>[[ 1.12351003 11.84918929  3.76784839] Bi2.985...</td>\n      <td>[[ 1.12387285 11.84919478  3.7678562 ] Bi2.985...</td>\n      <td>[[ 1.12460783 11.84923424  3.76782196] Bi2.985...</td>\n      <td>[[ 1.12569264 11.84926118  3.7678011 ] Bi2.985...</td>\n      <td>...</td>\n      <td>[[0.99954117 3.32938725 3.78335491] Bi3+, [ 1....</td>\n      <td>[[0.99915678 3.32910449 3.78321147] Bi3+, [ 1....</td>\n      <td>[[0.99868096 3.32875429 3.7830338 ] Bi3+, [ 1....</td>\n      <td>[[0.99817627 3.32839636 3.78334267] Bi3+, [ 1....</td>\n      <td>[[0.99760687 3.32799246 3.78369102] Bi3+, [ 1....</td>\n      <td>[[0.99801396 3.32788676 3.78359324] Bi3+, [ 1....</td>\n      <td>[[0.99828472 3.32781641 3.78352826] Bi3+, [ 1....</td>\n      <td>[[0.99855574 3.3283104  3.78301724] Bi3+, [ 1....</td>\n      <td>[[0.99871817 3.3286069  3.78271074] Bi3+, [ 1....</td>\n      <td>[[0.99836253 3.32816507 3.78243137] Bi3+, [ 1....</td>\n    </tr>\n    <tr>\n      <th>energy</th>\n      <td>-346.683161</td>\n      <td>-346.683238</td>\n      <td>-346.683418</td>\n      <td>-346.68347</td>\n      <td>-346.683566</td>\n      <td>-346.683546</td>\n      <td>-346.683451</td>\n      <td>-346.683604</td>\n      <td>-346.683912</td>\n      <td>-346.68434</td>\n      <td>...</td>\n      <td>-357.012702</td>\n      <td>-357.01315</td>\n      <td>-357.013298</td>\n      <td>-357.013663</td>\n      <td>-357.013789</td>\n      <td>-357.014135</td>\n      <td>-357.014183</td>\n      <td>-357.014373</td>\n      <td>-357.014399</td>\n      <td>-357.014542</td>\n    </tr>\n    <tr>\n      <th>force</th>\n      <td>[[0.00835869, 0.00064517, 0.00031], [-0.007161...</td>\n      <td>[[0.00825922, 0.00017896, 0.00014339], [-0.006...</td>\n      <td>[[0.00843988, 0.00190129, -0.00032288], [-0.00...</td>\n      <td>[[0.00845843, 0.0007909, 0.00012468], [-0.0089...</td>\n      <td>[[0.00914372, 0.0006242, -0.00029772], [-0.007...</td>\n      <td>[[0.00970161, 0.00084707, -9.275e-05], [-0.007...</td>\n      <td>[[0.00897098, 0.00166177, -1.475e-05], [-0.006...</td>\n      <td>[[0.0087766, 0.00174576, -0.00052072], [-0.006...</td>\n      <td>[[0.00971229, 0.00088492, 0.00024059], [-0.005...</td>\n      <td>[[0.01202756, 0.00091644, 0.00026965], [-0.005...</td>\n      <td>...</td>\n      <td>[[-0.00848698, -0.00337636, 0.00832999], [0.00...</td>\n      <td>[[-0.005821, -0.00269221, 0.00724404], [0.0032...</td>\n      <td>[[-0.00205848, -0.0013421, 0.00560257], [-0.00...</td>\n      <td>[[0.00239626, -0.00056658, 0.00185966], [-0.00...</td>\n      <td>[[0.0085215, 0.00191985, -0.00363173], [-0.006...</td>\n      <td>[[0.00376318, 0.00238075, -0.00449801], [-0.00...</td>\n      <td>[[0.00028265, 0.00513489, -0.00418222], [0.004...</td>\n      <td>[[-0.00315621, -0.00314707, -0.00117365], [0.0...</td>\n      <td>[[-0.00486497, -0.00716668, 0.00134633], [0.00...</td>\n      <td>[[0.00145237, 0.00149947, 0.00234208], [0.0021...</td>\n    </tr>\n    <tr>\n      <th>stress</th>\n      <td>[[1.18883182, -0.045450646000000004, 0.0572963...</td>\n      <td>[[1.188422523, -0.04534139300000001, 0.0570914...</td>\n      <td>[[1.187356265, -0.045072649, 0.056845249], [-0...</td>\n      <td>[[1.1868099900000002, -0.045100825000000004, 0...</td>\n      <td>[[1.185687683, -0.044955313000000004, 0.056849...</td>\n      <td>[[1.1855293310000001, -0.045067341000000004, 0...</td>\n      <td>[[1.1874243260000001, -0.045151206, 0.05688580...</td>\n      <td>[[1.186097223, -0.044836004000000006, 0.056903...</td>\n      <td>[[1.183644189, -0.04446411, 0.0571164360000000...</td>\n      <td>[[1.182371493, -0.043553064, 0.057390124], [-0...</td>\n      <td>...</td>\n      <td>[[2.188154276, 0.002678751, -0.005328923], [0....</td>\n      <td>[[2.184244166, 0.0014387890000000002, -0.00394...</td>\n      <td>[[2.180521461, -4.3988000000000006e-05, -0.002...</td>\n      <td>[[2.170404267, -0.000531909, -0.00198525], [-0...</td>\n      <td>[[2.1597340970000003, -0.0010707029999999999, ...</td>\n      <td>[[2.152978238, 0.000176565, -0.001665943], [0....</td>\n      <td>[[2.148861257, 0.001051386, -0.001601949], [0....</td>\n      <td>[[2.147951402, 5.776000000000001e-05, -0.00185...</td>\n      <td>[[2.145998127, -0.000543678, -0.00204980700000...</td>\n      <td>[[2.14501845, -0.0017708430000000002, -0.00241...</td>\n    </tr>\n    <tr>\n      <th>charge_state</th>\n      <td>1.0</td>\n      <td>1.0</td>\n      <td>1.0</td>\n      <td>1.0</td>\n      <td>1.0</td>\n      <td>1.0</td>\n      <td>1.0</td>\n      <td>1.0</td>\n      <td>1.0</td>\n      <td>1.0</td>\n      <td>...</td>\n      <td>0.0</td>\n      <td>0.0</td>\n      <td>0.0</td>\n      <td>0.0</td>\n      <td>0.0</td>\n      <td>0.0</td>\n      <td>0.0</td>\n      <td>0.0</td>\n      <td>0.0</td>\n      <td>0.0</td>\n    </tr>\n  </tbody>\n</table>\n<p>5 rows × 273 columns</p>\n</div>"
     },
     "execution_count": 7,
     "metadata": {},
     "output_type": "execute_result"
    }
   ],
   "source": [
    "# Clone (copy) the DataFrame\n",
    "m3gnet_dataset = source_m3gnet_dataset.copy()\n",
    "\n",
    "# Remove the outer (top-level) column index up to depth-1 level\n",
    "for i in range(depth):\n",
    "    m3gnet_dataset.columns = m3gnet_dataset.columns.droplevel(0)\n",
    "m3gnet_dataset"
   ],
   "metadata": {
    "collapsed": false,
    "ExecuteTime": {
     "end_time": "2024-06-21T11:57:41.940848625Z",
     "start_time": "2024-06-21T11:57:41.551440512Z"
    }
   },
   "id": "a7e3fefe39059077",
   "execution_count": 7
  },
  {
   "cell_type": "markdown",
   "source": [
    "### Splitting into train-validation-test sets"
   ],
   "metadata": {
    "collapsed": false
   },
   "id": "2b994f357ff9868e"
  },
  {
   "cell_type": "code",
   "outputs": [
    {
     "name": "stdout",
     "output_type": "stream",
     "text": [
      "Using 200 samples to train, 30 to evaluate, and 43 to test\n"
     ]
    }
   ],
   "source": [
    "# Check if data has been already split, else do it randomly\n",
    "\n",
    "path_to_test_labels       = 'test_labels.txt'\n",
    "path_to_validation_labels = 'validation_labels.txt'\n",
    "path_to_train_labels      = 'train_labels.txt'\n",
    "\n",
    "if os.path.exists(path_to_test_labels) and os.path.exists(path_to_validation_labels) and os.path.exists(path_to_train_labels):\n",
    "    # Read labels splitting (which are strings)\n",
    "    test_labels       = np.genfromtxt(path_to_test_labels,       dtype='str').tolist()\n",
    "    validation_labels = np.genfromtxt(path_to_validation_labels, dtype='str').tolist()\n",
    "    train_labels      = np.genfromtxt(path_to_train_labels,      dtype='str').tolist()\n",
    "else:\n",
    "    # Define unique labels, wrt the outer column\n",
    "    unique_labels = np.unique(m3gnet_dataset.columns.get_level_values(0))\n",
    "\n",
    "    # Shuffle the list of unique labels\n",
    "    np.random.shuffle(unique_labels)\n",
    "\n",
    "    # Define the sizes of every set\n",
    "    # Corresponds to the size wrt the number of unique materials in the dataset\n",
    "    test_size       = int(test_ratio       * len(unique_labels))\n",
    "    validation_size = int(validation_ratio * len(unique_labels))\n",
    "\n",
    "    test_labels       = unique_labels[:test_size]\n",
    "    validation_labels = unique_labels[test_size:test_size+validation_size]\n",
    "    train_labels      = unique_labels[test_size+validation_size:]\n",
    "    \n",
    "    # Save this splitting for transfer-learning approaches\n",
    "    np.savetxt(path_to_test_labels,       test_labels,       fmt='%s')\n",
    "    np.savetxt(path_to_validation_labels, validation_labels, fmt='%s')\n",
    "    np.savetxt(path_to_train_labels,      train_labels,      fmt='%s')\n",
    "\n",
    "# Use the loaded/computed labels to generate split datasets\n",
    "test_dataset       = m3gnet_dataset[test_labels]\n",
    "validation_dataset = m3gnet_dataset[validation_labels]\n",
    "train_dataset      = m3gnet_dataset[train_labels]\n",
    "\n",
    "n_test       = np.shape(test_dataset)[1]\n",
    "n_validation = np.shape(validation_dataset)[1]\n",
    "n_train      = np.shape(train_dataset)[1]\n",
    "\n",
    "print(f'Using {n_train} samples to train, {n_validation} to evaluate, and {n_test} to test')"
   ],
   "metadata": {
    "collapsed": false,
    "ExecuteTime": {
     "end_time": "2024-06-21T11:57:44.577114709Z",
     "start_time": "2024-06-21T11:57:44.550735371Z"
    }
   },
   "id": "b2b0d5c0869ac35b",
   "execution_count": 8
  },
  {
   "cell_type": "markdown",
   "source": [
    "### Convert into graph database"
   ],
   "metadata": {
    "collapsed": false
   },
   "id": "5c23fdc4f757ea33"
  },
  {
   "cell_type": "code",
   "outputs": [
    {
     "name": "stderr",
     "output_type": "stream",
     "text": [
      "100%|██████████| 200/200 [00:01<00:00, 176.36it/s]\n",
      "100%|██████████| 30/30 [00:00<00:00, 183.18it/s]\n",
      "100%|██████████| 43/43 [00:00<00:00, 178.24it/s]\n"
     ]
    }
   ],
   "source": [
    "all_data = []\n",
    "for i in range(3):  # Iterate over train-validation-test sets\n",
    "    name    = ['train', 'val', 'test'][i]\n",
    "    dataset = [train_dataset, validation_dataset, test_dataset][i]\n",
    "\n",
    "    # Extract data from dataset\n",
    "    structures    = dataset.loc['structure'].values.tolist()\n",
    "    element_types = get_element_list(structures)\n",
    "    converter     = Structure2Graph(element_types=element_types, cutoff=5.0)\n",
    "    \n",
    "    # Define data labels from dataset\n",
    "    if stress_weight == 0:\n",
    "        stresses = [np.zeros((3, 3)).tolist() for s in structures]\n",
    "    else:\n",
    "        stresses = dataset.loc['stress'].values.tolist()\n",
    "\n",
    "    labels = {\n",
    "        'energies': dataset.loc['energy'].values.tolist(),\n",
    "        'forces':   dataset.loc['force'].values.tolist(),\n",
    "        'stresses': stresses,\n",
    "    }\n",
    "    \n",
    "    # Generate dataset\n",
    "    data = M3GNetDataset(\n",
    "        filename=f'dgl_graph-{name}.bin',\n",
    "        filename_line_graph=f'dgl_line_graph-{name}.bin',\n",
    "        filename_state_attr=f'state_attr-{name}.pt',\n",
    "        filename_labels=f'labels-{name}.json',\n",
    "        threebody_cutoff=4.0,\n",
    "        structures=structures,\n",
    "        converter=converter,\n",
    "        labels=labels,\n",
    "        name=f'M3GNetDataset-{name}',\n",
    "    )\n",
    "    all_data.append(data)\n",
    "\n",
    "train_data, val_data, test_data = all_data"
   ],
   "metadata": {
    "collapsed": false,
    "ExecuteTime": {
     "end_time": "2024-06-21T11:57:46.502158682Z",
     "start_time": "2024-06-21T11:57:44.597552826Z"
    }
   },
   "id": "a83c727f09af2351",
   "execution_count": 9
  },
  {
   "cell_type": "code",
   "outputs": [],
   "source": [
    "train_loader, val_loader, test_loader = MGLDataLoader(\n",
    "    train_data=train_data,\n",
    "    val_data=val_data,\n",
    "    test_data=test_data,\n",
    "    collate_fn=collate_fn_efs,\n",
    "    batch_size=batch_size,\n",
    "    num_workers=1,\n",
    "    pin_memory=True,\n",
    ")"
   ],
   "metadata": {
    "collapsed": false,
    "ExecuteTime": {
     "end_time": "2024-06-21T11:57:51.543046303Z",
     "start_time": "2024-06-21T11:57:51.507623775Z"
    }
   },
   "id": "d12af1f066e1a5fa",
   "execution_count": 10
  },
  {
   "cell_type": "markdown",
   "source": [
    "# Retrain model"
   ],
   "metadata": {
    "collapsed": false
   },
   "id": "d85e5b3eed64b62e"
  },
  {
   "cell_type": "code",
   "outputs": [],
   "source": [
    "# Download a pre-trained M3GNet\n",
    "m3gnet_nnp       = matgl.load_model(model_load_path)\n",
    "model_pretrained = m3gnet_nnp.model\n",
    "\n",
    "# Stress and site-wise are added to training loss\n",
    "# Stresses are being computed (calc_stress=True)\n",
    "lit_module_finetune = PotentialLightningModule(model=model_pretrained,\n",
    "                                               stress_weight=stress_weight,\n",
    "                                               loss='mse_loss',\n",
    "                                               lr=lr)"
   ],
   "metadata": {
    "collapsed": false,
    "ExecuteTime": {
     "end_time": "2024-06-21T11:57:53.506557223Z",
     "start_time": "2024-06-21T11:57:51.507885487Z"
    }
   },
   "id": "33c8bb3cf9c66427",
   "execution_count": 11
  },
  {
   "cell_type": "code",
   "outputs": [
    {
     "name": "stderr",
     "output_type": "stream",
     "text": [
      "GPU available: False, used: False\n",
      "TPU available: False, using: 0 TPU cores\n",
      "IPU available: False, using: 0 IPUs\n",
      "HPU available: False, using: 0 HPUs\n",
      "\n",
      "  | Name  | Type              | Params\n",
      "--------------------------------------------\n",
      "0 | mae   | MeanAbsoluteError | 0     \n",
      "1 | rmse  | MeanSquaredError  | 0     \n",
      "2 | model | Potential         | 288 K \n",
      "--------------------------------------------\n",
      "288 K     Trainable params\n",
      "0         Non-trainable params\n",
      "288 K     Total params\n",
      "1.153     Total estimated model params size (MB)\n"
     ]
    },
    {
     "data": {
      "text/plain": "Sanity Checking: |          | 0/? [00:00<?, ?it/s]",
      "application/vnd.jupyter.widget-view+json": {
       "version_major": 2,
       "version_minor": 0,
       "model_id": "c40cacd6025545f0b7a6f9cbb72941fd"
      }
     },
     "metadata": {},
     "output_type": "display_data"
    },
    {
     "data": {
      "text/plain": "Training: |          | 0/? [00:00<?, ?it/s]",
      "application/vnd.jupyter.widget-view+json": {
       "version_major": 2,
       "version_minor": 0,
       "model_id": "efe12047bce84ebebfb02652a9809321"
      }
     },
     "metadata": {},
     "output_type": "display_data"
    },
    {
     "data": {
      "text/plain": "Validation: |          | 0/? [00:00<?, ?it/s]",
      "application/vnd.jupyter.widget-view+json": {
       "version_major": 2,
       "version_minor": 0,
       "model_id": "721150daa22b4ba994894df617dcd240"
      }
     },
     "metadata": {},
     "output_type": "display_data"
    },
    {
     "data": {
      "text/plain": "Validation: |          | 0/? [00:00<?, ?it/s]",
      "application/vnd.jupyter.widget-view+json": {
       "version_major": 2,
       "version_minor": 0,
       "model_id": "2885be8c77e34a3b88f3764c82d50c49"
      }
     },
     "metadata": {},
     "output_type": "display_data"
    },
    {
     "data": {
      "text/plain": "Validation: |          | 0/? [00:00<?, ?it/s]",
      "application/vnd.jupyter.widget-view+json": {
       "version_major": 2,
       "version_minor": 0,
       "model_id": "923f8e42dbaa4a7ea3991354be618ea5"
      }
     },
     "metadata": {},
     "output_type": "display_data"
    },
    {
     "data": {
      "text/plain": "Validation: |          | 0/? [00:00<?, ?it/s]",
      "application/vnd.jupyter.widget-view+json": {
       "version_major": 2,
       "version_minor": 0,
       "model_id": "fe4c78ddc68445cc98312207fffee635"
      }
     },
     "metadata": {},
     "output_type": "display_data"
    },
    {
     "data": {
      "text/plain": "Validation: |          | 0/? [00:00<?, ?it/s]",
      "application/vnd.jupyter.widget-view+json": {
       "version_major": 2,
       "version_minor": 0,
       "model_id": "db78c284aacd424caf9721ea700f7374"
      }
     },
     "metadata": {},
     "output_type": "display_data"
    },
    {
     "name": "stderr",
     "output_type": "stream",
     "text": [
      "`Trainer.fit` stopped: `max_epochs=5` reached.\n"
     ]
    },
    {
     "ename": "AttributeError",
     "evalue": "'M3GNet' object has no attribute 'model'",
     "output_type": "error",
     "traceback": [
      "\u001B[0;31m---------------------------------------------------------------------------\u001B[0m",
      "\u001B[0;31mAttributeError\u001B[0m                            Traceback (most recent call last)",
      "Cell \u001B[0;32mIn[12], line 17\u001B[0m\n\u001B[1;32m     11\u001B[0m trainer\u001B[38;5;241m.\u001B[39mfit(model\u001B[38;5;241m=\u001B[39mlit_module_finetune,\n\u001B[1;32m     12\u001B[0m             train_dataloaders\u001B[38;5;241m=\u001B[39mtrain_loader,\n\u001B[1;32m     13\u001B[0m             val_dataloaders\u001B[38;5;241m=\u001B[39mval_loader\n\u001B[1;32m     14\u001B[0m            )\n\u001B[1;32m     16\u001B[0m \u001B[38;5;66;03m# Save trained model\u001B[39;00m\n\u001B[0;32m---> 17\u001B[0m \u001B[43mmodel_pretrained\u001B[49m\u001B[38;5;241;43m.\u001B[39;49m\u001B[43mmodel\u001B[49m\u001B[38;5;241m.\u001B[39msave(model_save_path)\n",
      "File \u001B[0;32m~/Work/UCL/m3gnet/venv/lib/python3.11/site-packages/torch/nn/modules/module.py:1688\u001B[0m, in \u001B[0;36mModule.__getattr__\u001B[0;34m(self, name)\u001B[0m\n\u001B[1;32m   1686\u001B[0m     \u001B[38;5;28;01mif\u001B[39;00m name \u001B[38;5;129;01min\u001B[39;00m modules:\n\u001B[1;32m   1687\u001B[0m         \u001B[38;5;28;01mreturn\u001B[39;00m modules[name]\n\u001B[0;32m-> 1688\u001B[0m \u001B[38;5;28;01mraise\u001B[39;00m \u001B[38;5;167;01mAttributeError\u001B[39;00m(\u001B[38;5;124mf\u001B[39m\u001B[38;5;124m\"\u001B[39m\u001B[38;5;124m'\u001B[39m\u001B[38;5;132;01m{\u001B[39;00m\u001B[38;5;28mtype\u001B[39m(\u001B[38;5;28mself\u001B[39m)\u001B[38;5;241m.\u001B[39m\u001B[38;5;18m__name__\u001B[39m\u001B[38;5;132;01m}\u001B[39;00m\u001B[38;5;124m'\u001B[39m\u001B[38;5;124m object has no attribute \u001B[39m\u001B[38;5;124m'\u001B[39m\u001B[38;5;132;01m{\u001B[39;00mname\u001B[38;5;132;01m}\u001B[39;00m\u001B[38;5;124m'\u001B[39m\u001B[38;5;124m\"\u001B[39m)\n",
      "\u001B[0;31mAttributeError\u001B[0m: 'M3GNet' object has no attribute 'model'"
     ]
    }
   ],
   "source": [
    "# If you wish to disable GPU or MPS (M1 mac) training, use the accelerator='cpu' kwarg.\n",
    "# accelerator='auto' selects the appropriate Accelerator\n",
    "logger  = CSVLogger('logs',\n",
    "                    name='M3GNet_finetuning')\n",
    "\n",
    "trainer = pl.Trainer(max_epochs=max_epochs,\n",
    "                     accelerator='auto',\n",
    "                     logger=logger,\n",
    "                     inference_mode=False)\n",
    "\n",
    "trainer.fit(model=lit_module_finetune,\n",
    "            train_dataloaders=train_loader,\n",
    "            val_dataloaders=val_loader\n",
    "           )\n",
    "\n",
    "# Save trained model\n",
    "lit_module_finetune.model.save(model_save_path)"
   ],
   "metadata": {
    "collapsed": false,
    "ExecuteTime": {
     "end_time": "2024-06-21T11:59:41.527389569Z",
     "start_time": "2024-06-21T11:57:51.617969132Z"
    }
   },
   "id": "be25a530b8e55bf7",
   "execution_count": 12
  },
  {
   "cell_type": "markdown",
   "source": [
    "# Analyze metrics"
   ],
   "metadata": {
    "collapsed": false
   },
   "id": "ef9e163c70f7bcc9"
  },
  {
   "cell_type": "code",
   "execution_count": null,
   "id": "1b3f2256",
   "metadata": {
    "scrolled": true,
    "ExecuteTime": {
     "start_time": "2024-06-09T15:32:21.029551126Z"
    }
   },
   "outputs": [],
   "source": [
    "# E_MAE = meV/atom, F_MAE = eV/A, S_MAE = GPa\n",
    "trainer.test(model=lit_module_finetune,\n",
    "            dataloaders=test_loader\n",
    "           )"
   ]
  },
  {
   "cell_type": "code",
   "outputs": [],
   "source": [
    "import pandas as pd"
   ],
   "metadata": {
    "collapsed": false,
    "ExecuteTime": {
     "end_time": "2024-06-10T08:51:25.343338594Z",
     "start_time": "2024-06-10T08:51:25.061771727Z"
    }
   },
   "id": "fbd88415072ab1ab",
   "execution_count": 1
  },
  {
   "cell_type": "code",
   "outputs": [],
   "source": [
    "current_version = 0\n",
    "# Read the CSV file\n",
    "path_to_csv = f'logs/M3GNet_finetuning/version_{current_version}'\n",
    "df = pd.read_csv(f'{path_to_csv}/metrics.csv')\n",
    "df.head()"
   ],
   "metadata": {
    "collapsed": false
   },
   "id": "9ea916d30e0e4102"
  },
  {
   "cell_type": "code",
   "execution_count": null,
   "id": "a3134249",
   "metadata": {
    "scrolled": true,
    "ExecuteTime": {
     "end_time": "2024-02-26T15:43:41.352064167Z",
     "start_time": "2024-02-26T15:43:41.351990960Z"
    }
   },
   "outputs": [],
   "source": [
    "# NaN to zero\n",
    "df = df.fillna(0)\n",
    "\n",
    "# Calculate the sum of every two consecutive rows\n",
    "df = df.groupby(df.index // 2).sum()\n",
    "df.head()"
   ]
  },
  {
   "cell_type": "code",
   "execution_count": null,
   "id": "643704df",
   "metadata": {
    "ExecuteTime": {
     "start_time": "2024-02-20T11:11:01.699191223Z"
    }
   },
   "outputs": [],
   "source": [
    "# Get the list of loss column names\n",
    "loss_columns = [col for col in df.columns if col.startswith('val_') or col.startswith('train_')]\n",
    "\n",
    "# Create a figure and axis\n",
    "fig = plt.subplots(figsize=(10, 6))\n",
    "\n",
    "# Plot each loss\n",
    "for loss_column in loss_columns:\n",
    "    plt.plot(df.index, np.log(df[loss_column]), label=loss_column)\n",
    "\n",
    "plt.xlabel('Epoch')\n",
    "plt.ylabel('Loss')\n",
    "plt.legend(loc=(1.01, 0))\n",
    "plt.savefig(f'm3gnet_loss.eps', dpi=dpi, bbox_inches='tight')\n",
    "plt.show()"
   ]
  },
  {
   "cell_type": "code",
   "execution_count": 45,
   "id": "9d85d562",
   "metadata": {
    "ExecuteTime": {
     "end_time": "2024-02-20T09:19:59.496787113Z",
     "start_time": "2024-02-20T09:19:59.491695716Z"
    }
   },
   "outputs": [
    {
     "data": {
      "text/plain": "(0.0135606033727526, 0.0874462649226188, 0.0)"
     },
     "execution_count": 45,
     "metadata": {},
     "output_type": "execute_result"
    }
   ],
   "source": [
    "df['val_Energy_MAE'].iloc[-2], df['val_Force_MAE'].iloc[-2], df['val_Stress_MAE'].iloc[-2]"
   ]
  },
  {
   "cell_type": "code",
   "execution_count": 46,
   "id": "bc01f877",
   "metadata": {
    "ExecuteTime": {
     "end_time": "2024-02-20T09:20:01.235372917Z",
     "start_time": "2024-02-20T09:20:01.228383929Z"
    }
   },
   "outputs": [
    {
     "data": {
      "text/plain": "(0.0, 0.0, 0.0)"
     },
     "execution_count": 46,
     "metadata": {},
     "output_type": "execute_result"
    }
   ],
   "source": [
    "df['val_Energy_MAE'].iloc[-1], df['val_Force_MAE'].iloc[-1], df['val_Stress_MAE'].iloc[-1]"
   ]
  },
  {
   "cell_type": "markdown",
   "id": "d8e76beb",
   "metadata": {},
   "source": [
    "# Cleanup the notebook"
   ]
  },
  {
   "cell_type": "code",
   "execution_count": 14,
   "id": "a7147751",
   "metadata": {
    "ExecuteTime": {
     "end_time": "2024-02-28T16:43:27.471122972Z",
     "start_time": "2024-02-28T16:43:27.430455453Z"
    }
   },
   "outputs": [],
   "source": [
    "# This code just performs cleanup for this notebook from temporal files\n",
    "\n",
    "patterns = ['dgl_graph*.bin', 'dgl_line_graph*.bin', 'state_attr*.pt', 'labels*.json', '*labels.txt']\n",
    "for pattern in patterns:\n",
    "    files = glob.glob(pattern)\n",
    "    for file in files:\n",
    "        try:\n",
    "            os.remove(file)\n",
    "        except FileNotFoundError:\n",
    "            pass\n",
    "\n",
    "#shutil.rmtree('logs')\n",
    "#shutil.rmtree('trained_model')\n",
    "#shutil.rmtree('finetuned_model')"
   ]
  }
 ],
 "metadata": {
  "kernelspec": {
   "display_name": "Python 3 (ipykernel)",
   "language": "python",
   "name": "python3"
  },
  "language_info": {
   "codemirror_mode": {
    "name": "ipython",
    "version": 3
   },
   "file_extension": ".py",
   "mimetype": "text/x-python",
   "name": "python",
   "nbconvert_exporter": "python",
   "pygments_lexer": "ipython3",
   "version": "3.10.12"
  }
 },
 "nbformat": 4,
 "nbformat_minor": 5
}
