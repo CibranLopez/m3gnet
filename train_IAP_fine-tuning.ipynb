{
 "cells": [
  {
   "cell_type": "code",
   "execution_count": 6,
   "id": "c2cacba1",
   "metadata": {
    "ExecuteTime": {
     "end_time": "2024-02-20T15:11:06.840984854Z",
     "start_time": "2024-02-20T15:11:06.840867403Z"
    }
   },
   "outputs": [],
   "source": [
    "import numpy             as np\n",
    "import pandas            as pd\n",
    "import pytorch_lightning as pl\n",
    "import ML_library        as MLL\n",
    "import matplotlib.pyplot as plt\n",
    "import matgl\n",
    "import os\n",
    "import warnings\n",
    "import glob\n",
    "\n",
    "from __future__                import annotations\n",
    "from pytorch_lightning.loggers import CSVLogger\n",
    "from matgl.ext.pymatgen        import Structure2Graph, get_element_list\n",
    "from matgl.graph.data          import M3GNetDataset, MGLDataLoader, collate_fn_efs\n",
    "from matgl.utils.training      import PotentialLightningModule\n",
    "\n",
    "# To suppress warnings for clearer output\n",
    "warnings.simplefilter('ignore')"
   ]
  },
  {
   "cell_type": "code",
   "execution_count": 7,
   "id": "bcb9beee",
   "metadata": {
    "ExecuteTime": {
     "end_time": "2024-02-20T15:11:06.841217412Z",
     "start_time": "2024-02-20T15:11:06.841092376Z"
    }
   },
   "outputs": [],
   "source": [
    "data_train_path = 'm3gnet_dataset.xlsx'\n",
    "model_load_path = 'M3GNet-MP-2021.2.8-PES'\n",
    "model_save_path = 'finetuned_model'\n",
    "\n",
    "# Whether to include charge or not\n",
    "charged = True\n",
    "\n",
    "# 0: material, 1: charge state, 2: ionic step\n",
    "depth = 1\n",
    "\n",
    "# Stress weight for training\n",
    "stress_weight = 0\n",
    "\n",
    "# Ratios for diving training data\n",
    "test_ratio       = 0.2\n",
    "validation_ratio = 0.2\n",
    "\n",
    "# Number of epoch for re-training\n",
    "max_epochs = 10\n",
    "\n",
    "# Learning-rate for re-training\n",
    "lr = 1e-4\n",
    "\n",
    "dpi = 100\n",
    "\n",
    "# Version of training you specifically want to analyze\n",
    "current_version = 1"
   ]
  },
  {
   "cell_type": "markdown",
   "id": "5361fc5f",
   "metadata": {},
   "source": [
    "# Load simulation data"
   ]
  },
  {
   "cell_type": "code",
   "execution_count": null,
   "id": "319d94a9",
   "metadata": {
    "scrolled": true,
    "is_executing": true,
    "ExecuteTime": {
     "start_time": "2024-02-20T15:11:06.841179049Z"
    }
   },
   "outputs": [
    {
     "name": "stdout",
     "output_type": "stream",
     "text": [
      "\n",
      "BiSeBr\n",
      "\tas_1_Bi_on_Se_-1\n",
      "\tas_1_Bi_on_Se_0\n",
      "\tas_1_Bi_on_Se_1\n",
      "\tas_1_Bi_on_Se_2\n",
      "\tas_1_Bi_on_Se_3\n",
      "\tas_1_Bi_on_Se_5\n",
      "\tas_1_Br_on_Bi_-1\n",
      "\tas_1_Br_on_Bi_-2\n",
      "\tas_1_Br_on_Bi_0\n",
      "\tas_1_Br_on_Bi_1\n",
      "\tas_1_Br_on_Bi_2\n",
      "\tas_1_Br_on_Bi_3\n",
      "\tas_1_Br_on_Bi_4\n",
      "\tas_1_Br_on_Bi_5\n",
      "\tas_1_Se_on_Bi_-1\n",
      "\tas_1_Se_on_Bi_-2\n",
      "\tas_1_Se_on_Bi_0\n",
      "\tas_1_Se_on_Bi_1\n",
      "\tas_1_Se_on_Bi_2\n",
      "\tas_1_Se_on_Bi_3\n",
      "\tas_1_Se_on_Bi_4\n",
      "\tas_1_Se_on_Bi_5\n",
      "\tas_2_Bi_on_Br_-1\n",
      "\tas_2_Bi_on_Br_-2\n",
      "\tas_2_Bi_on_Br_0\n",
      "\tas_2_Bi_on_Br_1\n",
      "\tas_2_Bi_on_Br_2\n",
      "\tas_2_Bi_on_Br_3\n",
      "\tas_2_Bi_on_Br_4\n",
      "\tas_2_Bi_on_Br_5\n",
      "\tas_2_Br_on_Se_-1\n",
      "\tas_2_Br_on_Se_-2\n",
      "\tas_2_Br_on_Se_0\n",
      "\tas_2_Br_on_Se_1\n",
      "\tas_2_Br_on_Se_2\n",
      "\tas_2_Br_on_Se_3\n",
      "\tas_2_Br_on_Se_4\n",
      "\tas_2_Br_on_Se_5\n",
      "\tas_2_Se_on_Br_-1\n",
      "\tas_2_Se_on_Br_0\n",
      "\tas_2_Se_on_Br_1\n",
      "\tas_2_Se_on_Br_2\n",
      "\tas_2_Se_on_Br_3\n",
      "\tsupercell\n",
      "\tvac_1_Bi_-1\n",
      "\tvac_1_Bi_-2\n",
      "\tvac_1_Bi_-3\n",
      "\tvac_1_Bi_0\n",
      "Error: vasprun not correctly loaded.\n",
      "\tvac_1_Bi_1\n",
      "\tvac_1_Bi_2\n",
      "\tvac_1_Bi_3\n",
      "\tvac_2_Se_-1\n",
      "Error: vasprun not correctly loaded.\n",
      "\tvac_2_Se_-2\n",
      "\tvac_2_Se_0\n",
      "\tvac_2_Se_1\n",
      "Error: vasprun not correctly loaded.\n",
      "\tvac_2_Se_2\n",
      "\tvac_3_Br_-1\n",
      "\tvac_3_Br_0\n",
      "\tvac_3_Br_1\n",
      "Error: vasprun not correctly loaded.\n",
      "\n",
      "BiSI\n",
      "\tas_1_Bi_on_S_-1\n",
      "Error: vasprun not correctly loaded.\n",
      "Error: vasprun not correctly loaded.\n",
      "\tas_1_Bi_on_S_-1_Bond_Distortion_-20.0%\n",
      "Error: defect charge not correctly estimated.\n",
      "\tas_1_Bi_on_S_-1_Bond_Distortion_-40.0%\n",
      "Error: defect charge not correctly estimated.\n",
      "\tas_1_Bi_on_S_-1_Bond_Distortion_-60.0%\n",
      "Error: defect charge not correctly estimated.\n",
      "\tas_1_Bi_on_S_-1_Bond_Distortion_0.0%\n",
      "Error: defect charge not correctly estimated.\n",
      "\tas_1_Bi_on_S_-1_Bond_Distortion_20.0%\n",
      "Error: defect charge not correctly estimated.\n",
      "\tas_1_Bi_on_S_-1_Bond_Distortion_40.0%\n",
      "Error: defect charge not correctly estimated.\n",
      "\tas_1_Bi_on_S_-1_Bond_Distortion_60.0%\n",
      "Error: defect charge not correctly estimated.\n",
      "\tas_1_Bi_on_S_-1_Unperturbed\n",
      "Error: defect charge not correctly estimated.\n",
      "\tas_1_Bi_on_S_-2\n",
      "\tas_1_Bi_on_S_-2_Bond_Distortion_-20.0%\n",
      "Error: defect charge not correctly estimated.\n",
      "\tas_1_Bi_on_S_-2_Bond_Distortion_-40.0%\n",
      "Error: defect charge not correctly estimated.\n",
      "\tas_1_Bi_on_S_-2_Bond_Distortion_-60.0%\n",
      "Error: defect charge not correctly estimated.\n",
      "\tas_1_Bi_on_S_-2_Bond_Distortion_0.0%\n",
      "Error: defect charge not correctly estimated.\n",
      "\tas_1_Bi_on_S_-2_Bond_Distortion_20.0%\n",
      "Error: defect charge not correctly estimated.\n",
      "\tas_1_Bi_on_S_-2_Bond_Distortion_40.0%\n",
      "Error: defect charge not correctly estimated.\n",
      "\tas_1_Bi_on_S_-2_Bond_Distortion_60.0%\n",
      "Error: defect charge not correctly estimated.\n",
      "\tas_1_Bi_on_S_-2_Unperturbed\n",
      "Error: defect charge not correctly estimated.\n",
      "\tas_1_Bi_on_S_0\n",
      "Error: vasprun not correctly loaded.\n",
      "Error: vasprun not correctly loaded.\n",
      "\tas_1_Bi_on_S_0_Bond_Distortion_-10.0%\n",
      "Error: defect charge not correctly estimated.\n",
      "\tas_1_Bi_on_S_0_Bond_Distortion_-20.0%\n",
      "Error: defect charge not correctly estimated.\n",
      "\tas_1_Bi_on_S_0_Bond_Distortion_-30.0%\n",
      "Error: defect charge not correctly estimated.\n",
      "\tas_1_Bi_on_S_0_Bond_Distortion_-40.0%\n",
      "Error: defect charge not correctly estimated.\n",
      "\tas_1_Bi_on_S_0_Bond_Distortion_-50.0%\n",
      "Error: defect charge not correctly estimated.\n",
      "\tas_1_Bi_on_S_0_Bond_Distortion_-60.0%\n",
      "Error: defect charge not correctly estimated.\n",
      "\tas_1_Bi_on_S_0_Bond_Distortion_0.0%\n",
      "Error: defect charge not correctly estimated.\n",
      "\tas_1_Bi_on_S_0_Bond_Distortion_10.0%\n",
      "Error: defect charge not correctly estimated.\n",
      "\tas_1_Bi_on_S_0_Bond_Distortion_20.0%\n",
      "Error: defect charge not correctly estimated.\n",
      "\tas_1_Bi_on_S_0_Bond_Distortion_30.0%\n",
      "Error: defect charge not correctly estimated.\n",
      "\tas_1_Bi_on_S_0_Bond_Distortion_40.0%\n",
      "Error: defect charge not correctly estimated.\n",
      "\tas_1_Bi_on_S_0_Bond_Distortion_50.0%\n",
      "Error: defect charge not correctly estimated.\n",
      "\tas_1_Bi_on_S_0_Bond_Distortion_60.0%\n",
      "Error: defect charge not correctly estimated.\n",
      "\tas_1_Bi_on_S_0_Unperturbed\n",
      "Error: defect charge not correctly estimated.\n",
      "\tas_1_Bi_on_S_1\n",
      "Error: vasprun not correctly loaded.\n",
      "\tas_1_Bi_on_S_1_Bond_Distortion_-20.0%\n",
      "Error: defect charge not correctly estimated.\n",
      "\tas_1_Bi_on_S_1_Bond_Distortion_-40.0%\n",
      "Error: defect charge not correctly estimated.\n",
      "\tas_1_Bi_on_S_1_Bond_Distortion_-60.0%\n",
      "Error: defect charge not correctly estimated.\n",
      "\tas_1_Bi_on_S_1_Bond_Distortion_0.0%\n",
      "Error: defect charge not correctly estimated.\n",
      "\tas_1_Bi_on_S_1_Bond_Distortion_20.0%\n",
      "Error: defect charge not correctly estimated.\n",
      "\tas_1_Bi_on_S_1_Bond_Distortion_40.0%\n",
      "Error: defect charge not correctly estimated.\n",
      "\tas_1_Bi_on_S_1_Bond_Distortion_60.0%\n",
      "Error: defect charge not correctly estimated.\n",
      "\tas_1_Bi_on_S_1_Unperturbed\n",
      "Error: defect charge not correctly estimated.\n",
      "\tas_1_Bi_on_S_2\n",
      "Error: vasprun not correctly loaded.\n",
      "Error: vasprun not correctly loaded.\n",
      "\tas_1_Bi_on_S_2_Bond_Distortion_-20.0%\n",
      "Error: defect charge not correctly estimated.\n",
      "\tas_1_Bi_on_S_2_Bond_Distortion_-40.0%\n",
      "Error: defect charge not correctly estimated.\n",
      "\tas_1_Bi_on_S_2_Bond_Distortion_-60.0%\n",
      "Error: defect charge not correctly estimated.\n",
      "\tas_1_Bi_on_S_2_Bond_Distortion_0.0%\n",
      "Error: defect charge not correctly estimated.\n",
      "\tas_1_Bi_on_S_2_Bond_Distortion_20.0%\n",
      "Error: defect charge not correctly estimated.\n",
      "\tas_1_Bi_on_S_2_Bond_Distortion_40.0%\n",
      "Error: defect charge not correctly estimated.\n",
      "\tas_1_Bi_on_S_2_Bond_Distortion_60.0%\n",
      "Error: defect charge not correctly estimated.\n",
      "\tas_1_Bi_on_S_2_Unperturbed\n",
      "Error: defect charge not correctly estimated.\n",
      "\tas_1_Bi_on_S_3\n",
      "Error: vasprun not correctly loaded.\n",
      "Error: vasprun not correctly loaded.\n",
      "\tas_1_Bi_on_S_3_Bond_Distortion_-20.0%\n",
      "Error: defect charge not correctly estimated.\n",
      "\tas_1_Bi_on_S_3_Bond_Distortion_-40.0%\n",
      "Error: defect charge not correctly estimated.\n",
      "\tas_1_Bi_on_S_3_Bond_Distortion_-60.0%\n",
      "Error: defect charge not correctly estimated.\n",
      "\tas_1_Bi_on_S_3_Bond_Distortion_0.0%\n",
      "Error: defect charge not correctly estimated.\n",
      "\tas_1_Bi_on_S_3_Bond_Distortion_20.0%\n",
      "Error: defect charge not correctly estimated.\n",
      "\tas_1_Bi_on_S_3_Bond_Distortion_40.0%\n",
      "Error: defect charge not correctly estimated.\n",
      "\tas_1_Bi_on_S_3_Bond_Distortion_60.0%\n",
      "Error: defect charge not correctly estimated.\n",
      "\tas_1_Bi_on_S_3_Unperturbed\n",
      "Error: defect charge not correctly estimated.\n",
      "\tas_1_Bi_on_S_4\n",
      "\tas_1_Bi_on_S_4_Bond_Distortion_-20.0%\n",
      "Error: defect charge not correctly estimated.\n",
      "\tas_1_Bi_on_S_4_Bond_Distortion_-40.0%\n",
      "Error: defect charge not correctly estimated.\n",
      "\tas_1_Bi_on_S_4_Bond_Distortion_-60.0%\n",
      "Error: defect charge not correctly estimated.\n",
      "\tas_1_Bi_on_S_4_Bond_Distortion_0.0%\n",
      "Error: defect charge not correctly estimated.\n",
      "\tas_1_Bi_on_S_4_Bond_Distortion_20.0%\n",
      "Error: defect charge not correctly estimated.\n",
      "\tas_1_Bi_on_S_4_Bond_Distortion_40.0%\n",
      "Error: defect charge not correctly estimated.\n",
      "\tas_1_Bi_on_S_4_Bond_Distortion_60.0%\n",
      "Error: defect charge not correctly estimated.\n",
      "\tas_1_Bi_on_S_4_Unperturbed\n",
      "Error: defect charge not correctly estimated.\n",
      "\tas_1_Bi_on_S_5\n",
      "Error: vasprun not correctly loaded.\n",
      "Error: vasprun not correctly loaded.\n",
      "\tas_1_Bi_on_S_5_Rattled\n",
      "Error: defect charge not correctly estimated.\n",
      "\tas_1_Bi_on_S_5_Unperturbed\n",
      "Error: defect charge not correctly estimated.\n",
      "\tas_1_I_on_Bi_-1\n",
      "Error: vasprun not correctly loaded.\n",
      "Error: vasprun not correctly loaded.\n",
      "\tas_1_I_on_Bi_-1_Bond_Distortion_-20.0%\n",
      "Error: defect charge not correctly estimated.\n",
      "\tas_1_I_on_Bi_-1_Bond_Distortion_-40.0%\n",
      "Error: defect charge not correctly estimated.\n",
      "\tas_1_I_on_Bi_-1_Bond_Distortion_-60.0%\n",
      "Error: defect charge not correctly estimated.\n",
      "\tas_1_I_on_Bi_-1_Bond_Distortion_0.0%\n",
      "Error: defect charge not correctly estimated.\n",
      "\tas_1_I_on_Bi_-1_Bond_Distortion_20.0%\n",
      "Error: defect charge not correctly estimated.\n",
      "\tas_1_I_on_Bi_-1_Bond_Distortion_40.0%\n",
      "Error: defect charge not correctly estimated.\n",
      "\tas_1_I_on_Bi_-1_Bond_Distortion_60.0%\n",
      "Error: defect charge not correctly estimated.\n",
      "\tas_1_I_on_Bi_-1_Unperturbed\n",
      "Error: defect charge not correctly estimated.\n",
      "\tas_1_I_on_Bi_-2\n",
      "Error: vasprun not correctly loaded.\n",
      "Error: vasprun not correctly loaded.\n",
      "\tas_1_I_on_Bi_-2_Bond_Distortion_-20.0%\n",
      "Error: defect charge not correctly estimated.\n",
      "\tas_1_I_on_Bi_-2_Bond_Distortion_-40.0%\n",
      "Error: defect charge not correctly estimated.\n",
      "\tas_1_I_on_Bi_-2_Bond_Distortion_-60.0%\n",
      "Error: defect charge not correctly estimated.\n",
      "\tas_1_I_on_Bi_-2_Bond_Distortion_0.0%\n",
      "Error: defect charge not correctly estimated.\n",
      "\tas_1_I_on_Bi_-2_Bond_Distortion_20.0%\n",
      "Error: defect charge not correctly estimated.\n",
      "\tas_1_I_on_Bi_-2_Bond_Distortion_40.0%\n",
      "Error: defect charge not correctly estimated.\n",
      "\tas_1_I_on_Bi_-2_Bond_Distortion_60.0%\n",
      "Error: defect charge not correctly estimated.\n",
      "\tas_1_I_on_Bi_-2_Unperturbed\n",
      "Error: defect charge not correctly estimated.\n",
      "\tas_1_I_on_Bi_0\n",
      "\tas_1_I_on_Bi_0_Bond_Distortion_-10.0%\n",
      "Error: defect charge not correctly estimated.\n",
      "\tas_1_I_on_Bi_0_Bond_Distortion_-20.0%\n",
      "Error: defect charge not correctly estimated.\n",
      "\tas_1_I_on_Bi_0_Bond_Distortion_-30.0%\n",
      "Error: defect charge not correctly estimated.\n",
      "\tas_1_I_on_Bi_0_Bond_Distortion_-40.0%\n",
      "Error: defect charge not correctly estimated.\n",
      "\tas_1_I_on_Bi_0_Bond_Distortion_-50.0%\n",
      "Error: defect charge not correctly estimated.\n",
      "\tas_1_I_on_Bi_0_Bond_Distortion_-60.0%\n",
      "Error: defect charge not correctly estimated.\n",
      "\tas_1_I_on_Bi_0_Bond_Distortion_0.0%\n",
      "Error: defect charge not correctly estimated.\n",
      "\tas_1_I_on_Bi_0_Bond_Distortion_10.0%\n",
      "Error: defect charge not correctly estimated.\n",
      "\tas_1_I_on_Bi_0_Bond_Distortion_20.0%\n",
      "Error: defect charge not correctly estimated.\n",
      "\tas_1_I_on_Bi_0_Bond_Distortion_30.0%\n",
      "Error: defect charge not correctly estimated.\n",
      "\tas_1_I_on_Bi_0_Bond_Distortion_40.0%\n",
      "Error: defect charge not correctly estimated.\n",
      "\tas_1_I_on_Bi_0_Bond_Distortion_50.0%\n",
      "Error: defect charge not correctly estimated.\n",
      "\tas_1_I_on_Bi_0_Bond_Distortion_60.0%\n",
      "Error: defect charge not correctly estimated.\n",
      "\tas_1_I_on_Bi_0_Unperturbed\n",
      "Error: defect charge not correctly estimated.\n",
      "\tas_1_I_on_Bi_1\n",
      "Error: vasprun not correctly loaded.\n",
      "Error: vasprun not correctly loaded.\n",
      "\tas_1_I_on_Bi_1_Bond_Distortion_-20.0%\n",
      "Error: defect charge not correctly estimated.\n",
      "\tas_1_I_on_Bi_1_Bond_Distortion_-40.0%\n",
      "Error: defect charge not correctly estimated.\n",
      "\tas_1_I_on_Bi_1_Bond_Distortion_-60.0%\n",
      "Error: defect charge not correctly estimated.\n",
      "\tas_1_I_on_Bi_1_Bond_Distortion_0.0%\n",
      "Error: defect charge not correctly estimated.\n",
      "\tas_1_I_on_Bi_1_Bond_Distortion_20.0%\n",
      "Error: defect charge not correctly estimated.\n",
      "\tas_1_I_on_Bi_1_Bond_Distortion_40.0%\n",
      "Error: defect charge not correctly estimated.\n",
      "\tas_1_I_on_Bi_1_Bond_Distortion_60.0%\n",
      "Error: defect charge not correctly estimated.\n",
      "\tas_1_I_on_Bi_1_Unperturbed\n",
      "Error: defect charge not correctly estimated.\n",
      "\tas_1_I_on_Bi_2\n",
      "Error: vasprun not correctly loaded.\n",
      "Error: vasprun not correctly loaded.\n",
      "\tas_1_I_on_Bi_2_Bond_Distortion_-20.0%\n",
      "Error: defect charge not correctly estimated.\n",
      "\tas_1_I_on_Bi_2_Bond_Distortion_-40.0%\n",
      "Error: defect charge not correctly estimated.\n",
      "\tas_1_I_on_Bi_2_Bond_Distortion_-60.0%\n",
      "Error: defect charge not correctly estimated.\n",
      "\tas_1_I_on_Bi_2_Bond_Distortion_0.0%\n",
      "Error: defect charge not correctly estimated.\n",
      "\tas_1_I_on_Bi_2_Bond_Distortion_20.0%\n",
      "Error: defect charge not correctly estimated.\n",
      "\tas_1_I_on_Bi_2_Bond_Distortion_40.0%\n",
      "Error: defect charge not correctly estimated.\n",
      "\tas_1_I_on_Bi_2_Bond_Distortion_60.0%\n",
      "Error: defect charge not correctly estimated.\n",
      "\tas_1_I_on_Bi_2_Unperturbed\n",
      "Error: defect charge not correctly estimated.\n",
      "\tas_1_I_on_Bi_3\n",
      "Error: vasprun not correctly loaded.\n",
      "Error: vasprun not correctly loaded.\n",
      "\tas_1_I_on_Bi_3_Bond_Distortion_-20.0%\n",
      "Error: defect charge not correctly estimated.\n",
      "\tas_1_I_on_Bi_3_Bond_Distortion_-40.0%\n",
      "Error: defect charge not correctly estimated.\n",
      "\tas_1_I_on_Bi_3_Bond_Distortion_-60.0%\n",
      "Error: defect charge not correctly estimated.\n",
      "\tas_1_I_on_Bi_3_Bond_Distortion_0.0%\n",
      "Error: defect charge not correctly estimated.\n",
      "\tas_1_I_on_Bi_3_Bond_Distortion_20.0%\n",
      "Error: defect charge not correctly estimated.\n",
      "\tas_1_I_on_Bi_3_Bond_Distortion_40.0%\n",
      "Error: defect charge not correctly estimated.\n",
      "\tas_1_I_on_Bi_3_Bond_Distortion_60.0%\n",
      "Error: defect charge not correctly estimated.\n",
      "\tas_1_I_on_Bi_3_Unperturbed\n",
      "Error: defect charge not correctly estimated.\n",
      "\tas_1_I_on_Bi_4\n",
      "Error: vasprun not correctly loaded.\n",
      "Error: vasprun not correctly loaded.\n",
      "\tas_1_I_on_Bi_4_Rattled\n",
      "Error: defect charge not correctly estimated.\n",
      "\tas_1_I_on_Bi_4_Unperturbed\n",
      "Error: defect charge not correctly estimated.\n",
      "\tas_1_I_on_Bi_5\n",
      "Error: vasprun not correctly loaded.\n",
      "Error: vasprun not correctly loaded.\n",
      "\tas_1_I_on_Bi_5_Bond_Distortion_-20.0%\n",
      "Error: defect charge not correctly estimated.\n",
      "\tas_1_I_on_Bi_5_Bond_Distortion_-40.0%\n",
      "Error: defect charge not correctly estimated.\n",
      "\tas_1_I_on_Bi_5_Bond_Distortion_-60.0%\n",
      "Error: defect charge not correctly estimated.\n",
      "\tas_1_I_on_Bi_5_Bond_Distortion_0.0%\n",
      "Error: defect charge not correctly estimated.\n",
      "\tas_1_I_on_Bi_5_Bond_Distortion_20.0%\n",
      "Error: defect charge not correctly estimated.\n",
      "\tas_1_I_on_Bi_5_Bond_Distortion_40.0%\n",
      "Error: defect charge not correctly estimated.\n",
      "\tas_1_I_on_Bi_5_Bond_Distortion_60.0%\n",
      "Error: defect charge not correctly estimated.\n",
      "\tas_1_I_on_Bi_5_Unperturbed\n",
      "Error: defect charge not correctly estimated.\n",
      "\tas_1_S_on_Bi_-1\n",
      "Error: vasprun not correctly loaded.\n",
      "\tas_1_S_on_Bi_-1_Bond_Distortion_-20.0%\n",
      "Error: defect charge not correctly estimated.\n",
      "\tas_1_S_on_Bi_-1_Bond_Distortion_-40.0%\n",
      "Error: defect charge not correctly estimated.\n",
      "\tas_1_S_on_Bi_-1_Bond_Distortion_-60.0%\n",
      "Error: defect charge not correctly estimated.\n",
      "\tas_1_S_on_Bi_-1_Bond_Distortion_0.0%\n",
      "Error: defect charge not correctly estimated.\n",
      "\tas_1_S_on_Bi_-1_Bond_Distortion_20.0%\n",
      "Error: defect charge not correctly estimated.\n",
      "\tas_1_S_on_Bi_-1_Bond_Distortion_40.0%\n",
      "Error: defect charge not correctly estimated.\n",
      "\tas_1_S_on_Bi_-1_Bond_Distortion_60.0%\n",
      "Error: defect charge not correctly estimated.\n",
      "\tas_1_S_on_Bi_-1_Unperturbed\n",
      "Error: defect charge not correctly estimated.\n",
      "\tas_1_S_on_Bi_-2\n",
      "\tas_1_S_on_Bi_-2_Bond_Distortion_-20.0%\n",
      "Error: defect charge not correctly estimated.\n",
      "\tas_1_S_on_Bi_-2_Bond_Distortion_-40.0%\n",
      "Error: defect charge not correctly estimated.\n",
      "\tas_1_S_on_Bi_-2_Bond_Distortion_-60.0%\n",
      "Error: defect charge not correctly estimated.\n",
      "\tas_1_S_on_Bi_-2_Bond_Distortion_0.0%\n",
      "Error: defect charge not correctly estimated.\n",
      "\tas_1_S_on_Bi_-2_Bond_Distortion_20.0%\n",
      "Error: defect charge not correctly estimated.\n",
      "\tas_1_S_on_Bi_-2_Bond_Distortion_40.0%\n",
      "Error: defect charge not correctly estimated.\n",
      "\tas_1_S_on_Bi_-2_Bond_Distortion_60.0%\n",
      "Error: defect charge not correctly estimated.\n",
      "\tas_1_S_on_Bi_-2_Unperturbed\n",
      "Error: defect charge not correctly estimated.\n",
      "\tas_1_S_on_Bi_0\n",
      "Error: vasprun not correctly loaded.\n",
      "Error: vasprun not correctly loaded.\n",
      "\tas_1_S_on_Bi_0_Bond_Distortion_-10.0%\n",
      "Error: defect charge not correctly estimated.\n",
      "\tas_1_S_on_Bi_0_Bond_Distortion_-20.0%\n",
      "Error: defect charge not correctly estimated.\n",
      "\tas_1_S_on_Bi_0_Bond_Distortion_-30.0%\n",
      "Error: defect charge not correctly estimated.\n",
      "\tas_1_S_on_Bi_0_Bond_Distortion_-40.0%\n",
      "Error: defect charge not correctly estimated.\n",
      "\tas_1_S_on_Bi_0_Bond_Distortion_-50.0%\n",
      "Error: defect charge not correctly estimated.\n",
      "\tas_1_S_on_Bi_0_Bond_Distortion_-60.0%\n",
      "Error: defect charge not correctly estimated.\n",
      "\tas_1_S_on_Bi_0_Bond_Distortion_0.0%\n",
      "Error: defect charge not correctly estimated.\n",
      "\tas_1_S_on_Bi_0_Bond_Distortion_10.0%\n",
      "Error: defect charge not correctly estimated.\n",
      "\tas_1_S_on_Bi_0_Bond_Distortion_20.0%\n",
      "Error: defect charge not correctly estimated.\n",
      "\tas_1_S_on_Bi_0_Bond_Distortion_30.0%\n",
      "Error: defect charge not correctly estimated.\n",
      "\tas_1_S_on_Bi_0_Bond_Distortion_40.0%\n",
      "Error: defect charge not correctly estimated.\n",
      "\tas_1_S_on_Bi_0_Bond_Distortion_50.0%\n",
      "Error: defect charge not correctly estimated.\n",
      "\tas_1_S_on_Bi_0_Bond_Distortion_60.0%\n",
      "Error: defect charge not correctly estimated.\n",
      "\tas_1_S_on_Bi_0_Unperturbed\n",
      "Error: defect charge not correctly estimated.\n",
      "\tas_1_S_on_Bi_1\n",
      "Error: vasprun not correctly loaded.\n",
      "Error: vasprun not correctly loaded.\n",
      "\tas_1_S_on_Bi_1_Bond_Distortion_-20.0%\n",
      "Error: defect charge not correctly estimated.\n",
      "\tas_1_S_on_Bi_1_Bond_Distortion_-40.0%\n",
      "Error: defect charge not correctly estimated.\n",
      "\tas_1_S_on_Bi_1_Bond_Distortion_-60.0%\n",
      "Error: defect charge not correctly estimated.\n",
      "\tas_1_S_on_Bi_1_Bond_Distortion_0.0%\n",
      "Error: defect charge not correctly estimated.\n",
      "\tas_1_S_on_Bi_1_Bond_Distortion_20.0%\n",
      "Error: defect charge not correctly estimated.\n",
      "\tas_1_S_on_Bi_1_Bond_Distortion_40.0%\n",
      "Error: defect charge not correctly estimated.\n",
      "\tas_1_S_on_Bi_1_Bond_Distortion_60.0%\n",
      "Error: defect charge not correctly estimated.\n",
      "\tas_1_S_on_Bi_1_Unperturbed\n",
      "Error: defect charge not correctly estimated.\n",
      "\tas_1_S_on_Bi_2\n",
      "Error: vasprun not correctly loaded.\n",
      "\tas_1_S_on_Bi_2_Bond_Distortion_-20.0%\n",
      "Error: defect charge not correctly estimated.\n",
      "\tas_1_S_on_Bi_2_Bond_Distortion_-40.0%\n",
      "Error: defect charge not correctly estimated.\n",
      "\tas_1_S_on_Bi_2_Bond_Distortion_-60.0%\n",
      "Error: defect charge not correctly estimated.\n",
      "\tas_1_S_on_Bi_2_Bond_Distortion_0.0%\n",
      "Error: defect charge not correctly estimated.\n",
      "\tas_1_S_on_Bi_2_Bond_Distortion_20.0%\n",
      "Error: defect charge not correctly estimated.\n",
      "\tas_1_S_on_Bi_2_Bond_Distortion_40.0%\n",
      "Error: defect charge not correctly estimated.\n",
      "\tas_1_S_on_Bi_2_Bond_Distortion_60.0%\n",
      "Error: defect charge not correctly estimated.\n",
      "\tas_1_S_on_Bi_2_Unperturbed\n",
      "Error: defect charge not correctly estimated.\n",
      "\tas_1_S_on_Bi_3\n",
      "Error: vasprun not correctly loaded.\n",
      "\tas_1_S_on_Bi_3_Rattled\n",
      "Error: defect charge not correctly estimated.\n",
      "\tas_1_S_on_Bi_3_Unperturbed\n",
      "Error: defect charge not correctly estimated.\n",
      "\tas_1_S_on_Bi_4\n",
      "Error: vasprun not correctly loaded.\n",
      "Error: vasprun not correctly loaded.\n",
      "\tas_1_S_on_Bi_4_Bond_Distortion_-20.0%\n",
      "Error: defect charge not correctly estimated.\n",
      "\tas_1_S_on_Bi_4_Bond_Distortion_-40.0%\n",
      "Error: defect charge not correctly estimated.\n",
      "\tas_1_S_on_Bi_4_Bond_Distortion_-60.0%\n",
      "Error: defect charge not correctly estimated.\n",
      "\tas_1_S_on_Bi_4_Bond_Distortion_0.0%\n",
      "Error: defect charge not correctly estimated.\n",
      "\tas_1_S_on_Bi_4_Bond_Distortion_20.0%\n",
      "Error: defect charge not correctly estimated.\n",
      "\tas_1_S_on_Bi_4_Bond_Distortion_40.0%\n",
      "Error: defect charge not correctly estimated.\n",
      "\tas_1_S_on_Bi_4_Bond_Distortion_60.0%\n",
      "Error: defect charge not correctly estimated.\n",
      "\tas_1_S_on_Bi_4_Unperturbed\n",
      "Error: defect charge not correctly estimated.\n",
      "\tas_1_S_on_Bi_5\n",
      "\tas_1_S_on_Bi_5_Bond_Distortion_-20.0%\n",
      "Error: defect charge not correctly estimated.\n",
      "\tas_1_S_on_Bi_5_Bond_Distortion_-40.0%\n",
      "Error: defect charge not correctly estimated.\n",
      "\tas_1_S_on_Bi_5_Bond_Distortion_-60.0%\n",
      "Error: defect charge not correctly estimated.\n",
      "\tas_1_S_on_Bi_5_Bond_Distortion_0.0%\n",
      "Error: defect charge not correctly estimated.\n",
      "\tas_1_S_on_Bi_5_Bond_Distortion_20.0%\n",
      "Error: defect charge not correctly estimated.\n",
      "\tas_1_S_on_Bi_5_Bond_Distortion_40.0%\n",
      "Error: defect charge not correctly estimated.\n",
      "\tas_1_S_on_Bi_5_Bond_Distortion_60.0%\n",
      "Error: defect charge not correctly estimated.\n",
      "\tas_1_S_on_Bi_5_Unperturbed\n",
      "Error: defect charge not correctly estimated.\n",
      "\tas_2_Bi_on_I_-1\n",
      "Error: vasprun not correctly loaded.\n",
      "\tas_2_Bi_on_I_-1_Bond_Distortion_-20.0%\n",
      "Error: defect charge not correctly estimated.\n",
      "\tas_2_Bi_on_I_-1_Bond_Distortion_-40.0%\n",
      "Error: defect charge not correctly estimated.\n",
      "\tas_2_Bi_on_I_-1_Bond_Distortion_-60.0%\n",
      "Error: defect charge not correctly estimated.\n",
      "\tas_2_Bi_on_I_-1_Bond_Distortion_0.0%\n",
      "Error: defect charge not correctly estimated.\n",
      "\tas_2_Bi_on_I_-1_Bond_Distortion_20.0%\n",
      "Error: defect charge not correctly estimated.\n",
      "\tas_2_Bi_on_I_-1_Bond_Distortion_40.0%\n",
      "Error: defect charge not correctly estimated.\n",
      "\tas_2_Bi_on_I_-1_Bond_Distortion_60.0%\n",
      "Error: defect charge not correctly estimated.\n",
      "\tas_2_Bi_on_I_-1_Unperturbed\n",
      "Error: defect charge not correctly estimated.\n",
      "\tas_2_Bi_on_I_-2\n",
      "Error: vasprun not correctly loaded.\n",
      "Error: vasprun not correctly loaded.\n",
      "\tas_2_Bi_on_I_-2_Bond_Distortion_-20.0%\n",
      "Error: defect charge not correctly estimated.\n",
      "\tas_2_Bi_on_I_-2_Bond_Distortion_-40.0%\n",
      "Error: defect charge not correctly estimated.\n",
      "\tas_2_Bi_on_I_-2_Bond_Distortion_-60.0%\n",
      "Error: defect charge not correctly estimated.\n",
      "\tas_2_Bi_on_I_-2_Bond_Distortion_0.0%\n",
      "Error: defect charge not correctly estimated.\n",
      "\tas_2_Bi_on_I_-2_Bond_Distortion_20.0%\n",
      "Error: defect charge not correctly estimated.\n",
      "\tas_2_Bi_on_I_-2_Bond_Distortion_40.0%\n",
      "Error: defect charge not correctly estimated.\n",
      "\tas_2_Bi_on_I_-2_Bond_Distortion_60.0%\n",
      "Error: defect charge not correctly estimated.\n",
      "\tas_2_Bi_on_I_-2_Unperturbed\n",
      "Error: defect charge not correctly estimated.\n",
      "\tas_2_Bi_on_I_0\n",
      "\tas_2_Bi_on_I_0_Bond_Distortion_-10.0%\n",
      "Error: defect charge not correctly estimated.\n",
      "\tas_2_Bi_on_I_0_Bond_Distortion_-20.0%\n",
      "Error: defect charge not correctly estimated.\n",
      "\tas_2_Bi_on_I_0_Bond_Distortion_-30.0%\n",
      "Error: defect charge not correctly estimated.\n",
      "\tas_2_Bi_on_I_0_Bond_Distortion_-40.0%\n",
      "Error: defect charge not correctly estimated.\n",
      "\tas_2_Bi_on_I_0_Bond_Distortion_-50.0%\n",
      "Error: defect charge not correctly estimated.\n",
      "\tas_2_Bi_on_I_0_Bond_Distortion_-60.0%\n",
      "Error: defect charge not correctly estimated.\n",
      "\tas_2_Bi_on_I_0_Bond_Distortion_0.0%\n",
      "Error: defect charge not correctly estimated.\n",
      "\tas_2_Bi_on_I_0_Bond_Distortion_10.0%\n",
      "Error: defect charge not correctly estimated.\n",
      "\tas_2_Bi_on_I_0_Bond_Distortion_20.0%\n",
      "Error: defect charge not correctly estimated.\n",
      "\tas_2_Bi_on_I_0_Bond_Distortion_30.0%\n",
      "Error: defect charge not correctly estimated.\n",
      "\tas_2_Bi_on_I_0_Bond_Distortion_40.0%\n",
      "Error: defect charge not correctly estimated.\n",
      "\tas_2_Bi_on_I_0_Bond_Distortion_50.0%\n",
      "Error: defect charge not correctly estimated.\n",
      "\tas_2_Bi_on_I_0_Bond_Distortion_60.0%\n",
      "Error: defect charge not correctly estimated.\n",
      "\tas_2_Bi_on_I_0_Unperturbed\n",
      "Error: defect charge not correctly estimated.\n",
      "\tas_2_Bi_on_I_1\n",
      "Error: vasprun not correctly loaded.\n",
      "\tas_2_Bi_on_I_1_Bond_Distortion_-20.0%\n",
      "Error: defect charge not correctly estimated.\n",
      "\tas_2_Bi_on_I_1_Bond_Distortion_-40.0%\n",
      "Error: defect charge not correctly estimated.\n",
      "\tas_2_Bi_on_I_1_Bond_Distortion_-60.0%\n",
      "Error: defect charge not correctly estimated.\n",
      "\tas_2_Bi_on_I_1_Bond_Distortion_0.0%\n",
      "Error: defect charge not correctly estimated.\n",
      "\tas_2_Bi_on_I_1_Bond_Distortion_20.0%\n",
      "Error: defect charge not correctly estimated.\n",
      "\tas_2_Bi_on_I_1_Bond_Distortion_40.0%\n",
      "Error: defect charge not correctly estimated.\n",
      "\tas_2_Bi_on_I_1_Bond_Distortion_60.0%\n",
      "Error: defect charge not correctly estimated.\n",
      "\tas_2_Bi_on_I_1_Unperturbed\n",
      "Error: defect charge not correctly estimated.\n",
      "\tas_2_Bi_on_I_2\n",
      "Error: vasprun not correctly loaded.\n",
      "\tas_2_Bi_on_I_2_Bond_Distortion_-20.0%\n",
      "Error: defect charge not correctly estimated.\n",
      "\tas_2_Bi_on_I_2_Bond_Distortion_-40.0%\n",
      "Error: defect charge not correctly estimated.\n",
      "\tas_2_Bi_on_I_2_Bond_Distortion_-60.0%\n",
      "Error: defect charge not correctly estimated.\n",
      "\tas_2_Bi_on_I_2_Bond_Distortion_0.0%\n",
      "Error: defect charge not correctly estimated.\n",
      "\tas_2_Bi_on_I_2_Bond_Distortion_20.0%\n",
      "Error: defect charge not correctly estimated.\n",
      "\tas_2_Bi_on_I_2_Bond_Distortion_40.0%\n",
      "Error: defect charge not correctly estimated.\n",
      "\tas_2_Bi_on_I_2_Bond_Distortion_60.0%\n",
      "Error: defect charge not correctly estimated.\n",
      "\tas_2_Bi_on_I_2_Unperturbed\n",
      "Error: defect charge not correctly estimated.\n",
      "\tas_2_Bi_on_I_3\n",
      "Error: vasprun not correctly loaded.\n"
     ]
    }
   ],
   "source": [
    "# Each folder names a new column, and structure, energy, forces and stresses\n",
    "# of each ionic step are loaded\n",
    "\n",
    "max_counter = 0\n",
    "if os.path.exists(data_train_path):\n",
    "    # Load data for model training\n",
    "    m3gnet_dataset = pd.read_excel(data_train_path, index_col=0, header=[0,1,2])\n",
    "else:\n",
    "    # Path to dataset, structured as:\n",
    "    # path_to_dataset\n",
    "    #     material_i\n",
    "    #         defect_i\n",
    "    #             simulation_i (containing vasprun.xml)\n",
    "    path_to_dataset = '../../../../Desktop/defects'\n",
    "\n",
    "    # Extract the data\n",
    "    source_m3gnet_dataset = MLL.extract_vaspruns_dataset(path_to_dataset, charged=charged)\n",
    "    #source_m3gnet_dataset.to_excel(data_train_path)\n",
    "\n",
    "source_m3gnet_dataset"
   ]
  },
  {
   "cell_type": "code",
   "execution_count": null,
   "id": "c1eaa9ef",
   "metadata": {
    "is_executing": true
   },
   "outputs": [],
   "source": [
    "len(source_m3gnet_dataset)"
   ]
  },
  {
   "cell_type": "markdown",
   "id": "22e7077a",
   "metadata": {},
   "source": [
    "# Split data into train-validation-test sets"
   ]
  },
  {
   "cell_type": "markdown",
   "id": "669793ea",
   "metadata": {},
   "source": [
    "### Decide if we split in terms of mateiral, defect state or simulation directly"
   ]
  },
  {
   "cell_type": "code",
   "execution_count": 5,
   "id": "153bf13c",
   "metadata": {
    "ExecuteTime": {
     "end_time": "2024-02-20T11:10:56.230307480Z",
     "start_time": "2024-02-20T11:10:56.223981856Z"
    }
   },
   "outputs": [],
   "source": [
    "# Clone (copy) the DataFrame\n",
    "m3gnet_dataset = source_m3gnet_dataset.copy()\n",
    "\n",
    "# Remove the outer (top-level) column index up to depth-1 level\n",
    "for i in range(depth):\n",
    "    m3gnet_dataset.columns = m3gnet_dataset.columns.droplevel(0)"
   ]
  },
  {
   "cell_type": "code",
   "execution_count": 6,
   "id": "1c6b62c8",
   "metadata": {
    "ExecuteTime": {
     "end_time": "2024-02-20T11:10:56.562947742Z",
     "start_time": "2024-02-20T11:10:56.229934348Z"
    }
   },
   "outputs": [
    {
     "data": {
      "text/plain": "                                           BiSI_as_1_Bi_on_S_-1   \n                                         BiSI_as_1_Bi_on_S_-1_0   \nstructure     [[3.15281399 2.93861474 5.6361836 ] Bi3.013888...  \\\nenergy                                              -279.684358   \nforce         [[-2.01857262, 0.24701282, 1.54309897], [15.30...   \nstress        [[-11.086880084, 1.9420371200000002, -0.456917...   \ncharge_state                                               -1.0   \n\n                                                                  \n                                         BiSI_as_1_Bi_on_S_-1_1   \nstructure     [[3.05543279 2.95053132 5.71062686] Bi3.013888...  \\\nenergy                                              -311.344315   \nforce         [[-1.85604649, 0.23527893, 0.43050389], [2.091...   \nstress        [[-1.406380982, 0.128021917, -0.02008121700000...   \ncharge_state                                               -1.0   \n\n                                                                  \n                                         BiSI_as_1_Bi_on_S_-1_2   \nstructure     [[3.09222801 2.94602865 5.68249866] Bi3.013888...  \\\nenergy                                              -310.294552   \nforce         [[-2.27763188, 0.06099911, 0.69588661], [1.891...   \nstress        [[-2.442085222, 0.135199803, 0.130377702], [0....   \ncharge_state                                               -1.0   \n\n                                                                  \n                                         BiSI_as_1_Bi_on_S_-1_3   \nstructure     [[3.06634885 2.94919555 5.70228201] Bi3.013888...  \\\nenergy                                              -311.654209   \nforce         [[-1.98800549, 0.18897119, 0.48342825], [2.028...   \nstress        [[-1.5217051400000001, 0.11786688000000001, 0....   \ncharge_state                                               -1.0   \n\n                                                                  \n                                         BiSI_as_1_Bi_on_S_-1_4   \nstructure     [[2.96635281 2.95887109 5.72985085] Bi3.013888...  \\\nenergy                                              -317.876089   \nforce         [[-1.19359412, 0.91858151, 0.31668589], [1.115...   \nstress        [[-0.457010256, 0.244894715, -0.06055201900000...   \ncharge_state                                               -1.0   \n\n                                                                  \n                                         BiSI_as_1_Bi_on_S_-1_5   \nstructure     [[2.8458001  2.97053579 5.76308707] Bi3.013888...  \\\nenergy                                              -320.986376   \nforce         [[-0.30380463, 0.77475972, -0.0018553], [0.476...   \nstress        [[-0.121757163, 0.263900716, -0.147235426], [0...   \ncharge_state                                               -1.0   \n\n                                                                  \n                                         BiSI_as_1_Bi_on_S_-1_6   \nstructure     [[2.82132288 2.97290415 5.76983538] Bi3.013888...  \\\nenergy                                               -321.08705   \nforce         [[-0.12223756, 0.7065304, -0.05701517], [0.412...   \nstress        [[-0.180309355, 0.264824673, -0.154896145], [0...   \ncharge_state                                               -1.0   \n\n                                                                  \n                                         BiSI_as_1_Bi_on_S_-1_7   \nstructure     [[2.77100162 3.02003984 5.77818965] Bi3.013888...  \\\nenergy                                              -324.175115   \nforce         [[0.36655038, -0.1788371, 0.17206934], [0.2103...   \nstress        [[-0.248344999, 0.300039184, -0.156954496], [0...   \ncharge_state                                               -1.0   \n\n                                                                  \n                                         BiSI_as_1_Bi_on_S_-1_8   \nstructure     [[2.72258149 3.06539468 5.78622827] Bi3.013888...  \\\nenergy                                              -325.196842   \nforce         [[0.82314551, -1.58716767, 0.45180489], [-0.22...   \nstress        [[-0.58308788, 0.27522616800000005, -0.1870208...   \ncharge_state                                               -1.0   \n\n                                                                 ...   \n                                         BiSI_as_1_Bi_on_S_-1_9  ...   \nstructure     [[2.75652076 2.97439382 5.82328647] Bi3.013888...  ...  \\\nenergy                                              -326.876011  ...   \nforce         [[0.70511255, -1.12097965, 0.35623679], [-0.30...  ...   \nstress        [[-0.42832463000000004, 0.25551979399999997, -...  ...   \ncharge_state                                               -1.0  ...   \n\n                                                 BiSI_vac_3_I_0   \n                                             BiSI_vac_3_I_0_290   \nstructure     [[1.05106711 3.14353984 3.83122885] Bi3+, [ 1....  \\\nenergy                                              -332.607569   \nforce         [[0.00109285, 0.00304389, 0.00057261], [-7.35e...   \nstress        [[0.5176018880000001, -8.1931e-05, 0.003965123...   \ncharge_state                                                0.0   \n\n                                                                  \n                                             BiSI_vac_3_I_0_291   \nstructure     [[1.05106724 3.14354053 3.83122885] Bi3+, [ 1....  \\\nenergy                                              -332.607569   \nforce         [[0.00120373, 0.00310365, 0.00051866], [2.976e...   \nstress        [[0.5163720020000001, 0.001028801, 0.004027142...   \ncharge_state                                                0.0   \n\n                                                                  \n                                             BiSI_vac_3_I_0_292   \nstructure     [[1.05106761 3.14354156 3.83122895] Bi3+, [ 1....  \\\nenergy                                              -332.607569   \nforce         [[0.0008785, 0.0029228, 0.00033936], [-0.00027...   \nstress        [[0.5203135879999999, -0.000296831, 0.00213702...   \ncharge_state                                                0.0   \n\n                                                                  \n                                             BiSI_vac_3_I_0_293   \nstructure     [[1.05106774 3.14354208 3.83122895] Bi3+, [ 1....  \\\nenergy                                              -332.607569   \nforce         [[0.00075588, 0.0029523, 0.00022033], [-0.0003...   \nstress        [[0.5208997110000001, -0.00039039600000000005,...   \ncharge_state                                                0.0   \n\n                                                                  \n                                             BiSI_vac_3_I_0_294   \nstructure     [[1.05106799 3.14354293 3.83122895] Bi3+, [ 1....  \\\nenergy                                              -332.607569   \nforce         [[0.00059159, 0.00308264, 0.000194], [-0.00056...   \nstress        [[0.520801838, -0.000372522, 0.00350896], [-0....   \ncharge_state                                                0.0   \n\n                                                                  \n                                             BiSI_vac_3_I_0_295   \nstructure     [[1.05106824 3.14354413 3.83122905] Bi3+, [ 1....  \\\nenergy                                               -332.60757   \nforce         [[0.00098029, 0.00211477, -0.00046483], [-0.00...   \nstress        [[0.5203314490000001, -0.00020664400000000002,...   \ncharge_state                                                0.0   \n\n                                                                  \n                                             BiSI_vac_3_I_0_296   \nstructure     [[1.05106837 3.14354465 3.83122916] Bi3+, [ 1....  \\\nenergy                                               -332.60757   \nforce         [[0.00125204, 0.00205222, -0.0003113], [0.0001...   \nstress        [[0.518850041, -0.0014548190000000002, 0.00319...   \ncharge_state                                                0.0   \n\n                                                                  \n                                             BiSI_vac_3_I_0_297   \nstructure     [[1.05106875 3.14354585 3.83122916] Bi3+, [ 1....  \\\nenergy                                               -332.60757   \nforce         [[0.00124688, 0.00276692, -0.00022363], [0.000...   \nstress        [[0.515232405, 0.001054742, 0.005106482], [0.0...   \ncharge_state                                                0.0   \n\n                                                                  \n                                             BiSI_vac_3_I_0_298   \nstructure     [[1.05106887 3.14354619 3.83122916] Bi3+, [ 1....  \\\nenergy                                               -332.60757   \nforce         [[0.00125325, 0.00280768, -5.719e-05], [0.0001...   \nstress        [[0.515235369, 0.0010547430000000001, 0.005107...   \ncharge_state                                                0.0   \n\n                                                                 \n                                             BiSI_vac_3_I_0_299  \nstructure     [[1.051069   3.14354671 3.83122916] Bi3+, [ 1....  \nenergy                                               -332.60757  \nforce         [[0.00094215, 0.00259488, 6.043e-05], [-0.0002...  \nstress        [[0.513089892, 0.000870935, 0.005695736], [0.0...  \ncharge_state                                                0.0  \n\n[5 rows x 12914 columns]",
      "text/html": "<div>\n<style scoped>\n    .dataframe tbody tr th:only-of-type {\n        vertical-align: middle;\n    }\n\n    .dataframe tbody tr th {\n        vertical-align: top;\n    }\n\n    .dataframe thead tr th {\n        text-align: left;\n    }\n</style>\n<table border=\"1\" class=\"dataframe\">\n  <thead>\n    <tr>\n      <th></th>\n      <th colspan=\"10\" halign=\"left\">BiSI_as_1_Bi_on_S_-1</th>\n      <th>...</th>\n      <th colspan=\"10\" halign=\"left\">BiSI_vac_3_I_0</th>\n    </tr>\n    <tr>\n      <th></th>\n      <th>BiSI_as_1_Bi_on_S_-1_0</th>\n      <th>BiSI_as_1_Bi_on_S_-1_1</th>\n      <th>BiSI_as_1_Bi_on_S_-1_2</th>\n      <th>BiSI_as_1_Bi_on_S_-1_3</th>\n      <th>BiSI_as_1_Bi_on_S_-1_4</th>\n      <th>BiSI_as_1_Bi_on_S_-1_5</th>\n      <th>BiSI_as_1_Bi_on_S_-1_6</th>\n      <th>BiSI_as_1_Bi_on_S_-1_7</th>\n      <th>BiSI_as_1_Bi_on_S_-1_8</th>\n      <th>BiSI_as_1_Bi_on_S_-1_9</th>\n      <th>...</th>\n      <th>BiSI_vac_3_I_0_290</th>\n      <th>BiSI_vac_3_I_0_291</th>\n      <th>BiSI_vac_3_I_0_292</th>\n      <th>BiSI_vac_3_I_0_293</th>\n      <th>BiSI_vac_3_I_0_294</th>\n      <th>BiSI_vac_3_I_0_295</th>\n      <th>BiSI_vac_3_I_0_296</th>\n      <th>BiSI_vac_3_I_0_297</th>\n      <th>BiSI_vac_3_I_0_298</th>\n      <th>BiSI_vac_3_I_0_299</th>\n    </tr>\n  </thead>\n  <tbody>\n    <tr>\n      <th>structure</th>\n      <td>[[3.15281399 2.93861474 5.6361836 ] Bi3.013888...</td>\n      <td>[[3.05543279 2.95053132 5.71062686] Bi3.013888...</td>\n      <td>[[3.09222801 2.94602865 5.68249866] Bi3.013888...</td>\n      <td>[[3.06634885 2.94919555 5.70228201] Bi3.013888...</td>\n      <td>[[2.96635281 2.95887109 5.72985085] Bi3.013888...</td>\n      <td>[[2.8458001  2.97053579 5.76308707] Bi3.013888...</td>\n      <td>[[2.82132288 2.97290415 5.76983538] Bi3.013888...</td>\n      <td>[[2.77100162 3.02003984 5.77818965] Bi3.013888...</td>\n      <td>[[2.72258149 3.06539468 5.78622827] Bi3.013888...</td>\n      <td>[[2.75652076 2.97439382 5.82328647] Bi3.013888...</td>\n      <td>...</td>\n      <td>[[1.05106711 3.14353984 3.83122885] Bi3+, [ 1....</td>\n      <td>[[1.05106724 3.14354053 3.83122885] Bi3+, [ 1....</td>\n      <td>[[1.05106761 3.14354156 3.83122895] Bi3+, [ 1....</td>\n      <td>[[1.05106774 3.14354208 3.83122895] Bi3+, [ 1....</td>\n      <td>[[1.05106799 3.14354293 3.83122895] Bi3+, [ 1....</td>\n      <td>[[1.05106824 3.14354413 3.83122905] Bi3+, [ 1....</td>\n      <td>[[1.05106837 3.14354465 3.83122916] Bi3+, [ 1....</td>\n      <td>[[1.05106875 3.14354585 3.83122916] Bi3+, [ 1....</td>\n      <td>[[1.05106887 3.14354619 3.83122916] Bi3+, [ 1....</td>\n      <td>[[1.051069   3.14354671 3.83122916] Bi3+, [ 1....</td>\n    </tr>\n    <tr>\n      <th>energy</th>\n      <td>-279.684358</td>\n      <td>-311.344315</td>\n      <td>-310.294552</td>\n      <td>-311.654209</td>\n      <td>-317.876089</td>\n      <td>-320.986376</td>\n      <td>-321.08705</td>\n      <td>-324.175115</td>\n      <td>-325.196842</td>\n      <td>-326.876011</td>\n      <td>...</td>\n      <td>-332.607569</td>\n      <td>-332.607569</td>\n      <td>-332.607569</td>\n      <td>-332.607569</td>\n      <td>-332.607569</td>\n      <td>-332.60757</td>\n      <td>-332.60757</td>\n      <td>-332.60757</td>\n      <td>-332.60757</td>\n      <td>-332.60757</td>\n    </tr>\n    <tr>\n      <th>force</th>\n      <td>[[-2.01857262, 0.24701282, 1.54309897], [15.30...</td>\n      <td>[[-1.85604649, 0.23527893, 0.43050389], [2.091...</td>\n      <td>[[-2.27763188, 0.06099911, 0.69588661], [1.891...</td>\n      <td>[[-1.98800549, 0.18897119, 0.48342825], [2.028...</td>\n      <td>[[-1.19359412, 0.91858151, 0.31668589], [1.115...</td>\n      <td>[[-0.30380463, 0.77475972, -0.0018553], [0.476...</td>\n      <td>[[-0.12223756, 0.7065304, -0.05701517], [0.412...</td>\n      <td>[[0.36655038, -0.1788371, 0.17206934], [0.2103...</td>\n      <td>[[0.82314551, -1.58716767, 0.45180489], [-0.22...</td>\n      <td>[[0.70511255, -1.12097965, 0.35623679], [-0.30...</td>\n      <td>...</td>\n      <td>[[0.00109285, 0.00304389, 0.00057261], [-7.35e...</td>\n      <td>[[0.00120373, 0.00310365, 0.00051866], [2.976e...</td>\n      <td>[[0.0008785, 0.0029228, 0.00033936], [-0.00027...</td>\n      <td>[[0.00075588, 0.0029523, 0.00022033], [-0.0003...</td>\n      <td>[[0.00059159, 0.00308264, 0.000194], [-0.00056...</td>\n      <td>[[0.00098029, 0.00211477, -0.00046483], [-0.00...</td>\n      <td>[[0.00125204, 0.00205222, -0.0003113], [0.0001...</td>\n      <td>[[0.00124688, 0.00276692, -0.00022363], [0.000...</td>\n      <td>[[0.00125325, 0.00280768, -5.719e-05], [0.0001...</td>\n      <td>[[0.00094215, 0.00259488, 6.043e-05], [-0.0002...</td>\n    </tr>\n    <tr>\n      <th>stress</th>\n      <td>[[-11.086880084, 1.9420371200000002, -0.456917...</td>\n      <td>[[-1.406380982, 0.128021917, -0.02008121700000...</td>\n      <td>[[-2.442085222, 0.135199803, 0.130377702], [0....</td>\n      <td>[[-1.5217051400000001, 0.11786688000000001, 0....</td>\n      <td>[[-0.457010256, 0.244894715, -0.06055201900000...</td>\n      <td>[[-0.121757163, 0.263900716, -0.147235426], [0...</td>\n      <td>[[-0.180309355, 0.264824673, -0.154896145], [0...</td>\n      <td>[[-0.248344999, 0.300039184, -0.156954496], [0...</td>\n      <td>[[-0.58308788, 0.27522616800000005, -0.1870208...</td>\n      <td>[[-0.42832463000000004, 0.25551979399999997, -...</td>\n      <td>...</td>\n      <td>[[0.5176018880000001, -8.1931e-05, 0.003965123...</td>\n      <td>[[0.5163720020000001, 0.001028801, 0.004027142...</td>\n      <td>[[0.5203135879999999, -0.000296831, 0.00213702...</td>\n      <td>[[0.5208997110000001, -0.00039039600000000005,...</td>\n      <td>[[0.520801838, -0.000372522, 0.00350896], [-0....</td>\n      <td>[[0.5203314490000001, -0.00020664400000000002,...</td>\n      <td>[[0.518850041, -0.0014548190000000002, 0.00319...</td>\n      <td>[[0.515232405, 0.001054742, 0.005106482], [0.0...</td>\n      <td>[[0.515235369, 0.0010547430000000001, 0.005107...</td>\n      <td>[[0.513089892, 0.000870935, 0.005695736], [0.0...</td>\n    </tr>\n    <tr>\n      <th>charge_state</th>\n      <td>-1.0</td>\n      <td>-1.0</td>\n      <td>-1.0</td>\n      <td>-1.0</td>\n      <td>-1.0</td>\n      <td>-1.0</td>\n      <td>-1.0</td>\n      <td>-1.0</td>\n      <td>-1.0</td>\n      <td>-1.0</td>\n      <td>...</td>\n      <td>0.0</td>\n      <td>0.0</td>\n      <td>0.0</td>\n      <td>0.0</td>\n      <td>0.0</td>\n      <td>0.0</td>\n      <td>0.0</td>\n      <td>0.0</td>\n      <td>0.0</td>\n      <td>0.0</td>\n    </tr>\n  </tbody>\n</table>\n<p>5 rows × 12914 columns</p>\n</div>"
     },
     "execution_count": 6,
     "metadata": {},
     "output_type": "execute_result"
    }
   ],
   "source": [
    "m3gnet_dataset"
   ]
  },
  {
   "cell_type": "markdown",
   "id": "9c29e14f",
   "metadata": {},
   "source": [
    "### Splitting into train-validation-test sets"
   ]
  },
  {
   "cell_type": "code",
   "execution_count": 7,
   "id": "fe37f422",
   "metadata": {
    "ExecuteTime": {
     "end_time": "2024-02-20T11:10:56.716186355Z",
     "start_time": "2024-02-20T11:10:56.563373308Z"
    }
   },
   "outputs": [
    {
     "name": "stdout",
     "output_type": "stream",
     "text": [
      "Using 8116 samples to train, 2149 to evaluate, and 2649 to test\n"
     ]
    }
   ],
   "source": [
    "# Check if data has been already split, else do it randomly\n",
    "\n",
    "path_to_test_labels       = 'test_labels.txt'\n",
    "path_to_validation_labels = 'validation_labels.txt'\n",
    "path_to_train_labels      = 'train_labels.txt'\n",
    "\n",
    "if os.path.exists(path_to_test_labels) and os.path.exists(path_to_validation_labels) and os.path.exists(path_to_train_labels):\n",
    "    # Read labels splitting (which are strings)\n",
    "    test_labels       = np.genfromtxt(path_to_test_labels,       dtype='str').tolist()\n",
    "    validation_labels = np.genfromtxt(path_to_validation_labels, dtype='str').tolist()\n",
    "    train_labels      = np.genfromtxt(path_to_train_labels,      dtype='str').tolist()\n",
    "else:\n",
    "    # Define unique labels, wrt the outer column\n",
    "    unique_labels = np.unique(m3gnet_dataset.columns.get_level_values(0))\n",
    "\n",
    "    # Shuffle the list of unique labels\n",
    "    np.random.shuffle(unique_labels)\n",
    "\n",
    "    # Define the sizes of every set\n",
    "    # Corresponds to the size wrt the number of unique materials in the dataset\n",
    "    test_size       = int(test_ratio       * len(unique_labels))\n",
    "    validation_size = int(validation_ratio * len(unique_labels))\n",
    "\n",
    "    test_labels       = unique_labels[:test_size]\n",
    "    validation_labels = unique_labels[test_size:test_size+validation_size]\n",
    "    train_labels      = unique_labels[test_size+validation_size:]\n",
    "    \n",
    "    # Save this splitting for transfer-learning approaches\n",
    "    np.savetxt(path_to_test_labels,       test_labels,       fmt='%s')\n",
    "    np.savetxt(path_to_validation_labels, validation_labels, fmt='%s')\n",
    "    np.savetxt(path_to_train_labels,      train_labels,      fmt='%s')\n",
    "\n",
    "# Use the loaded/computed labels to generate split datasets\n",
    "test_dataset       = m3gnet_dataset[test_labels]\n",
    "validation_dataset = m3gnet_dataset[validation_labels]\n",
    "train_dataset      = m3gnet_dataset[train_labels]\n",
    "\n",
    "n_test       = np.shape(test_dataset)[1]\n",
    "n_validation = np.shape(validation_dataset)[1]\n",
    "n_train      = np.shape(train_dataset)[1]\n",
    "\n",
    "print(f'Using {n_train} samples to train, {n_validation} to evaluate, and {n_test} to test')"
   ]
  },
  {
   "cell_type": "markdown",
   "id": "8d2da590",
   "metadata": {},
   "source": [
    "### Convert into graph database"
   ]
  },
  {
   "cell_type": "code",
   "execution_count": 9,
   "id": "586ae939",
   "metadata": {
    "ExecuteTime": {
     "end_time": "2024-02-20T11:17:43.278242586Z",
     "start_time": "2024-02-20T11:16:26.704787284Z"
    }
   },
   "outputs": [
    {
     "name": "stderr",
     "output_type": "stream",
     "text": [
      "100%|██████████| 8116/8116 [00:39<00:00, 205.71it/s]\n",
      "100%|██████████| 2149/2149 [00:10<00:00, 202.89it/s]\n",
      "100%|██████████| 2649/2649 [00:14<00:00, 185.75it/s]\n"
     ]
    }
   ],
   "source": [
    "all_data = []\n",
    "for i in range(3):  # Iterate over train-validation-test sets\n",
    "    name    = ['train', 'val', 'test'][i]\n",
    "    dataset = [train_dataset, validation_dataset, test_dataset][i]\n",
    "    \n",
    "    # Extract data from dataset\n",
    "    structures    = dataset.loc['structure'].values.tolist()\n",
    "    element_types = get_element_list(structures)\n",
    "    converter     = Structure2Graph(element_types=element_types, cutoff=5.0)\n",
    "    \n",
    "    # Define data labels from dataset\n",
    "    labels = {\n",
    "        'energies': dataset.loc['energy'].values.tolist(),\n",
    "        'forces':   dataset.loc['force'].values.tolist(),\n",
    "        'stresses': dataset.loc['stress'].values.tolist(),\n",
    "    }\n",
    "    \n",
    "    # Generate dataset\n",
    "    data = M3GNetDataset(\n",
    "        filename=f'dgl_graph-{name}.bin',\n",
    "        filename_line_graph=f'dgl_line_graph-{name}.bin',\n",
    "        filename_state_attr=f'state_attr-{name}.pt',\n",
    "        filename_labels=f'labels-{name}.json',\n",
    "        threebody_cutoff=4.0,\n",
    "        structures=structures,\n",
    "        converter=converter,\n",
    "        labels=labels,\n",
    "        name=f'M3GNetDataset-{name}',\n",
    "    )\n",
    "    all_data.append(data)\n",
    "\n",
    "train_data, val_data, test_data = all_data"
   ]
  },
  {
   "cell_type": "code",
   "execution_count": 10,
   "id": "9264d841",
   "metadata": {
    "ExecuteTime": {
     "end_time": "2024-02-20T11:17:43.284495751Z",
     "start_time": "2024-02-20T11:17:43.279282647Z"
    }
   },
   "outputs": [],
   "source": [
    "train_loader, val_loader, test_loader = MGLDataLoader(\n",
    "    train_data=train_data,\n",
    "    val_data=val_data,\n",
    "    test_data=test_data,\n",
    "    collate_fn=collate_fn_efs,\n",
    "    batch_size=2,\n",
    "    num_workers=1,\n",
    ")"
   ]
  },
  {
   "cell_type": "markdown",
   "id": "f9fb577b",
   "metadata": {},
   "source": [
    "# Retrain model"
   ]
  },
  {
   "cell_type": "code",
   "execution_count": 11,
   "id": "7fac981a",
   "metadata": {
    "ExecuteTime": {
     "end_time": "2024-02-20T11:17:43.490405609Z",
     "start_time": "2024-02-20T11:17:43.281988079Z"
    }
   },
   "outputs": [],
   "source": [
    "# Download a pre-trained M3GNet\n",
    "m3gnet_nnp       = matgl.load_model(model_load_path)\n",
    "model_pretrained = m3gnet_nnp.model\n",
    "\n",
    "# Stress and site-wise are added to training loss\n",
    "# Stresses are being computed (calc_stress=True)\n",
    "lit_module_finetune = PotentialLightningModule(model=model_pretrained,\n",
    "                                               stress_weight=stress_weight,\n",
    "                                               loss='mse_loss',\n",
    "                                               lr=lr)"
   ]
  },
  {
   "cell_type": "code",
   "execution_count": 12,
   "id": "2a3ffedd",
   "metadata": {
    "scrolled": true,
    "ExecuteTime": {
     "end_time": "2024-02-20T13:05:18.223283963Z",
     "start_time": "2024-02-20T11:17:43.492378843Z"
    }
   },
   "outputs": [
    {
     "name": "stderr",
     "output_type": "stream",
     "text": [
      "GPU available: False, used: False\n",
      "TPU available: False, using: 0 TPU cores\n",
      "IPU available: False, using: 0 IPUs\n",
      "HPU available: False, using: 0 HPUs\n",
      "\n",
      "  | Name  | Type              | Params\n",
      "--------------------------------------------\n",
      "0 | mae   | MeanAbsoluteError | 0     \n",
      "1 | rmse  | MeanSquaredError  | 0     \n",
      "2 | model | Potential         | 288 K \n",
      "--------------------------------------------\n",
      "288 K     Trainable params\n",
      "0         Non-trainable params\n",
      "288 K     Total params\n",
      "1.153     Total estimated model params size (MB)\n"
     ]
    },
    {
     "data": {
      "text/plain": "Sanity Checking: |          | 0/? [00:00<?, ?it/s]",
      "application/vnd.jupyter.widget-view+json": {
       "version_major": 2,
       "version_minor": 0,
       "model_id": "cd556c6e5e894243b9739e1df9c7a959"
      }
     },
     "metadata": {},
     "output_type": "display_data"
    },
    {
     "data": {
      "text/plain": "Training: |          | 0/? [00:00<?, ?it/s]",
      "application/vnd.jupyter.widget-view+json": {
       "version_major": 2,
       "version_minor": 0,
       "model_id": "a78592f12ee0413e8027853cc3f3160b"
      }
     },
     "metadata": {},
     "output_type": "display_data"
    },
    {
     "data": {
      "text/plain": "Validation: |          | 0/? [00:00<?, ?it/s]",
      "application/vnd.jupyter.widget-view+json": {
       "version_major": 2,
       "version_minor": 0,
       "model_id": "4ff0a7b3de54409e94229c306e537edb"
      }
     },
     "metadata": {},
     "output_type": "display_data"
    },
    {
     "data": {
      "text/plain": "Validation: |          | 0/? [00:00<?, ?it/s]",
      "application/vnd.jupyter.widget-view+json": {
       "version_major": 2,
       "version_minor": 0,
       "model_id": "8d3f7afbde134f4590ea978a3bf7965d"
      }
     },
     "metadata": {},
     "output_type": "display_data"
    },
    {
     "data": {
      "text/plain": "Validation: |          | 0/? [00:00<?, ?it/s]",
      "application/vnd.jupyter.widget-view+json": {
       "version_major": 2,
       "version_minor": 0,
       "model_id": "79dcf8d96578435ab3679d50b1511d9c"
      }
     },
     "metadata": {},
     "output_type": "display_data"
    },
    {
     "data": {
      "text/plain": "Validation: |          | 0/? [00:00<?, ?it/s]",
      "application/vnd.jupyter.widget-view+json": {
       "version_major": 2,
       "version_minor": 0,
       "model_id": "0baa2acf2fbb4af193dda6a5a085a530"
      }
     },
     "metadata": {},
     "output_type": "display_data"
    },
    {
     "data": {
      "text/plain": "Validation: |          | 0/? [00:00<?, ?it/s]",
      "application/vnd.jupyter.widget-view+json": {
       "version_major": 2,
       "version_minor": 0,
       "model_id": "8c437ef913dd43b6b6e667b00f25a2d6"
      }
     },
     "metadata": {},
     "output_type": "display_data"
    },
    {
     "data": {
      "text/plain": "Validation: |          | 0/? [00:00<?, ?it/s]",
      "application/vnd.jupyter.widget-view+json": {
       "version_major": 2,
       "version_minor": 0,
       "model_id": "fee76935694f4dd9852482b7c714a6d6"
      }
     },
     "metadata": {},
     "output_type": "display_data"
    },
    {
     "data": {
      "text/plain": "Validation: |          | 0/? [00:00<?, ?it/s]",
      "application/vnd.jupyter.widget-view+json": {
       "version_major": 2,
       "version_minor": 0,
       "model_id": "c590c95dea5a491ba372352602d563e5"
      }
     },
     "metadata": {},
     "output_type": "display_data"
    },
    {
     "data": {
      "text/plain": "Validation: |          | 0/? [00:00<?, ?it/s]",
      "application/vnd.jupyter.widget-view+json": {
       "version_major": 2,
       "version_minor": 0,
       "model_id": "5d7ab66e5d5c45c99019eb5686c45171"
      }
     },
     "metadata": {},
     "output_type": "display_data"
    },
    {
     "data": {
      "text/plain": "Validation: |          | 0/? [00:00<?, ?it/s]",
      "application/vnd.jupyter.widget-view+json": {
       "version_major": 2,
       "version_minor": 0,
       "model_id": "2e1b1ff76df844e28ec36e46bfb4276a"
      }
     },
     "metadata": {},
     "output_type": "display_data"
    },
    {
     "data": {
      "text/plain": "Validation: |          | 0/? [00:00<?, ?it/s]",
      "application/vnd.jupyter.widget-view+json": {
       "version_major": 2,
       "version_minor": 0,
       "model_id": "897aec61391d4e9c8d58fd4982c6b512"
      }
     },
     "metadata": {},
     "output_type": "display_data"
    },
    {
     "name": "stderr",
     "output_type": "stream",
     "text": [
      "`Trainer.fit` stopped: `max_epochs=10` reached.\n"
     ]
    }
   ],
   "source": [
    "# If you wish to disable GPU or MPS (M1 mac) training, use the accelerator='cpu' kwarg.\n",
    "# accelerator='auto' selects the appropriate Accelerator\n",
    "logger  = CSVLogger('logs',\n",
    "                    name='M3GNet_finetuning')\n",
    "\n",
    "trainer = pl.Trainer(max_epochs=max_epochs,\n",
    "                     accelerator='auto',\n",
    "                     logger=logger,\n",
    "                     inference_mode=False)\n",
    "\n",
    "trainer.fit(model=lit_module_finetune,\n",
    "            train_dataloaders=train_loader,\n",
    "            val_dataloaders=val_loader\n",
    "           )\n",
    "\n",
    "# Save trained model\n",
    "model_pretrained.save(model_save_path)"
   ]
  },
  {
   "cell_type": "markdown",
   "id": "080f1dbc",
   "metadata": {},
   "source": [
    "# Analyze metrics"
   ]
  },
  {
   "cell_type": "code",
   "execution_count": 13,
   "id": "1b3f2256",
   "metadata": {
    "scrolled": true,
    "ExecuteTime": {
     "end_time": "2024-02-20T13:06:49.480923776Z",
     "start_time": "2024-02-20T13:05:18.225323332Z"
    }
   },
   "outputs": [
    {
     "data": {
      "text/plain": "Testing: |          | 0/? [00:00<?, ?it/s]",
      "application/vnd.jupyter.widget-view+json": {
       "version_major": 2,
       "version_minor": 0,
       "model_id": "cc580a3f4a44495eb0feaab86bbc884d"
      }
     },
     "metadata": {},
     "output_type": "display_data"
    },
    {
     "name": "stdout",
     "output_type": "stream",
     "text": [
      "────────────────────────────────────────────────────────────────────────────────────────────────────────────────────────\n",
      "       Test metric             DataLoader 0\n",
      "────────────────────────────────────────────────────────────────────────────────────────────────────────────────────────\n",
      "     test_Energy_MAE        0.1421414613723755\n",
      "    test_Energy_RMSE        0.1428816020488739\n",
      "     test_Force_MAE         0.04972851276397705\n",
      "     test_Force_RMSE        0.08818497508764267\n",
      "   test_Site_Wise_MAE               0.0\n",
      "   test_Site_Wise_RMSE              0.0\n",
      "     test_Stress_MAE                0.0\n",
      "    test_Stress_RMSE                0.0\n",
      "     test_Total_Loss         0.313906729221344\n",
      "────────────────────────────────────────────────────────────────────────────────────────────────────────────────────────\n"
     ]
    },
    {
     "data": {
      "text/plain": "[{'test_Total_Loss': 0.313906729221344,\n  'test_Energy_MAE': 0.1421414613723755,\n  'test_Force_MAE': 0.04972851276397705,\n  'test_Stress_MAE': 0.0,\n  'test_Site_Wise_MAE': 0.0,\n  'test_Energy_RMSE': 0.1428816020488739,\n  'test_Force_RMSE': 0.08818497508764267,\n  'test_Stress_RMSE': 0.0,\n  'test_Site_Wise_RMSE': 0.0}]"
     },
     "execution_count": 13,
     "metadata": {},
     "output_type": "execute_result"
    }
   ],
   "source": [
    "# E_MAE = meV/atom, F_MAE eV/A, S_MAE GPa\n",
    "trainer.test(model=lit_module_finetune,\n",
    "            dataloaders=test_loader\n",
    "           )"
   ]
  },
  {
   "cell_type": "code",
   "execution_count": null,
   "id": "9a914e28",
   "metadata": {
    "scrolled": true,
    "ExecuteTime": {
     "start_time": "2024-02-20T11:11:01.699126873Z"
    }
   },
   "outputs": [],
   "source": [
    "# Read the CSV file\n",
    "path_to_csv = f'logs/M3GNet_finetuning/version_{current_version}'\n",
    "df = pd.read_csv(f'{path_to_csv}/metrics.csv')\n",
    "df.head()"
   ]
  },
  {
   "cell_type": "code",
   "execution_count": null,
   "id": "a3134249",
   "metadata": {
    "scrolled": true,
    "ExecuteTime": {
     "start_time": "2024-02-20T11:11:01.699159720Z"
    }
   },
   "outputs": [],
   "source": [
    "# NaN to zero\n",
    "df = df.fillna(0)\n",
    "\n",
    "# Calculate the sum of every two consecutive rows\n",
    "df = df.groupby(df.index // 2).sum()\n",
    "df.head()"
   ]
  },
  {
   "cell_type": "code",
   "execution_count": null,
   "id": "643704df",
   "metadata": {
    "ExecuteTime": {
     "start_time": "2024-02-20T11:11:01.699191223Z"
    }
   },
   "outputs": [],
   "source": [
    "# Get the list of loss column names\n",
    "loss_columns = [col for col in df.columns if col.startswith('val_') or col.startswith('train_')]\n",
    "\n",
    "# Create a figure and axis\n",
    "fig = plt.subplots(figsize=(10, 6))\n",
    "\n",
    "# Plot each loss\n",
    "for loss_column in loss_columns:\n",
    "    plt.plot(df.index, np.log(df[loss_column]), label=loss_column)\n",
    "\n",
    "plt.xlabel('Epoch')\n",
    "plt.ylabel('Loss')\n",
    "plt.legend(loc=(1.01, 0))\n",
    "plt.savefig(f'm3gnet_loss.eps', dpi=dpi, bbox_inches='tight')\n",
    "plt.show()"
   ]
  },
  {
   "cell_type": "code",
   "execution_count": 45,
   "id": "9d85d562",
   "metadata": {
    "ExecuteTime": {
     "end_time": "2024-02-20T09:19:59.496787113Z",
     "start_time": "2024-02-20T09:19:59.491695716Z"
    }
   },
   "outputs": [
    {
     "data": {
      "text/plain": "(0.0135606033727526, 0.0874462649226188, 0.0)"
     },
     "execution_count": 45,
     "metadata": {},
     "output_type": "execute_result"
    }
   ],
   "source": [
    "df['val_Energy_MAE'].iloc[-2], df['val_Force_MAE'].iloc[-2], df['val_Stress_MAE'].iloc[-2]"
   ]
  },
  {
   "cell_type": "code",
   "execution_count": 46,
   "id": "bc01f877",
   "metadata": {
    "ExecuteTime": {
     "end_time": "2024-02-20T09:20:01.235372917Z",
     "start_time": "2024-02-20T09:20:01.228383929Z"
    }
   },
   "outputs": [
    {
     "data": {
      "text/plain": "(0.0, 0.0, 0.0)"
     },
     "execution_count": 46,
     "metadata": {},
     "output_type": "execute_result"
    }
   ],
   "source": [
    "df['val_Energy_MAE'].iloc[-1], df['val_Force_MAE'].iloc[-1], df['val_Stress_MAE'].iloc[-1]"
   ]
  },
  {
   "cell_type": "markdown",
   "id": "d8e76beb",
   "metadata": {},
   "source": [
    "# Cleanup the notebook"
   ]
  },
  {
   "cell_type": "code",
   "execution_count": 26,
   "id": "a7147751",
   "metadata": {
    "ExecuteTime": {
     "end_time": "2024-02-20T09:04:42.514729694Z",
     "start_time": "2024-02-20T09:04:42.507719078Z"
    }
   },
   "outputs": [],
   "source": [
    "# This code just performs cleanup for this notebook from temporal files\n",
    "\n",
    "patterns = ['dgl_graph*.bin', 'dgl_line_graph*.bin', 'state_attr*.pt', 'labels*.json']\n",
    "for pattern in patterns:\n",
    "    files = glob.glob(pattern)\n",
    "    for file in files:\n",
    "        try:\n",
    "            os.remove(file)\n",
    "        except FileNotFoundError:\n",
    "            pass\n",
    "\n",
    "#shutil.rmtree('logs')\n",
    "#shutil.rmtree('trained_model')\n",
    "#shutil.rmtree('finetuned_model')"
   ]
  }
 ],
 "metadata": {
  "kernelspec": {
   "display_name": "Python 3 (ipykernel)",
   "language": "python",
   "name": "python3"
  },
  "language_info": {
   "codemirror_mode": {
    "name": "ipython",
    "version": 3
   },
   "file_extension": ".py",
   "mimetype": "text/x-python",
   "name": "python",
   "nbconvert_exporter": "python",
   "pygments_lexer": "ipython3",
   "version": "3.10.12"
  }
 },
 "nbformat": 4,
 "nbformat_minor": 5
}
