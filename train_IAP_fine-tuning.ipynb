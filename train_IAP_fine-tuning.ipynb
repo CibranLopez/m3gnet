{
 "cells": [
  {
   "cell_type": "code",
   "execution_count": 1,
   "id": "779806c81501309a",
   "metadata": {
    "ExecuteTime": {
     "end_time": "2024-10-03T12:51:06.593321515Z",
     "start_time": "2024-10-03T12:51:03.920268434Z"
    }
   },
   "outputs": [],
   "source": [
    "import numpy             as np\n",
    "import pytorch_lightning as pl\n",
    "import ML_library        as MLL\n",
    "import matplotlib.pyplot as plt\n",
    "import matgl\n",
    "import os\n",
    "import warnings\n",
    "import torch\n",
    "import json\n",
    "\n",
    "from __future__                import annotations\n",
    "from pytorch_lightning.loggers import CSVLogger\n",
    "from matgl.ext.pymatgen        import Structure2Graph, get_element_list\n",
    "from matgl.graph.data          import M3GNetDataset, MGLDataLoader, collate_fn_efs\n",
    "from matgl.utils.training      import PotentialLightningModule\n",
    "\n",
    "# To suppress warnings for clearer output\n",
    "warnings.simplefilter('ignore')\n",
    "\n",
    "# Check if GPU is available\n",
    "device = torch.device('cuda' if torch.cuda.is_available() else 'cpu')"
   ]
  },
  {
   "cell_type": "code",
   "execution_count": 2,
   "id": "e5618a095f97c090",
   "metadata": {
    "ExecuteTime": {
     "end_time": "2024-10-03T12:51:06.602966621Z",
     "start_time": "2024-10-03T12:51:06.597336108Z"
    }
   },
   "outputs": [
    {
     "data": {
      "text/plain": [
       "device(type='cpu')"
      ]
     },
     "execution_count": 2,
     "metadata": {},
     "output_type": "execute_result"
    }
   ],
   "source": [
    "device"
   ]
  },
  {
   "cell_type": "code",
   "execution_count": 3,
   "id": "d607ff9dfce08356",
   "metadata": {
    "ExecuteTime": {
     "end_time": "2024-10-03T12:51:06.605343393Z",
     "start_time": "2024-10-03T12:51:06.602403956Z"
    }
   },
   "outputs": [],
   "source": [
    "# Whether to include charge (which) or not\n",
    "charged = 1\n",
    "\n",
    "model_load_path = 'M3GNet-MP-2021.2.8-PES'\n",
    "model_save_path = f'finetuned_model-charge{charged}'\n",
    "\n",
    "# Make folder if not ready\n",
    "if not os.path.exists(model_save_path):\n",
    "    os.mkdir(model_save_path)\n",
    "\n",
    "# 0: material, 1: charge state, 2: ionic step\n",
    "depth = 1\n",
    "\n",
    "# Define batch size\n",
    "batch_size = 64\n",
    "\n",
    "# Stress weight for training\n",
    "stress_weight = 0.7  # 0.7\n",
    "\n",
    "# Ratios for diving training data\n",
    "test_ratio       = 0.2\n",
    "validation_ratio = 0.2\n",
    "\n",
    "# Number of epoch for re-training\n",
    "max_epochs = 1000\n",
    "\n",
    "# Learning-rate for re-training\n",
    "lr = 1e-4\n",
    "\n",
    "dpi = 100\n",
    "\n",
    "# Version of training you specifically want to analyze\n",
    "current_version = 0\n",
    "\n",
    "# Each folder names a new column, and structure, energy, forces and stresses\n",
    "# of each ionic step are loaded\n",
    "\n",
    "# Path to dataset, structured as:\n",
    "# path_to_dataset\n",
    "#     material_i\n",
    "#         defect_i\n",
    "#             simulation_i (containing vasprun.xml)\n",
    "\n",
    "path_to_dataset = '/home/cibran/Desktop/defects/no-pressure/HSE06+D3+SOC'\n",
    "#path_to_dataset = '../../../Desktop/CeO2-data'\n",
    "\n",
    "# Create and save as a dictionary\n",
    "model_parameters = {\n",
    "    'model_load_path':  model_load_path,\n",
    "    'model_save_path':  model_save_path,\n",
    "    'charged':          charged,\n",
    "    'depth':            depth,\n",
    "    'batch_size':       batch_size,\n",
    "    'stress_weight':    stress_weight,\n",
    "    'test_ratio':       test_ratio,\n",
    "    'validation_ratio': validation_ratio,\n",
    "    'max_epochs':       max_epochs,\n",
    "    'lr':               lr,\n",
    "    'path_to_dataset':  path_to_dataset,\n",
    "}\n",
    "\n",
    "# Write the dictionary to the file in JSON format\n",
    "with open(f'{model_save_path}/model_parameters.json', 'w') as json_file:\n",
    "    json.dump(model_parameters, json_file)"
   ]
  },
  {
   "cell_type": "markdown",
   "id": "a6f4b02404eec71a",
   "metadata": {},
   "source": [
    "# Load simulation data"
   ]
  },
  {
   "cell_type": "code",
   "execution_count": 4,
   "id": "dadda8b91bfdbbcd",
   "metadata": {
    "ExecuteTime": {
     "end_time": "2024-10-03T12:58:17.259041104Z",
     "start_time": "2024-10-03T12:51:06.610089813Z"
    }
   },
   "outputs": [
    {
     "name": "stdout",
     "output_type": "stream",
     "text": [
      "\n",
      "BiSeI\n",
      "\tas_1_Bi_on_Se_-1\n",
      "\tas_1_Bi_on_Se_-2\n",
      "\tas_1_Bi_on_Se_0\n",
      "\tas_1_Bi_on_Se_1\n",
      "\tas_1_Bi_on_Se_2\n",
      "\tas_1_Bi_on_Se_3\n",
      "\tas_1_Bi_on_Se_4\n",
      "\tas_1_Bi_on_Se_5\n",
      "\tas_1_I_on_Bi_-1\n",
      "\tas_1_I_on_Bi_-2\n",
      "\tas_1_I_on_Bi_0\n",
      "\tas_1_I_on_Bi_1\n",
      "\tas_1_I_on_Bi_2\n",
      "\tas_1_I_on_Bi_3\n",
      "\tas_1_I_on_Bi_4\n",
      "\tas_1_I_on_Bi_5\n",
      "\tas_1_Se_on_Bi_-1\n",
      "\tas_1_Se_on_Bi_-2\n",
      "\tas_1_Se_on_Bi_0\n",
      "\tas_1_Se_on_Bi_1\n",
      "\tas_1_Se_on_Bi_2\n",
      "\tas_1_Se_on_Bi_3\n",
      "\tas_1_Se_on_Bi_4\n",
      "\tas_1_Se_on_Bi_5\n",
      "\tas_2_Bi_on_I_-1\n",
      "\tas_2_Bi_on_I_-2\n",
      "\tas_2_Bi_on_I_0\n",
      "\tas_2_Bi_on_I_1\n",
      "\tas_2_Bi_on_I_2\n",
      "\tas_2_Bi_on_I_3\n",
      "\tas_2_Bi_on_I_4\n",
      "\tas_2_Bi_on_I_5\n",
      "\tas_2_I_on_Se_-1\n",
      "\tas_2_I_on_Se_-2\n",
      "\tas_2_I_on_Se_0\n",
      "\tas_2_I_on_Se_1\n",
      "\tas_2_I_on_Se_2\n",
      "\tas_2_I_on_Se_3\n",
      "\tas_2_I_on_Se_4\n",
      "\tas_2_I_on_Se_5\n",
      "\tas_2_Se_on_I_-1\n",
      "\tas_2_Se_on_I_-2\n",
      "\tas_2_Se_on_I_0\n",
      "\tas_2_Se_on_I_1\n",
      "\tas_2_Se_on_I_2\n",
      "\tas_2_Se_on_I_3\n",
      "\tas_2_Se_on_I_4\n",
      "\tas_2_Se_on_I_5\n",
      "\tinter_10_Se_0\n",
      "\tinter_11_Se_0\n",
      "\tinter_12_Se_0\n",
      "\tinter_13_Se_0\n",
      "\tinter_14_Se_0\n",
      "\tinter_15_Se_0\n",
      "\tinter_16_Se_0\n",
      "\tinter_17_I_0\n",
      "\tinter_18_I_0\n",
      "\tinter_19_I_0\n",
      "\tinter_1_Bi_0\n",
      "\tinter_20_I_0\n",
      "\tinter_21_I_0\n",
      "\tinter_22_I_0\n",
      "\tinter_23_I_0\n",
      "\tinter_24_I_0\n",
      "\tinter_2_Bi_0\n",
      "\tinter_3_Bi_0\n",
      "\tinter_4_Bi_0\n",
      "\tinter_5_Bi_0\n",
      "\tinter_6_Bi_0\n",
      "\tinter_7_Bi_0\n",
      "\tinter_8_Bi_0\n",
      "\tinter_9_Se_0\n",
      "\tsupercell\n",
      "\tvac_1_Bi_-1\n",
      "\tvac_1_Bi_-2\n",
      "\tvac_1_Bi_-3\n",
      "\tvac_1_Bi_0\n",
      "\tvac_1_Bi_1\n",
      "\tvac_1_Bi_2\n",
      "\tvac_1_Bi_3\n",
      "\tvac_2_Se_-1\n",
      "\tvac_2_Se_-2\n",
      "\tvac_2_Se_0\n",
      "\tvac_2_Se_1\n",
      "Error: vasprun not correctly loaded.\n",
      "\tvac_2_Se_2\n",
      "\tvac_3_I_-1\n",
      "\tvac_3_I_0\n",
      "\tvac_3_I_1\n",
      "Error: vasprun not correctly loaded.\n",
      "Error: vasprun not correctly loaded.\n",
      "\n",
      "BiSBr\n",
      "\tas_1_Bi_on_S_-1\n",
      "\tas_1_Bi_on_S_-2\n",
      "\tas_1_Bi_on_S_0\n",
      "\tas_1_Bi_on_S_1\n",
      "\tas_1_Bi_on_S_2\n",
      "\tas_1_Bi_on_S_3\n",
      "\tas_1_Bi_on_S_4\n",
      "\tas_1_Bi_on_S_5\n",
      "\tas_1_Br_on_Bi_-1\n",
      "\tas_1_Br_on_Bi_-2\n",
      "\tas_1_Br_on_Bi_0\n",
      "\tas_1_Br_on_Bi_1\n",
      "\tas_1_Br_on_Bi_2\n",
      "\tas_1_Br_on_Bi_3\n",
      "\tas_1_Br_on_Bi_4\n",
      "\tas_1_Br_on_Bi_5\n",
      "\tas_1_S_on_Bi_-1\n",
      "\tas_1_S_on_Bi_-2\n",
      "\tas_1_S_on_Bi_0\n",
      "\tas_1_S_on_Bi_1\n",
      "\tas_1_S_on_Bi_2\n",
      "\tas_1_S_on_Bi_3\n",
      "\tas_1_S_on_Bi_4\n",
      "\tas_1_S_on_Bi_5\n",
      "\tas_2_Bi_on_Br_-1\n",
      "\tas_2_Bi_on_Br_-2\n",
      "\tas_2_Bi_on_Br_0\n",
      "\tas_2_Bi_on_Br_1\n",
      "\tas_2_Bi_on_Br_2\n",
      "\tas_2_Bi_on_Br_3\n",
      "\tas_2_Bi_on_Br_4\n",
      "\tas_2_Bi_on_Br_5\n",
      "\tas_2_Br_on_S_-1\n",
      "\tas_2_Br_on_S_-2\n",
      "\tas_2_Br_on_S_0\n",
      "\tas_2_Br_on_S_1\n",
      "\tas_2_Br_on_S_2\n",
      "\tas_2_Br_on_S_3\n",
      "\tas_2_Br_on_S_4\n",
      "\tas_2_Br_on_S_5\n",
      "\tas_2_S_on_Br_-1\n",
      "\tas_2_S_on_Br_-2\n",
      "\tas_2_S_on_Br_0\n",
      "\tas_2_S_on_Br_1\n",
      "\tas_2_S_on_Br_2\n",
      "\tas_2_S_on_Br_3\n",
      "\tas_2_S_on_Br_4\n",
      "\tas_2_S_on_Br_5\n",
      "\tinter_10_S_0\n",
      "\tinter_11_S_0\n",
      "\tinter_12_S_0\n",
      "\tinter_13_S_0\n",
      "\tinter_14_S_0\n",
      "\tinter_15_S_0\n",
      "\tinter_16_S_0\n",
      "\tinter_17_Br_0\n",
      "\tinter_18_Br_0\n",
      "\tinter_19_Br_0\n",
      "\tinter_1_Bi_0\n",
      "\tinter_20_Br_0\n",
      "\tinter_21_Br_0\n",
      "\tinter_22_Br_0\n",
      "\tinter_23_Br_0\n",
      "\tinter_24_Br_0\n",
      "\tinter_2_Bi_0\n",
      "\tinter_3_Bi_0\n",
      "\tinter_4_Bi_0\n",
      "\tinter_5_Bi_0\n",
      "\tinter_6_Bi_0\n",
      "\tinter_7_Bi_0\n",
      "\tinter_8_Bi_0\n",
      "\tinter_9_S_0\n",
      "\tsupercell\n",
      "\tvac_1_Bi_-1\n",
      "\tvac_1_Bi_-2\n",
      "\tvac_1_Bi_-3\n",
      "\tvac_1_Bi_0\n",
      "\tvac_1_Bi_1\n",
      "\tvac_1_Bi_2\n",
      "\tvac_1_Bi_3\n",
      "\tvac_2_S_-1\n",
      "\tvac_2_S_-2\n",
      "\tvac_2_S_0\n",
      "\tvac_2_S_1\n",
      "\tvac_2_S_2\n",
      "\tvac_3_Br_-1\n",
      "\tvac_3_Br_0\n",
      "\tvac_3_Br_1\n",
      "\n",
      "BiSeBr\n",
      "\tas_1_Bi_on_Se_-1\n",
      "\tas_1_Bi_on_Se_-2\n",
      "\tas_1_Bi_on_Se_0\n",
      "\tas_1_Bi_on_Se_1\n",
      "\tas_1_Bi_on_Se_2\n",
      "\tas_1_Bi_on_Se_3\n",
      "\tas_1_Bi_on_Se_4\n",
      "\tas_1_Bi_on_Se_5\n",
      "\tas_1_Br_on_Bi_-1\n",
      "\tas_1_Br_on_Bi_-2\n",
      "\tas_1_Br_on_Bi_0\n",
      "\tas_1_Br_on_Bi_1\n",
      "\tas_1_Br_on_Bi_2\n",
      "\tas_1_Br_on_Bi_3\n",
      "\tas_1_Br_on_Bi_4\n",
      "\tas_1_Br_on_Bi_5\n",
      "\tas_1_Se_on_Bi_-1\n",
      "\tas_1_Se_on_Bi_-2\n",
      "\tas_1_Se_on_Bi_0\n",
      "\tas_1_Se_on_Bi_1\n",
      "\tas_1_Se_on_Bi_2\n",
      "\tas_1_Se_on_Bi_3\n",
      "\tas_1_Se_on_Bi_4\n",
      "\tas_1_Se_on_Bi_5\n",
      "\tas_2_Bi_on_Br_-1\n",
      "\tas_2_Bi_on_Br_-2\n",
      "\tas_2_Bi_on_Br_0\n",
      "\tas_2_Bi_on_Br_1\n",
      "Error: vasprun not correctly loaded.\n",
      "\tas_2_Bi_on_Br_2\n",
      "\tas_2_Bi_on_Br_3\n",
      "\tas_2_Bi_on_Br_4\n",
      "\tas_2_Bi_on_Br_5\n",
      "\tas_2_Br_on_Se_-1\n",
      "\tas_2_Br_on_Se_-2\n",
      "\tas_2_Br_on_Se_0\n",
      "\tas_2_Br_on_Se_1\n",
      "\tas_2_Br_on_Se_2\n",
      "\tas_2_Br_on_Se_3\n",
      "\tas_2_Br_on_Se_4\n",
      "\tas_2_Br_on_Se_5\n",
      "\tas_2_Se_on_Br_-1\n",
      "\tas_2_Se_on_Br_-2\n",
      "\tas_2_Se_on_Br_0\n",
      "\tas_2_Se_on_Br_1\n",
      "\tas_2_Se_on_Br_2\n",
      "\tas_2_Se_on_Br_3\n",
      "\tas_2_Se_on_Br_4\n",
      "\tas_2_Se_on_Br_5\n",
      "\tinter_10_Se_0\n",
      "\tinter_11_Se_0\n",
      "\tinter_12_Se_0\n",
      "\tinter_13_Se_0\n",
      "\tinter_14_Se_0\n",
      "\tinter_15_Se_0\n",
      "\tinter_16_Se_0\n",
      "\tinter_17_Br_0\n",
      "\tinter_18_Br_0\n",
      "\tinter_19_Br_0\n",
      "\tinter_1_Bi_0\n",
      "\tinter_20_Br_0\n",
      "\tinter_21_Br_0\n",
      "\tinter_22_Br_0\n",
      "\tinter_23_Br_0\n",
      "\tinter_24_Br_0\n",
      "\tinter_2_Bi_0\n",
      "\tinter_3_Bi_0\n",
      "\tinter_4_Bi_0\n",
      "\tinter_5_Bi_0\n",
      "\tinter_6_Bi_0\n",
      "\tinter_7_Bi_0\n",
      "\tinter_8_Bi_0\n",
      "\tinter_9_Se_0\n",
      "\tsupercell\n",
      "\tvac_1_Bi_-1\n",
      "\tvac_1_Bi_-2\n",
      "\tvac_1_Bi_-3\n",
      "\tvac_1_Bi_0\n",
      "\tvac_1_Bi_1\n",
      "\tvac_1_Bi_2\n",
      "\tvac_1_Bi_3\n",
      "\tvac_2_Se_-1\n",
      "\tvac_2_Se_-2\n",
      "\tvac_2_Se_0\n",
      "\tvac_2_Se_1\n",
      "\tvac_2_Se_2\n",
      "\tvac_3_Br_-1\n",
      "\tvac_3_Br_0\n",
      "\tvac_3_Br_1\n",
      "\n",
      "BiSI\n",
      "\tas_1_Bi_on_S_-1\n",
      "\tas_1_Bi_on_S_-2\n",
      "\tas_1_Bi_on_S_0\n",
      "\tas_1_Bi_on_S_1\n",
      "Error: vasprun not correctly loaded.\n",
      "\tas_1_Bi_on_S_2\n",
      "\tas_1_Bi_on_S_3\n",
      "\tas_1_Bi_on_S_4\n",
      "\tas_1_Bi_on_S_5\n",
      "\tas_1_I_on_Bi_-1\n",
      "\tas_1_I_on_Bi_-2\n",
      "\tas_1_I_on_Bi_0\n",
      "\tas_1_I_on_Bi_1\n",
      "Error: vasprun not correctly loaded.\n",
      "Error: vasprun not correctly loaded.\n",
      "\tas_1_I_on_Bi_2\n",
      "\tas_1_I_on_Bi_3\n",
      "\tas_1_I_on_Bi_4\n",
      "\tas_1_I_on_Bi_5\n",
      "\tas_1_S_on_Bi_-1\n",
      "\tas_1_S_on_Bi_-2\n",
      "\tas_1_S_on_Bi_0\n",
      "\tas_1_S_on_Bi_1\n",
      "Error: vasprun not correctly loaded.\n",
      "Error: vasprun not correctly loaded.\n",
      "\tas_1_S_on_Bi_2\n",
      "\tas_1_S_on_Bi_3\n",
      "\tas_1_S_on_Bi_4\n",
      "\tas_1_S_on_Bi_5\n",
      "\tas_2_Bi_on_I_-1\n",
      "\tas_2_Bi_on_I_-2\n",
      "\tas_2_Bi_on_I_0\n",
      "\tas_2_Bi_on_I_1\n",
      "Error: vasprun not correctly loaded.\n",
      "\tas_2_Bi_on_I_2\n",
      "\tas_2_Bi_on_I_3\n",
      "\tas_2_Bi_on_I_4\n",
      "\tas_2_Bi_on_I_5\n",
      "\tas_2_I_on_S_-1\n",
      "\tas_2_I_on_S_-2\n",
      "\tas_2_I_on_S_0\n",
      "\tas_2_I_on_S_1\n",
      "Error: vasprun not correctly loaded.\n",
      "Error: vasprun not correctly loaded.\n",
      "\tas_2_I_on_S_2\n",
      "\tas_2_I_on_S_3\n",
      "\tas_2_I_on_S_4\n",
      "\tas_2_I_on_S_5\n",
      "\tas_2_S_on_I_-1\n",
      "\tas_2_S_on_I_-2\n",
      "\tas_2_S_on_I_0\n",
      "\tas_2_S_on_I_1\n",
      "Error: vasprun not correctly loaded.\n",
      "\tas_2_S_on_I_2\n",
      "\tas_2_S_on_I_3\n",
      "\tas_2_S_on_I_4\n",
      "\tas_2_S_on_I_5\n",
      "\tinter_10_S_0\n",
      "\tinter_11_S_0\n",
      "\tinter_12_S_0\n",
      "\tinter_13_S_0\n",
      "\tinter_14_S_0\n",
      "\tinter_15_S_0\n",
      "\tinter_16_S_0\n",
      "\tinter_17_I_0\n",
      "\tinter_18_I_0\n",
      "\tinter_19_I_0\n",
      "\tinter_1_Bi_0\n",
      "\tinter_20_I_0\n",
      "\tinter_21_I_0\n",
      "\tinter_22_I_0\n",
      "\tinter_23_I_0\n",
      "\tinter_24_I_0\n",
      "\tinter_2_Bi_0\n",
      "\tinter_3_Bi_0\n",
      "\tinter_4_Bi_0\n",
      "\tinter_5_Bi_0\n",
      "\tinter_6_Bi_0\n",
      "\tinter_7_Bi_0\n",
      "\tinter_8_Bi_0\n",
      "\tinter_9_S_0\n",
      "\tsupercell\n",
      "\tvac_1_Bi_-1\n",
      "\tvac_1_Bi_-2\n",
      "\tvac_1_Bi_-3\n",
      "\tvac_1_Bi_0\n",
      "\tvac_1_Bi_1\n",
      "\tvac_1_Bi_2\n",
      "\tvac_1_Bi_3\n",
      "\tvac_2_S_-1\n",
      "\tvac_2_S_-2\n",
      "\tvac_2_S_0\n",
      "\tvac_2_S_1\n",
      "Error: vasprun not correctly loaded.\n",
      "\tvac_2_S_2\n",
      "\tvac_3_I_-1\n",
      "\tvac_3_I_0\n",
      "\tvac_3_I_1\n"
     ]
    },
    {
     "data": {
      "text/html": [
       "<div>\n",
       "<style scoped>\n",
       "    .dataframe tbody tr th:only-of-type {\n",
       "        vertical-align: middle;\n",
       "    }\n",
       "\n",
       "    .dataframe tbody tr th {\n",
       "        vertical-align: top;\n",
       "    }\n",
       "\n",
       "    .dataframe thead tr th {\n",
       "        text-align: left;\n",
       "    }\n",
       "</style>\n",
       "<table border=\"1\" class=\"dataframe\">\n",
       "  <thead>\n",
       "    <tr>\n",
       "      <th></th>\n",
       "      <th colspan=\"10\" halign=\"left\">BiSeI</th>\n",
       "      <th>...</th>\n",
       "      <th colspan=\"10\" halign=\"left\">BiSI</th>\n",
       "    </tr>\n",
       "    <tr>\n",
       "      <th></th>\n",
       "      <th colspan=\"10\" halign=\"left\">BiSeI_as_1_Bi_on_Se_1</th>\n",
       "      <th>...</th>\n",
       "      <th colspan=\"8\" halign=\"left\">BiSI_vac_1_Bi_1</th>\n",
       "      <th>BiSI_vac_2_S_1</th>\n",
       "      <th>BiSI_vac_3_I_1</th>\n",
       "    </tr>\n",
       "    <tr>\n",
       "      <th></th>\n",
       "      <th>BiSeI_as_1_Bi_on_Se_1_0</th>\n",
       "      <th>BiSeI_as_1_Bi_on_Se_1_1</th>\n",
       "      <th>BiSeI_as_1_Bi_on_Se_1_2</th>\n",
       "      <th>BiSeI_as_1_Bi_on_Se_1_3</th>\n",
       "      <th>BiSeI_as_1_Bi_on_Se_1_4</th>\n",
       "      <th>BiSeI_as_1_Bi_on_Se_1_5</th>\n",
       "      <th>BiSeI_as_1_Bi_on_Se_1_6</th>\n",
       "      <th>BiSeI_as_1_Bi_on_Se_1_7</th>\n",
       "      <th>BiSeI_as_1_Bi_on_Se_1_8</th>\n",
       "      <th>BiSeI_as_1_Bi_on_Se_1_9</th>\n",
       "      <th>...</th>\n",
       "      <th>BiSI_vac_1_Bi_1_3</th>\n",
       "      <th>BiSI_vac_1_Bi_1_4</th>\n",
       "      <th>BiSI_vac_1_Bi_1_5</th>\n",
       "      <th>BiSI_vac_1_Bi_1_6</th>\n",
       "      <th>BiSI_vac_1_Bi_1_7</th>\n",
       "      <th>BiSI_vac_1_Bi_1_8</th>\n",
       "      <th>BiSI_vac_1_Bi_1_9</th>\n",
       "      <th>BiSI_vac_1_Bi_1_10</th>\n",
       "      <th>BiSI_vac_2_S_1_0</th>\n",
       "      <th>BiSI_vac_3_I_1_0</th>\n",
       "    </tr>\n",
       "  </thead>\n",
       "  <tbody>\n",
       "    <tr>\n",
       "      <th>structure</th>\n",
       "      <td>[[3.63682019 2.6176977  6.48340485] Bi, [0.877...</td>\n",
       "      <td>[[3.63660081 2.61764926 6.4834071 ] Bi, [0.877...</td>\n",
       "      <td>[[3.63594253 2.61750377 6.48341364] Bi, [0.877...</td>\n",
       "      <td>[[3.63462609 2.61721295 6.48342672] Bi, [0.877...</td>\n",
       "      <td>[[3.63435953 2.61726374 6.48373336] Bi, [0.878...</td>\n",
       "      <td>[[3.63355969 2.61741629 6.48465326] Bi, [0.878...</td>\n",
       "      <td>[[3.63386383 2.61771939 6.48574571] Bi, [0.878...</td>\n",
       "      <td>[[3.63463379 2.61848664 6.48851095] Bi, [0.878...</td>\n",
       "      <td>[[3.63509487 2.61912087 6.48991399] Bi, [0.878...</td>\n",
       "      <td>[[3.62875171 2.61727965 6.47986428] Bi, [0.880...</td>\n",
       "      <td>...</td>\n",
       "      <td>[[ 1.06528977 11.81172278  3.84842205] Bi, [5....</td>\n",
       "      <td>[[ 1.06527388 11.81202734  3.84834442] Bi, [5....</td>\n",
       "      <td>[[ 1.06526468 11.81218623  3.84830524] Bi, [5....</td>\n",
       "      <td>[[ 1.065245   11.81249473  3.84824849] Bi, [5....</td>\n",
       "      <td>[[ 1.06529179 11.81175778  3.84836642] Bi, [5....</td>\n",
       "      <td>[[ 1.06521095 11.81299816  3.84820139] Bi, [5....</td>\n",
       "      <td>[[ 1.06517186 11.81356455  3.84817353] Bi, [5....</td>\n",
       "      <td>[[ 1.06475368 11.8154952   3.85020289] Bi, [5....</td>\n",
       "      <td>[[0.8136422  3.18635783 3.70505612] Bi, [ 1.05...</td>\n",
       "      <td>[[1.10053179 3.23330857 3.84593827] Bi, [ 1.08...</td>\n",
       "    </tr>\n",
       "    <tr>\n",
       "      <th>energy</th>\n",
       "      <td>-339.39218</td>\n",
       "      <td>-339.392222</td>\n",
       "      <td>-339.392324</td>\n",
       "      <td>-339.392402</td>\n",
       "      <td>-339.39247</td>\n",
       "      <td>-339.392565</td>\n",
       "      <td>-339.392643</td>\n",
       "      <td>-339.392727</td>\n",
       "      <td>-339.392791</td>\n",
       "      <td>-339.390985</td>\n",
       "      <td>...</td>\n",
       "      <td>-348.707182</td>\n",
       "      <td>-348.707324</td>\n",
       "      <td>-348.707394</td>\n",
       "      <td>-348.707514</td>\n",
       "      <td>-348.707195</td>\n",
       "      <td>-348.707701</td>\n",
       "      <td>-348.707865</td>\n",
       "      <td>-348.70831</td>\n",
       "      <td>-349.834732</td>\n",
       "      <td>-353.004082</td>\n",
       "    </tr>\n",
       "    <tr>\n",
       "      <th>force</th>\n",
       "      <td>[[-0.01136962, -0.00251233, 0.00011303], [0.00...</td>\n",
       "      <td>[[-0.00801564, -7.571e-05, 0.00073892], [0.003...</td>\n",
       "      <td>[[-0.0061068, 6.037e-05, 0.00327689], [0.00313...</td>\n",
       "      <td>[[0.00212885, 0.00302581, 0.00705598], [0.0028...</td>\n",
       "      <td>[[0.00330602, 0.00263392, 0.00832432], [0.0018...</td>\n",
       "      <td>[[0.00821323, 0.00368859, 0.01154164], [-0.002...</td>\n",
       "      <td>[[0.00701172, 0.00366979, 0.01088983], [-0.002...</td>\n",
       "      <td>[[0.00401553, 0.00753984, 0.00929694], [-0.004...</td>\n",
       "      <td>[[0.00219873, 0.00648131, 0.00462846], [-0.001...</td>\n",
       "      <td>[[0.00762129, -0.01721987, 0.00596853], [0.002...</td>\n",
       "      <td>...</td>\n",
       "      <td>[[-0.00017897, 0.00277865, -0.0010999], [-0.00...</td>\n",
       "      <td>[[-0.00019793, 0.00291401, -0.00079171], [-0.0...</td>\n",
       "      <td>[[-0.00021495, 0.0028123, -0.00035399], [-0.00...</td>\n",
       "      <td>[[-0.00018897, 0.00213378, 0.0004285], [-0.002...</td>\n",
       "      <td>[[-0.00028409, 0.00499442, -0.00145247], [-0.0...</td>\n",
       "      <td>[[-0.00026392, 0.0030714, 0.00108771], [-0.003...</td>\n",
       "      <td>[[-0.00031494, 0.00277768, 0.00226798], [-0.00...</td>\n",
       "      <td>[[-4.304e-05, 0.00230257, 0.00234782], [0.0017...</td>\n",
       "      <td>[[0.00333455, 0.00310133, 0.00020627], [0.0006...</td>\n",
       "      <td>[[-0.00027407, -0.00315128, -0.00408567], [0.0...</td>\n",
       "    </tr>\n",
       "    <tr>\n",
       "      <th>stress</th>\n",
       "      <td>[[1.5709493380000001, 0.009596524, 0.033147923...</td>\n",
       "      <td>[[1.571162329, 0.009614053000000001, 0.0332547...</td>\n",
       "      <td>[[1.571299285, 0.009760056000000001, 0.0335096...</td>\n",
       "      <td>[[1.572271836, 0.009972819, 0.034018356], [0.0...</td>\n",
       "      <td>[[1.5719516860000002, 0.009686527, 0.034541271...</td>\n",
       "      <td>[[1.5661166990000002, 0.008816085, 0.036110992...</td>\n",
       "      <td>[[1.566884794, 0.008378809, 0.0360777650000000...</td>\n",
       "      <td>[[1.565592826, 0.007277780000000001, 0.0361695...</td>\n",
       "      <td>[[1.5647386900000002, 0.007094567, 0.035732678...</td>\n",
       "      <td>[[1.58261107, 0.012235853, 0.029106107], [0.01...</td>\n",
       "      <td>...</td>\n",
       "      <td>[[1.07809726, 0.0013952130000000002, 0.0025432...</td>\n",
       "      <td>[[1.073682773, 0.0013660270000000001, 0.002495...</td>\n",
       "      <td>[[1.072408514, 0.0013437920000000001, 0.002477...</td>\n",
       "      <td>[[1.071850834, 0.0013084300000000002, 0.002425...</td>\n",
       "      <td>[[1.0730329660000002, 0.0014174590000000003, 0...</td>\n",
       "      <td>[[1.071797598, 0.001234211, 0.002375217], [0.0...</td>\n",
       "      <td>[[1.071568483, 0.001139871, 0.0023203560000000...</td>\n",
       "      <td>[[1.090053006, 0.000189752, 0.0014052780000000...</td>\n",
       "      <td>[[0.7749622810000001, -1.4175e-05, 0.000193823...</td>\n",
       "      <td>[[1.0742299210000001, 0.0015558500000000001, 0...</td>\n",
       "    </tr>\n",
       "    <tr>\n",
       "      <th>charge_state</th>\n",
       "      <td>1.0</td>\n",
       "      <td>1.0</td>\n",
       "      <td>1.0</td>\n",
       "      <td>1.0</td>\n",
       "      <td>1.0</td>\n",
       "      <td>1.0</td>\n",
       "      <td>1.0</td>\n",
       "      <td>1.0</td>\n",
       "      <td>1.0</td>\n",
       "      <td>1.0</td>\n",
       "      <td>...</td>\n",
       "      <td>1.0</td>\n",
       "      <td>1.0</td>\n",
       "      <td>1.0</td>\n",
       "      <td>1.0</td>\n",
       "      <td>1.0</td>\n",
       "      <td>1.0</td>\n",
       "      <td>1.0</td>\n",
       "      <td>1.0</td>\n",
       "      <td>1.0</td>\n",
       "      <td>1.0</td>\n",
       "    </tr>\n",
       "  </tbody>\n",
       "</table>\n",
       "<p>5 rows × 593 columns</p>\n",
       "</div>"
      ],
      "text/plain": [
       "                                                          BiSeI  \\\n",
       "                                          BiSeI_as_1_Bi_on_Se_1   \n",
       "                                        BiSeI_as_1_Bi_on_Se_1_0   \n",
       "structure     [[3.63682019 2.6176977  6.48340485] Bi, [0.877...   \n",
       "energy                                               -339.39218   \n",
       "force         [[-0.01136962, -0.00251233, 0.00011303], [0.00...   \n",
       "stress        [[1.5709493380000001, 0.009596524, 0.033147923...   \n",
       "charge_state                                                1.0   \n",
       "\n",
       "                                                                 \\\n",
       "                                                                  \n",
       "                                        BiSeI_as_1_Bi_on_Se_1_1   \n",
       "structure     [[3.63660081 2.61764926 6.4834071 ] Bi, [0.877...   \n",
       "energy                                              -339.392222   \n",
       "force         [[-0.00801564, -7.571e-05, 0.00073892], [0.003...   \n",
       "stress        [[1.571162329, 0.009614053000000001, 0.0332547...   \n",
       "charge_state                                                1.0   \n",
       "\n",
       "                                                                 \\\n",
       "                                                                  \n",
       "                                        BiSeI_as_1_Bi_on_Se_1_2   \n",
       "structure     [[3.63594253 2.61750377 6.48341364] Bi, [0.877...   \n",
       "energy                                              -339.392324   \n",
       "force         [[-0.0061068, 6.037e-05, 0.00327689], [0.00313...   \n",
       "stress        [[1.571299285, 0.009760056000000001, 0.0335096...   \n",
       "charge_state                                                1.0   \n",
       "\n",
       "                                                                 \\\n",
       "                                                                  \n",
       "                                        BiSeI_as_1_Bi_on_Se_1_3   \n",
       "structure     [[3.63462609 2.61721295 6.48342672] Bi, [0.877...   \n",
       "energy                                              -339.392402   \n",
       "force         [[0.00212885, 0.00302581, 0.00705598], [0.0028...   \n",
       "stress        [[1.572271836, 0.009972819, 0.034018356], [0.0...   \n",
       "charge_state                                                1.0   \n",
       "\n",
       "                                                                 \\\n",
       "                                                                  \n",
       "                                        BiSeI_as_1_Bi_on_Se_1_4   \n",
       "structure     [[3.63435953 2.61726374 6.48373336] Bi, [0.878...   \n",
       "energy                                               -339.39247   \n",
       "force         [[0.00330602, 0.00263392, 0.00832432], [0.0018...   \n",
       "stress        [[1.5719516860000002, 0.009686527, 0.034541271...   \n",
       "charge_state                                                1.0   \n",
       "\n",
       "                                                                 \\\n",
       "                                                                  \n",
       "                                        BiSeI_as_1_Bi_on_Se_1_5   \n",
       "structure     [[3.63355969 2.61741629 6.48465326] Bi, [0.878...   \n",
       "energy                                              -339.392565   \n",
       "force         [[0.00821323, 0.00368859, 0.01154164], [-0.002...   \n",
       "stress        [[1.5661166990000002, 0.008816085, 0.036110992...   \n",
       "charge_state                                                1.0   \n",
       "\n",
       "                                                                 \\\n",
       "                                                                  \n",
       "                                        BiSeI_as_1_Bi_on_Se_1_6   \n",
       "structure     [[3.63386383 2.61771939 6.48574571] Bi, [0.878...   \n",
       "energy                                              -339.392643   \n",
       "force         [[0.00701172, 0.00366979, 0.01088983], [-0.002...   \n",
       "stress        [[1.566884794, 0.008378809, 0.0360777650000000...   \n",
       "charge_state                                                1.0   \n",
       "\n",
       "                                                                 \\\n",
       "                                                                  \n",
       "                                        BiSeI_as_1_Bi_on_Se_1_7   \n",
       "structure     [[3.63463379 2.61848664 6.48851095] Bi, [0.878...   \n",
       "energy                                              -339.392727   \n",
       "force         [[0.00401553, 0.00753984, 0.00929694], [-0.004...   \n",
       "stress        [[1.565592826, 0.007277780000000001, 0.0361695...   \n",
       "charge_state                                                1.0   \n",
       "\n",
       "                                                                 \\\n",
       "                                                                  \n",
       "                                        BiSeI_as_1_Bi_on_Se_1_8   \n",
       "structure     [[3.63509487 2.61912087 6.48991399] Bi, [0.878...   \n",
       "energy                                              -339.392791   \n",
       "force         [[0.00219873, 0.00648131, 0.00462846], [-0.001...   \n",
       "stress        [[1.5647386900000002, 0.007094567, 0.035732678...   \n",
       "charge_state                                                1.0   \n",
       "\n",
       "                                                                 ...  \\\n",
       "                                                                 ...   \n",
       "                                        BiSeI_as_1_Bi_on_Se_1_9  ...   \n",
       "structure     [[3.62875171 2.61727965 6.47986428] Bi, [0.880...  ...   \n",
       "energy                                              -339.390985  ...   \n",
       "force         [[0.00762129, -0.01721987, 0.00596853], [0.002...  ...   \n",
       "stress        [[1.58261107, 0.012235853, 0.029106107], [0.01...  ...   \n",
       "charge_state                                                1.0  ...   \n",
       "\n",
       "                                                           BiSI  \\\n",
       "                                                BiSI_vac_1_Bi_1   \n",
       "                                              BiSI_vac_1_Bi_1_3   \n",
       "structure     [[ 1.06528977 11.81172278  3.84842205] Bi, [5....   \n",
       "energy                                              -348.707182   \n",
       "force         [[-0.00017897, 0.00277865, -0.0010999], [-0.00...   \n",
       "stress        [[1.07809726, 0.0013952130000000002, 0.0025432...   \n",
       "charge_state                                                1.0   \n",
       "\n",
       "                                                                 \\\n",
       "                                                                  \n",
       "                                              BiSI_vac_1_Bi_1_4   \n",
       "structure     [[ 1.06527388 11.81202734  3.84834442] Bi, [5....   \n",
       "energy                                              -348.707324   \n",
       "force         [[-0.00019793, 0.00291401, -0.00079171], [-0.0...   \n",
       "stress        [[1.073682773, 0.0013660270000000001, 0.002495...   \n",
       "charge_state                                                1.0   \n",
       "\n",
       "                                                                 \\\n",
       "                                                                  \n",
       "                                              BiSI_vac_1_Bi_1_5   \n",
       "structure     [[ 1.06526468 11.81218623  3.84830524] Bi, [5....   \n",
       "energy                                              -348.707394   \n",
       "force         [[-0.00021495, 0.0028123, -0.00035399], [-0.00...   \n",
       "stress        [[1.072408514, 0.0013437920000000001, 0.002477...   \n",
       "charge_state                                                1.0   \n",
       "\n",
       "                                                                 \\\n",
       "                                                                  \n",
       "                                              BiSI_vac_1_Bi_1_6   \n",
       "structure     [[ 1.065245   11.81249473  3.84824849] Bi, [5....   \n",
       "energy                                              -348.707514   \n",
       "force         [[-0.00018897, 0.00213378, 0.0004285], [-0.002...   \n",
       "stress        [[1.071850834, 0.0013084300000000002, 0.002425...   \n",
       "charge_state                                                1.0   \n",
       "\n",
       "                                                                 \\\n",
       "                                                                  \n",
       "                                              BiSI_vac_1_Bi_1_7   \n",
       "structure     [[ 1.06529179 11.81175778  3.84836642] Bi, [5....   \n",
       "energy                                              -348.707195   \n",
       "force         [[-0.00028409, 0.00499442, -0.00145247], [-0.0...   \n",
       "stress        [[1.0730329660000002, 0.0014174590000000003, 0...   \n",
       "charge_state                                                1.0   \n",
       "\n",
       "                                                                 \\\n",
       "                                                                  \n",
       "                                              BiSI_vac_1_Bi_1_8   \n",
       "structure     [[ 1.06521095 11.81299816  3.84820139] Bi, [5....   \n",
       "energy                                              -348.707701   \n",
       "force         [[-0.00026392, 0.0030714, 0.00108771], [-0.003...   \n",
       "stress        [[1.071797598, 0.001234211, 0.002375217], [0.0...   \n",
       "charge_state                                                1.0   \n",
       "\n",
       "                                                                 \\\n",
       "                                                                  \n",
       "                                              BiSI_vac_1_Bi_1_9   \n",
       "structure     [[ 1.06517186 11.81356455  3.84817353] Bi, [5....   \n",
       "energy                                              -348.707865   \n",
       "force         [[-0.00031494, 0.00277768, 0.00226798], [-0.00...   \n",
       "stress        [[1.071568483, 0.001139871, 0.0023203560000000...   \n",
       "charge_state                                                1.0   \n",
       "\n",
       "                                                                 \\\n",
       "                                                                  \n",
       "                                             BiSI_vac_1_Bi_1_10   \n",
       "structure     [[ 1.06475368 11.8154952   3.85020289] Bi, [5....   \n",
       "energy                                               -348.70831   \n",
       "force         [[-4.304e-05, 0.00230257, 0.00234782], [0.0017...   \n",
       "stress        [[1.090053006, 0.000189752, 0.0014052780000000...   \n",
       "charge_state                                                1.0   \n",
       "\n",
       "                                                                 \\\n",
       "                                                 BiSI_vac_2_S_1   \n",
       "                                               BiSI_vac_2_S_1_0   \n",
       "structure     [[0.8136422  3.18635783 3.70505612] Bi, [ 1.05...   \n",
       "energy                                              -349.834732   \n",
       "force         [[0.00333455, 0.00310133, 0.00020627], [0.0006...   \n",
       "stress        [[0.7749622810000001, -1.4175e-05, 0.000193823...   \n",
       "charge_state                                                1.0   \n",
       "\n",
       "                                                                 \n",
       "                                                 BiSI_vac_3_I_1  \n",
       "                                               BiSI_vac_3_I_1_0  \n",
       "structure     [[1.10053179 3.23330857 3.84593827] Bi, [ 1.08...  \n",
       "energy                                              -353.004082  \n",
       "force         [[-0.00027407, -0.00315128, -0.00408567], [0.0...  \n",
       "stress        [[1.0742299210000001, 0.0015558500000000001, 0...  \n",
       "charge_state                                                1.0  \n",
       "\n",
       "[5 rows x 593 columns]"
      ]
     },
     "execution_count": 4,
     "metadata": {},
     "output_type": "execute_result"
    }
   ],
   "source": [
    "# Extract the data\n",
    "m3gnet_dataset = MLL.extract_vaspruns_dataset(path_to_dataset, charged=charged)\n",
    "#m3gnet_dataset = MLL.extract_OUTCAR_dataset(path_to_dataset)\n",
    "m3gnet_dataset"
   ]
  },
  {
   "cell_type": "markdown",
   "id": "8798701c99c4714f",
   "metadata": {},
   "source": [
    "# Split data into train-validation-test sets"
   ]
  },
  {
   "cell_type": "markdown",
   "id": "ce39775a0eeb0347",
   "metadata": {},
   "source": [
    "### Decide if we split in terms of mateiral, defect state or simulation directly"
   ]
  },
  {
   "cell_type": "code",
   "execution_count": 5,
   "id": "9ab93b068fbcff6b",
   "metadata": {
    "ExecuteTime": {
     "end_time": "2024-10-03T12:58:17.601805037Z",
     "start_time": "2024-10-03T12:58:17.272121854Z"
    }
   },
   "outputs": [
    {
     "data": {
      "text/html": [
       "<div>\n",
       "<style scoped>\n",
       "    .dataframe tbody tr th:only-of-type {\n",
       "        vertical-align: middle;\n",
       "    }\n",
       "\n",
       "    .dataframe tbody tr th {\n",
       "        vertical-align: top;\n",
       "    }\n",
       "\n",
       "    .dataframe thead tr th {\n",
       "        text-align: left;\n",
       "    }\n",
       "</style>\n",
       "<table border=\"1\" class=\"dataframe\">\n",
       "  <thead>\n",
       "    <tr>\n",
       "      <th></th>\n",
       "      <th colspan=\"10\" halign=\"left\">BiSeI_as_1_Bi_on_Se_1</th>\n",
       "      <th>...</th>\n",
       "      <th colspan=\"8\" halign=\"left\">BiSI_vac_1_Bi_1</th>\n",
       "      <th>BiSI_vac_2_S_1</th>\n",
       "      <th>BiSI_vac_3_I_1</th>\n",
       "    </tr>\n",
       "    <tr>\n",
       "      <th></th>\n",
       "      <th>BiSeI_as_1_Bi_on_Se_1_0</th>\n",
       "      <th>BiSeI_as_1_Bi_on_Se_1_1</th>\n",
       "      <th>BiSeI_as_1_Bi_on_Se_1_2</th>\n",
       "      <th>BiSeI_as_1_Bi_on_Se_1_3</th>\n",
       "      <th>BiSeI_as_1_Bi_on_Se_1_4</th>\n",
       "      <th>BiSeI_as_1_Bi_on_Se_1_5</th>\n",
       "      <th>BiSeI_as_1_Bi_on_Se_1_6</th>\n",
       "      <th>BiSeI_as_1_Bi_on_Se_1_7</th>\n",
       "      <th>BiSeI_as_1_Bi_on_Se_1_8</th>\n",
       "      <th>BiSeI_as_1_Bi_on_Se_1_9</th>\n",
       "      <th>...</th>\n",
       "      <th>BiSI_vac_1_Bi_1_3</th>\n",
       "      <th>BiSI_vac_1_Bi_1_4</th>\n",
       "      <th>BiSI_vac_1_Bi_1_5</th>\n",
       "      <th>BiSI_vac_1_Bi_1_6</th>\n",
       "      <th>BiSI_vac_1_Bi_1_7</th>\n",
       "      <th>BiSI_vac_1_Bi_1_8</th>\n",
       "      <th>BiSI_vac_1_Bi_1_9</th>\n",
       "      <th>BiSI_vac_1_Bi_1_10</th>\n",
       "      <th>BiSI_vac_2_S_1_0</th>\n",
       "      <th>BiSI_vac_3_I_1_0</th>\n",
       "    </tr>\n",
       "  </thead>\n",
       "  <tbody>\n",
       "    <tr>\n",
       "      <th>structure</th>\n",
       "      <td>[[3.63682019 2.6176977  6.48340485] Bi, [0.877...</td>\n",
       "      <td>[[3.63660081 2.61764926 6.4834071 ] Bi, [0.877...</td>\n",
       "      <td>[[3.63594253 2.61750377 6.48341364] Bi, [0.877...</td>\n",
       "      <td>[[3.63462609 2.61721295 6.48342672] Bi, [0.877...</td>\n",
       "      <td>[[3.63435953 2.61726374 6.48373336] Bi, [0.878...</td>\n",
       "      <td>[[3.63355969 2.61741629 6.48465326] Bi, [0.878...</td>\n",
       "      <td>[[3.63386383 2.61771939 6.48574571] Bi, [0.878...</td>\n",
       "      <td>[[3.63463379 2.61848664 6.48851095] Bi, [0.878...</td>\n",
       "      <td>[[3.63509487 2.61912087 6.48991399] Bi, [0.878...</td>\n",
       "      <td>[[3.62875171 2.61727965 6.47986428] Bi, [0.880...</td>\n",
       "      <td>...</td>\n",
       "      <td>[[ 1.06528977 11.81172278  3.84842205] Bi, [5....</td>\n",
       "      <td>[[ 1.06527388 11.81202734  3.84834442] Bi, [5....</td>\n",
       "      <td>[[ 1.06526468 11.81218623  3.84830524] Bi, [5....</td>\n",
       "      <td>[[ 1.065245   11.81249473  3.84824849] Bi, [5....</td>\n",
       "      <td>[[ 1.06529179 11.81175778  3.84836642] Bi, [5....</td>\n",
       "      <td>[[ 1.06521095 11.81299816  3.84820139] Bi, [5....</td>\n",
       "      <td>[[ 1.06517186 11.81356455  3.84817353] Bi, [5....</td>\n",
       "      <td>[[ 1.06475368 11.8154952   3.85020289] Bi, [5....</td>\n",
       "      <td>[[0.8136422  3.18635783 3.70505612] Bi, [ 1.05...</td>\n",
       "      <td>[[1.10053179 3.23330857 3.84593827] Bi, [ 1.08...</td>\n",
       "    </tr>\n",
       "    <tr>\n",
       "      <th>energy</th>\n",
       "      <td>-339.39218</td>\n",
       "      <td>-339.392222</td>\n",
       "      <td>-339.392324</td>\n",
       "      <td>-339.392402</td>\n",
       "      <td>-339.39247</td>\n",
       "      <td>-339.392565</td>\n",
       "      <td>-339.392643</td>\n",
       "      <td>-339.392727</td>\n",
       "      <td>-339.392791</td>\n",
       "      <td>-339.390985</td>\n",
       "      <td>...</td>\n",
       "      <td>-348.707182</td>\n",
       "      <td>-348.707324</td>\n",
       "      <td>-348.707394</td>\n",
       "      <td>-348.707514</td>\n",
       "      <td>-348.707195</td>\n",
       "      <td>-348.707701</td>\n",
       "      <td>-348.707865</td>\n",
       "      <td>-348.70831</td>\n",
       "      <td>-349.834732</td>\n",
       "      <td>-353.004082</td>\n",
       "    </tr>\n",
       "    <tr>\n",
       "      <th>force</th>\n",
       "      <td>[[-0.01136962, -0.00251233, 0.00011303], [0.00...</td>\n",
       "      <td>[[-0.00801564, -7.571e-05, 0.00073892], [0.003...</td>\n",
       "      <td>[[-0.0061068, 6.037e-05, 0.00327689], [0.00313...</td>\n",
       "      <td>[[0.00212885, 0.00302581, 0.00705598], [0.0028...</td>\n",
       "      <td>[[0.00330602, 0.00263392, 0.00832432], [0.0018...</td>\n",
       "      <td>[[0.00821323, 0.00368859, 0.01154164], [-0.002...</td>\n",
       "      <td>[[0.00701172, 0.00366979, 0.01088983], [-0.002...</td>\n",
       "      <td>[[0.00401553, 0.00753984, 0.00929694], [-0.004...</td>\n",
       "      <td>[[0.00219873, 0.00648131, 0.00462846], [-0.001...</td>\n",
       "      <td>[[0.00762129, -0.01721987, 0.00596853], [0.002...</td>\n",
       "      <td>...</td>\n",
       "      <td>[[-0.00017897, 0.00277865, -0.0010999], [-0.00...</td>\n",
       "      <td>[[-0.00019793, 0.00291401, -0.00079171], [-0.0...</td>\n",
       "      <td>[[-0.00021495, 0.0028123, -0.00035399], [-0.00...</td>\n",
       "      <td>[[-0.00018897, 0.00213378, 0.0004285], [-0.002...</td>\n",
       "      <td>[[-0.00028409, 0.00499442, -0.00145247], [-0.0...</td>\n",
       "      <td>[[-0.00026392, 0.0030714, 0.00108771], [-0.003...</td>\n",
       "      <td>[[-0.00031494, 0.00277768, 0.00226798], [-0.00...</td>\n",
       "      <td>[[-4.304e-05, 0.00230257, 0.00234782], [0.0017...</td>\n",
       "      <td>[[0.00333455, 0.00310133, 0.00020627], [0.0006...</td>\n",
       "      <td>[[-0.00027407, -0.00315128, -0.00408567], [0.0...</td>\n",
       "    </tr>\n",
       "    <tr>\n",
       "      <th>stress</th>\n",
       "      <td>[[1.5709493380000001, 0.009596524, 0.033147923...</td>\n",
       "      <td>[[1.571162329, 0.009614053000000001, 0.0332547...</td>\n",
       "      <td>[[1.571299285, 0.009760056000000001, 0.0335096...</td>\n",
       "      <td>[[1.572271836, 0.009972819, 0.034018356], [0.0...</td>\n",
       "      <td>[[1.5719516860000002, 0.009686527, 0.034541271...</td>\n",
       "      <td>[[1.5661166990000002, 0.008816085, 0.036110992...</td>\n",
       "      <td>[[1.566884794, 0.008378809, 0.0360777650000000...</td>\n",
       "      <td>[[1.565592826, 0.007277780000000001, 0.0361695...</td>\n",
       "      <td>[[1.5647386900000002, 0.007094567, 0.035732678...</td>\n",
       "      <td>[[1.58261107, 0.012235853, 0.029106107], [0.01...</td>\n",
       "      <td>...</td>\n",
       "      <td>[[1.07809726, 0.0013952130000000002, 0.0025432...</td>\n",
       "      <td>[[1.073682773, 0.0013660270000000001, 0.002495...</td>\n",
       "      <td>[[1.072408514, 0.0013437920000000001, 0.002477...</td>\n",
       "      <td>[[1.071850834, 0.0013084300000000002, 0.002425...</td>\n",
       "      <td>[[1.0730329660000002, 0.0014174590000000003, 0...</td>\n",
       "      <td>[[1.071797598, 0.001234211, 0.002375217], [0.0...</td>\n",
       "      <td>[[1.071568483, 0.001139871, 0.0023203560000000...</td>\n",
       "      <td>[[1.090053006, 0.000189752, 0.0014052780000000...</td>\n",
       "      <td>[[0.7749622810000001, -1.4175e-05, 0.000193823...</td>\n",
       "      <td>[[1.0742299210000001, 0.0015558500000000001, 0...</td>\n",
       "    </tr>\n",
       "    <tr>\n",
       "      <th>charge_state</th>\n",
       "      <td>1.0</td>\n",
       "      <td>1.0</td>\n",
       "      <td>1.0</td>\n",
       "      <td>1.0</td>\n",
       "      <td>1.0</td>\n",
       "      <td>1.0</td>\n",
       "      <td>1.0</td>\n",
       "      <td>1.0</td>\n",
       "      <td>1.0</td>\n",
       "      <td>1.0</td>\n",
       "      <td>...</td>\n",
       "      <td>1.0</td>\n",
       "      <td>1.0</td>\n",
       "      <td>1.0</td>\n",
       "      <td>1.0</td>\n",
       "      <td>1.0</td>\n",
       "      <td>1.0</td>\n",
       "      <td>1.0</td>\n",
       "      <td>1.0</td>\n",
       "      <td>1.0</td>\n",
       "      <td>1.0</td>\n",
       "    </tr>\n",
       "  </tbody>\n",
       "</table>\n",
       "<p>5 rows × 593 columns</p>\n",
       "</div>"
      ],
      "text/plain": [
       "                                          BiSeI_as_1_Bi_on_Se_1  \\\n",
       "                                        BiSeI_as_1_Bi_on_Se_1_0   \n",
       "structure     [[3.63682019 2.6176977  6.48340485] Bi, [0.877...   \n",
       "energy                                               -339.39218   \n",
       "force         [[-0.01136962, -0.00251233, 0.00011303], [0.00...   \n",
       "stress        [[1.5709493380000001, 0.009596524, 0.033147923...   \n",
       "charge_state                                                1.0   \n",
       "\n",
       "                                                                 \\\n",
       "                                        BiSeI_as_1_Bi_on_Se_1_1   \n",
       "structure     [[3.63660081 2.61764926 6.4834071 ] Bi, [0.877...   \n",
       "energy                                              -339.392222   \n",
       "force         [[-0.00801564, -7.571e-05, 0.00073892], [0.003...   \n",
       "stress        [[1.571162329, 0.009614053000000001, 0.0332547...   \n",
       "charge_state                                                1.0   \n",
       "\n",
       "                                                                 \\\n",
       "                                        BiSeI_as_1_Bi_on_Se_1_2   \n",
       "structure     [[3.63594253 2.61750377 6.48341364] Bi, [0.877...   \n",
       "energy                                              -339.392324   \n",
       "force         [[-0.0061068, 6.037e-05, 0.00327689], [0.00313...   \n",
       "stress        [[1.571299285, 0.009760056000000001, 0.0335096...   \n",
       "charge_state                                                1.0   \n",
       "\n",
       "                                                                 \\\n",
       "                                        BiSeI_as_1_Bi_on_Se_1_3   \n",
       "structure     [[3.63462609 2.61721295 6.48342672] Bi, [0.877...   \n",
       "energy                                              -339.392402   \n",
       "force         [[0.00212885, 0.00302581, 0.00705598], [0.0028...   \n",
       "stress        [[1.572271836, 0.009972819, 0.034018356], [0.0...   \n",
       "charge_state                                                1.0   \n",
       "\n",
       "                                                                 \\\n",
       "                                        BiSeI_as_1_Bi_on_Se_1_4   \n",
       "structure     [[3.63435953 2.61726374 6.48373336] Bi, [0.878...   \n",
       "energy                                               -339.39247   \n",
       "force         [[0.00330602, 0.00263392, 0.00832432], [0.0018...   \n",
       "stress        [[1.5719516860000002, 0.009686527, 0.034541271...   \n",
       "charge_state                                                1.0   \n",
       "\n",
       "                                                                 \\\n",
       "                                        BiSeI_as_1_Bi_on_Se_1_5   \n",
       "structure     [[3.63355969 2.61741629 6.48465326] Bi, [0.878...   \n",
       "energy                                              -339.392565   \n",
       "force         [[0.00821323, 0.00368859, 0.01154164], [-0.002...   \n",
       "stress        [[1.5661166990000002, 0.008816085, 0.036110992...   \n",
       "charge_state                                                1.0   \n",
       "\n",
       "                                                                 \\\n",
       "                                        BiSeI_as_1_Bi_on_Se_1_6   \n",
       "structure     [[3.63386383 2.61771939 6.48574571] Bi, [0.878...   \n",
       "energy                                              -339.392643   \n",
       "force         [[0.00701172, 0.00366979, 0.01088983], [-0.002...   \n",
       "stress        [[1.566884794, 0.008378809, 0.0360777650000000...   \n",
       "charge_state                                                1.0   \n",
       "\n",
       "                                                                 \\\n",
       "                                        BiSeI_as_1_Bi_on_Se_1_7   \n",
       "structure     [[3.63463379 2.61848664 6.48851095] Bi, [0.878...   \n",
       "energy                                              -339.392727   \n",
       "force         [[0.00401553, 0.00753984, 0.00929694], [-0.004...   \n",
       "stress        [[1.565592826, 0.007277780000000001, 0.0361695...   \n",
       "charge_state                                                1.0   \n",
       "\n",
       "                                                                 \\\n",
       "                                        BiSeI_as_1_Bi_on_Se_1_8   \n",
       "structure     [[3.63509487 2.61912087 6.48991399] Bi, [0.878...   \n",
       "energy                                              -339.392791   \n",
       "force         [[0.00219873, 0.00648131, 0.00462846], [-0.001...   \n",
       "stress        [[1.5647386900000002, 0.007094567, 0.035732678...   \n",
       "charge_state                                                1.0   \n",
       "\n",
       "                                                                 ...  \\\n",
       "                                        BiSeI_as_1_Bi_on_Se_1_9  ...   \n",
       "structure     [[3.62875171 2.61727965 6.47986428] Bi, [0.880...  ...   \n",
       "energy                                              -339.390985  ...   \n",
       "force         [[0.00762129, -0.01721987, 0.00596853], [0.002...  ...   \n",
       "stress        [[1.58261107, 0.012235853, 0.029106107], [0.01...  ...   \n",
       "charge_state                                                1.0  ...   \n",
       "\n",
       "                                                BiSI_vac_1_Bi_1  \\\n",
       "                                              BiSI_vac_1_Bi_1_3   \n",
       "structure     [[ 1.06528977 11.81172278  3.84842205] Bi, [5....   \n",
       "energy                                              -348.707182   \n",
       "force         [[-0.00017897, 0.00277865, -0.0010999], [-0.00...   \n",
       "stress        [[1.07809726, 0.0013952130000000002, 0.0025432...   \n",
       "charge_state                                                1.0   \n",
       "\n",
       "                                                                 \\\n",
       "                                              BiSI_vac_1_Bi_1_4   \n",
       "structure     [[ 1.06527388 11.81202734  3.84834442] Bi, [5....   \n",
       "energy                                              -348.707324   \n",
       "force         [[-0.00019793, 0.00291401, -0.00079171], [-0.0...   \n",
       "stress        [[1.073682773, 0.0013660270000000001, 0.002495...   \n",
       "charge_state                                                1.0   \n",
       "\n",
       "                                                                 \\\n",
       "                                              BiSI_vac_1_Bi_1_5   \n",
       "structure     [[ 1.06526468 11.81218623  3.84830524] Bi, [5....   \n",
       "energy                                              -348.707394   \n",
       "force         [[-0.00021495, 0.0028123, -0.00035399], [-0.00...   \n",
       "stress        [[1.072408514, 0.0013437920000000001, 0.002477...   \n",
       "charge_state                                                1.0   \n",
       "\n",
       "                                                                 \\\n",
       "                                              BiSI_vac_1_Bi_1_6   \n",
       "structure     [[ 1.065245   11.81249473  3.84824849] Bi, [5....   \n",
       "energy                                              -348.707514   \n",
       "force         [[-0.00018897, 0.00213378, 0.0004285], [-0.002...   \n",
       "stress        [[1.071850834, 0.0013084300000000002, 0.002425...   \n",
       "charge_state                                                1.0   \n",
       "\n",
       "                                                                 \\\n",
       "                                              BiSI_vac_1_Bi_1_7   \n",
       "structure     [[ 1.06529179 11.81175778  3.84836642] Bi, [5....   \n",
       "energy                                              -348.707195   \n",
       "force         [[-0.00028409, 0.00499442, -0.00145247], [-0.0...   \n",
       "stress        [[1.0730329660000002, 0.0014174590000000003, 0...   \n",
       "charge_state                                                1.0   \n",
       "\n",
       "                                                                 \\\n",
       "                                              BiSI_vac_1_Bi_1_8   \n",
       "structure     [[ 1.06521095 11.81299816  3.84820139] Bi, [5....   \n",
       "energy                                              -348.707701   \n",
       "force         [[-0.00026392, 0.0030714, 0.00108771], [-0.003...   \n",
       "stress        [[1.071797598, 0.001234211, 0.002375217], [0.0...   \n",
       "charge_state                                                1.0   \n",
       "\n",
       "                                                                 \\\n",
       "                                              BiSI_vac_1_Bi_1_9   \n",
       "structure     [[ 1.06517186 11.81356455  3.84817353] Bi, [5....   \n",
       "energy                                              -348.707865   \n",
       "force         [[-0.00031494, 0.00277768, 0.00226798], [-0.00...   \n",
       "stress        [[1.071568483, 0.001139871, 0.0023203560000000...   \n",
       "charge_state                                                1.0   \n",
       "\n",
       "                                                                 \\\n",
       "                                             BiSI_vac_1_Bi_1_10   \n",
       "structure     [[ 1.06475368 11.8154952   3.85020289] Bi, [5....   \n",
       "energy                                               -348.70831   \n",
       "force         [[-4.304e-05, 0.00230257, 0.00234782], [0.0017...   \n",
       "stress        [[1.090053006, 0.000189752, 0.0014052780000000...   \n",
       "charge_state                                                1.0   \n",
       "\n",
       "                                                 BiSI_vac_2_S_1  \\\n",
       "                                               BiSI_vac_2_S_1_0   \n",
       "structure     [[0.8136422  3.18635783 3.70505612] Bi, [ 1.05...   \n",
       "energy                                              -349.834732   \n",
       "force         [[0.00333455, 0.00310133, 0.00020627], [0.0006...   \n",
       "stress        [[0.7749622810000001, -1.4175e-05, 0.000193823...   \n",
       "charge_state                                                1.0   \n",
       "\n",
       "                                                 BiSI_vac_3_I_1  \n",
       "                                               BiSI_vac_3_I_1_0  \n",
       "structure     [[1.10053179 3.23330857 3.84593827] Bi, [ 1.08...  \n",
       "energy                                              -353.004082  \n",
       "force         [[-0.00027407, -0.00315128, -0.00408567], [0.0...  \n",
       "stress        [[1.0742299210000001, 0.0015558500000000001, 0...  \n",
       "charge_state                                                1.0  \n",
       "\n",
       "[5 rows x 593 columns]"
      ]
     },
     "execution_count": 5,
     "metadata": {},
     "output_type": "execute_result"
    }
   ],
   "source": [
    "# Clone (copy) the DataFrame\n",
    "#m3gnet_dataset = source_m3gnet_dataset.copy()\n",
    "\n",
    "# Remove the outer (top-level) column index up to depth-1 level\n",
    "for i in range(depth):\n",
    "    m3gnet_dataset.columns = m3gnet_dataset.columns.droplevel(0)\n",
    "m3gnet_dataset"
   ]
  },
  {
   "cell_type": "markdown",
   "id": "b0461839714889c7",
   "metadata": {},
   "source": [
    "### Splitting into train-validation-test sets"
   ]
  },
  {
   "cell_type": "code",
   "execution_count": 6,
   "id": "67684f945cc8e436",
   "metadata": {
    "ExecuteTime": {
     "end_time": "2024-10-03T13:20:25.958293066Z",
     "start_time": "2024-10-03T13:20:25.915994749Z"
    }
   },
   "outputs": [
    {
     "name": "stdout",
     "output_type": "stream",
     "text": [
      "Using 315 samples to train, 170 to evaluate, and 108 to test\n"
     ]
    }
   ],
   "source": [
    "# Check if data has been already split, else do it randomly\n",
    "\n",
    "path_to_test_labels       = 'test_labels.txt'\n",
    "path_to_validation_labels = 'validation_labels.txt'\n",
    "path_to_train_labels      = 'train_labels.txt'\n",
    "\n",
    "if os.path.exists(path_to_test_labels) and os.path.exists(path_to_validation_labels) and os.path.exists(path_to_train_labels):\n",
    "    # Read labels splitting (which are strings)\n",
    "    test_labels       = np.genfromtxt(path_to_test_labels,       dtype='str').tolist()\n",
    "    validation_labels = np.genfromtxt(path_to_validation_labels, dtype='str').tolist()\n",
    "    train_labels      = np.genfromtxt(path_to_train_labels,      dtype='str').tolist()\n",
    "else:\n",
    "    # Define unique labels, wrt the outer column\n",
    "    unique_labels = np.unique(m3gnet_dataset.columns.get_level_values(0))\n",
    "\n",
    "    # Shuffle the list of unique labels\n",
    "    np.random.shuffle(unique_labels)\n",
    "\n",
    "    # Define the sizes of every set\n",
    "    # Corresponds to the size wrt the number of unique materials in the dataset\n",
    "    test_size       = int(test_ratio       * len(unique_labels))\n",
    "    validation_size = int(validation_ratio * len(unique_labels))\n",
    "\n",
    "    test_labels       = unique_labels[:test_size]\n",
    "    validation_labels = unique_labels[test_size:test_size+validation_size]\n",
    "    train_labels      = unique_labels[test_size+validation_size:]\n",
    "    \n",
    "    # Save this splitting for transfer-learning approaches\n",
    "    np.savetxt(path_to_test_labels,       test_labels,       fmt='%s')\n",
    "    np.savetxt(path_to_validation_labels, validation_labels, fmt='%s')\n",
    "    np.savetxt(path_to_train_labels,      train_labels,      fmt='%s')\n",
    "\n",
    "# Use the loaded/computed labels to generate split datasets\n",
    "test_dataset       = m3gnet_dataset[test_labels]\n",
    "validation_dataset = m3gnet_dataset[validation_labels]\n",
    "train_dataset      = m3gnet_dataset[train_labels]\n",
    "del m3gnet_dataset\n",
    "\n",
    "n_test       = np.shape(test_dataset)[1]\n",
    "n_validation = np.shape(validation_dataset)[1]\n",
    "n_train      = np.shape(train_dataset)[1]\n",
    "\n",
    "print(f'Using {n_train} samples to train, {n_validation} to evaluate, and {n_test} to test')"
   ]
  },
  {
   "cell_type": "markdown",
   "id": "78260fabd76e5705",
   "metadata": {},
   "source": [
    "### Convert into graph database"
   ]
  },
  {
   "cell_type": "code",
   "execution_count": 7,
   "id": "28d41455e0291455",
   "metadata": {
    "ExecuteTime": {
     "end_time": "2024-10-03T13:20:33.439655465Z",
     "start_time": "2024-10-03T13:20:29.769180325Z"
    }
   },
   "outputs": [
    {
     "name": "stderr",
     "output_type": "stream",
     "text": [
      "100%|████████████████████████████████████████| 315/315 [00:01<00:00, 216.32it/s]\n",
      "100%|████████████████████████████████████████| 170/170 [00:00<00:00, 217.46it/s]\n",
      "100%|████████████████████████████████████████| 108/108 [00:00<00:00, 222.74it/s]\n"
     ]
    }
   ],
   "source": [
    "all_data = []\n",
    "for i in range(3):  # Iterate over train-validation-test sets\n",
    "    name    = ['train', 'val', 'test'][i]\n",
    "    dataset = [train_dataset, validation_dataset, test_dataset][i]\n",
    "\n",
    "    # Extract data from dataset\n",
    "    structures    = dataset.loc['structure'].values.tolist()\n",
    "    element_types = get_element_list(structures)\n",
    "    converter     = Structure2Graph(element_types=element_types, cutoff=5.0)\n",
    "    \n",
    "    # Define data labels from dataset\n",
    "    if stress_weight == 0:\n",
    "        stresses = [np.zeros((3, 3)).tolist() for s in structures]\n",
    "    else:\n",
    "        stresses = dataset.loc['stress'].values.tolist()\n",
    "\n",
    "    labels = {\n",
    "        'energies': dataset.loc['energy'].values.tolist(),\n",
    "        'forces':   dataset.loc['force'].values.tolist(),\n",
    "        'stresses': stresses,\n",
    "    }\n",
    "    \n",
    "    # Generate dataset\n",
    "    data = M3GNetDataset(\n",
    "        filename=f'dgl_graph-{name}.bin',\n",
    "        filename_line_graph=f'dgl_line_graph-{name}.bin',\n",
    "        filename_state_attr=f'state_attr-{name}.pt',\n",
    "        filename_labels=f'labels-{name}.json',\n",
    "        threebody_cutoff=4.0,\n",
    "        structures=structures,\n",
    "        converter=converter,\n",
    "        labels=labels,\n",
    "        name=f'M3GNetDataset-{name}',\n",
    "    )\n",
    "    all_data.append(data)\n",
    "\n",
    "train_data, val_data, test_data = all_data\n",
    "del all_data, test_dataset, validation_dataset, train_dataset"
   ]
  },
  {
   "cell_type": "code",
   "execution_count": 8,
   "id": "3a0518591fada833",
   "metadata": {
    "ExecuteTime": {
     "end_time": "2024-10-03T13:20:33.440469113Z",
     "start_time": "2024-10-03T13:20:33.431290619Z"
    }
   },
   "outputs": [],
   "source": [
    "train_loader, val_loader, test_loader = MGLDataLoader(\n",
    "    train_data=train_data,\n",
    "    val_data=val_data,\n",
    "    test_data=test_data,\n",
    "    collate_fn=collate_fn_efs,\n",
    "    batch_size=batch_size,\n",
    "    num_workers=16,\n",
    "    pin_memory=False  # True for more rapid data transfer to GPU, pinning memory to RAM\n",
    ")\n",
    "del train_data, val_data, test_data"
   ]
  },
  {
   "cell_type": "markdown",
   "id": "d85e5b3eed64b62e",
   "metadata": {},
   "source": [
    "# Retrain model"
   ]
  },
  {
   "cell_type": "code",
   "execution_count": 9,
   "id": "33c8bb3cf9c66427",
   "metadata": {
    "ExecuteTime": {
     "end_time": "2024-10-03T13:20:33.654950452Z",
     "start_time": "2024-10-03T13:20:33.433406352Z"
    }
   },
   "outputs": [],
   "source": [
    "# Download a pre-trained M3GNet\n",
    "m3gnet_nnp       = matgl.load_model(model_load_path)\n",
    "model_pretrained = m3gnet_nnp.model\n",
    "\n",
    "# Stress and site-wise are added to training loss\n",
    "# Stresses are being computed (calc_stress=True)\n",
    "lit_module_finetune = PotentialLightningModule(model=model_pretrained,\n",
    "                                               stress_weight=stress_weight,\n",
    "                                               loss='mse_loss',\n",
    "                                               lr=lr)"
   ]
  },
  {
   "cell_type": "code",
   "execution_count": null,
   "id": "2ea8bc35a28e91c8",
   "metadata": {
    "ExecuteTime": {
     "start_time": "2024-10-03T13:20:33.656619786Z"
    },
    "is_executing": true
   },
   "outputs": [
    {
     "name": "stderr",
     "output_type": "stream",
     "text": [
      "GPU available: False, used: False\n",
      "TPU available: False, using: 0 TPU cores\n",
      "IPU available: False, using: 0 IPUs\n",
      "HPU available: False, using: 0 HPUs\n",
      "\n",
      "  | Name  | Type              | Params\n",
      "--------------------------------------------\n",
      "0 | mae   | MeanAbsoluteError | 0     \n",
      "1 | rmse  | MeanSquaredError  | 0     \n",
      "2 | model | Potential         | 288 K \n",
      "--------------------------------------------\n",
      "288 K     Trainable params\n",
      "0         Non-trainable params\n",
      "288 K     Total params\n",
      "1.153     Total estimated model params size (MB)\n"
     ]
    },
    {
     "data": {
      "application/vnd.jupyter.widget-view+json": {
       "model_id": "",
       "version_major": 2,
       "version_minor": 0
      },
      "text/plain": [
       "Sanity Checking: |                                        | 0/? [00:00<?, ?it/s]"
      ]
     },
     "metadata": {},
     "output_type": "display_data"
    },
    {
     "data": {
      "application/vnd.jupyter.widget-view+json": {
       "model_id": "60f065127fe04bc8b3fd915a0ee6f16b",
       "version_major": 2,
       "version_minor": 0
      },
      "text/plain": [
       "Training: |                                               | 0/? [00:00<?, ?it/s]"
      ]
     },
     "metadata": {},
     "output_type": "display_data"
    },
    {
     "data": {
      "application/vnd.jupyter.widget-view+json": {
       "model_id": "",
       "version_major": 2,
       "version_minor": 0
      },
      "text/plain": [
       "Validation: |                                             | 0/? [00:00<?, ?it/s]"
      ]
     },
     "metadata": {},
     "output_type": "display_data"
    },
    {
     "data": {
      "application/vnd.jupyter.widget-view+json": {
       "model_id": "",
       "version_major": 2,
       "version_minor": 0
      },
      "text/plain": [
       "Validation: |                                             | 0/? [00:00<?, ?it/s]"
      ]
     },
     "metadata": {},
     "output_type": "display_data"
    },
    {
     "data": {
      "application/vnd.jupyter.widget-view+json": {
       "model_id": "",
       "version_major": 2,
       "version_minor": 0
      },
      "text/plain": [
       "Validation: |                                             | 0/? [00:00<?, ?it/s]"
      ]
     },
     "metadata": {},
     "output_type": "display_data"
    },
    {
     "data": {
      "application/vnd.jupyter.widget-view+json": {
       "model_id": "",
       "version_major": 2,
       "version_minor": 0
      },
      "text/plain": [
       "Validation: |                                             | 0/? [00:00<?, ?it/s]"
      ]
     },
     "metadata": {},
     "output_type": "display_data"
    },
    {
     "data": {
      "application/vnd.jupyter.widget-view+json": {
       "model_id": "",
       "version_major": 2,
       "version_minor": 0
      },
      "text/plain": [
       "Validation: |                                             | 0/? [00:00<?, ?it/s]"
      ]
     },
     "metadata": {},
     "output_type": "display_data"
    },
    {
     "data": {
      "application/vnd.jupyter.widget-view+json": {
       "model_id": "",
       "version_major": 2,
       "version_minor": 0
      },
      "text/plain": [
       "Validation: |                                             | 0/? [00:00<?, ?it/s]"
      ]
     },
     "metadata": {},
     "output_type": "display_data"
    },
    {
     "data": {
      "application/vnd.jupyter.widget-view+json": {
       "model_id": "",
       "version_major": 2,
       "version_minor": 0
      },
      "text/plain": [
       "Validation: |                                             | 0/? [00:00<?, ?it/s]"
      ]
     },
     "metadata": {},
     "output_type": "display_data"
    },
    {
     "data": {
      "application/vnd.jupyter.widget-view+json": {
       "model_id": "",
       "version_major": 2,
       "version_minor": 0
      },
      "text/plain": [
       "Validation: |                                             | 0/? [00:00<?, ?it/s]"
      ]
     },
     "metadata": {},
     "output_type": "display_data"
    },
    {
     "data": {
      "application/vnd.jupyter.widget-view+json": {
       "model_id": "",
       "version_major": 2,
       "version_minor": 0
      },
      "text/plain": [
       "Validation: |                                             | 0/? [00:00<?, ?it/s]"
      ]
     },
     "metadata": {},
     "output_type": "display_data"
    },
    {
     "data": {
      "application/vnd.jupyter.widget-view+json": {
       "model_id": "",
       "version_major": 2,
       "version_minor": 0
      },
      "text/plain": [
       "Validation: |                                             | 0/? [00:00<?, ?it/s]"
      ]
     },
     "metadata": {},
     "output_type": "display_data"
    },
    {
     "data": {
      "application/vnd.jupyter.widget-view+json": {
       "model_id": "",
       "version_major": 2,
       "version_minor": 0
      },
      "text/plain": [
       "Validation: |                                             | 0/? [00:00<?, ?it/s]"
      ]
     },
     "metadata": {},
     "output_type": "display_data"
    },
    {
     "data": {
      "application/vnd.jupyter.widget-view+json": {
       "model_id": "",
       "version_major": 2,
       "version_minor": 0
      },
      "text/plain": [
       "Validation: |                                             | 0/? [00:00<?, ?it/s]"
      ]
     },
     "metadata": {},
     "output_type": "display_data"
    },
    {
     "data": {
      "application/vnd.jupyter.widget-view+json": {
       "model_id": "",
       "version_major": 2,
       "version_minor": 0
      },
      "text/plain": [
       "Validation: |                                             | 0/? [00:00<?, ?it/s]"
      ]
     },
     "metadata": {},
     "output_type": "display_data"
    },
    {
     "data": {
      "application/vnd.jupyter.widget-view+json": {
       "model_id": "",
       "version_major": 2,
       "version_minor": 0
      },
      "text/plain": [
       "Validation: |                                             | 0/? [00:00<?, ?it/s]"
      ]
     },
     "metadata": {},
     "output_type": "display_data"
    },
    {
     "data": {
      "application/vnd.jupyter.widget-view+json": {
       "model_id": "",
       "version_major": 2,
       "version_minor": 0
      },
      "text/plain": [
       "Validation: |                                             | 0/? [00:00<?, ?it/s]"
      ]
     },
     "metadata": {},
     "output_type": "display_data"
    },
    {
     "data": {
      "application/vnd.jupyter.widget-view+json": {
       "model_id": "",
       "version_major": 2,
       "version_minor": 0
      },
      "text/plain": [
       "Validation: |                                             | 0/? [00:00<?, ?it/s]"
      ]
     },
     "metadata": {},
     "output_type": "display_data"
    },
    {
     "data": {
      "application/vnd.jupyter.widget-view+json": {
       "model_id": "",
       "version_major": 2,
       "version_minor": 0
      },
      "text/plain": [
       "Validation: |                                             | 0/? [00:00<?, ?it/s]"
      ]
     },
     "metadata": {},
     "output_type": "display_data"
    },
    {
     "data": {
      "application/vnd.jupyter.widget-view+json": {
       "model_id": "",
       "version_major": 2,
       "version_minor": 0
      },
      "text/plain": [
       "Validation: |                                             | 0/? [00:00<?, ?it/s]"
      ]
     },
     "metadata": {},
     "output_type": "display_data"
    },
    {
     "data": {
      "application/vnd.jupyter.widget-view+json": {
       "model_id": "",
       "version_major": 2,
       "version_minor": 0
      },
      "text/plain": [
       "Validation: |                                             | 0/? [00:00<?, ?it/s]"
      ]
     },
     "metadata": {},
     "output_type": "display_data"
    },
    {
     "data": {
      "application/vnd.jupyter.widget-view+json": {
       "model_id": "",
       "version_major": 2,
       "version_minor": 0
      },
      "text/plain": [
       "Validation: |                                             | 0/? [00:00<?, ?it/s]"
      ]
     },
     "metadata": {},
     "output_type": "display_data"
    },
    {
     "data": {
      "application/vnd.jupyter.widget-view+json": {
       "model_id": "",
       "version_major": 2,
       "version_minor": 0
      },
      "text/plain": [
       "Validation: |                                             | 0/? [00:00<?, ?it/s]"
      ]
     },
     "metadata": {},
     "output_type": "display_data"
    },
    {
     "data": {
      "application/vnd.jupyter.widget-view+json": {
       "model_id": "",
       "version_major": 2,
       "version_minor": 0
      },
      "text/plain": [
       "Validation: |                                             | 0/? [00:00<?, ?it/s]"
      ]
     },
     "metadata": {},
     "output_type": "display_data"
    },
    {
     "data": {
      "application/vnd.jupyter.widget-view+json": {
       "model_id": "",
       "version_major": 2,
       "version_minor": 0
      },
      "text/plain": [
       "Validation: |                                             | 0/? [00:00<?, ?it/s]"
      ]
     },
     "metadata": {},
     "output_type": "display_data"
    },
    {
     "data": {
      "application/vnd.jupyter.widget-view+json": {
       "model_id": "",
       "version_major": 2,
       "version_minor": 0
      },
      "text/plain": [
       "Validation: |                                             | 0/? [00:00<?, ?it/s]"
      ]
     },
     "metadata": {},
     "output_type": "display_data"
    },
    {
     "data": {
      "application/vnd.jupyter.widget-view+json": {
       "model_id": "",
       "version_major": 2,
       "version_minor": 0
      },
      "text/plain": [
       "Validation: |                                             | 0/? [00:00<?, ?it/s]"
      ]
     },
     "metadata": {},
     "output_type": "display_data"
    },
    {
     "data": {
      "application/vnd.jupyter.widget-view+json": {
       "model_id": "",
       "version_major": 2,
       "version_minor": 0
      },
      "text/plain": [
       "Validation: |                                             | 0/? [00:00<?, ?it/s]"
      ]
     },
     "metadata": {},
     "output_type": "display_data"
    },
    {
     "data": {
      "application/vnd.jupyter.widget-view+json": {
       "model_id": "",
       "version_major": 2,
       "version_minor": 0
      },
      "text/plain": [
       "Validation: |                                             | 0/? [00:00<?, ?it/s]"
      ]
     },
     "metadata": {},
     "output_type": "display_data"
    },
    {
     "data": {
      "application/vnd.jupyter.widget-view+json": {
       "model_id": "",
       "version_major": 2,
       "version_minor": 0
      },
      "text/plain": [
       "Validation: |                                             | 0/? [00:00<?, ?it/s]"
      ]
     },
     "metadata": {},
     "output_type": "display_data"
    },
    {
     "data": {
      "application/vnd.jupyter.widget-view+json": {
       "model_id": "",
       "version_major": 2,
       "version_minor": 0
      },
      "text/plain": [
       "Validation: |                                             | 0/? [00:00<?, ?it/s]"
      ]
     },
     "metadata": {},
     "output_type": "display_data"
    },
    {
     "data": {
      "application/vnd.jupyter.widget-view+json": {
       "model_id": "",
       "version_major": 2,
       "version_minor": 0
      },
      "text/plain": [
       "Validation: |                                             | 0/? [00:00<?, ?it/s]"
      ]
     },
     "metadata": {},
     "output_type": "display_data"
    },
    {
     "data": {
      "application/vnd.jupyter.widget-view+json": {
       "model_id": "",
       "version_major": 2,
       "version_minor": 0
      },
      "text/plain": [
       "Validation: |                                             | 0/? [00:00<?, ?it/s]"
      ]
     },
     "metadata": {},
     "output_type": "display_data"
    },
    {
     "data": {
      "application/vnd.jupyter.widget-view+json": {
       "model_id": "",
       "version_major": 2,
       "version_minor": 0
      },
      "text/plain": [
       "Validation: |                                             | 0/? [00:00<?, ?it/s]"
      ]
     },
     "metadata": {},
     "output_type": "display_data"
    },
    {
     "data": {
      "application/vnd.jupyter.widget-view+json": {
       "model_id": "",
       "version_major": 2,
       "version_minor": 0
      },
      "text/plain": [
       "Validation: |                                             | 0/? [00:00<?, ?it/s]"
      ]
     },
     "metadata": {},
     "output_type": "display_data"
    },
    {
     "data": {
      "application/vnd.jupyter.widget-view+json": {
       "model_id": "",
       "version_major": 2,
       "version_minor": 0
      },
      "text/plain": [
       "Validation: |                                             | 0/? [00:00<?, ?it/s]"
      ]
     },
     "metadata": {},
     "output_type": "display_data"
    },
    {
     "data": {
      "application/vnd.jupyter.widget-view+json": {
       "model_id": "",
       "version_major": 2,
       "version_minor": 0
      },
      "text/plain": [
       "Validation: |                                             | 0/? [00:00<?, ?it/s]"
      ]
     },
     "metadata": {},
     "output_type": "display_data"
    },
    {
     "data": {
      "application/vnd.jupyter.widget-view+json": {
       "model_id": "",
       "version_major": 2,
       "version_minor": 0
      },
      "text/plain": [
       "Validation: |                                             | 0/? [00:00<?, ?it/s]"
      ]
     },
     "metadata": {},
     "output_type": "display_data"
    },
    {
     "data": {
      "application/vnd.jupyter.widget-view+json": {
       "model_id": "",
       "version_major": 2,
       "version_minor": 0
      },
      "text/plain": [
       "Validation: |                                             | 0/? [00:00<?, ?it/s]"
      ]
     },
     "metadata": {},
     "output_type": "display_data"
    },
    {
     "data": {
      "application/vnd.jupyter.widget-view+json": {
       "model_id": "",
       "version_major": 2,
       "version_minor": 0
      },
      "text/plain": [
       "Validation: |                                             | 0/? [00:00<?, ?it/s]"
      ]
     },
     "metadata": {},
     "output_type": "display_data"
    },
    {
     "data": {
      "application/vnd.jupyter.widget-view+json": {
       "model_id": "",
       "version_major": 2,
       "version_minor": 0
      },
      "text/plain": [
       "Validation: |                                             | 0/? [00:00<?, ?it/s]"
      ]
     },
     "metadata": {},
     "output_type": "display_data"
    },
    {
     "data": {
      "application/vnd.jupyter.widget-view+json": {
       "model_id": "",
       "version_major": 2,
       "version_minor": 0
      },
      "text/plain": [
       "Validation: |                                             | 0/? [00:00<?, ?it/s]"
      ]
     },
     "metadata": {},
     "output_type": "display_data"
    },
    {
     "data": {
      "application/vnd.jupyter.widget-view+json": {
       "model_id": "",
       "version_major": 2,
       "version_minor": 0
      },
      "text/plain": [
       "Validation: |                                             | 0/? [00:00<?, ?it/s]"
      ]
     },
     "metadata": {},
     "output_type": "display_data"
    },
    {
     "data": {
      "application/vnd.jupyter.widget-view+json": {
       "model_id": "",
       "version_major": 2,
       "version_minor": 0
      },
      "text/plain": [
       "Validation: |                                             | 0/? [00:00<?, ?it/s]"
      ]
     },
     "metadata": {},
     "output_type": "display_data"
    },
    {
     "data": {
      "application/vnd.jupyter.widget-view+json": {
       "model_id": "",
       "version_major": 2,
       "version_minor": 0
      },
      "text/plain": [
       "Validation: |                                             | 0/? [00:00<?, ?it/s]"
      ]
     },
     "metadata": {},
     "output_type": "display_data"
    },
    {
     "data": {
      "application/vnd.jupyter.widget-view+json": {
       "model_id": "",
       "version_major": 2,
       "version_minor": 0
      },
      "text/plain": [
       "Validation: |                                             | 0/? [00:00<?, ?it/s]"
      ]
     },
     "metadata": {},
     "output_type": "display_data"
    },
    {
     "data": {
      "application/vnd.jupyter.widget-view+json": {
       "model_id": "",
       "version_major": 2,
       "version_minor": 0
      },
      "text/plain": [
       "Validation: |                                             | 0/? [00:00<?, ?it/s]"
      ]
     },
     "metadata": {},
     "output_type": "display_data"
    },
    {
     "data": {
      "application/vnd.jupyter.widget-view+json": {
       "model_id": "",
       "version_major": 2,
       "version_minor": 0
      },
      "text/plain": [
       "Validation: |                                             | 0/? [00:00<?, ?it/s]"
      ]
     },
     "metadata": {},
     "output_type": "display_data"
    },
    {
     "data": {
      "application/vnd.jupyter.widget-view+json": {
       "model_id": "",
       "version_major": 2,
       "version_minor": 0
      },
      "text/plain": [
       "Validation: |                                             | 0/? [00:00<?, ?it/s]"
      ]
     },
     "metadata": {},
     "output_type": "display_data"
    },
    {
     "data": {
      "application/vnd.jupyter.widget-view+json": {
       "model_id": "",
       "version_major": 2,
       "version_minor": 0
      },
      "text/plain": [
       "Validation: |                                             | 0/? [00:00<?, ?it/s]"
      ]
     },
     "metadata": {},
     "output_type": "display_data"
    },
    {
     "data": {
      "application/vnd.jupyter.widget-view+json": {
       "model_id": "",
       "version_major": 2,
       "version_minor": 0
      },
      "text/plain": [
       "Validation: |                                             | 0/? [00:00<?, ?it/s]"
      ]
     },
     "metadata": {},
     "output_type": "display_data"
    },
    {
     "data": {
      "application/vnd.jupyter.widget-view+json": {
       "model_id": "",
       "version_major": 2,
       "version_minor": 0
      },
      "text/plain": [
       "Validation: |                                             | 0/? [00:00<?, ?it/s]"
      ]
     },
     "metadata": {},
     "output_type": "display_data"
    },
    {
     "data": {
      "application/vnd.jupyter.widget-view+json": {
       "model_id": "",
       "version_major": 2,
       "version_minor": 0
      },
      "text/plain": [
       "Validation: |                                             | 0/? [00:00<?, ?it/s]"
      ]
     },
     "metadata": {},
     "output_type": "display_data"
    },
    {
     "data": {
      "application/vnd.jupyter.widget-view+json": {
       "model_id": "",
       "version_major": 2,
       "version_minor": 0
      },
      "text/plain": [
       "Validation: |                                             | 0/? [00:00<?, ?it/s]"
      ]
     },
     "metadata": {},
     "output_type": "display_data"
    },
    {
     "data": {
      "application/vnd.jupyter.widget-view+json": {
       "model_id": "",
       "version_major": 2,
       "version_minor": 0
      },
      "text/plain": [
       "Validation: |                                             | 0/? [00:00<?, ?it/s]"
      ]
     },
     "metadata": {},
     "output_type": "display_data"
    },
    {
     "data": {
      "application/vnd.jupyter.widget-view+json": {
       "model_id": "",
       "version_major": 2,
       "version_minor": 0
      },
      "text/plain": [
       "Validation: |                                             | 0/? [00:00<?, ?it/s]"
      ]
     },
     "metadata": {},
     "output_type": "display_data"
    },
    {
     "data": {
      "application/vnd.jupyter.widget-view+json": {
       "model_id": "",
       "version_major": 2,
       "version_minor": 0
      },
      "text/plain": [
       "Validation: |                                             | 0/? [00:00<?, ?it/s]"
      ]
     },
     "metadata": {},
     "output_type": "display_data"
    },
    {
     "data": {
      "application/vnd.jupyter.widget-view+json": {
       "model_id": "",
       "version_major": 2,
       "version_minor": 0
      },
      "text/plain": [
       "Validation: |                                             | 0/? [00:00<?, ?it/s]"
      ]
     },
     "metadata": {},
     "output_type": "display_data"
    },
    {
     "data": {
      "application/vnd.jupyter.widget-view+json": {
       "model_id": "",
       "version_major": 2,
       "version_minor": 0
      },
      "text/plain": [
       "Validation: |                                             | 0/? [00:00<?, ?it/s]"
      ]
     },
     "metadata": {},
     "output_type": "display_data"
    },
    {
     "data": {
      "application/vnd.jupyter.widget-view+json": {
       "model_id": "",
       "version_major": 2,
       "version_minor": 0
      },
      "text/plain": [
       "Validation: |                                             | 0/? [00:00<?, ?it/s]"
      ]
     },
     "metadata": {},
     "output_type": "display_data"
    },
    {
     "data": {
      "application/vnd.jupyter.widget-view+json": {
       "model_id": "",
       "version_major": 2,
       "version_minor": 0
      },
      "text/plain": [
       "Validation: |                                             | 0/? [00:00<?, ?it/s]"
      ]
     },
     "metadata": {},
     "output_type": "display_data"
    }
   ],
   "source": [
    "# If you wish to disable GPU or MPS (M1 mac) training, use the accelerator='cpu' kwarg.\n",
    "# accelerator='auto' selects the appropriate Accelerator\n",
    "logger  = CSVLogger('logs',\n",
    "                    name='M3GNet_finetuning')\n",
    "\n",
    "trainer = pl.Trainer(max_epochs=max_epochs,\n",
    "                     accelerator='auto',\n",
    "                     logger=logger,\n",
    "                     inference_mode=False)\n",
    "\n",
    "trainer.fit(model=lit_module_finetune,\n",
    "            train_dataloaders=train_loader,\n",
    "            val_dataloaders=val_loader\n",
    "           )\n",
    "\n",
    "# Save trained model\n",
    "lit_module_finetune.model.save(model_save_path)"
   ]
  },
  {
   "cell_type": "markdown",
   "id": "ef9e163c70f7bcc9",
   "metadata": {},
   "source": [
    "# Analyze metrics"
   ]
  },
  {
   "cell_type": "code",
   "execution_count": null,
   "id": "5a9f0ad509b5b499",
   "metadata": {
    "is_executing": true
   },
   "outputs": [],
   "source": [
    "# E_MAE = meV/atom, F_MAE = eV/A, S_MAE = GPa\n",
    "trainer.test(model=lit_module_finetune,\n",
    "            dataloaders=test_loader\n",
    "           )"
   ]
  },
  {
   "cell_type": "code",
   "execution_count": null,
   "id": "fbd88415072ab1ab",
   "metadata": {
    "is_executing": true
   },
   "outputs": [],
   "source": [
    "import pandas as pd"
   ]
  },
  {
   "cell_type": "code",
   "execution_count": null,
   "id": "9ea916d30e0e4102",
   "metadata": {
    "is_executing": true
   },
   "outputs": [],
   "source": [
    "current_version = 0\n",
    "# Read the CSV file\n",
    "path_to_csv = f'logs/M3GNet_finetuning/version_{current_version}'\n",
    "df = pd.read_csv(f'{path_to_csv}/metrics.csv')\n",
    "df.head()"
   ]
  },
  {
   "cell_type": "code",
   "execution_count": null,
   "id": "a3134249",
   "metadata": {
    "is_executing": true,
    "scrolled": true
   },
   "outputs": [],
   "source": [
    "# NaN to zero\n",
    "df = df.fillna(0)\n",
    "\n",
    "# Calculate the sum of every two consecutive rows\n",
    "df = df.groupby(df.index // 2).sum()\n",
    "df.head()"
   ]
  },
  {
   "cell_type": "code",
   "execution_count": null,
   "id": "643704df",
   "metadata": {
    "ExecuteTime": {
     "start_time": "2024-09-18T08:40:04.372923481Z"
    }
   },
   "outputs": [],
   "source": [
    "# Get the list of loss column names\n",
    "loss_columns = [col for col in df.columns if col.startswith('val_') or col.startswith('train_')]\n",
    "\n",
    "# Create a figure and axis\n",
    "fig = plt.subplots(figsize=(10, 6))\n",
    "\n",
    "# Plot each loss\n",
    "for loss_column in loss_columns:\n",
    "    plt.plot(df.index, np.log(df[loss_column]), label=loss_column)\n",
    "\n",
    "plt.xlabel('Epoch')\n",
    "plt.ylabel('Loss')\n",
    "plt.legend(loc=(1.01, 0))\n",
    "plt.savefig(f'm3gnet_loss.eps', dpi=dpi, bbox_inches='tight')\n",
    "plt.show()"
   ]
  },
  {
   "cell_type": "code",
   "execution_count": null,
   "id": "9d85d562",
   "metadata": {
    "ExecuteTime": {
     "start_time": "2024-09-18T08:40:04.373036417Z"
    }
   },
   "outputs": [],
   "source": [
    "df['val_Energy_MAE'].iloc[-2], df['val_Force_MAE'].iloc[-2], df['val_Stress_MAE'].iloc[-2]"
   ]
  },
  {
   "cell_type": "code",
   "execution_count": null,
   "id": "bc01f877",
   "metadata": {
    "ExecuteTime": {
     "start_time": "2024-09-18T08:40:04.373114130Z"
    }
   },
   "outputs": [],
   "source": [
    "df['val_Energy_MAE'].iloc[-1], df['val_Force_MAE'].iloc[-1], df['val_Stress_MAE'].iloc[-1]"
   ]
  },
  {
   "cell_type": "markdown",
   "id": "d8e76beb",
   "metadata": {},
   "source": [
    "# Cleanup the notebook"
   ]
  },
  {
   "cell_type": "code",
   "execution_count": 19,
   "id": "a7147751",
   "metadata": {
    "ExecuteTime": {
     "end_time": "2024-07-23T19:46:49.077033631Z",
     "start_time": "2024-07-23T19:46:48.828836849Z"
    }
   },
   "outputs": [
    {
     "ename": "NameError",
     "evalue": "name 'glob' is not defined",
     "output_type": "error",
     "traceback": [
      "\u001b[0;31m---------------------------------------------------------------------------\u001b[0m",
      "\u001b[0;31mNameError\u001b[0m                                 Traceback (most recent call last)",
      "Cell \u001b[0;32mIn[19], line 5\u001b[0m\n\u001b[1;32m      3\u001b[0m patterns \u001b[38;5;241m=\u001b[39m [\u001b[38;5;124m'\u001b[39m\u001b[38;5;124mdgl_graph*.bin\u001b[39m\u001b[38;5;124m'\u001b[39m, \u001b[38;5;124m'\u001b[39m\u001b[38;5;124mdgl_line_graph*.bin\u001b[39m\u001b[38;5;124m'\u001b[39m, \u001b[38;5;124m'\u001b[39m\u001b[38;5;124mstate_attr*.pt\u001b[39m\u001b[38;5;124m'\u001b[39m, \u001b[38;5;124m'\u001b[39m\u001b[38;5;124mlabels*.json\u001b[39m\u001b[38;5;124m'\u001b[39m, \u001b[38;5;124m'\u001b[39m\u001b[38;5;124m*labels.txt\u001b[39m\u001b[38;5;124m'\u001b[39m]\n\u001b[1;32m      4\u001b[0m \u001b[38;5;28;01mfor\u001b[39;00m pattern \u001b[38;5;129;01min\u001b[39;00m patterns:\n\u001b[0;32m----> 5\u001b[0m     files \u001b[38;5;241m=\u001b[39m \u001b[43mglob\u001b[49m\u001b[38;5;241m.\u001b[39mglob(pattern)\n\u001b[1;32m      6\u001b[0m     \u001b[38;5;28;01mfor\u001b[39;00m file \u001b[38;5;129;01min\u001b[39;00m files:\n\u001b[1;32m      7\u001b[0m         \u001b[38;5;28;01mtry\u001b[39;00m:\n",
      "\u001b[0;31mNameError\u001b[0m: name 'glob' is not defined"
     ]
    }
   ],
   "source": [
    "# This code just performs cleanup for this notebook from temporal files\n",
    "\n",
    "patterns = ['dgl_graph*.bin', 'dgl_line_graph*.bin', 'state_attr*.pt', 'labels*.json', '*labels.txt']\n",
    "for pattern in patterns:\n",
    "    files = glob.glob(pattern)\n",
    "    for file in files:\n",
    "        try:\n",
    "            os.remove(file)\n",
    "        except FileNotFoundError:\n",
    "            pass\n",
    "\n",
    "#shutil.rmtree('logs')\n",
    "#shutil.rmtree('trained_model')\n",
    "#shutil.rmtree('finetuned_model')"
   ]
  }
 ],
 "metadata": {
  "kernelspec": {
   "display_name": "Python 3 (ipykernel)",
   "language": "python",
   "name": "python3"
  },
  "language_info": {
   "codemirror_mode": {
    "name": "ipython",
    "version": 3
   },
   "file_extension": ".py",
   "mimetype": "text/x-python",
   "name": "python",
   "nbconvert_exporter": "python",
   "pygments_lexer": "ipython3",
   "version": "3.10.12"
  }
 },
 "nbformat": 4,
 "nbformat_minor": 5
}
