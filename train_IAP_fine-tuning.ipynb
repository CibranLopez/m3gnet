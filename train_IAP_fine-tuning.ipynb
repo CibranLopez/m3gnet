{
 "cells": [
  {
   "cell_type": "code",
   "outputs": [],
   "source": [
    "import numpy             as np\n",
    "import pytorch_lightning as pl\n",
    "import ML_library        as MLL\n",
    "import matplotlib.pyplot as plt\n",
    "import matgl\n",
    "import os\n",
    "import warnings\n",
    "import torch\n",
    "\n",
    "from __future__                import annotations\n",
    "from pytorch_lightning.loggers import CSVLogger\n",
    "from matgl.ext.pymatgen        import Structure2Graph, get_element_list\n",
    "from matgl.graph.data          import M3GNetDataset, MGLDataLoader, collate_fn_efs\n",
    "from matgl.utils.training      import PotentialLightningModule\n",
    "\n",
    "# To suppress warnings for clearer output\n",
    "warnings.simplefilter('ignore')\n",
    "\n",
    "# Check if GPU is available\n",
    "device = torch.device('cuda' if torch.cuda.is_available() else 'cpu')"
   ],
   "metadata": {
    "collapsed": false,
    "ExecuteTime": {
     "end_time": "2024-03-15T14:49:54.345384430Z",
     "start_time": "2024-03-15T14:49:51.226076118Z"
    }
   },
   "id": "ce15143c5a02981e",
   "execution_count": 1
  },
  {
   "cell_type": "code",
   "outputs": [
    {
     "data": {
      "text/plain": "device(type='cpu')"
     },
     "execution_count": 2,
     "metadata": {},
     "output_type": "execute_result"
    }
   ],
   "source": [
    "device"
   ],
   "metadata": {
    "collapsed": false,
    "ExecuteTime": {
     "end_time": "2024-03-15T14:49:54.357065056Z",
     "start_time": "2024-03-15T14:49:54.349003942Z"
    }
   },
   "id": "bdd19b6f63c722e4",
   "execution_count": 2
  },
  {
   "cell_type": "code",
   "outputs": [],
   "source": [
    "model_load_path = 'M3GNet-MP-2021.2.8-PES'\n",
    "model_save_path = 'finetuned_model'\n",
    "\n",
    "# Whether to include charge or not\n",
    "charged = False\n",
    "\n",
    "# 0: material, 1: charge state, 2: ionic step\n",
    "depth = 1\n",
    "\n",
    "# Define batch size\n",
    "batch_size = 128\n",
    "\n",
    "# Stress weight for training\n",
    "stress_weight = 0.7\n",
    "\n",
    "# Ratios for diving training data\n",
    "test_ratio       = 0.2\n",
    "validation_ratio = 0.2\n",
    "\n",
    "# Number of epoch for re-training\n",
    "max_epochs = 1000\n",
    "\n",
    "# Learning-rate for re-training\n",
    "lr = 1e-4\n",
    "\n",
    "dpi = 100\n",
    "\n",
    "# Version of training you specifically want to analyze\n",
    "current_version = 1"
   ],
   "metadata": {
    "collapsed": false,
    "ExecuteTime": {
     "end_time": "2024-03-15T14:49:54.358227203Z",
     "start_time": "2024-03-15T14:49:54.353545755Z"
    }
   },
   "id": "8205eacc93a87700",
   "execution_count": 3
  },
  {
   "cell_type": "markdown",
   "source": [
    "# Load simulation data"
   ],
   "metadata": {
    "collapsed": false
   },
   "id": "8531072de38c77ad"
  },
  {
   "cell_type": "code",
   "outputs": [
    {
     "name": "stdout",
     "output_type": "stream",
     "text": [
      "\n",
      "BiSBr\n",
      "\tvac_1_Bi_-2\n",
      "\tvac_1_Bi_-3\n",
      "\tvac_1_Bi_0\n",
      "\tvac_1_Bi_2\n",
      "\tvac_2_S_-2\n",
      "\tvac_2_S_1\n",
      "\tvac_2_S_2\n",
      "\tvac_3_Br_-1\n",
      "\tvac_3_Br_0\n"
     ]
    },
    {
     "data": {
      "text/plain": "                                                          BiSBr   \n                                              BiSBr_vac_1_Bi_-2   \n                                            BiSBr_vac_1_Bi_-2_0   \nstructure     [[ 1.12288994 11.84915635  3.76785106] Bi2.985...  \\\nenergy                                              -346.683161   \nforce         [[0.00835869, 0.00064517, 0.00031], [-0.007161...   \nstress        [[1.18883182, -0.045450646000000004, 0.0572963...   \ncharge_state                                                1.0   \n\n                                                                  \n                                                                  \n                                            BiSBr_vac_1_Bi_-2_1   \nstructure     [[ 1.12305124 11.84916887  3.76785702] Bi2.985...  \\\nenergy                                              -346.683238   \nforce         [[0.00825922, 0.00017896, 0.00014339], [-0.006...   \nstress        [[1.188422523, -0.04534139300000001, 0.0570914...   \ncharge_state                                                1.0   \n\n                                                                  \n                                                                  \n                                            BiSBr_vac_1_Bi_-2_2   \nstructure     [[ 1.12345278 11.84917762  3.76786401] Bi2.985...  \\\nenergy                                              -346.683418   \nforce         [[0.00843988, 0.00190129, -0.00032288], [-0.00...   \nstress        [[1.187356265, -0.045072649, 0.056845249], [-0...   \ncharge_state                                                1.0   \n\n                                                                  \n                                                                  \n                                            BiSBr_vac_1_Bi_-2_3   \nstructure     [[ 1.12356514 11.84918963  3.76786329] Bi2.985...  \\\nenergy                                               -346.68347   \nforce         [[0.00845843, 0.0007909, 0.00012468], [-0.0089...   \nstress        [[1.1868099900000002, -0.045100825000000004, 0...   \ncharge_state                                                1.0   \n\n                                                                  \n                                                                  \n                                            BiSBr_vac_1_Bi_-2_4   \nstructure     [[ 1.12378798 11.8491977   3.76786864] Bi2.985...  \\\nenergy                                              -346.683566   \nforce         [[0.00914372, 0.0006242, -0.00029772], [-0.007...   \nstress        [[1.185687683, -0.044955313000000004, 0.056849...   \ncharge_state                                                1.0   \n\n                                                                  \n                                                                  \n                                            BiSBr_vac_1_Bi_-2_5   \nstructure     [[ 1.12373388 11.8491965   3.76786854] Bi2.985...  \\\nenergy                                              -346.683546   \nforce         [[0.00970161, 0.00084707, -9.275e-05], [-0.007...   \nstress        [[1.1855293310000001, -0.045067341000000004, 0...   \ncharge_state                                                1.0   \n\n                                                                  \n                                                                  \n                                            BiSBr_vac_1_Bi_-2_6   \nstructure     [[ 1.12351003 11.84918929  3.76784839] Bi2.985...  \\\nenergy                                              -346.683451   \nforce         [[0.00897098, 0.00166177, -1.475e-05], [-0.006...   \nstress        [[1.1874243260000001, -0.045151206, 0.05688580...   \ncharge_state                                                1.0   \n\n                                                                  \n                                                                  \n                                            BiSBr_vac_1_Bi_-2_7   \nstructure     [[ 1.12387285 11.84919478  3.7678562 ] Bi2.985...  \\\nenergy                                              -346.683604   \nforce         [[0.0087766, 0.00174576, -0.00052072], [-0.006...   \nstress        [[1.186097223, -0.044836004000000006, 0.056903...   \ncharge_state                                                1.0   \n\n                                                                  \n                                                                  \n                                            BiSBr_vac_1_Bi_-2_8   \nstructure     [[ 1.12460783 11.84923424  3.76782196] Bi2.985...  \\\nenergy                                              -346.683912   \nforce         [[0.00971229, 0.00088492, 0.00024059], [-0.005...   \nstress        [[1.183644189, -0.04446411, 0.0571164360000000...   \ncharge_state                                                1.0   \n\n                                                                 ...   \n                                                                 ...   \n                                            BiSBr_vac_1_Bi_-2_9  ...   \nstructure     [[ 1.12569264 11.84926118  3.7678011 ] Bi2.985...  ...  \\\nenergy                                               -346.68434  ...   \nforce         [[0.01202756, 0.00091644, 0.00026965], [-0.005...  ...   \nstress        [[1.182371493, -0.043553064, 0.057390124], [-0...  ...   \ncharge_state                                                1.0  ...   \n\n                                                                  \n                                               BiSBr_vac_3_Br_0   \n                                            BiSBr_vac_3_Br_0_19   \nstructure     [[0.99954117 3.32938725 3.78335491] Bi3+, [ 1....  \\\nenergy                                              -357.012702   \nforce         [[-0.00848698, -0.00337636, 0.00832999], [0.00...   \nstress        [[2.188154276, 0.002678751, -0.005328923], [0....   \ncharge_state                                                0.0   \n\n                                                                  \n                                                                  \n                                            BiSBr_vac_3_Br_0_20   \nstructure     [[0.99915678 3.32910449 3.78321147] Bi3+, [ 1....  \\\nenergy                                               -357.01315   \nforce         [[-0.005821, -0.00269221, 0.00724404], [0.0032...   \nstress        [[2.184244166, 0.0014387890000000002, -0.00394...   \ncharge_state                                                0.0   \n\n                                                                  \n                                                                  \n                                            BiSBr_vac_3_Br_0_21   \nstructure     [[0.99868096 3.32875429 3.7830338 ] Bi3+, [ 1....  \\\nenergy                                              -357.013298   \nforce         [[-0.00205848, -0.0013421, 0.00560257], [-0.00...   \nstress        [[2.180521461, -4.3988000000000006e-05, -0.002...   \ncharge_state                                                0.0   \n\n                                                                  \n                                                                  \n                                            BiSBr_vac_3_Br_0_22   \nstructure     [[0.99817627 3.32839636 3.78334267] Bi3+, [ 1....  \\\nenergy                                              -357.013663   \nforce         [[0.00239626, -0.00056658, 0.00185966], [-0.00...   \nstress        [[2.170404267, -0.000531909, -0.00198525], [-0...   \ncharge_state                                                0.0   \n\n                                                                  \n                                                                  \n                                            BiSBr_vac_3_Br_0_23   \nstructure     [[0.99760687 3.32799246 3.78369102] Bi3+, [ 1....  \\\nenergy                                              -357.013789   \nforce         [[0.0085215, 0.00191985, -0.00363173], [-0.006...   \nstress        [[2.1597340970000003, -0.0010707029999999999, ...   \ncharge_state                                                0.0   \n\n                                                                  \n                                                                  \n                                            BiSBr_vac_3_Br_0_24   \nstructure     [[0.99801396 3.32788676 3.78359324] Bi3+, [ 1....  \\\nenergy                                              -357.014135   \nforce         [[0.00376318, 0.00238075, -0.00449801], [-0.00...   \nstress        [[2.152978238, 0.000176565, -0.001665943], [0....   \ncharge_state                                                0.0   \n\n                                                                  \n                                                                  \n                                            BiSBr_vac_3_Br_0_25   \nstructure     [[0.99828472 3.32781641 3.78352826] Bi3+, [ 1....  \\\nenergy                                              -357.014183   \nforce         [[0.00028265, 0.00513489, -0.00418222], [0.004...   \nstress        [[2.148861257, 0.001051386, -0.001601949], [0....   \ncharge_state                                                0.0   \n\n                                                                  \n                                                                  \n                                            BiSBr_vac_3_Br_0_26   \nstructure     [[0.99855574 3.3283104  3.78301724] Bi3+, [ 1....  \\\nenergy                                              -357.014373   \nforce         [[-0.00315621, -0.00314707, -0.00117365], [0.0...   \nstress        [[2.147951402, 5.776000000000001e-05, -0.00185...   \ncharge_state                                                0.0   \n\n                                                                  \n                                                                  \n                                            BiSBr_vac_3_Br_0_27   \nstructure     [[0.99871817 3.3286069  3.78271074] Bi3+, [ 1....  \\\nenergy                                              -357.014399   \nforce         [[-0.00486497, -0.00716668, 0.00134633], [0.00...   \nstress        [[2.145998127, -0.000543678, -0.00204980700000...   \ncharge_state                                                0.0   \n\n                                                                 \n                                                                 \n                                            BiSBr_vac_3_Br_0_28  \nstructure     [[0.99836253 3.32816507 3.78243137] Bi3+, [ 1....  \nenergy                                              -357.014542  \nforce         [[0.00145237, 0.00149947, 0.00234208], [0.0021...  \nstress        [[2.14501845, -0.0017708430000000002, -0.00241...  \ncharge_state                                                0.0  \n\n[5 rows x 273 columns]",
      "text/html": "<div>\n<style scoped>\n    .dataframe tbody tr th:only-of-type {\n        vertical-align: middle;\n    }\n\n    .dataframe tbody tr th {\n        vertical-align: top;\n    }\n\n    .dataframe thead tr th {\n        text-align: left;\n    }\n</style>\n<table border=\"1\" class=\"dataframe\">\n  <thead>\n    <tr>\n      <th></th>\n      <th colspan=\"21\" halign=\"left\">BiSBr</th>\n    </tr>\n    <tr>\n      <th></th>\n      <th colspan=\"10\" halign=\"left\">BiSBr_vac_1_Bi_-2</th>\n      <th>...</th>\n      <th colspan=\"10\" halign=\"left\">BiSBr_vac_3_Br_0</th>\n    </tr>\n    <tr>\n      <th></th>\n      <th>BiSBr_vac_1_Bi_-2_0</th>\n      <th>BiSBr_vac_1_Bi_-2_1</th>\n      <th>BiSBr_vac_1_Bi_-2_2</th>\n      <th>BiSBr_vac_1_Bi_-2_3</th>\n      <th>BiSBr_vac_1_Bi_-2_4</th>\n      <th>BiSBr_vac_1_Bi_-2_5</th>\n      <th>BiSBr_vac_1_Bi_-2_6</th>\n      <th>BiSBr_vac_1_Bi_-2_7</th>\n      <th>BiSBr_vac_1_Bi_-2_8</th>\n      <th>BiSBr_vac_1_Bi_-2_9</th>\n      <th>...</th>\n      <th>BiSBr_vac_3_Br_0_19</th>\n      <th>BiSBr_vac_3_Br_0_20</th>\n      <th>BiSBr_vac_3_Br_0_21</th>\n      <th>BiSBr_vac_3_Br_0_22</th>\n      <th>BiSBr_vac_3_Br_0_23</th>\n      <th>BiSBr_vac_3_Br_0_24</th>\n      <th>BiSBr_vac_3_Br_0_25</th>\n      <th>BiSBr_vac_3_Br_0_26</th>\n      <th>BiSBr_vac_3_Br_0_27</th>\n      <th>BiSBr_vac_3_Br_0_28</th>\n    </tr>\n  </thead>\n  <tbody>\n    <tr>\n      <th>structure</th>\n      <td>[[ 1.12288994 11.84915635  3.76785106] Bi2.985...</td>\n      <td>[[ 1.12305124 11.84916887  3.76785702] Bi2.985...</td>\n      <td>[[ 1.12345278 11.84917762  3.76786401] Bi2.985...</td>\n      <td>[[ 1.12356514 11.84918963  3.76786329] Bi2.985...</td>\n      <td>[[ 1.12378798 11.8491977   3.76786864] Bi2.985...</td>\n      <td>[[ 1.12373388 11.8491965   3.76786854] Bi2.985...</td>\n      <td>[[ 1.12351003 11.84918929  3.76784839] Bi2.985...</td>\n      <td>[[ 1.12387285 11.84919478  3.7678562 ] Bi2.985...</td>\n      <td>[[ 1.12460783 11.84923424  3.76782196] Bi2.985...</td>\n      <td>[[ 1.12569264 11.84926118  3.7678011 ] Bi2.985...</td>\n      <td>...</td>\n      <td>[[0.99954117 3.32938725 3.78335491] Bi3+, [ 1....</td>\n      <td>[[0.99915678 3.32910449 3.78321147] Bi3+, [ 1....</td>\n      <td>[[0.99868096 3.32875429 3.7830338 ] Bi3+, [ 1....</td>\n      <td>[[0.99817627 3.32839636 3.78334267] Bi3+, [ 1....</td>\n      <td>[[0.99760687 3.32799246 3.78369102] Bi3+, [ 1....</td>\n      <td>[[0.99801396 3.32788676 3.78359324] Bi3+, [ 1....</td>\n      <td>[[0.99828472 3.32781641 3.78352826] Bi3+, [ 1....</td>\n      <td>[[0.99855574 3.3283104  3.78301724] Bi3+, [ 1....</td>\n      <td>[[0.99871817 3.3286069  3.78271074] Bi3+, [ 1....</td>\n      <td>[[0.99836253 3.32816507 3.78243137] Bi3+, [ 1....</td>\n    </tr>\n    <tr>\n      <th>energy</th>\n      <td>-346.683161</td>\n      <td>-346.683238</td>\n      <td>-346.683418</td>\n      <td>-346.68347</td>\n      <td>-346.683566</td>\n      <td>-346.683546</td>\n      <td>-346.683451</td>\n      <td>-346.683604</td>\n      <td>-346.683912</td>\n      <td>-346.68434</td>\n      <td>...</td>\n      <td>-357.012702</td>\n      <td>-357.01315</td>\n      <td>-357.013298</td>\n      <td>-357.013663</td>\n      <td>-357.013789</td>\n      <td>-357.014135</td>\n      <td>-357.014183</td>\n      <td>-357.014373</td>\n      <td>-357.014399</td>\n      <td>-357.014542</td>\n    </tr>\n    <tr>\n      <th>force</th>\n      <td>[[0.00835869, 0.00064517, 0.00031], [-0.007161...</td>\n      <td>[[0.00825922, 0.00017896, 0.00014339], [-0.006...</td>\n      <td>[[0.00843988, 0.00190129, -0.00032288], [-0.00...</td>\n      <td>[[0.00845843, 0.0007909, 0.00012468], [-0.0089...</td>\n      <td>[[0.00914372, 0.0006242, -0.00029772], [-0.007...</td>\n      <td>[[0.00970161, 0.00084707, -9.275e-05], [-0.007...</td>\n      <td>[[0.00897098, 0.00166177, -1.475e-05], [-0.006...</td>\n      <td>[[0.0087766, 0.00174576, -0.00052072], [-0.006...</td>\n      <td>[[0.00971229, 0.00088492, 0.00024059], [-0.005...</td>\n      <td>[[0.01202756, 0.00091644, 0.00026965], [-0.005...</td>\n      <td>...</td>\n      <td>[[-0.00848698, -0.00337636, 0.00832999], [0.00...</td>\n      <td>[[-0.005821, -0.00269221, 0.00724404], [0.0032...</td>\n      <td>[[-0.00205848, -0.0013421, 0.00560257], [-0.00...</td>\n      <td>[[0.00239626, -0.00056658, 0.00185966], [-0.00...</td>\n      <td>[[0.0085215, 0.00191985, -0.00363173], [-0.006...</td>\n      <td>[[0.00376318, 0.00238075, -0.00449801], [-0.00...</td>\n      <td>[[0.00028265, 0.00513489, -0.00418222], [0.004...</td>\n      <td>[[-0.00315621, -0.00314707, -0.00117365], [0.0...</td>\n      <td>[[-0.00486497, -0.00716668, 0.00134633], [0.00...</td>\n      <td>[[0.00145237, 0.00149947, 0.00234208], [0.0021...</td>\n    </tr>\n    <tr>\n      <th>stress</th>\n      <td>[[1.18883182, -0.045450646000000004, 0.0572963...</td>\n      <td>[[1.188422523, -0.04534139300000001, 0.0570914...</td>\n      <td>[[1.187356265, -0.045072649, 0.056845249], [-0...</td>\n      <td>[[1.1868099900000002, -0.045100825000000004, 0...</td>\n      <td>[[1.185687683, -0.044955313000000004, 0.056849...</td>\n      <td>[[1.1855293310000001, -0.045067341000000004, 0...</td>\n      <td>[[1.1874243260000001, -0.045151206, 0.05688580...</td>\n      <td>[[1.186097223, -0.044836004000000006, 0.056903...</td>\n      <td>[[1.183644189, -0.04446411, 0.0571164360000000...</td>\n      <td>[[1.182371493, -0.043553064, 0.057390124], [-0...</td>\n      <td>...</td>\n      <td>[[2.188154276, 0.002678751, -0.005328923], [0....</td>\n      <td>[[2.184244166, 0.0014387890000000002, -0.00394...</td>\n      <td>[[2.180521461, -4.3988000000000006e-05, -0.002...</td>\n      <td>[[2.170404267, -0.000531909, -0.00198525], [-0...</td>\n      <td>[[2.1597340970000003, -0.0010707029999999999, ...</td>\n      <td>[[2.152978238, 0.000176565, -0.001665943], [0....</td>\n      <td>[[2.148861257, 0.001051386, -0.001601949], [0....</td>\n      <td>[[2.147951402, 5.776000000000001e-05, -0.00185...</td>\n      <td>[[2.145998127, -0.000543678, -0.00204980700000...</td>\n      <td>[[2.14501845, -0.0017708430000000002, -0.00241...</td>\n    </tr>\n    <tr>\n      <th>charge_state</th>\n      <td>1.0</td>\n      <td>1.0</td>\n      <td>1.0</td>\n      <td>1.0</td>\n      <td>1.0</td>\n      <td>1.0</td>\n      <td>1.0</td>\n      <td>1.0</td>\n      <td>1.0</td>\n      <td>1.0</td>\n      <td>...</td>\n      <td>0.0</td>\n      <td>0.0</td>\n      <td>0.0</td>\n      <td>0.0</td>\n      <td>0.0</td>\n      <td>0.0</td>\n      <td>0.0</td>\n      <td>0.0</td>\n      <td>0.0</td>\n      <td>0.0</td>\n    </tr>\n  </tbody>\n</table>\n<p>5 rows × 273 columns</p>\n</div>"
     },
     "execution_count": 4,
     "metadata": {},
     "output_type": "execute_result"
    }
   ],
   "source": [
    "# Each folder names a new column, and structure, energy, forces and stresses\n",
    "# of each ionic step are loaded\n",
    "\n",
    "# Path to dataset, structured as:\n",
    "# path_to_dataset\n",
    "#     material_i\n",
    "#         defect_i\n",
    "#             simulation_i (containing vasprun.xml)\n",
    "\n",
    "path_to_dataset = 'data/database/SOC'\n",
    "#path_to_dataset = '../../../Desktop/CeO2-data'\n",
    "\n",
    "# Extract the data\n",
    "source_m3gnet_dataset = MLL.extract_vaspruns_dataset(path_to_dataset, charged=charged)\n",
    "#source_m3gnet_dataset = MLL.extract_OUTCAR_dataset(path_to_dataset)\n",
    "source_m3gnet_dataset"
   ],
   "metadata": {
    "collapsed": false,
    "ExecuteTime": {
     "end_time": "2024-03-15T14:50:20.717444254Z",
     "start_time": "2024-03-15T14:49:54.358059893Z"
    }
   },
   "id": "88c86b5aee65667b",
   "execution_count": 4
  },
  {
   "cell_type": "code",
   "outputs": [
    {
     "data": {
      "text/plain": "5"
     },
     "execution_count": 5,
     "metadata": {},
     "output_type": "execute_result"
    }
   ],
   "source": [
    "len(source_m3gnet_dataset)"
   ],
   "metadata": {
    "collapsed": false,
    "ExecuteTime": {
     "end_time": "2024-03-15T14:50:20.728549933Z",
     "start_time": "2024-03-15T14:50:20.716674616Z"
    }
   },
   "id": "5fdaa03ef6b919c1",
   "execution_count": 5
  },
  {
   "cell_type": "markdown",
   "source": [
    "# Split data into train-validation-test sets"
   ],
   "metadata": {
    "collapsed": false
   },
   "id": "1665e69cec7b6e4e"
  },
  {
   "cell_type": "markdown",
   "source": [
    "### Decide if we split in terms of mateiral, defect state or simulation directly"
   ],
   "metadata": {
    "collapsed": false
   },
   "id": "f2a4ca22ac0cab57"
  },
  {
   "cell_type": "code",
   "outputs": [],
   "source": [
    "# Clone (copy) the DataFrame\n",
    "m3gnet_dataset = source_m3gnet_dataset.copy()\n",
    "\n",
    "# Remove the outer (top-level) column index up to depth-1 level\n",
    "for i in range(depth):\n",
    "    m3gnet_dataset.columns = m3gnet_dataset.columns.droplevel(0)"
   ],
   "metadata": {
    "collapsed": false,
    "ExecuteTime": {
     "end_time": "2024-03-15T14:50:20.729913623Z",
     "start_time": "2024-03-15T14:50:20.720931602Z"
    }
   },
   "id": "ebcae6e798ff6059",
   "execution_count": 6
  },
  {
   "cell_type": "code",
   "outputs": [
    {
     "data": {
      "text/plain": "                                              BiSBr_vac_1_Bi_-2   \n                                            BiSBr_vac_1_Bi_-2_0   \nstructure     [[ 1.12288994 11.84915635  3.76785106] Bi2.985...  \\\nenergy                                              -346.683161   \nforce         [[0.00835869, 0.00064517, 0.00031], [-0.007161...   \nstress        [[1.18883182, -0.045450646000000004, 0.0572963...   \ncharge_state                                                1.0   \n\n                                                                  \n                                            BiSBr_vac_1_Bi_-2_1   \nstructure     [[ 1.12305124 11.84916887  3.76785702] Bi2.985...  \\\nenergy                                              -346.683238   \nforce         [[0.00825922, 0.00017896, 0.00014339], [-0.006...   \nstress        [[1.188422523, -0.04534139300000001, 0.0570914...   \ncharge_state                                                1.0   \n\n                                                                  \n                                            BiSBr_vac_1_Bi_-2_2   \nstructure     [[ 1.12345278 11.84917762  3.76786401] Bi2.985...  \\\nenergy                                              -346.683418   \nforce         [[0.00843988, 0.00190129, -0.00032288], [-0.00...   \nstress        [[1.187356265, -0.045072649, 0.056845249], [-0...   \ncharge_state                                                1.0   \n\n                                                                  \n                                            BiSBr_vac_1_Bi_-2_3   \nstructure     [[ 1.12356514 11.84918963  3.76786329] Bi2.985...  \\\nenergy                                               -346.68347   \nforce         [[0.00845843, 0.0007909, 0.00012468], [-0.0089...   \nstress        [[1.1868099900000002, -0.045100825000000004, 0...   \ncharge_state                                                1.0   \n\n                                                                  \n                                            BiSBr_vac_1_Bi_-2_4   \nstructure     [[ 1.12378798 11.8491977   3.76786864] Bi2.985...  \\\nenergy                                              -346.683566   \nforce         [[0.00914372, 0.0006242, -0.00029772], [-0.007...   \nstress        [[1.185687683, -0.044955313000000004, 0.056849...   \ncharge_state                                                1.0   \n\n                                                                  \n                                            BiSBr_vac_1_Bi_-2_5   \nstructure     [[ 1.12373388 11.8491965   3.76786854] Bi2.985...  \\\nenergy                                              -346.683546   \nforce         [[0.00970161, 0.00084707, -9.275e-05], [-0.007...   \nstress        [[1.1855293310000001, -0.045067341000000004, 0...   \ncharge_state                                                1.0   \n\n                                                                  \n                                            BiSBr_vac_1_Bi_-2_6   \nstructure     [[ 1.12351003 11.84918929  3.76784839] Bi2.985...  \\\nenergy                                              -346.683451   \nforce         [[0.00897098, 0.00166177, -1.475e-05], [-0.006...   \nstress        [[1.1874243260000001, -0.045151206, 0.05688580...   \ncharge_state                                                1.0   \n\n                                                                  \n                                            BiSBr_vac_1_Bi_-2_7   \nstructure     [[ 1.12387285 11.84919478  3.7678562 ] Bi2.985...  \\\nenergy                                              -346.683604   \nforce         [[0.0087766, 0.00174576, -0.00052072], [-0.006...   \nstress        [[1.186097223, -0.044836004000000006, 0.056903...   \ncharge_state                                                1.0   \n\n                                                                  \n                                            BiSBr_vac_1_Bi_-2_8   \nstructure     [[ 1.12460783 11.84923424  3.76782196] Bi2.985...  \\\nenergy                                              -346.683912   \nforce         [[0.00971229, 0.00088492, 0.00024059], [-0.005...   \nstress        [[1.183644189, -0.04446411, 0.0571164360000000...   \ncharge_state                                                1.0   \n\n                                                                 ...   \n                                            BiSBr_vac_1_Bi_-2_9  ...   \nstructure     [[ 1.12569264 11.84926118  3.7678011 ] Bi2.985...  ...  \\\nenergy                                               -346.68434  ...   \nforce         [[0.01202756, 0.00091644, 0.00026965], [-0.005...  ...   \nstress        [[1.182371493, -0.043553064, 0.057390124], [-0...  ...   \ncharge_state                                                1.0  ...   \n\n                                               BiSBr_vac_3_Br_0   \n                                            BiSBr_vac_3_Br_0_19   \nstructure     [[0.99954117 3.32938725 3.78335491] Bi3+, [ 1....  \\\nenergy                                              -357.012702   \nforce         [[-0.00848698, -0.00337636, 0.00832999], [0.00...   \nstress        [[2.188154276, 0.002678751, -0.005328923], [0....   \ncharge_state                                                0.0   \n\n                                                                  \n                                            BiSBr_vac_3_Br_0_20   \nstructure     [[0.99915678 3.32910449 3.78321147] Bi3+, [ 1....  \\\nenergy                                               -357.01315   \nforce         [[-0.005821, -0.00269221, 0.00724404], [0.0032...   \nstress        [[2.184244166, 0.0014387890000000002, -0.00394...   \ncharge_state                                                0.0   \n\n                                                                  \n                                            BiSBr_vac_3_Br_0_21   \nstructure     [[0.99868096 3.32875429 3.7830338 ] Bi3+, [ 1....  \\\nenergy                                              -357.013298   \nforce         [[-0.00205848, -0.0013421, 0.00560257], [-0.00...   \nstress        [[2.180521461, -4.3988000000000006e-05, -0.002...   \ncharge_state                                                0.0   \n\n                                                                  \n                                            BiSBr_vac_3_Br_0_22   \nstructure     [[0.99817627 3.32839636 3.78334267] Bi3+, [ 1....  \\\nenergy                                              -357.013663   \nforce         [[0.00239626, -0.00056658, 0.00185966], [-0.00...   \nstress        [[2.170404267, -0.000531909, -0.00198525], [-0...   \ncharge_state                                                0.0   \n\n                                                                  \n                                            BiSBr_vac_3_Br_0_23   \nstructure     [[0.99760687 3.32799246 3.78369102] Bi3+, [ 1....  \\\nenergy                                              -357.013789   \nforce         [[0.0085215, 0.00191985, -0.00363173], [-0.006...   \nstress        [[2.1597340970000003, -0.0010707029999999999, ...   \ncharge_state                                                0.0   \n\n                                                                  \n                                            BiSBr_vac_3_Br_0_24   \nstructure     [[0.99801396 3.32788676 3.78359324] Bi3+, [ 1....  \\\nenergy                                              -357.014135   \nforce         [[0.00376318, 0.00238075, -0.00449801], [-0.00...   \nstress        [[2.152978238, 0.000176565, -0.001665943], [0....   \ncharge_state                                                0.0   \n\n                                                                  \n                                            BiSBr_vac_3_Br_0_25   \nstructure     [[0.99828472 3.32781641 3.78352826] Bi3+, [ 1....  \\\nenergy                                              -357.014183   \nforce         [[0.00028265, 0.00513489, -0.00418222], [0.004...   \nstress        [[2.148861257, 0.001051386, -0.001601949], [0....   \ncharge_state                                                0.0   \n\n                                                                  \n                                            BiSBr_vac_3_Br_0_26   \nstructure     [[0.99855574 3.3283104  3.78301724] Bi3+, [ 1....  \\\nenergy                                              -357.014373   \nforce         [[-0.00315621, -0.00314707, -0.00117365], [0.0...   \nstress        [[2.147951402, 5.776000000000001e-05, -0.00185...   \ncharge_state                                                0.0   \n\n                                                                  \n                                            BiSBr_vac_3_Br_0_27   \nstructure     [[0.99871817 3.3286069  3.78271074] Bi3+, [ 1....  \\\nenergy                                              -357.014399   \nforce         [[-0.00486497, -0.00716668, 0.00134633], [0.00...   \nstress        [[2.145998127, -0.000543678, -0.00204980700000...   \ncharge_state                                                0.0   \n\n                                                                 \n                                            BiSBr_vac_3_Br_0_28  \nstructure     [[0.99836253 3.32816507 3.78243137] Bi3+, [ 1....  \nenergy                                              -357.014542  \nforce         [[0.00145237, 0.00149947, 0.00234208], [0.0021...  \nstress        [[2.14501845, -0.0017708430000000002, -0.00241...  \ncharge_state                                                0.0  \n\n[5 rows x 273 columns]",
      "text/html": "<div>\n<style scoped>\n    .dataframe tbody tr th:only-of-type {\n        vertical-align: middle;\n    }\n\n    .dataframe tbody tr th {\n        vertical-align: top;\n    }\n\n    .dataframe thead tr th {\n        text-align: left;\n    }\n</style>\n<table border=\"1\" class=\"dataframe\">\n  <thead>\n    <tr>\n      <th></th>\n      <th colspan=\"10\" halign=\"left\">BiSBr_vac_1_Bi_-2</th>\n      <th>...</th>\n      <th colspan=\"10\" halign=\"left\">BiSBr_vac_3_Br_0</th>\n    </tr>\n    <tr>\n      <th></th>\n      <th>BiSBr_vac_1_Bi_-2_0</th>\n      <th>BiSBr_vac_1_Bi_-2_1</th>\n      <th>BiSBr_vac_1_Bi_-2_2</th>\n      <th>BiSBr_vac_1_Bi_-2_3</th>\n      <th>BiSBr_vac_1_Bi_-2_4</th>\n      <th>BiSBr_vac_1_Bi_-2_5</th>\n      <th>BiSBr_vac_1_Bi_-2_6</th>\n      <th>BiSBr_vac_1_Bi_-2_7</th>\n      <th>BiSBr_vac_1_Bi_-2_8</th>\n      <th>BiSBr_vac_1_Bi_-2_9</th>\n      <th>...</th>\n      <th>BiSBr_vac_3_Br_0_19</th>\n      <th>BiSBr_vac_3_Br_0_20</th>\n      <th>BiSBr_vac_3_Br_0_21</th>\n      <th>BiSBr_vac_3_Br_0_22</th>\n      <th>BiSBr_vac_3_Br_0_23</th>\n      <th>BiSBr_vac_3_Br_0_24</th>\n      <th>BiSBr_vac_3_Br_0_25</th>\n      <th>BiSBr_vac_3_Br_0_26</th>\n      <th>BiSBr_vac_3_Br_0_27</th>\n      <th>BiSBr_vac_3_Br_0_28</th>\n    </tr>\n  </thead>\n  <tbody>\n    <tr>\n      <th>structure</th>\n      <td>[[ 1.12288994 11.84915635  3.76785106] Bi2.985...</td>\n      <td>[[ 1.12305124 11.84916887  3.76785702] Bi2.985...</td>\n      <td>[[ 1.12345278 11.84917762  3.76786401] Bi2.985...</td>\n      <td>[[ 1.12356514 11.84918963  3.76786329] Bi2.985...</td>\n      <td>[[ 1.12378798 11.8491977   3.76786864] Bi2.985...</td>\n      <td>[[ 1.12373388 11.8491965   3.76786854] Bi2.985...</td>\n      <td>[[ 1.12351003 11.84918929  3.76784839] Bi2.985...</td>\n      <td>[[ 1.12387285 11.84919478  3.7678562 ] Bi2.985...</td>\n      <td>[[ 1.12460783 11.84923424  3.76782196] Bi2.985...</td>\n      <td>[[ 1.12569264 11.84926118  3.7678011 ] Bi2.985...</td>\n      <td>...</td>\n      <td>[[0.99954117 3.32938725 3.78335491] Bi3+, [ 1....</td>\n      <td>[[0.99915678 3.32910449 3.78321147] Bi3+, [ 1....</td>\n      <td>[[0.99868096 3.32875429 3.7830338 ] Bi3+, [ 1....</td>\n      <td>[[0.99817627 3.32839636 3.78334267] Bi3+, [ 1....</td>\n      <td>[[0.99760687 3.32799246 3.78369102] Bi3+, [ 1....</td>\n      <td>[[0.99801396 3.32788676 3.78359324] Bi3+, [ 1....</td>\n      <td>[[0.99828472 3.32781641 3.78352826] Bi3+, [ 1....</td>\n      <td>[[0.99855574 3.3283104  3.78301724] Bi3+, [ 1....</td>\n      <td>[[0.99871817 3.3286069  3.78271074] Bi3+, [ 1....</td>\n      <td>[[0.99836253 3.32816507 3.78243137] Bi3+, [ 1....</td>\n    </tr>\n    <tr>\n      <th>energy</th>\n      <td>-346.683161</td>\n      <td>-346.683238</td>\n      <td>-346.683418</td>\n      <td>-346.68347</td>\n      <td>-346.683566</td>\n      <td>-346.683546</td>\n      <td>-346.683451</td>\n      <td>-346.683604</td>\n      <td>-346.683912</td>\n      <td>-346.68434</td>\n      <td>...</td>\n      <td>-357.012702</td>\n      <td>-357.01315</td>\n      <td>-357.013298</td>\n      <td>-357.013663</td>\n      <td>-357.013789</td>\n      <td>-357.014135</td>\n      <td>-357.014183</td>\n      <td>-357.014373</td>\n      <td>-357.014399</td>\n      <td>-357.014542</td>\n    </tr>\n    <tr>\n      <th>force</th>\n      <td>[[0.00835869, 0.00064517, 0.00031], [-0.007161...</td>\n      <td>[[0.00825922, 0.00017896, 0.00014339], [-0.006...</td>\n      <td>[[0.00843988, 0.00190129, -0.00032288], [-0.00...</td>\n      <td>[[0.00845843, 0.0007909, 0.00012468], [-0.0089...</td>\n      <td>[[0.00914372, 0.0006242, -0.00029772], [-0.007...</td>\n      <td>[[0.00970161, 0.00084707, -9.275e-05], [-0.007...</td>\n      <td>[[0.00897098, 0.00166177, -1.475e-05], [-0.006...</td>\n      <td>[[0.0087766, 0.00174576, -0.00052072], [-0.006...</td>\n      <td>[[0.00971229, 0.00088492, 0.00024059], [-0.005...</td>\n      <td>[[0.01202756, 0.00091644, 0.00026965], [-0.005...</td>\n      <td>...</td>\n      <td>[[-0.00848698, -0.00337636, 0.00832999], [0.00...</td>\n      <td>[[-0.005821, -0.00269221, 0.00724404], [0.0032...</td>\n      <td>[[-0.00205848, -0.0013421, 0.00560257], [-0.00...</td>\n      <td>[[0.00239626, -0.00056658, 0.00185966], [-0.00...</td>\n      <td>[[0.0085215, 0.00191985, -0.00363173], [-0.006...</td>\n      <td>[[0.00376318, 0.00238075, -0.00449801], [-0.00...</td>\n      <td>[[0.00028265, 0.00513489, -0.00418222], [0.004...</td>\n      <td>[[-0.00315621, -0.00314707, -0.00117365], [0.0...</td>\n      <td>[[-0.00486497, -0.00716668, 0.00134633], [0.00...</td>\n      <td>[[0.00145237, 0.00149947, 0.00234208], [0.0021...</td>\n    </tr>\n    <tr>\n      <th>stress</th>\n      <td>[[1.18883182, -0.045450646000000004, 0.0572963...</td>\n      <td>[[1.188422523, -0.04534139300000001, 0.0570914...</td>\n      <td>[[1.187356265, -0.045072649, 0.056845249], [-0...</td>\n      <td>[[1.1868099900000002, -0.045100825000000004, 0...</td>\n      <td>[[1.185687683, -0.044955313000000004, 0.056849...</td>\n      <td>[[1.1855293310000001, -0.045067341000000004, 0...</td>\n      <td>[[1.1874243260000001, -0.045151206, 0.05688580...</td>\n      <td>[[1.186097223, -0.044836004000000006, 0.056903...</td>\n      <td>[[1.183644189, -0.04446411, 0.0571164360000000...</td>\n      <td>[[1.182371493, -0.043553064, 0.057390124], [-0...</td>\n      <td>...</td>\n      <td>[[2.188154276, 0.002678751, -0.005328923], [0....</td>\n      <td>[[2.184244166, 0.0014387890000000002, -0.00394...</td>\n      <td>[[2.180521461, -4.3988000000000006e-05, -0.002...</td>\n      <td>[[2.170404267, -0.000531909, -0.00198525], [-0...</td>\n      <td>[[2.1597340970000003, -0.0010707029999999999, ...</td>\n      <td>[[2.152978238, 0.000176565, -0.001665943], [0....</td>\n      <td>[[2.148861257, 0.001051386, -0.001601949], [0....</td>\n      <td>[[2.147951402, 5.776000000000001e-05, -0.00185...</td>\n      <td>[[2.145998127, -0.000543678, -0.00204980700000...</td>\n      <td>[[2.14501845, -0.0017708430000000002, -0.00241...</td>\n    </tr>\n    <tr>\n      <th>charge_state</th>\n      <td>1.0</td>\n      <td>1.0</td>\n      <td>1.0</td>\n      <td>1.0</td>\n      <td>1.0</td>\n      <td>1.0</td>\n      <td>1.0</td>\n      <td>1.0</td>\n      <td>1.0</td>\n      <td>1.0</td>\n      <td>...</td>\n      <td>0.0</td>\n      <td>0.0</td>\n      <td>0.0</td>\n      <td>0.0</td>\n      <td>0.0</td>\n      <td>0.0</td>\n      <td>0.0</td>\n      <td>0.0</td>\n      <td>0.0</td>\n      <td>0.0</td>\n    </tr>\n  </tbody>\n</table>\n<p>5 rows × 273 columns</p>\n</div>"
     },
     "execution_count": 7,
     "metadata": {},
     "output_type": "execute_result"
    }
   ],
   "source": [
    "m3gnet_dataset"
   ],
   "metadata": {
    "collapsed": false,
    "ExecuteTime": {
     "end_time": "2024-03-15T14:50:21.225607045Z",
     "start_time": "2024-03-15T14:50:20.725801946Z"
    }
   },
   "id": "f2292e14517e0ad3",
   "execution_count": 7
  },
  {
   "cell_type": "markdown",
   "source": [
    "### Splitting into train-validation-test sets"
   ],
   "metadata": {
    "collapsed": false
   },
   "id": "86b2b102ec3e5805"
  },
  {
   "cell_type": "code",
   "outputs": [
    {
     "name": "stdout",
     "output_type": "stream",
     "text": [
      "Using 205 samples to train, 26 to evaluate, and 42 to test\n"
     ]
    }
   ],
   "source": [
    "# Check if data has been already split, else do it randomly\n",
    "\n",
    "path_to_test_labels       = 'test_labels.txt'\n",
    "path_to_validation_labels = 'validation_labels.txt'\n",
    "path_to_train_labels      = 'train_labels.txt'\n",
    "\n",
    "if os.path.exists(path_to_test_labels) and os.path.exists(path_to_validation_labels) and os.path.exists(path_to_train_labels):\n",
    "    # Read labels splitting (which are strings)\n",
    "    test_labels       = np.genfromtxt(path_to_test_labels,       dtype='str').tolist()\n",
    "    validation_labels = np.genfromtxt(path_to_validation_labels, dtype='str').tolist()\n",
    "    train_labels      = np.genfromtxt(path_to_train_labels,      dtype='str').tolist()\n",
    "else:\n",
    "    # Define unique labels, wrt the outer column\n",
    "    unique_labels = np.unique(m3gnet_dataset.columns.get_level_values(0))\n",
    "\n",
    "    # Shuffle the list of unique labels\n",
    "    np.random.shuffle(unique_labels)\n",
    "\n",
    "    # Define the sizes of every set\n",
    "    # Corresponds to the size wrt the number of unique materials in the dataset\n",
    "    test_size       = int(test_ratio       * len(unique_labels))\n",
    "    validation_size = int(validation_ratio * len(unique_labels))\n",
    "\n",
    "    test_labels       = unique_labels[:test_size]\n",
    "    validation_labels = unique_labels[test_size:test_size+validation_size]\n",
    "    train_labels      = unique_labels[test_size+validation_size:]\n",
    "    \n",
    "    # Save this splitting for transfer-learning approaches\n",
    "    np.savetxt(path_to_test_labels,       test_labels,       fmt='%s')\n",
    "    np.savetxt(path_to_validation_labels, validation_labels, fmt='%s')\n",
    "    np.savetxt(path_to_train_labels,      train_labels,      fmt='%s')\n",
    "\n",
    "# Use the loaded/computed labels to generate split datasets\n",
    "test_dataset       = m3gnet_dataset[test_labels]\n",
    "validation_dataset = m3gnet_dataset[validation_labels]\n",
    "train_dataset      = m3gnet_dataset[train_labels]\n",
    "\n",
    "n_test       = np.shape(test_dataset)[1]\n",
    "n_validation = np.shape(validation_dataset)[1]\n",
    "n_train      = np.shape(train_dataset)[1]\n",
    "\n",
    "print(f'Using {n_train} samples to train, {n_validation} to evaluate, and {n_test} to test')"
   ],
   "metadata": {
    "collapsed": false,
    "ExecuteTime": {
     "end_time": "2024-03-15T14:50:21.271344940Z",
     "start_time": "2024-03-15T14:50:21.169408750Z"
    }
   },
   "id": "bdde103a45a6c1ed",
   "execution_count": 8
  },
  {
   "cell_type": "markdown",
   "source": [
    "### Convert into graph database"
   ],
   "metadata": {
    "collapsed": false
   },
   "id": "66e4970ac31246c2"
  },
  {
   "cell_type": "code",
   "outputs": [],
   "source": [
    "all_data = []\n",
    "for i in range(3):  # Iterate over train-validation-test sets\n",
    "    name    = ['train', 'val', 'test'][i]\n",
    "    dataset = [train_dataset, validation_dataset, test_dataset][i]\n",
    "    \n",
    "    # Extract data from dataset\n",
    "    structures    = dataset.loc['structure'].values.tolist()\n",
    "    element_types = get_element_list(structures)\n",
    "    converter     = Structure2Graph(element_types=element_types, cutoff=5.0)\n",
    "    \n",
    "    # Define data labels from dataset\n",
    "    if stress_weight == 0:\n",
    "        stresses = [np.zeros((3, 3)).tolist() for s in structures]\n",
    "    else:\n",
    "        stresses = dataset.loc['stress'].values.tolist()\n",
    "\n",
    "    labels = {\n",
    "        'energies': dataset.loc['energy'].values.tolist(),\n",
    "        'forces':   dataset.loc['force'].values.tolist(),\n",
    "        'stresses': stresses,\n",
    "    }\n",
    "    \n",
    "    # Generate dataset\n",
    "    data = M3GNetDataset(\n",
    "        filename=f'dgl_graph-{name}.bin',\n",
    "        filename_line_graph=f'dgl_line_graph-{name}.bin',\n",
    "        filename_state_attr=f'state_attr-{name}.pt',\n",
    "        filename_labels=f'labels-{name}.json',\n",
    "        threebody_cutoff=4.0,\n",
    "        structures=structures,\n",
    "        converter=converter,\n",
    "        labels=labels,\n",
    "        name=f'M3GNetDataset-{name}',\n",
    "    )\n",
    "    all_data.append(data)\n",
    "\n",
    "train_data, val_data, test_data = all_data"
   ],
   "metadata": {
    "collapsed": false
   },
   "id": "837566d6c7acde7e"
  },
  {
   "cell_type": "code",
   "outputs": [],
   "source": [
    "train_loader, val_loader, test_loader = MGLDataLoader(\n",
    "    train_data=train_data,\n",
    "    val_data=val_data,\n",
    "    test_data=test_data,\n",
    "    collate_fn=collate_fn_efs,\n",
    "    batch_size=batch_size,\n",
    "    num_workers=1,\n",
    "    pin_memory=True,\n",
    ")"
   ],
   "metadata": {
    "collapsed": false,
    "ExecuteTime": {
     "end_time": "2024-03-15T14:50:48.633269328Z",
     "start_time": "2024-03-15T14:50:48.629705552Z"
    }
   },
   "id": "679eb23293e5a538",
   "execution_count": 10
  },
  {
   "cell_type": "markdown",
   "id": "f9fb577b",
   "metadata": {},
   "source": [
    "# Retrain model"
   ]
  },
  {
   "cell_type": "code",
   "execution_count": 11,
   "id": "7fac981a",
   "metadata": {
    "ExecuteTime": {
     "end_time": "2024-03-15T14:50:48.857375556Z",
     "start_time": "2024-03-15T14:50:48.632397996Z"
    }
   },
   "outputs": [],
   "source": [
    "# Download a pre-trained M3GNet\n",
    "m3gnet_nnp       = matgl.load_model(model_load_path)\n",
    "model_pretrained = m3gnet_nnp.model\n",
    "\n",
    "# Stress and site-wise are added to training loss\n",
    "# Stresses are being computed (calc_stress=True)\n",
    "lit_module_finetune = PotentialLightningModule(model=model_pretrained,\n",
    "                                               stress_weight=stress_weight,\n",
    "                                               loss='mse_loss',\n",
    "                                               lr=lr)"
   ]
  },
  {
   "cell_type": "code",
   "execution_count": 12,
   "id": "2a3ffedd",
   "metadata": {
    "scrolled": true,
    "ExecuteTime": {
     "end_time": "2024-03-15T15:30:46.379686161Z",
     "start_time": "2024-03-15T14:50:48.860109158Z"
    }
   },
   "outputs": [
    {
     "name": "stderr",
     "output_type": "stream",
     "text": [
      "GPU available: False, used: False\n",
      "TPU available: False, using: 0 TPU cores\n",
      "IPU available: False, using: 0 IPUs\n",
      "HPU available: False, using: 0 HPUs\n",
      "\n",
      "  | Name  | Type              | Params\n",
      "--------------------------------------------\n",
      "0 | mae   | MeanAbsoluteError | 0     \n",
      "1 | rmse  | MeanSquaredError  | 0     \n",
      "2 | model | Potential         | 288 K \n",
      "--------------------------------------------\n",
      "288 K     Trainable params\n",
      "0         Non-trainable params\n",
      "288 K     Total params\n",
      "1.153     Total estimated model params size (MB)\n"
     ]
    },
    {
     "data": {
      "text/plain": "Sanity Checking: |          | 0/? [00:00<?, ?it/s]",
      "application/vnd.jupyter.widget-view+json": {
       "version_major": 2,
       "version_minor": 0,
       "model_id": "0f98cf00905e4085b2306e8a8e8fb5b0"
      }
     },
     "metadata": {},
     "output_type": "display_data"
    },
    {
     "data": {
      "text/plain": "Training: |          | 0/? [00:00<?, ?it/s]",
      "application/vnd.jupyter.widget-view+json": {
       "version_major": 2,
       "version_minor": 0,
       "model_id": "8bdf64af2d6549a5b29b5faff726373b"
      }
     },
     "metadata": {},
     "output_type": "display_data"
    },
    {
     "data": {
      "text/plain": "Validation: |          | 0/? [00:00<?, ?it/s]",
      "application/vnd.jupyter.widget-view+json": {
       "version_major": 2,
       "version_minor": 0,
       "model_id": "6677c9684c7a4e3d821aeba28fcfcc31"
      }
     },
     "metadata": {},
     "output_type": "display_data"
    },
    {
     "data": {
      "text/plain": "Validation: |          | 0/? [00:00<?, ?it/s]",
      "application/vnd.jupyter.widget-view+json": {
       "version_major": 2,
       "version_minor": 0,
       "model_id": "0c8f3360477c4d10b402a1e014a58acb"
      }
     },
     "metadata": {},
     "output_type": "display_data"
    },
    {
     "data": {
      "text/plain": "Validation: |          | 0/? [00:00<?, ?it/s]",
      "application/vnd.jupyter.widget-view+json": {
       "version_major": 2,
       "version_minor": 0,
       "model_id": "92a48026891f4bfba1f678e9018aa43e"
      }
     },
     "metadata": {},
     "output_type": "display_data"
    },
    {
     "data": {
      "text/plain": "Validation: |          | 0/? [00:00<?, ?it/s]",
      "application/vnd.jupyter.widget-view+json": {
       "version_major": 2,
       "version_minor": 0,
       "model_id": "70e5cd111e1548489281f26b20655907"
      }
     },
     "metadata": {},
     "output_type": "display_data"
    },
    {
     "data": {
      "text/plain": "Validation: |          | 0/? [00:00<?, ?it/s]",
      "application/vnd.jupyter.widget-view+json": {
       "version_major": 2,
       "version_minor": 0,
       "model_id": "b8123c90c959457c87b48095327b8d37"
      }
     },
     "metadata": {},
     "output_type": "display_data"
    },
    {
     "data": {
      "text/plain": "Validation: |          | 0/? [00:00<?, ?it/s]",
      "application/vnd.jupyter.widget-view+json": {
       "version_major": 2,
       "version_minor": 0,
       "model_id": "c5a829f978d2496299e645e18864edb7"
      }
     },
     "metadata": {},
     "output_type": "display_data"
    },
    {
     "data": {
      "text/plain": "Validation: |          | 0/? [00:00<?, ?it/s]",
      "application/vnd.jupyter.widget-view+json": {
       "version_major": 2,
       "version_minor": 0,
       "model_id": "22a92d744e534e7aba33bb47e2f82043"
      }
     },
     "metadata": {},
     "output_type": "display_data"
    },
    {
     "data": {
      "text/plain": "Validation: |          | 0/? [00:00<?, ?it/s]",
      "application/vnd.jupyter.widget-view+json": {
       "version_major": 2,
       "version_minor": 0,
       "model_id": "0106bbc3fc39447fa39f963b0471659a"
      }
     },
     "metadata": {},
     "output_type": "display_data"
    },
    {
     "data": {
      "text/plain": "Validation: |          | 0/? [00:00<?, ?it/s]",
      "application/vnd.jupyter.widget-view+json": {
       "version_major": 2,
       "version_minor": 0,
       "model_id": "c7293d1d462c499db63f5feda5a965d2"
      }
     },
     "metadata": {},
     "output_type": "display_data"
    },
    {
     "data": {
      "text/plain": "Validation: |          | 0/? [00:00<?, ?it/s]",
      "application/vnd.jupyter.widget-view+json": {
       "version_major": 2,
       "version_minor": 0,
       "model_id": "40a385c6b78c4d6489a13f9f799dabb1"
      }
     },
     "metadata": {},
     "output_type": "display_data"
    },
    {
     "data": {
      "text/plain": "Validation: |          | 0/? [00:00<?, ?it/s]",
      "application/vnd.jupyter.widget-view+json": {
       "version_major": 2,
       "version_minor": 0,
       "model_id": "7236a832d5e448c9b573b1fe040fdcb2"
      }
     },
     "metadata": {},
     "output_type": "display_data"
    },
    {
     "data": {
      "text/plain": "Validation: |          | 0/? [00:00<?, ?it/s]",
      "application/vnd.jupyter.widget-view+json": {
       "version_major": 2,
       "version_minor": 0,
       "model_id": "f778138c7cca41908e9885a984b99187"
      }
     },
     "metadata": {},
     "output_type": "display_data"
    },
    {
     "data": {
      "text/plain": "Validation: |          | 0/? [00:00<?, ?it/s]",
      "application/vnd.jupyter.widget-view+json": {
       "version_major": 2,
       "version_minor": 0,
       "model_id": "cd037e6d046a4d419409f6bd89d3ec66"
      }
     },
     "metadata": {},
     "output_type": "display_data"
    },
    {
     "data": {
      "text/plain": "Validation: |          | 0/? [00:00<?, ?it/s]",
      "application/vnd.jupyter.widget-view+json": {
       "version_major": 2,
       "version_minor": 0,
       "model_id": "958bc94ddaef4cd0afb5ff4a675bc3cf"
      }
     },
     "metadata": {},
     "output_type": "display_data"
    },
    {
     "data": {
      "text/plain": "Validation: |          | 0/? [00:00<?, ?it/s]",
      "application/vnd.jupyter.widget-view+json": {
       "version_major": 2,
       "version_minor": 0,
       "model_id": "80f1380132334154b05a682640341515"
      }
     },
     "metadata": {},
     "output_type": "display_data"
    },
    {
     "data": {
      "text/plain": "Validation: |          | 0/? [00:00<?, ?it/s]",
      "application/vnd.jupyter.widget-view+json": {
       "version_major": 2,
       "version_minor": 0,
       "model_id": "066c5e33c281478d9e3c6694beb794a9"
      }
     },
     "metadata": {},
     "output_type": "display_data"
    },
    {
     "data": {
      "text/plain": "Validation: |          | 0/? [00:00<?, ?it/s]",
      "application/vnd.jupyter.widget-view+json": {
       "version_major": 2,
       "version_minor": 0,
       "model_id": "f9bd5d35a9cb4491b10eafe9f78efe57"
      }
     },
     "metadata": {},
     "output_type": "display_data"
    },
    {
     "data": {
      "text/plain": "Validation: |          | 0/? [00:00<?, ?it/s]",
      "application/vnd.jupyter.widget-view+json": {
       "version_major": 2,
       "version_minor": 0,
       "model_id": "f62496445f17425f984381d35237a0ae"
      }
     },
     "metadata": {},
     "output_type": "display_data"
    },
    {
     "data": {
      "text/plain": "Validation: |          | 0/? [00:00<?, ?it/s]",
      "application/vnd.jupyter.widget-view+json": {
       "version_major": 2,
       "version_minor": 0,
       "model_id": "a47fe2ba0c6c4685bf99c522c4102243"
      }
     },
     "metadata": {},
     "output_type": "display_data"
    },
    {
     "data": {
      "text/plain": "Validation: |          | 0/? [00:00<?, ?it/s]",
      "application/vnd.jupyter.widget-view+json": {
       "version_major": 2,
       "version_minor": 0,
       "model_id": "05e63463f7b1473a960c874685bf2fe1"
      }
     },
     "metadata": {},
     "output_type": "display_data"
    },
    {
     "data": {
      "text/plain": "Validation: |          | 0/? [00:00<?, ?it/s]",
      "application/vnd.jupyter.widget-view+json": {
       "version_major": 2,
       "version_minor": 0,
       "model_id": "dfa80551c4494b30ac3e9ca77c5b6be0"
      }
     },
     "metadata": {},
     "output_type": "display_data"
    },
    {
     "data": {
      "text/plain": "Validation: |          | 0/? [00:00<?, ?it/s]",
      "application/vnd.jupyter.widget-view+json": {
       "version_major": 2,
       "version_minor": 0,
       "model_id": "44b8525f81c745f7848ecbf9141882c3"
      }
     },
     "metadata": {},
     "output_type": "display_data"
    },
    {
     "data": {
      "text/plain": "Validation: |          | 0/? [00:00<?, ?it/s]",
      "application/vnd.jupyter.widget-view+json": {
       "version_major": 2,
       "version_minor": 0,
       "model_id": "303393b13f3c4281a5b93fc347af1d3b"
      }
     },
     "metadata": {},
     "output_type": "display_data"
    },
    {
     "data": {
      "text/plain": "Validation: |          | 0/? [00:00<?, ?it/s]",
      "application/vnd.jupyter.widget-view+json": {
       "version_major": 2,
       "version_minor": 0,
       "model_id": "5d61d7373f074cc390046456d6842e1c"
      }
     },
     "metadata": {},
     "output_type": "display_data"
    },
    {
     "data": {
      "text/plain": "Validation: |          | 0/? [00:00<?, ?it/s]",
      "application/vnd.jupyter.widget-view+json": {
       "version_major": 2,
       "version_minor": 0,
       "model_id": "a1b4c9aca4124b918ce139154dd69a45"
      }
     },
     "metadata": {},
     "output_type": "display_data"
    },
    {
     "data": {
      "text/plain": "Validation: |          | 0/? [00:00<?, ?it/s]",
      "application/vnd.jupyter.widget-view+json": {
       "version_major": 2,
       "version_minor": 0,
       "model_id": "70157668389e45a8996aa34ee63c8a65"
      }
     },
     "metadata": {},
     "output_type": "display_data"
    },
    {
     "data": {
      "text/plain": "Validation: |          | 0/? [00:00<?, ?it/s]",
      "application/vnd.jupyter.widget-view+json": {
       "version_major": 2,
       "version_minor": 0,
       "model_id": "28e8bb7c886549ba9c8c46afb5737bb0"
      }
     },
     "metadata": {},
     "output_type": "display_data"
    },
    {
     "data": {
      "text/plain": "Validation: |          | 0/? [00:00<?, ?it/s]",
      "application/vnd.jupyter.widget-view+json": {
       "version_major": 2,
       "version_minor": 0,
       "model_id": "171c439367454c8486d400e32aab33e9"
      }
     },
     "metadata": {},
     "output_type": "display_data"
    },
    {
     "data": {
      "text/plain": "Validation: |          | 0/? [00:00<?, ?it/s]",
      "application/vnd.jupyter.widget-view+json": {
       "version_major": 2,
       "version_minor": 0,
       "model_id": "1248c0f07c7b4ab581c03d119567d85e"
      }
     },
     "metadata": {},
     "output_type": "display_data"
    },
    {
     "data": {
      "text/plain": "Validation: |          | 0/? [00:00<?, ?it/s]",
      "application/vnd.jupyter.widget-view+json": {
       "version_major": 2,
       "version_minor": 0,
       "model_id": "6c90f8d6ac594eac8c8c05218e11554c"
      }
     },
     "metadata": {},
     "output_type": "display_data"
    },
    {
     "data": {
      "text/plain": "Validation: |          | 0/? [00:00<?, ?it/s]",
      "application/vnd.jupyter.widget-view+json": {
       "version_major": 2,
       "version_minor": 0,
       "model_id": "a8316707ceb04e04bbf0f2006edbe787"
      }
     },
     "metadata": {},
     "output_type": "display_data"
    },
    {
     "data": {
      "text/plain": "Validation: |          | 0/? [00:00<?, ?it/s]",
      "application/vnd.jupyter.widget-view+json": {
       "version_major": 2,
       "version_minor": 0,
       "model_id": "391ad59f69fd4cf196408b767d6e6989"
      }
     },
     "metadata": {},
     "output_type": "display_data"
    },
    {
     "data": {
      "text/plain": "Validation: |          | 0/? [00:00<?, ?it/s]",
      "application/vnd.jupyter.widget-view+json": {
       "version_major": 2,
       "version_minor": 0,
       "model_id": "dde2f4ffc84c49d6bf77c9a68138dac1"
      }
     },
     "metadata": {},
     "output_type": "display_data"
    },
    {
     "data": {
      "text/plain": "Validation: |          | 0/? [00:00<?, ?it/s]",
      "application/vnd.jupyter.widget-view+json": {
       "version_major": 2,
       "version_minor": 0,
       "model_id": "10fbd4868e04493386b9fdc63919d276"
      }
     },
     "metadata": {},
     "output_type": "display_data"
    },
    {
     "data": {
      "text/plain": "Validation: |          | 0/? [00:00<?, ?it/s]",
      "application/vnd.jupyter.widget-view+json": {
       "version_major": 2,
       "version_minor": 0,
       "model_id": "c326ea81116b41e6a87fd40a2fc9897d"
      }
     },
     "metadata": {},
     "output_type": "display_data"
    },
    {
     "data": {
      "text/plain": "Validation: |          | 0/? [00:00<?, ?it/s]",
      "application/vnd.jupyter.widget-view+json": {
       "version_major": 2,
       "version_minor": 0,
       "model_id": "3c1f25240856484394d396bfb57774d8"
      }
     },
     "metadata": {},
     "output_type": "display_data"
    },
    {
     "data": {
      "text/plain": "Validation: |          | 0/? [00:00<?, ?it/s]",
      "application/vnd.jupyter.widget-view+json": {
       "version_major": 2,
       "version_minor": 0,
       "model_id": "defd23c5cbf44bb88f3fa118b4010b1c"
      }
     },
     "metadata": {},
     "output_type": "display_data"
    },
    {
     "data": {
      "text/plain": "Validation: |          | 0/? [00:00<?, ?it/s]",
      "application/vnd.jupyter.widget-view+json": {
       "version_major": 2,
       "version_minor": 0,
       "model_id": "f1a9c9ba1cc84f64a7f2ac4cdcfa55c4"
      }
     },
     "metadata": {},
     "output_type": "display_data"
    },
    {
     "data": {
      "text/plain": "Validation: |          | 0/? [00:00<?, ?it/s]",
      "application/vnd.jupyter.widget-view+json": {
       "version_major": 2,
       "version_minor": 0,
       "model_id": "26cd196a666441dd953f12926a09ed47"
      }
     },
     "metadata": {},
     "output_type": "display_data"
    },
    {
     "data": {
      "text/plain": "Validation: |          | 0/? [00:00<?, ?it/s]",
      "application/vnd.jupyter.widget-view+json": {
       "version_major": 2,
       "version_minor": 0,
       "model_id": "5aad47484ad34e408bd46e3e613a8f7d"
      }
     },
     "metadata": {},
     "output_type": "display_data"
    },
    {
     "data": {
      "text/plain": "Validation: |          | 0/? [00:00<?, ?it/s]",
      "application/vnd.jupyter.widget-view+json": {
       "version_major": 2,
       "version_minor": 0,
       "model_id": "fae93740b2ee45ccb64abfef0320273b"
      }
     },
     "metadata": {},
     "output_type": "display_data"
    },
    {
     "data": {
      "text/plain": "Validation: |          | 0/? [00:00<?, ?it/s]",
      "application/vnd.jupyter.widget-view+json": {
       "version_major": 2,
       "version_minor": 0,
       "model_id": "dea716b0dead489588b103351fcdf7ab"
      }
     },
     "metadata": {},
     "output_type": "display_data"
    },
    {
     "data": {
      "text/plain": "Validation: |          | 0/? [00:00<?, ?it/s]",
      "application/vnd.jupyter.widget-view+json": {
       "version_major": 2,
       "version_minor": 0,
       "model_id": "5344a36fc7f140c4822093986db56e9e"
      }
     },
     "metadata": {},
     "output_type": "display_data"
    },
    {
     "data": {
      "text/plain": "Validation: |          | 0/? [00:00<?, ?it/s]",
      "application/vnd.jupyter.widget-view+json": {
       "version_major": 2,
       "version_minor": 0,
       "model_id": "397dc04c9dfd40b29a8d1ef7fe835dfa"
      }
     },
     "metadata": {},
     "output_type": "display_data"
    },
    {
     "data": {
      "text/plain": "Validation: |          | 0/? [00:00<?, ?it/s]",
      "application/vnd.jupyter.widget-view+json": {
       "version_major": 2,
       "version_minor": 0,
       "model_id": "e1b98129036c410b9400fc594bbe18d0"
      }
     },
     "metadata": {},
     "output_type": "display_data"
    },
    {
     "data": {
      "text/plain": "Validation: |          | 0/? [00:00<?, ?it/s]",
      "application/vnd.jupyter.widget-view+json": {
       "version_major": 2,
       "version_minor": 0,
       "model_id": "ce88a00b965f4e2eaca7fc5687d4fcb3"
      }
     },
     "metadata": {},
     "output_type": "display_data"
    },
    {
     "data": {
      "text/plain": "Validation: |          | 0/? [00:00<?, ?it/s]",
      "application/vnd.jupyter.widget-view+json": {
       "version_major": 2,
       "version_minor": 0,
       "model_id": "be871cfb76024e74bed439f95d604e56"
      }
     },
     "metadata": {},
     "output_type": "display_data"
    },
    {
     "data": {
      "text/plain": "Validation: |          | 0/? [00:00<?, ?it/s]",
      "application/vnd.jupyter.widget-view+json": {
       "version_major": 2,
       "version_minor": 0,
       "model_id": "175456990e9c420ab786ffc7775e92d1"
      }
     },
     "metadata": {},
     "output_type": "display_data"
    },
    {
     "data": {
      "text/plain": "Validation: |          | 0/? [00:00<?, ?it/s]",
      "application/vnd.jupyter.widget-view+json": {
       "version_major": 2,
       "version_minor": 0,
       "model_id": "8d66558265b44e4aa66a3f96a94b8b8e"
      }
     },
     "metadata": {},
     "output_type": "display_data"
    },
    {
     "data": {
      "text/plain": "Validation: |          | 0/? [00:00<?, ?it/s]",
      "application/vnd.jupyter.widget-view+json": {
       "version_major": 2,
       "version_minor": 0,
       "model_id": "79d99b28d9974325872fec5acba3175f"
      }
     },
     "metadata": {},
     "output_type": "display_data"
    },
    {
     "data": {
      "text/plain": "Validation: |          | 0/? [00:00<?, ?it/s]",
      "application/vnd.jupyter.widget-view+json": {
       "version_major": 2,
       "version_minor": 0,
       "model_id": "56a897b2577e42c0a6a333c2a3e10ecb"
      }
     },
     "metadata": {},
     "output_type": "display_data"
    },
    {
     "data": {
      "text/plain": "Validation: |          | 0/? [00:00<?, ?it/s]",
      "application/vnd.jupyter.widget-view+json": {
       "version_major": 2,
       "version_minor": 0,
       "model_id": "a303979bbf6242ffbc286bea1e08a70c"
      }
     },
     "metadata": {},
     "output_type": "display_data"
    },
    {
     "data": {
      "text/plain": "Validation: |          | 0/? [00:00<?, ?it/s]",
      "application/vnd.jupyter.widget-view+json": {
       "version_major": 2,
       "version_minor": 0,
       "model_id": "ea841ae6d0e44566ac7dc1593f811b21"
      }
     },
     "metadata": {},
     "output_type": "display_data"
    },
    {
     "data": {
      "text/plain": "Validation: |          | 0/? [00:00<?, ?it/s]",
      "application/vnd.jupyter.widget-view+json": {
       "version_major": 2,
       "version_minor": 0,
       "model_id": "e8b9ba642a2b4d0485fb7f9186c0ddb7"
      }
     },
     "metadata": {},
     "output_type": "display_data"
    },
    {
     "data": {
      "text/plain": "Validation: |          | 0/? [00:00<?, ?it/s]",
      "application/vnd.jupyter.widget-view+json": {
       "version_major": 2,
       "version_minor": 0,
       "model_id": "b8d1511c6fd94eb89f3a5d2d39dc0343"
      }
     },
     "metadata": {},
     "output_type": "display_data"
    },
    {
     "data": {
      "text/plain": "Validation: |          | 0/? [00:00<?, ?it/s]",
      "application/vnd.jupyter.widget-view+json": {
       "version_major": 2,
       "version_minor": 0,
       "model_id": "e650acb77905427b9332b71a10c44933"
      }
     },
     "metadata": {},
     "output_type": "display_data"
    },
    {
     "data": {
      "text/plain": "Validation: |          | 0/? [00:00<?, ?it/s]",
      "application/vnd.jupyter.widget-view+json": {
       "version_major": 2,
       "version_minor": 0,
       "model_id": "ce9a31838a054c518c19119dd83bac34"
      }
     },
     "metadata": {},
     "output_type": "display_data"
    },
    {
     "data": {
      "text/plain": "Validation: |          | 0/? [00:00<?, ?it/s]",
      "application/vnd.jupyter.widget-view+json": {
       "version_major": 2,
       "version_minor": 0,
       "model_id": "cad73e0b9251455d9feb2f860fc697af"
      }
     },
     "metadata": {},
     "output_type": "display_data"
    },
    {
     "data": {
      "text/plain": "Validation: |          | 0/? [00:00<?, ?it/s]",
      "application/vnd.jupyter.widget-view+json": {
       "version_major": 2,
       "version_minor": 0,
       "model_id": "cec32b286ca647efbca649c6f6efb74f"
      }
     },
     "metadata": {},
     "output_type": "display_data"
    },
    {
     "data": {
      "text/plain": "Validation: |          | 0/? [00:00<?, ?it/s]",
      "application/vnd.jupyter.widget-view+json": {
       "version_major": 2,
       "version_minor": 0,
       "model_id": "64e5646900894bb2923cb4c41242d306"
      }
     },
     "metadata": {},
     "output_type": "display_data"
    },
    {
     "data": {
      "text/plain": "Validation: |          | 0/? [00:00<?, ?it/s]",
      "application/vnd.jupyter.widget-view+json": {
       "version_major": 2,
       "version_minor": 0,
       "model_id": "5ff2c92bbb6a46e59732e93a62b65a5e"
      }
     },
     "metadata": {},
     "output_type": "display_data"
    },
    {
     "data": {
      "text/plain": "Validation: |          | 0/? [00:00<?, ?it/s]",
      "application/vnd.jupyter.widget-view+json": {
       "version_major": 2,
       "version_minor": 0,
       "model_id": "6db942a1034b427097e5dcb50f10ad54"
      }
     },
     "metadata": {},
     "output_type": "display_data"
    },
    {
     "data": {
      "text/plain": "Validation: |          | 0/? [00:00<?, ?it/s]",
      "application/vnd.jupyter.widget-view+json": {
       "version_major": 2,
       "version_minor": 0,
       "model_id": "b0101ff5db984a27b8a08c19aa11b958"
      }
     },
     "metadata": {},
     "output_type": "display_data"
    },
    {
     "data": {
      "text/plain": "Validation: |          | 0/? [00:00<?, ?it/s]",
      "application/vnd.jupyter.widget-view+json": {
       "version_major": 2,
       "version_minor": 0,
       "model_id": "dcae5c487823423091b8ad2232b6ee8c"
      }
     },
     "metadata": {},
     "output_type": "display_data"
    },
    {
     "data": {
      "text/plain": "Validation: |          | 0/? [00:00<?, ?it/s]",
      "application/vnd.jupyter.widget-view+json": {
       "version_major": 2,
       "version_minor": 0,
       "model_id": "8deb6a7a57a545739eec2d5ce68d49a9"
      }
     },
     "metadata": {},
     "output_type": "display_data"
    },
    {
     "data": {
      "text/plain": "Validation: |          | 0/? [00:00<?, ?it/s]",
      "application/vnd.jupyter.widget-view+json": {
       "version_major": 2,
       "version_minor": 0,
       "model_id": "c9e59dcf96c84deaab98753fbc6ec559"
      }
     },
     "metadata": {},
     "output_type": "display_data"
    },
    {
     "data": {
      "text/plain": "Validation: |          | 0/? [00:00<?, ?it/s]",
      "application/vnd.jupyter.widget-view+json": {
       "version_major": 2,
       "version_minor": 0,
       "model_id": "77d60762674346588f6239423d513f06"
      }
     },
     "metadata": {},
     "output_type": "display_data"
    },
    {
     "data": {
      "text/plain": "Validation: |          | 0/? [00:00<?, ?it/s]",
      "application/vnd.jupyter.widget-view+json": {
       "version_major": 2,
       "version_minor": 0,
       "model_id": "c6945ee7b5454369b905164dd6f2d12d"
      }
     },
     "metadata": {},
     "output_type": "display_data"
    },
    {
     "data": {
      "text/plain": "Validation: |          | 0/? [00:00<?, ?it/s]",
      "application/vnd.jupyter.widget-view+json": {
       "version_major": 2,
       "version_minor": 0,
       "model_id": "9f725132d89e4003bc7b94c7448d941f"
      }
     },
     "metadata": {},
     "output_type": "display_data"
    },
    {
     "data": {
      "text/plain": "Validation: |          | 0/? [00:00<?, ?it/s]",
      "application/vnd.jupyter.widget-view+json": {
       "version_major": 2,
       "version_minor": 0,
       "model_id": "f2cf37e63fdc469d864c8a808889d7e7"
      }
     },
     "metadata": {},
     "output_type": "display_data"
    },
    {
     "data": {
      "text/plain": "Validation: |          | 0/? [00:00<?, ?it/s]",
      "application/vnd.jupyter.widget-view+json": {
       "version_major": 2,
       "version_minor": 0,
       "model_id": "59eeb74efa0a439cbb2cf982537fd83e"
      }
     },
     "metadata": {},
     "output_type": "display_data"
    },
    {
     "data": {
      "text/plain": "Validation: |          | 0/? [00:00<?, ?it/s]",
      "application/vnd.jupyter.widget-view+json": {
       "version_major": 2,
       "version_minor": 0,
       "model_id": "0b73227192ef404397672dc0f67fe824"
      }
     },
     "metadata": {},
     "output_type": "display_data"
    },
    {
     "data": {
      "text/plain": "Validation: |          | 0/? [00:00<?, ?it/s]",
      "application/vnd.jupyter.widget-view+json": {
       "version_major": 2,
       "version_minor": 0,
       "model_id": "dff5217e8ee641ef90fb178ef8283b92"
      }
     },
     "metadata": {},
     "output_type": "display_data"
    },
    {
     "data": {
      "text/plain": "Validation: |          | 0/? [00:00<?, ?it/s]",
      "application/vnd.jupyter.widget-view+json": {
       "version_major": 2,
       "version_minor": 0,
       "model_id": "71fe78b061f54d4bbbb14e7660cb4e50"
      }
     },
     "metadata": {},
     "output_type": "display_data"
    },
    {
     "data": {
      "text/plain": "Validation: |          | 0/? [00:00<?, ?it/s]",
      "application/vnd.jupyter.widget-view+json": {
       "version_major": 2,
       "version_minor": 0,
       "model_id": "78284f80c7be4ff3bd4cb9e0f45a3fac"
      }
     },
     "metadata": {},
     "output_type": "display_data"
    },
    {
     "data": {
      "text/plain": "Validation: |          | 0/? [00:00<?, ?it/s]",
      "application/vnd.jupyter.widget-view+json": {
       "version_major": 2,
       "version_minor": 0,
       "model_id": "940beb881eac485da7933743d5b85964"
      }
     },
     "metadata": {},
     "output_type": "display_data"
    },
    {
     "data": {
      "text/plain": "Validation: |          | 0/? [00:00<?, ?it/s]",
      "application/vnd.jupyter.widget-view+json": {
       "version_major": 2,
       "version_minor": 0,
       "model_id": "5b194de7556045a18722a886c6a4ec40"
      }
     },
     "metadata": {},
     "output_type": "display_data"
    },
    {
     "data": {
      "text/plain": "Validation: |          | 0/? [00:00<?, ?it/s]",
      "application/vnd.jupyter.widget-view+json": {
       "version_major": 2,
       "version_minor": 0,
       "model_id": "03e14d7ed43c46a6a5a25077260a6ec8"
      }
     },
     "metadata": {},
     "output_type": "display_data"
    },
    {
     "data": {
      "text/plain": "Validation: |          | 0/? [00:00<?, ?it/s]",
      "application/vnd.jupyter.widget-view+json": {
       "version_major": 2,
       "version_minor": 0,
       "model_id": "56d2242a4d95473bb27a96f034bebe18"
      }
     },
     "metadata": {},
     "output_type": "display_data"
    },
    {
     "data": {
      "text/plain": "Validation: |          | 0/? [00:00<?, ?it/s]",
      "application/vnd.jupyter.widget-view+json": {
       "version_major": 2,
       "version_minor": 0,
       "model_id": "84837910b2de4bdd9c984ae851788a46"
      }
     },
     "metadata": {},
     "output_type": "display_data"
    },
    {
     "data": {
      "text/plain": "Validation: |          | 0/? [00:00<?, ?it/s]",
      "application/vnd.jupyter.widget-view+json": {
       "version_major": 2,
       "version_minor": 0,
       "model_id": "5544e1fb6d5a44c7ad94008e05a92f24"
      }
     },
     "metadata": {},
     "output_type": "display_data"
    },
    {
     "data": {
      "text/plain": "Validation: |          | 0/? [00:00<?, ?it/s]",
      "application/vnd.jupyter.widget-view+json": {
       "version_major": 2,
       "version_minor": 0,
       "model_id": "7978927ff6e94e53bd4a9b33c826b4c1"
      }
     },
     "metadata": {},
     "output_type": "display_data"
    },
    {
     "data": {
      "text/plain": "Validation: |          | 0/? [00:00<?, ?it/s]",
      "application/vnd.jupyter.widget-view+json": {
       "version_major": 2,
       "version_minor": 0,
       "model_id": "213799fb0b944404bac3967c68092edc"
      }
     },
     "metadata": {},
     "output_type": "display_data"
    },
    {
     "data": {
      "text/plain": "Validation: |          | 0/? [00:00<?, ?it/s]",
      "application/vnd.jupyter.widget-view+json": {
       "version_major": 2,
       "version_minor": 0,
       "model_id": "a77a0a8f39314a0abb1a5997c882425e"
      }
     },
     "metadata": {},
     "output_type": "display_data"
    },
    {
     "data": {
      "text/plain": "Validation: |          | 0/? [00:00<?, ?it/s]",
      "application/vnd.jupyter.widget-view+json": {
       "version_major": 2,
       "version_minor": 0,
       "model_id": "e757caeedb634af1980bde1a912a125a"
      }
     },
     "metadata": {},
     "output_type": "display_data"
    },
    {
     "data": {
      "text/plain": "Validation: |          | 0/? [00:00<?, ?it/s]",
      "application/vnd.jupyter.widget-view+json": {
       "version_major": 2,
       "version_minor": 0,
       "model_id": "02a2810997a8475bbe8f8db57e31d38e"
      }
     },
     "metadata": {},
     "output_type": "display_data"
    },
    {
     "data": {
      "text/plain": "Validation: |          | 0/? [00:00<?, ?it/s]",
      "application/vnd.jupyter.widget-view+json": {
       "version_major": 2,
       "version_minor": 0,
       "model_id": "2d27960eaa214058b4aa09e3a930cca2"
      }
     },
     "metadata": {},
     "output_type": "display_data"
    },
    {
     "data": {
      "text/plain": "Validation: |          | 0/? [00:00<?, ?it/s]",
      "application/vnd.jupyter.widget-view+json": {
       "version_major": 2,
       "version_minor": 0,
       "model_id": "218a001a328743b181d6ed1e89825f74"
      }
     },
     "metadata": {},
     "output_type": "display_data"
    },
    {
     "data": {
      "text/plain": "Validation: |          | 0/? [00:00<?, ?it/s]",
      "application/vnd.jupyter.widget-view+json": {
       "version_major": 2,
       "version_minor": 0,
       "model_id": "faa4ceec86ab4902918128a097990de0"
      }
     },
     "metadata": {},
     "output_type": "display_data"
    },
    {
     "data": {
      "text/plain": "Validation: |          | 0/? [00:00<?, ?it/s]",
      "application/vnd.jupyter.widget-view+json": {
       "version_major": 2,
       "version_minor": 0,
       "model_id": "2425dac91d024a709af73c6add1aed3f"
      }
     },
     "metadata": {},
     "output_type": "display_data"
    },
    {
     "data": {
      "text/plain": "Validation: |          | 0/? [00:00<?, ?it/s]",
      "application/vnd.jupyter.widget-view+json": {
       "version_major": 2,
       "version_minor": 0,
       "model_id": "bde161f776284594adbe66351c0b2c69"
      }
     },
     "metadata": {},
     "output_type": "display_data"
    },
    {
     "data": {
      "text/plain": "Validation: |          | 0/? [00:00<?, ?it/s]",
      "application/vnd.jupyter.widget-view+json": {
       "version_major": 2,
       "version_minor": 0,
       "model_id": "3d071825ce414560a684f15946a9cccd"
      }
     },
     "metadata": {},
     "output_type": "display_data"
    },
    {
     "data": {
      "text/plain": "Validation: |          | 0/? [00:00<?, ?it/s]",
      "application/vnd.jupyter.widget-view+json": {
       "version_major": 2,
       "version_minor": 0,
       "model_id": "5b1095a17ac54064af6492103bd1fcc3"
      }
     },
     "metadata": {},
     "output_type": "display_data"
    },
    {
     "data": {
      "text/plain": "Validation: |          | 0/? [00:00<?, ?it/s]",
      "application/vnd.jupyter.widget-view+json": {
       "version_major": 2,
       "version_minor": 0,
       "model_id": "d8c4c336d5e7415d8b8db6b93122bee4"
      }
     },
     "metadata": {},
     "output_type": "display_data"
    },
    {
     "data": {
      "text/plain": "Validation: |          | 0/? [00:00<?, ?it/s]",
      "application/vnd.jupyter.widget-view+json": {
       "version_major": 2,
       "version_minor": 0,
       "model_id": "b2027eacdaa248a1b82379daecc0c039"
      }
     },
     "metadata": {},
     "output_type": "display_data"
    },
    {
     "data": {
      "text/plain": "Validation: |          | 0/? [00:00<?, ?it/s]",
      "application/vnd.jupyter.widget-view+json": {
       "version_major": 2,
       "version_minor": 0,
       "model_id": "f6bc160716a94de59aeafa0917151c2a"
      }
     },
     "metadata": {},
     "output_type": "display_data"
    },
    {
     "data": {
      "text/plain": "Validation: |          | 0/? [00:00<?, ?it/s]",
      "application/vnd.jupyter.widget-view+json": {
       "version_major": 2,
       "version_minor": 0,
       "model_id": "e94436125eb2463f9df22ea00fd94ce7"
      }
     },
     "metadata": {},
     "output_type": "display_data"
    },
    {
     "data": {
      "text/plain": "Validation: |          | 0/? [00:00<?, ?it/s]",
      "application/vnd.jupyter.widget-view+json": {
       "version_major": 2,
       "version_minor": 0,
       "model_id": "2bdb01b3b850434392eaef6abff6a394"
      }
     },
     "metadata": {},
     "output_type": "display_data"
    },
    {
     "data": {
      "text/plain": "Validation: |          | 0/? [00:00<?, ?it/s]",
      "application/vnd.jupyter.widget-view+json": {
       "version_major": 2,
       "version_minor": 0,
       "model_id": "640100ddbfbe4687bf1d0a15ec7bf1b6"
      }
     },
     "metadata": {},
     "output_type": "display_data"
    },
    {
     "data": {
      "text/plain": "Validation: |          | 0/? [00:00<?, ?it/s]",
      "application/vnd.jupyter.widget-view+json": {
       "version_major": 2,
       "version_minor": 0,
       "model_id": "e3c6b4e60d3c4d439525d537836db903"
      }
     },
     "metadata": {},
     "output_type": "display_data"
    },
    {
     "name": "stderr",
     "output_type": "stream",
     "text": [
      "`Trainer.fit` stopped: `max_epochs=100` reached.\n"
     ]
    }
   ],
   "source": [
    "# If you wish to disable GPU or MPS (M1 mac) training, use the accelerator='cpu' kwarg.\n",
    "# accelerator='auto' selects the appropriate Accelerator\n",
    "max_epochs = 100\n",
    "logger  = CSVLogger('logs',\n",
    "                    name='M3GNet_finetuning')\n",
    "\n",
    "trainer = pl.Trainer(max_epochs=max_epochs,\n",
    "                     accelerator='auto',\n",
    "                     logger=logger,\n",
    "                     inference_mode=False)\n",
    "\n",
    "trainer.fit(model=lit_module_finetune,\n",
    "            train_dataloaders=train_loader,\n",
    "            val_dataloaders=val_loader\n",
    "           )\n",
    "\n",
    "# Save trained model\n",
    "model_pretrained.save(model_save_path)"
   ]
  },
  {
   "cell_type": "markdown",
   "id": "080f1dbc",
   "metadata": {},
   "source": [
    "# Analyze metrics"
   ]
  },
  {
   "cell_type": "code",
   "outputs": [
    {
     "data": {
      "text/plain": "Testing: |          | 0/? [00:00<?, ?it/s]",
      "application/vnd.jupyter.widget-view+json": {
       "version_major": 2,
       "version_minor": 0,
       "model_id": "7c00546f030d42bfa75e47704c5ddce4"
      }
     },
     "metadata": {},
     "output_type": "display_data"
    },
    {
     "name": "stdout",
     "output_type": "stream",
     "text": [
      "────────────────────────────────────────────────────────────────────────────────────────────────────────────────────────\n",
      "       Test metric             DataLoader 0\n",
      "────────────────────────────────────────────────────────────────────────────────────────────────────────────────────────\n",
      "     test_Energy_MAE        0.10218613594770432\n",
      "    test_Energy_RMSE        0.10229505598545074\n",
      "     test_Force_MAE         0.21951214969158173\n",
      "     test_Force_RMSE        0.33297672867774963\n",
      "   test_Site_Wise_MAE               0.0\n",
      "   test_Site_Wise_RMSE              0.0\n",
      "     test_Stress_MAE                0.0\n",
      "    test_Stress_RMSE                0.0\n",
      "     test_Total_Loss        0.12133777886629105\n",
      "────────────────────────────────────────────────────────────────────────────────────────────────────────────────────────\n"
     ]
    },
    {
     "data": {
      "text/plain": "[{'test_Total_Loss': 0.12133777886629105,\n  'test_Energy_MAE': 0.10218613594770432,\n  'test_Force_MAE': 0.21951214969158173,\n  'test_Stress_MAE': 0.0,\n  'test_Site_Wise_MAE': 0.0,\n  'test_Energy_RMSE': 0.10229505598545074,\n  'test_Force_RMSE': 0.33297672867774963,\n  'test_Stress_RMSE': 0.0,\n  'test_Site_Wise_RMSE': 0.0}]"
     },
     "execution_count": 13,
     "metadata": {},
     "output_type": "execute_result"
    }
   ],
   "source": [
    "# E_MAE = meV/atom, F_MAE = eV/A, S_MAE = GPa\n",
    "trainer.test(model=lit_module_finetune,\n",
    "            dataloaders=test_loader\n",
    "           )"
   ],
   "metadata": {
    "collapsed": false,
    "ExecuteTime": {
     "end_time": "2024-03-15T15:30:54.397760131Z",
     "start_time": "2024-03-15T15:30:46.382820859Z"
    }
   },
   "id": "31ad496a336e9f89",
   "execution_count": 13
  },
  {
   "cell_type": "code",
   "execution_count": 22,
   "id": "1b3f2256",
   "metadata": {
    "scrolled": true,
    "ExecuteTime": {
     "end_time": "2024-03-15T14:36:35.504913481Z",
     "start_time": "2024-03-15T14:36:27.970669451Z"
    }
   },
   "outputs": [
    {
     "data": {
      "text/plain": "Testing: |          | 0/? [00:00<?, ?it/s]",
      "application/vnd.jupyter.widget-view+json": {
       "version_major": 2,
       "version_minor": 0,
       "model_id": "e503e446f3b94ea6b1c5105477836847"
      }
     },
     "metadata": {},
     "output_type": "display_data"
    },
    {
     "name": "stdout",
     "output_type": "stream",
     "text": [
      "────────────────────────────────────────────────────────────────────────────────────────────────────────────────────────\n",
      "       Test metric             DataLoader 0\n",
      "────────────────────────────────────────────────────────────────────────────────────────────────────────────────────────\n",
      "     test_Energy_MAE        0.1976138800382614\n",
      "    test_Energy_RMSE         0.197726771235466\n",
      "     test_Force_MAE         0.2671034038066864\n",
      "     test_Force_RMSE        0.43352213501930237\n",
      "   test_Site_Wise_MAE               0.0\n",
      "   test_Site_Wise_RMSE              0.0\n",
      "     test_Stress_MAE                0.0\n",
      "    test_Stress_RMSE                0.0\n",
      "     test_Total_Loss        0.22703731060028076\n",
      "────────────────────────────────────────────────────────────────────────────────────────────────────────────────────────\n"
     ]
    },
    {
     "data": {
      "text/plain": "[{'test_Total_Loss': 0.22703731060028076,\n  'test_Energy_MAE': 0.1976138800382614,\n  'test_Force_MAE': 0.2671034038066864,\n  'test_Stress_MAE': 0.0,\n  'test_Site_Wise_MAE': 0.0,\n  'test_Energy_RMSE': 0.197726771235466,\n  'test_Force_RMSE': 0.43352213501930237,\n  'test_Stress_RMSE': 0.0,\n  'test_Site_Wise_RMSE': 0.0}]"
     },
     "execution_count": 22,
     "metadata": {},
     "output_type": "execute_result"
    }
   ],
   "source": [
    "# E_MAE = meV/atom, F_MAE = eV/A, S_MAE = GPa\n",
    "trainer.test(model=lit_module_finetune,\n",
    "            dataloaders=test_loader"
   ]
  },
  {
   "cell_type": "code",
   "execution_count": null,
   "id": "9a914e28",
   "metadata": {
    "scrolled": true
   },
   "outputs": [],
   "source": [
    "# Read the CSV file\n",
    "path_to_csv = f'logs/M3GNet_finetuning/version_{current_version}'\n",
    "df = pd.read_csv(f'{path_to_csv}/metrics.csv')\n",
    "df.head()"
   ]
  },
  {
   "cell_type": "code",
   "execution_count": null,
   "id": "a3134249",
   "metadata": {
    "scrolled": true,
    "ExecuteTime": {
     "end_time": "2024-02-26T15:43:41.352064167Z",
     "start_time": "2024-02-26T15:43:41.351990960Z"
    }
   },
   "outputs": [],
   "source": [
    "# NaN to zero\n",
    "df = df.fillna(0)\n",
    "\n",
    "# Calculate the sum of every two consecutive rows\n",
    "df = df.groupby(df.index // 2).sum()\n",
    "df.head()"
   ]
  },
  {
   "cell_type": "code",
   "execution_count": null,
   "id": "643704df",
   "metadata": {
    "ExecuteTime": {
     "start_time": "2024-02-20T11:11:01.699191223Z"
    }
   },
   "outputs": [],
   "source": [
    "# Get the list of loss column names\n",
    "loss_columns = [col for col in df.columns if col.startswith('val_') or col.startswith('train_')]\n",
    "\n",
    "# Create a figure and axis\n",
    "fig = plt.subplots(figsize=(10, 6))\n",
    "\n",
    "# Plot each loss\n",
    "for loss_column in loss_columns:\n",
    "    plt.plot(df.index, np.log(df[loss_column]), label=loss_column)\n",
    "\n",
    "plt.xlabel('Epoch')\n",
    "plt.ylabel('Loss')\n",
    "plt.legend(loc=(1.01, 0))\n",
    "plt.savefig(f'm3gnet_loss.eps', dpi=dpi, bbox_inches='tight')\n",
    "plt.show()"
   ]
  },
  {
   "cell_type": "code",
   "execution_count": 45,
   "id": "9d85d562",
   "metadata": {
    "ExecuteTime": {
     "end_time": "2024-02-20T09:19:59.496787113Z",
     "start_time": "2024-02-20T09:19:59.491695716Z"
    }
   },
   "outputs": [
    {
     "data": {
      "text/plain": "(0.0135606033727526, 0.0874462649226188, 0.0)"
     },
     "execution_count": 45,
     "metadata": {},
     "output_type": "execute_result"
    }
   ],
   "source": [
    "df['val_Energy_MAE'].iloc[-2], df['val_Force_MAE'].iloc[-2], df['val_Stress_MAE'].iloc[-2]"
   ]
  },
  {
   "cell_type": "code",
   "execution_count": 46,
   "id": "bc01f877",
   "metadata": {
    "ExecuteTime": {
     "end_time": "2024-02-20T09:20:01.235372917Z",
     "start_time": "2024-02-20T09:20:01.228383929Z"
    }
   },
   "outputs": [
    {
     "data": {
      "text/plain": "(0.0, 0.0, 0.0)"
     },
     "execution_count": 46,
     "metadata": {},
     "output_type": "execute_result"
    }
   ],
   "source": [
    "df['val_Energy_MAE'].iloc[-1], df['val_Force_MAE'].iloc[-1], df['val_Stress_MAE'].iloc[-1]"
   ]
  },
  {
   "cell_type": "markdown",
   "id": "d8e76beb",
   "metadata": {},
   "source": [
    "# Cleanup the notebook"
   ]
  },
  {
   "cell_type": "code",
   "execution_count": 34,
   "id": "a7147751",
   "metadata": {
    "ExecuteTime": {
     "end_time": "2024-03-15T16:21:15.820953534Z",
     "start_time": "2024-03-15T16:21:15.779650977Z"
    }
   },
   "outputs": [],
   "source": [
    "# This code just performs cleanup for this notebook from temporal files\n",
    "\n",
    "patterns = ['dgl_graph*.bin', 'dgl_line_graph*.bin', 'state_attr*.pt', 'labels*.json', '*labels.txt']\n",
    "for pattern in patterns:\n",
    "    files = glob.glob(pattern)\n",
    "    for file in files:\n",
    "        try:\n",
    "            os.remove(file)\n",
    "        except FileNotFoundError:\n",
    "            pass\n",
    "\n",
    "#shutil.rmtree('logs')\n",
    "#shutil.rmtree('trained_model')\n",
    "#shutil.rmtree('finetuned_model')"
   ]
  }
 ],
 "metadata": {
  "kernelspec": {
   "display_name": "Python 3 (ipykernel)",
   "language": "python",
   "name": "python3"
  },
  "language_info": {
   "codemirror_mode": {
    "name": "ipython",
    "version": 3
   },
   "file_extension": ".py",
   "mimetype": "text/x-python",
   "name": "python",
   "nbconvert_exporter": "python",
   "pygments_lexer": "ipython3",
   "version": "3.10.12"
  }
 },
 "nbformat": 4,
 "nbformat_minor": 5
}
