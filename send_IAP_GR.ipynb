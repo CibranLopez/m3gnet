{
 "cells": [
  {
   "cell_type": "markdown",
   "id": "45f0e422",
   "metadata": {},
   "source": [
    "# Geometrical relaxations from pretrained m3gnet model"
   ]
  },
  {
   "cell_type": "code",
   "execution_count": 1,
   "id": "c2cacba1",
   "metadata": {
    "scrolled": true
   },
   "outputs": [],
   "source": [
    "import ML_library as MLL\n",
    "import ase \n",
    "import matgl\n",
    "import warnings\n",
    "\n",
    "from ase.io                      import read, write\n",
    "from ase.io.vasp                 import write_vasp_xdatcar\n",
    "from pymatgen.io.vasp.inputs     import Poscar\n",
    "from os                          import path\n",
    "from __future__                  import annotations\n",
    "from ase.md.velocitydistribution import MaxwellBoltzmannDistribution\n",
    "from pymatgen.core               import Lattice, Structure\n",
    "from pymatgen.io.ase             import AseAtomsAdaptor\n",
    "from matgl.ext.ase               import M3GNetCalculator, MolecularDynamics, Relaxer\n",
    "from pymatgen.io.ase             import AseAtomsAdaptor\n",
    "\n",
    "# To suppress warnings for clearer output\n",
    "warnings.simplefilter('ignore')"
   ]
  },
  {
   "cell_type": "code",
   "execution_count": 2,
   "id": "82c6fa43",
   "metadata": {},
   "outputs": [],
   "source": [
    "# Define paths to pretrained model and structure to be relaxed\n",
    "\n",
    "# Materials Project pretrained model as default\n",
    "model_load_path = 'finetuned_model'\n",
    "model_load_path = 'M3GNet-MP-2021.2.8-PES' if model_load_path is None else model_load_path\n",
    "model_load_path = 'M3GNet-MP-2021.2.8-PES'\n",
    "\n",
    "path_to_POSCAR  = 'examples'"
   ]
  },
  {
   "cell_type": "markdown",
   "id": "77900701",
   "metadata": {},
   "source": [
    "# Structure Relaxation\n",
    "\n",
    "To perform structure relaxation, we use the Relaxer class."
   ]
  },
  {
   "cell_type": "code",
   "execution_count": 3,
   "id": "198a6c30",
   "metadata": {},
   "outputs": [],
   "source": [
    "# Load the structure to be relaxed\n",
    "atoms_ini = Structure.from_file(f'{path_to_POSCAR}/POSCAR')"
   ]
  },
  {
   "cell_type": "code",
   "execution_count": 4,
   "id": "240882fe",
   "metadata": {},
   "outputs": [],
   "source": [
    "# Load the default pre-trained model\n",
    "pot = matgl.load_model(model_load_path)\n",
    "relaxer = Relaxer(potential=pot)"
   ]
  },
  {
   "cell_type": "code",
   "execution_count": 5,
   "id": "b8a4d793",
   "metadata": {
    "scrolled": true
   },
   "outputs": [
    {
     "name": "stdout",
     "output_type": "stream",
     "text": [
      "      Step     Time          Energy         fmax\n",
      "*Force-consistent energies used in optimization.\n",
      "FIRE:    0 10:38:20      -60.460709*      26.5589\n",
      "FIRE:    1 10:38:20      -55.440254*      67.7939\n",
      "FIRE:    2 10:38:20      -60.466652*      26.5406\n",
      "FIRE:    3 10:38:20      -60.967625*       9.2130\n",
      "FIRE:    4 10:38:21      -60.914856*      10.6447\n",
      "FIRE:    5 10:38:21      -60.943432*       9.4187\n",
      "FIRE:    6 10:38:21      -60.987305*       7.0617\n",
      "FIRE:    7 10:38:21      -61.025494*       3.7695\n",
      "FIRE:    8 10:38:21      -61.038826*       1.5587\n",
      "FIRE:    9 10:38:21      -61.038937*       1.5364\n",
      "FIRE:   10 10:38:21      -61.039150*       1.4924\n",
      "FIRE:   11 10:38:21      -61.039455*       1.4284\n",
      "FIRE:   12 10:38:22      -61.039860*       1.3466\n",
      "FIRE:   13 10:38:22      -61.040337*       1.2502\n",
      "FIRE:   14 10:38:22      -61.040894*       1.1431\n",
      "FIRE:   15 10:38:22      -61.041504*       1.0301\n",
      "FIRE:   16 10:38:22      -61.042255*       0.9039\n",
      "FIRE:   17 10:38:22      -61.043167*       0.7702\n",
      "FIRE:   18 10:38:22      -61.044273*       0.6377\n",
      "FIRE:   19 10:38:22      -61.045624*       0.5459\n",
      "FIRE:   20 10:38:23      -61.047272*       0.5439\n",
      "FIRE:   21 10:38:23      -61.049263*       0.4839\n",
      "FIRE:   22 10:38:23      -61.051647*       0.3648\n",
      "FIRE:   23 10:38:23      -61.054436*       0.3905\n",
      "FIRE:   24 10:38:23      -61.057659*       0.4152\n",
      "FIRE:   25 10:38:23      -61.061398*       0.3811\n",
      "FIRE:   26 10:38:23      -61.065784*       0.2655\n",
      "FIRE:   27 10:38:23      -61.070942*       0.2663\n",
      "FIRE:   28 10:38:24      -61.077000*       0.3311\n",
      "FIRE:   29 10:38:24      -61.084248*       0.4877\n",
      "FIRE:   30 10:38:24      -61.093037*       0.4002\n",
      "FIRE:   31 10:38:24      -61.103600*       0.3901\n",
      "FIRE:   32 10:38:24      -61.116199*       0.3157\n",
      "FIRE:   33 10:38:24      -61.130878*       0.2636\n",
      "FIRE:   34 10:38:24      -61.147606*       0.2263\n",
      "FIRE:   35 10:38:25      -61.166344*       0.4585\n",
      "FIRE:   36 10:38:25      -61.187279*       0.3599\n",
      "FIRE:   37 10:38:25      -61.210579*       0.6280\n",
      "FIRE:   38 10:38:25      -61.235504*       0.6351\n",
      "FIRE:   39 10:38:25      -61.258339*       1.7840\n",
      "FIRE:   40 10:38:25      -61.265846*       4.3511\n",
      "FIRE:   41 10:38:25      -61.286350*       0.3933\n",
      "FIRE:   42 10:38:25      -61.270256*       4.1988\n",
      "FIRE:   43 10:38:26      -61.278118*       3.1211\n",
      "FIRE:   44 10:38:26      -61.286297*       1.2940\n",
      "FIRE:   45 10:38:26      -61.287350*       0.9368\n",
      "FIRE:   46 10:38:26      -61.287468*       0.8852\n",
      "FIRE:   47 10:38:26      -61.287678*       0.7849\n",
      "FIRE:   48 10:38:26      -61.287941*       0.6419\n",
      "FIRE:   49 10:38:26      -61.288212*       0.4653\n",
      "FIRE:   50 10:38:26      -61.288456*       0.2670\n",
      "FIRE:   51 10:38:27      -61.288639*       0.1277\n",
      "FIRE:   52 10:38:27      -61.288784*       0.2718\n",
      "FIRE:   53 10:38:27      -61.288929*       0.4169\n",
      "FIRE:   54 10:38:27      -61.289124*       0.5085\n",
      "FIRE:   55 10:38:27      -61.289436*       0.5261\n",
      "FIRE:   56 10:38:27      -61.289890*       0.4537\n",
      "FIRE:   57 10:38:27      -61.290474*       0.2860\n",
      "FIRE:   58 10:38:27      -61.291103*       0.1256\n",
      "FIRE:   59 10:38:28      -61.291752*       0.2180\n",
      "FIRE:   60 10:38:28      -61.292522*       0.3343\n",
      "FIRE:   61 10:38:28      -61.293575*       0.2823\n",
      "FIRE:   62 10:38:28      -61.294876*       0.1229\n",
      "FIRE:   63 10:38:28      -61.296276*       0.3225\n",
      "FIRE:   64 10:38:28      -61.297997*       0.3843\n",
      "FIRE:   65 10:38:28      -61.300163*       0.1172\n",
      "FIRE:   66 10:38:28      -61.302578*       0.3062\n",
      "FIRE:   67 10:38:29      -61.305595*       0.1207\n",
      "FIRE:   68 10:38:29      -61.308983*       0.3768\n",
      "FIRE:   69 10:38:29      -61.313095*       0.1069\n",
      "FIRE:   70 10:38:29      -61.317680*       0.2939\n",
      "FIRE:   71 10:38:29      -61.322845*       0.5062\n",
      "FIRE:   72 10:38:29      -61.328636*       0.5200\n",
      "FIRE:   73 10:38:29      -61.334579*       0.8533\n",
      "FIRE:   74 10:38:30      -61.338463*       1.8072\n",
      "FIRE:   75 10:38:30      -61.342247*       0.0815\n"
     ]
    }
   ],
   "source": [
    "# Relax the structure\n",
    "relax_atoms_ini = relaxer.relax(atoms_ini, verbose=True)\n",
    "atoms = relax_atoms_ini['final_structure']"
   ]
  },
  {
   "cell_type": "code",
   "execution_count": 6,
   "id": "bef2b944",
   "metadata": {},
   "outputs": [],
   "source": [
    "# Save the relaxed structure as a POSCAR file\n",
    "poscar_relaxed = Poscar(atoms)\n",
    "poscar_relaxed.write_file(f'{path_to_POSCAR}/CONTCAR')"
   ]
  },
  {
   "cell_type": "code",
   "execution_count": 7,
   "id": "fc473739",
   "metadata": {
    "scrolled": true
   },
   "outputs": [
    {
     "name": "stdout",
     "output_type": "stream",
     "text": [
      "      Step     Time          Energy         fmax\n",
      "*Force-consistent energies used in optimization.\n",
      "FIRE:    0 10:38:30      -60.460709*      26.5589\n",
      "FIRE:    1 10:38:30      -55.440250*      67.7939\n",
      "FIRE:    2 10:38:30      -60.466656*      26.5406\n",
      "FIRE:    3 10:38:30      -60.967625*       9.2131\n",
      "FIRE:    4 10:38:30      -60.914856*      10.6447\n",
      "FIRE:    5 10:38:31      -60.943428*       9.4187\n",
      "FIRE:    6 10:38:31      -60.987305*       7.0617\n",
      "FIRE:    7 10:38:31      -61.025494*       3.7695\n",
      "FIRE:    8 10:38:31      -61.038826*       1.5587\n",
      "FIRE:    9 10:38:31      -61.038937*       1.5364\n",
      "FIRE:   10 10:38:31      -61.039150*       1.4925\n",
      "FIRE:   11 10:38:31      -61.039459*       1.4284\n",
      "FIRE:   12 10:38:32      -61.039860*       1.3466\n",
      "FIRE:   13 10:38:32      -61.040337*       1.2502\n",
      "FIRE:   14 10:38:32      -61.040894*       1.1431\n",
      "FIRE:   15 10:38:32      -61.041508*       1.0301\n",
      "FIRE:   16 10:38:32      -61.042255*       0.9039\n",
      "FIRE:   17 10:38:32      -61.043167*       0.7701\n",
      "FIRE:   18 10:38:32      -61.044273*       0.6377\n",
      "FIRE:   19 10:38:32      -61.045624*       0.5459\n",
      "FIRE:   20 10:38:33      -61.047272*       0.5439\n",
      "FIRE:   21 10:38:33      -61.049263*       0.4839\n",
      "FIRE:   22 10:38:33      -61.051647*       0.3648\n",
      "FIRE:   23 10:38:33      -61.054436*       0.3904\n",
      "FIRE:   24 10:38:33      -61.057659*       0.4153\n",
      "FIRE:   25 10:38:33      -61.061398*       0.3812\n",
      "FIRE:   26 10:38:33      -61.065784*       0.2655\n",
      "FIRE:   27 10:38:33      -61.070942*       0.2663\n",
      "FIRE:   28 10:38:34      -61.077000*       0.3311\n",
      "FIRE:   29 10:38:34      -61.084248*       0.4877\n",
      "FIRE:   30 10:38:34      -61.093037*       0.4002\n",
      "FIRE:   31 10:38:34      -61.103600*       0.3901\n",
      "FIRE:   32 10:38:34      -61.116196*       0.3158\n",
      "FIRE:   33 10:38:34      -61.130878*       0.2636\n",
      "FIRE:   34 10:38:34      -61.147606*       0.2263\n",
      "FIRE:   35 10:38:35      -61.166340*       0.4585\n",
      "FIRE:   36 10:38:35      -61.187279*       0.3599\n",
      "FIRE:   37 10:38:35      -61.210583*       0.6281\n",
      "FIRE:   38 10:38:35      -61.235504*       0.6354\n",
      "FIRE:   39 10:38:35      -61.258331*       1.7845\n",
      "FIRE:   40 10:38:35      -61.265835*       4.3518\n",
      "FIRE:   41 10:38:35      -61.286350*       0.3934\n",
      "FIRE:   42 10:38:35      -61.270248*       4.1995\n",
      "FIRE:   43 10:38:36      -61.278114*       3.1217\n",
      "FIRE:   44 10:38:36      -61.286293*       1.2942\n",
      "FIRE:   45 10:38:36      -61.287350*       0.9370\n",
      "FIRE:   46 10:38:36      -61.287468*       0.8853\n",
      "FIRE:   47 10:38:36      -61.287678*       0.7850\n",
      "FIRE:   48 10:38:36      -61.287941*       0.6420\n",
      "FIRE:   49 10:38:36      -61.288212*       0.4653\n",
      "FIRE:   50 10:38:36      -61.288456*       0.2670\n",
      "FIRE:   51 10:38:37      -61.288639*       0.1277\n",
      "FIRE:   52 10:38:37      -61.288780*       0.2718\n",
      "FIRE:   53 10:38:37      -61.288925*       0.4170\n",
      "FIRE:   54 10:38:37      -61.289120*       0.5085\n",
      "FIRE:   55 10:38:37      -61.289436*       0.5262\n",
      "FIRE:   56 10:38:37      -61.289890*       0.4538\n",
      "FIRE:   57 10:38:37      -61.290470*       0.2861\n",
      "FIRE:   58 10:38:38      -61.291100*       0.1256\n",
      "FIRE:   59 10:38:38      -61.291748*       0.2179\n",
      "FIRE:   60 10:38:38      -61.292522*       0.3343\n",
      "FIRE:   61 10:38:38      -61.293571*       0.2824\n",
      "FIRE:   62 10:38:38      -61.294872*       0.1229\n",
      "FIRE:   63 10:38:38      -61.296276*       0.3225\n",
      "FIRE:   64 10:38:38      -61.297997*       0.3844\n",
      "FIRE:   65 10:38:38      -61.300163*       0.1172\n",
      "FIRE:   66 10:38:39      -61.302574*       0.3062\n",
      "FIRE:   67 10:38:39      -61.305592*       0.1207\n",
      "FIRE:   68 10:38:39      -61.308983*       0.3768\n",
      "FIRE:   69 10:38:39      -61.313091*       0.1069\n",
      "FIRE:   70 10:38:39      -61.317680*       0.2941\n",
      "FIRE:   71 10:38:39      -61.322842*       0.5063\n",
      "FIRE:   72 10:38:39      -61.328632*       0.5199\n",
      "FIRE:   73 10:38:40      -61.334576*       0.8530\n",
      "FIRE:   74 10:38:40      -61.338459*       1.8065\n",
      "FIRE:   75 10:38:40      -61.342247*       0.0815\n"
     ]
    }
   ],
   "source": [
    "# Or as implemented\n",
    "poscar_relaxed = MLL.structural_relaxation(path_to_POSCAR, model_load_path)"
   ]
  },
  {
   "cell_type": "markdown",
   "id": "b4be4267",
   "metadata": {},
   "source": [
    "# Single-shot energy calculation\n",
    "\n",
    "Perform a single-shot calculation for final structure using M3GNetCalculator."
   ]
  },
  {
   "cell_type": "code",
   "execution_count": 8,
   "id": "87466c51",
   "metadata": {},
   "outputs": [
    {
     "name": "stdout",
     "output_type": "stream",
     "text": [
      "The calculated potential energy is -61.342 eV\n"
     ]
    }
   ],
   "source": [
    "# Define the M3GNet calculator\n",
    "calc = M3GNetCalculator(pot)\n",
    "\n",
    "# Load atoms adapter and adapt structure\n",
    "ase_adaptor = AseAtomsAdaptor()\n",
    "adapted_atoms = ase_adaptor.get_atoms(atoms)\n",
    "\n",
    "# Calculate potential energy\n",
    "adapted_atoms.set_calculator(calc)\n",
    "print(f'The calculated potential energy is {float(adapted_atoms.get_potential_energy()):.3f} eV/supercell')"
   ]
  },
  {
   "cell_type": "code",
   "execution_count": 13,
   "id": "6e88efa9",
   "metadata": {},
   "outputs": [
    {
     "name": "stdout",
     "output_type": "stream",
     "text": [
      "The calculated potential energy is -61.342 eV/supercell\n"
     ]
    }
   ],
   "source": [
    "# Or as implemented\n",
    "ssc_energy = MLL.single_shot_energy_calculations(f'{path_to_POSCAR}/CONTCAR', model_load_path)\n",
    "print(f'The calculated potential energy is {ssc_energy:.3f} eV/supercell')"
   ]
  },
  {
   "cell_type": "code",
   "execution_count": 10,
   "id": "c156c418",
   "metadata": {},
   "outputs": [
    {
     "name": "stdout",
     "output_type": "stream",
     "text": [
      "The calculated potential energy is -1656.253 eV\n"
     ]
    }
   ],
   "source": [
    "# Try on 3x3x3 supercell\n",
    "ssc_energy = MLL.single_shot_energy_calculations(f'{path_to_POSCAR}/333_supercell', model_load_path)\n",
    "print(f'The calculated potential energy is {ssc_energy:.3f} eV/supercell')"
   ]
  }
 ],
 "metadata": {
  "kernelspec": {
   "display_name": "Python 3 (ipykernel)",
   "language": "python",
   "name": "python3"
  },
  "language_info": {
   "codemirror_mode": {
    "name": "ipython",
    "version": 3
   },
   "file_extension": ".py",
   "mimetype": "text/x-python",
   "name": "python",
   "nbconvert_exporter": "python",
   "pygments_lexer": "ipython3",
   "version": "3.11.1"
  }
 },
 "nbformat": 4,
 "nbformat_minor": 5
}
