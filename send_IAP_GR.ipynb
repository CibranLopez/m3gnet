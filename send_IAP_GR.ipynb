{
 "cells": [
  {
   "cell_type": "markdown",
   "id": "45f0e422",
   "metadata": {},
   "source": [
    "# Geometrical relaxations from pretrained m3gnet model"
   ]
  },
  {
   "cell_type": "code",
   "execution_count": 1,
   "id": "c2cacba1",
   "metadata": {
    "scrolled": true
   },
   "outputs": [],
   "source": [
    "import ML_library as MLL\n",
    "import ase \n",
    "import matgl\n",
    "import warnings\n",
    "\n",
    "from ase.io                      import read, write\n",
    "from ase.io.vasp                 import write_vasp_xdatcar\n",
    "from pymatgen.io.vasp.inputs     import Poscar\n",
    "from os                          import path\n",
    "from __future__                  import annotations\n",
    "from ase.md.velocitydistribution import MaxwellBoltzmannDistribution\n",
    "from pymatgen.core               import Lattice, Structure\n",
    "from pymatgen.io.ase             import AseAtomsAdaptor\n",
    "from matgl.ext.ase               import M3GNetCalculator, MolecularDynamics, Relaxer\n",
    "from pymatgen.io.ase             import AseAtomsAdaptor\n",
    "\n",
    "# To suppress warnings for clearer output\n",
    "warnings.simplefilter('ignore')"
   ]
  },
  {
   "cell_type": "code",
   "execution_count": 2,
   "id": "82c6fa43",
   "metadata": {},
   "outputs": [],
   "source": [
    "# Define paths to pretrained model and structure to be relaxed\n",
    "\n",
    "# Materials Project pretrained model as default\n",
    "model_load_path = 'finetuned_model'\n",
    "model_load_path = 'M3GNet-MP-2021.2.8-PES' if model_load_path is None else model_load_path\n",
    "model_load_path = 'M3GNet-MP-2021.2.8-PES'\n",
    "\n",
    "path_to_POSCAR  = 'examples'"
   ]
  },
  {
   "cell_type": "markdown",
   "id": "77900701",
   "metadata": {},
   "source": [
    "# Structure Relaxation\n",
    "\n",
    "To perform structure relaxation, we use the Relaxer class."
   ]
  },
  {
   "cell_type": "code",
   "execution_count": 3,
   "id": "198a6c30",
   "metadata": {},
   "outputs": [],
   "source": [
    "# Load the structure to be relaxed\n",
    "atoms_ini = Structure.from_file(f'{path_to_POSCAR}/POSCAR')"
   ]
  },
  {
   "cell_type": "code",
   "execution_count": 4,
   "id": "240882fe",
   "metadata": {},
   "outputs": [],
   "source": [
    "# Clear caché of previous model\n",
    "#matgl.clear_cache()\n",
    "\n",
    "# Load the default pre-trained model\n",
    "pot = matgl.load_model(model_load_path)\n",
    "relaxer = Relaxer(potential=pot)"
   ]
  },
  {
   "cell_type": "code",
   "execution_count": 5,
   "id": "b8a4d793",
   "metadata": {
    "scrolled": true
   },
   "outputs": [
    {
     "name": "stdout",
     "output_type": "stream",
     "text": [
      "      Step     Time          Energy         fmax\n",
      "*Force-consistent energies used in optimization.\n",
      "FIRE:    0 23:34:04      -60.460709*      26.5589\n",
      "FIRE:    1 23:34:04      -55.440254*      67.7939\n",
      "FIRE:    2 23:34:04      -60.466652*      26.5406\n",
      "FIRE:    3 23:34:04      -60.967625*       9.2130\n",
      "FIRE:    4 23:34:04      -60.914852*      10.6447\n",
      "FIRE:    5 23:34:05      -60.943428*       9.4187\n",
      "FIRE:    6 23:34:05      -60.987305*       7.0617\n",
      "FIRE:    7 23:34:05      -61.025490*       3.7695\n",
      "FIRE:    8 23:34:06      -61.038826*       1.5587\n",
      "FIRE:    9 23:34:06      -61.038937*       1.5364\n",
      "FIRE:   10 23:34:07      -61.039150*       1.4924\n",
      "FIRE:   11 23:34:08      -61.039459*       1.4284\n",
      "FIRE:   12 23:34:08      -61.039860*       1.3466\n",
      "FIRE:   13 23:34:09      -61.040340*       1.2502\n",
      "FIRE:   14 23:34:10      -61.040894*       1.1432\n",
      "FIRE:   15 23:34:10      -61.041504*       1.0301\n",
      "FIRE:   16 23:34:11      -61.042255*       0.9039\n",
      "FIRE:   17 23:34:11      -61.043167*       0.7701\n",
      "FIRE:   18 23:34:12      -61.044273*       0.6377\n",
      "FIRE:   19 23:34:12      -61.045624*       0.5459\n",
      "FIRE:   20 23:34:13      -61.047272*       0.5439\n",
      "FIRE:   21 23:34:13      -61.049263*       0.4839\n",
      "FIRE:   22 23:34:14      -61.051647*       0.3648\n",
      "FIRE:   23 23:34:14      -61.054436*       0.3904\n",
      "FIRE:   24 23:34:15      -61.057659*       0.4153\n",
      "FIRE:   25 23:34:15      -61.061398*       0.3812\n",
      "FIRE:   26 23:34:16      -61.065788*       0.2655\n",
      "FIRE:   27 23:34:17      -61.070942*       0.2663\n",
      "FIRE:   28 23:34:18      -61.076996*       0.3312\n",
      "FIRE:   29 23:34:18      -61.084244*       0.4877\n",
      "FIRE:   30 23:34:19      -61.093037*       0.4001\n",
      "FIRE:   31 23:34:19      -61.103596*       0.3900\n",
      "FIRE:   32 23:34:20      -61.116199*       0.3157\n",
      "FIRE:   33 23:34:20      -61.130878*       0.2637\n",
      "FIRE:   34 23:34:20      -61.147610*       0.2263\n",
      "FIRE:   35 23:34:20      -61.166344*       0.4584\n",
      "FIRE:   36 23:34:21      -61.187279*       0.3599\n",
      "FIRE:   37 23:34:21      -61.210583*       0.6283\n",
      "FIRE:   38 23:34:22      -61.235504*       0.6358\n",
      "FIRE:   39 23:34:22      -61.258331*       1.7851\n",
      "FIRE:   40 23:34:22      -61.265831*       4.3524\n",
      "FIRE:   41 23:34:22      -61.286346*       0.3935\n",
      "FIRE:   42 23:34:23      -61.270237*       4.2003\n",
      "FIRE:   43 23:34:23      -61.278107*       3.1222\n",
      "FIRE:   44 23:34:23      -61.286293*       1.2943\n",
      "FIRE:   45 23:34:23      -61.287350*       0.9372\n",
      "FIRE:   46 23:34:24      -61.287464*       0.8854\n",
      "FIRE:   47 23:34:24      -61.287674*       0.7852\n",
      "FIRE:   48 23:34:24      -61.287937*       0.6421\n",
      "FIRE:   49 23:34:25      -61.288212*       0.4653\n",
      "FIRE:   50 23:34:25      -61.288452*       0.2670\n",
      "FIRE:   51 23:34:25      -61.288639*       0.1277\n",
      "FIRE:   52 23:34:25      -61.288776*       0.2718\n",
      "FIRE:   53 23:34:25      -61.288925*       0.4171\n",
      "FIRE:   54 23:34:26      -61.289120*       0.5087\n",
      "FIRE:   55 23:34:26      -61.289436*       0.5263\n",
      "FIRE:   56 23:34:26      -61.289890*       0.4539\n",
      "FIRE:   57 23:34:26      -61.290470*       0.2861\n",
      "FIRE:   58 23:34:26      -61.291100*       0.1256\n",
      "FIRE:   59 23:34:26      -61.291748*       0.2180\n",
      "FIRE:   60 23:34:26      -61.292522*       0.3344\n",
      "FIRE:   61 23:34:27      -61.293575*       0.2824\n",
      "FIRE:   62 23:34:27      -61.294872*       0.1229\n",
      "FIRE:   63 23:34:27      -61.296276*       0.3226\n",
      "FIRE:   64 23:34:27      -61.297997*       0.3845\n",
      "FIRE:   65 23:34:27      -61.300163*       0.1172\n",
      "FIRE:   66 23:34:27      -61.302574*       0.3064\n",
      "FIRE:   67 23:34:27      -61.305592*       0.1208\n",
      "FIRE:   68 23:34:28      -61.308979*       0.3769\n",
      "FIRE:   69 23:34:28      -61.313091*       0.1069\n",
      "FIRE:   70 23:34:28      -61.317680*       0.2943\n",
      "FIRE:   71 23:34:28      -61.322845*       0.5063\n",
      "FIRE:   72 23:34:28      -61.328632*       0.5197\n",
      "FIRE:   73 23:34:28      -61.334572*       0.8528\n",
      "FIRE:   74 23:34:28      -61.338459*       1.8064\n",
      "FIRE:   75 23:34:29      -61.342247*       0.0815\n"
     ]
    }
   ],
   "source": [
    "# Relax the structure\n",
    "relax_atoms_ini = relaxer.relax(atoms_ini, verbose=True)\n",
    "atoms = relax_atoms_ini['final_structure']"
   ]
  },
  {
   "cell_type": "code",
   "execution_count": 6,
   "id": "bef2b944",
   "metadata": {},
   "outputs": [],
   "source": [
    "# Save the relaxed structure as a POSCAR file\n",
    "poscar_relaxed = Poscar(atoms)\n",
    "poscar_relaxed.write_file(f'{path_to_POSCAR}/CONTCAR')"
   ]
  },
  {
   "cell_type": "code",
   "execution_count": 7,
   "id": "fc473739",
   "metadata": {
    "scrolled": true
   },
   "outputs": [
    {
     "name": "stdout",
     "output_type": "stream",
     "text": [
      "      Step     Time          Energy         fmax\n",
      "*Force-consistent energies used in optimization.\n",
      "FIRE:    0 23:34:29      -60.460709*      26.5589\n",
      "FIRE:    1 23:34:29      -55.440250*      67.7939\n",
      "FIRE:    2 23:34:29      -60.466656*      26.5406\n",
      "FIRE:    3 23:34:29      -60.967625*       9.2131\n",
      "FIRE:    4 23:34:29      -60.914856*      10.6447\n",
      "FIRE:    5 23:34:29      -60.943428*       9.4187\n",
      "FIRE:    6 23:34:30      -60.987305*       7.0617\n",
      "FIRE:    7 23:34:30      -61.025494*       3.7695\n",
      "FIRE:    8 23:34:30      -61.038830*       1.5587\n",
      "FIRE:    9 23:34:30      -61.038937*       1.5364\n",
      "FIRE:   10 23:34:30      -61.039150*       1.4925\n",
      "FIRE:   11 23:34:30      -61.039459*       1.4284\n",
      "FIRE:   12 23:34:30      -61.039860*       1.3466\n",
      "FIRE:   13 23:34:31      -61.040337*       1.2502\n",
      "FIRE:   14 23:34:31      -61.040890*       1.1431\n",
      "FIRE:   15 23:34:31      -61.041504*       1.0301\n",
      "FIRE:   16 23:34:31      -61.042255*       0.9039\n",
      "FIRE:   17 23:34:31      -61.043167*       0.7701\n",
      "FIRE:   18 23:34:31      -61.044273*       0.6377\n",
      "FIRE:   19 23:34:31      -61.045624*       0.5459\n",
      "FIRE:   20 23:34:31      -61.047272*       0.5439\n",
      "FIRE:   21 23:34:32      -61.049267*       0.4839\n",
      "FIRE:   22 23:34:32      -61.051647*       0.3648\n",
      "FIRE:   23 23:34:32      -61.054432*       0.3904\n",
      "FIRE:   24 23:34:32      -61.057659*       0.4153\n",
      "FIRE:   25 23:34:32      -61.061398*       0.3812\n",
      "FIRE:   26 23:34:32      -61.065788*       0.2655\n",
      "FIRE:   27 23:34:32      -61.070942*       0.2663\n",
      "FIRE:   28 23:34:32      -61.076996*       0.3312\n",
      "FIRE:   29 23:34:33      -61.084244*       0.4877\n",
      "FIRE:   30 23:34:33      -61.093037*       0.4001\n",
      "FIRE:   31 23:34:33      -61.103596*       0.3901\n",
      "FIRE:   32 23:34:33      -61.116196*       0.3157\n",
      "FIRE:   33 23:34:33      -61.130878*       0.2636\n",
      "FIRE:   34 23:34:33      -61.147610*       0.2263\n",
      "FIRE:   35 23:34:33      -61.166344*       0.4584\n",
      "FIRE:   36 23:34:33      -61.187279*       0.3599\n",
      "FIRE:   37 23:34:34      -61.210579*       0.6282\n",
      "FIRE:   38 23:34:34      -61.235504*       0.6355\n",
      "FIRE:   39 23:34:34      -61.258331*       1.7846\n",
      "FIRE:   40 23:34:34      -61.265835*       4.3517\n",
      "FIRE:   41 23:34:34      -61.286350*       0.3934\n",
      "FIRE:   42 23:34:35      -61.270248*       4.1995\n",
      "FIRE:   43 23:34:35      -61.278114*       3.1217\n",
      "FIRE:   44 23:34:35      -61.286293*       1.2942\n",
      "FIRE:   45 23:34:35      -61.287350*       0.9370\n",
      "FIRE:   46 23:34:35      -61.287464*       0.8853\n",
      "FIRE:   47 23:34:35      -61.287678*       0.7850\n",
      "FIRE:   48 23:34:35      -61.287941*       0.6420\n",
      "FIRE:   49 23:34:36      -61.288212*       0.4653\n",
      "FIRE:   50 23:34:36      -61.288452*       0.2670\n",
      "FIRE:   51 23:34:36      -61.288639*       0.1277\n",
      "FIRE:   52 23:34:36      -61.288780*       0.2718\n",
      "FIRE:   53 23:34:36      -61.288925*       0.4170\n",
      "FIRE:   54 23:34:36      -61.289124*       0.5086\n",
      "FIRE:   55 23:34:37      -61.289436*       0.5262\n",
      "FIRE:   56 23:34:37      -61.289890*       0.4538\n",
      "FIRE:   57 23:34:37      -61.290470*       0.2860\n",
      "FIRE:   58 23:34:37      -61.291100*       0.1256\n",
      "FIRE:   59 23:34:37      -61.291748*       0.2179\n",
      "FIRE:   60 23:34:37      -61.292522*       0.3343\n",
      "FIRE:   61 23:34:37      -61.293575*       0.2823\n",
      "FIRE:   62 23:34:38      -61.294872*       0.1229\n",
      "FIRE:   63 23:34:38      -61.296272*       0.3225\n",
      "FIRE:   64 23:34:38      -61.297997*       0.3844\n",
      "FIRE:   65 23:34:38      -61.300163*       0.1172\n",
      "FIRE:   66 23:34:38      -61.302574*       0.3062\n",
      "FIRE:   67 23:34:38      -61.305592*       0.1207\n",
      "FIRE:   68 23:34:39      -61.308983*       0.3768\n",
      "FIRE:   69 23:34:39      -61.313095*       0.1069\n",
      "FIRE:   70 23:34:39      -61.317680*       0.2940\n",
      "FIRE:   71 23:34:39      -61.322845*       0.5063\n",
      "FIRE:   72 23:34:40      -61.328632*       0.5201\n",
      "FIRE:   73 23:34:40      -61.334576*       0.8533\n",
      "FIRE:   74 23:34:40      -61.338459*       1.8069\n",
      "FIRE:   75 23:34:40      -61.342247*       0.0815\n"
     ]
    }
   ],
   "source": [
    "# Or as implemented\n",
    "poscar_relaxed = MLL.structural_relaxation(path_to_POSCAR, model_load_path)"
   ]
  },
  {
   "cell_type": "markdown",
   "id": "b4be4267",
   "metadata": {},
   "source": [
    "# Single-shot energy calculation\n",
    "\n",
    "Perform a single-shot calculation for final structure using M3GNetCalculator."
   ]
  },
  {
   "cell_type": "code",
   "execution_count": 8,
   "id": "87466c51",
   "metadata": {},
   "outputs": [
    {
     "name": "stdout",
     "output_type": "stream",
     "text": [
      "The calculated potential energy is -61.342 eV/supercell\n"
     ]
    }
   ],
   "source": [
    "# Define the M3GNet calculator\n",
    "calc = M3GNetCalculator(pot)\n",
    "\n",
    "# Load atoms adapter and adapt structure\n",
    "ase_adaptor = AseAtomsAdaptor()\n",
    "adapted_atoms = ase_adaptor.get_atoms(atoms)\n",
    "\n",
    "# Calculate potential energy\n",
    "adapted_atoms.set_calculator(calc)\n",
    "print(f'The calculated potential energy is {float(adapted_atoms.get_potential_energy()):.3f} eV/supercell')"
   ]
  },
  {
   "cell_type": "code",
   "execution_count": 9,
   "id": "6e88efa9",
   "metadata": {},
   "outputs": [
    {
     "name": "stdout",
     "output_type": "stream",
     "text": [
      "The calculated potential energy is -61.342 eV/supercell\n"
     ]
    }
   ],
   "source": [
    "# Or as implemented\n",
    "ssc_energy = MLL.single_shot_energy_calculations(f'{path_to_POSCAR}/CONTCAR', model_load_path)\n",
    "print(f'The calculated potential energy is {ssc_energy:.3f} eV/supercell')"
   ]
  },
  {
   "cell_type": "code",
   "execution_count": 10,
   "id": "c156c418",
   "metadata": {},
   "outputs": [
    {
     "name": "stdout",
     "output_type": "stream",
     "text": [
      "The calculated potential energy is -1656.253 eV/supercell\n"
     ]
    }
   ],
   "source": [
    "# Try on 3x3x3 supercell\n",
    "ssc_energy = MLL.single_shot_energy_calculations(f'{path_to_POSCAR}/333_supercell/POSCAR', model_load_path)\n",
    "print(f'The calculated potential energy is {ssc_energy:.3f} eV/supercell')"
   ]
  }
 ],
 "metadata": {
  "kernelspec": {
   "display_name": "Python 3 (ipykernel)",
   "language": "python",
   "name": "python3"
  },
  "language_info": {
   "codemirror_mode": {
    "name": "ipython",
    "version": 3
   },
   "file_extension": ".py",
   "mimetype": "text/x-python",
   "name": "python",
   "nbconvert_exporter": "python",
   "pygments_lexer": "ipython3",
   "version": "3.11.1"
  }
 },
 "nbformat": 4,
 "nbformat_minor": 5
}
