{
 "cells": [
  {
   "cell_type": "markdown",
   "id": "45f0e422",
   "metadata": {},
   "source": [
    "# Geometrical relaxations from pretrained m3gnet model"
   ]
  },
  {
   "cell_type": "code",
   "execution_count": null,
   "id": "c2cacba1",
   "metadata": {},
   "outputs": [],
   "source": [
    "import ase \n",
    "import matgl\n",
    "import warnings\n",
    "\n",
    "from ase.io                      import read, write\n",
    "from ase.io.vasp                 import write_vasp_xdatcar\n",
    "from pymatgen.io.vasp.inputs     import Poscar\n",
    "from os                          import path\n",
    "from __future__                  import annotations\n",
    "from ase.md.velocitydistribution import MaxwellBoltzmannDistribution\n",
    "from pymatgen.core               import Lattice, Structure\n",
    "from pymatgen.io.ase             import AseAtomsAdaptor\n",
    "from matgl.ext.ase               import M3GNetCalculator, MolecularDynamics, Relaxer\n",
    "from pymatgen.io.ase             import AseAtomsAdaptor\n",
    "\n",
    "# To suppress warnings for clearer output\n",
    "warnings.simplefilter('ignore')"
   ]
  },
  {
   "cell_type": "code",
   "execution_count": null,
   "id": "82c6fa43",
   "metadata": {},
   "outputs": [],
   "source": [
    "# Define paths to pretrained model and structure to be relaxed\n",
    "\n",
    "# Materials Project pretrained model as default\n",
    "model_load_path = 'finetuned_model'\n",
    "model_load_path = 'M3GNet-MP-2021.2.8-PES' if model_load_path is None else model_load_path\n",
    "\n",
    "path_to_POSCAR  = f'{path_to_dataset}/BiSI_rel_nSOC_3/as_2_I_on_S_5'"
   ]
  },
  {
   "cell_type": "code",
   "execution_count": null,
   "id": "198a6c30",
   "metadata": {},
   "outputs": [],
   "source": [
    "# Load the structure to be relaxed\n",
    "atoms_ini = Structure.from_file(f'{path_to_POSCAR}/POSCAR')"
   ]
  },
  {
   "cell_type": "markdown",
   "id": "77900701",
   "metadata": {},
   "source": [
    "# Structure Relaxation\n",
    "\n",
    "To perform structure relaxation, we use the Relaxer class. Here, we demonstrate the relaxation of a simple CsCl structure."
   ]
  },
  {
   "cell_type": "code",
   "execution_count": null,
   "id": "240882fe",
   "metadata": {},
   "outputs": [],
   "source": [
    "# Load the default pre-trained model\n",
    "pot = matgl.load_model(model_load_path)\n",
    "relaxer = Relaxer(potential=pot)"
   ]
  },
  {
   "cell_type": "code",
   "execution_count": null,
   "id": "b8a4d793",
   "metadata": {
    "scrolled": true
   },
   "outputs": [],
   "source": [
    "# Relax the structure\n",
    "relax_atoms_ini = relaxer.relax(atoms_ini, verbose=True)\n",
    "atoms = relax_atoms_ini['final_structure']"
   ]
  },
  {
   "cell_type": "code",
   "execution_count": null,
   "id": "bef2b944",
   "metadata": {},
   "outputs": [],
   "source": [
    "# Save the relaxed structure as a POSCAR file\n",
    "poscar_relaxed = Poscar(atoms)\n",
    "poscar_relaxed.write_file(path_to_POSCAR)"
   ]
  },
  {
   "cell_type": "markdown",
   "id": "b4be4267",
   "metadata": {},
   "source": [
    "# Single point energy calculation\n",
    "\n",
    "Perform a single-point calculation for final structure using M3GNetCalculator."
   ]
  },
  {
   "cell_type": "code",
   "execution_count": null,
   "id": "87466c51",
   "metadata": {},
   "outputs": [],
   "source": [
    "# Define the M3GNet calculator\n",
    "calc = M3GNetCalculator(pot)\n",
    "\n",
    "# Load atoms adapter and adapt structure\n",
    "ase_adaptor = AseAtomsAdaptor()\n",
    "atoms = ase_adaptor.get_atoms(test_dataset.iloc[:, 0].structure)\n",
    "\n",
    "# Calculate potential energy\n",
    "atoms.set_calculator(calc)\n",
    "print(f'The calculated potential energy is {float(atoms.get_potential_energy()):.3f} eV')"
   ]
  }
 ],
 "metadata": {
  "kernelspec": {
   "display_name": "Python 3 (ipykernel)",
   "language": "python",
   "name": "python3"
  },
  "language_info": {
   "codemirror_mode": {
    "name": "ipython",
    "version": 3
   },
   "file_extension": ".py",
   "mimetype": "text/x-python",
   "name": "python",
   "nbconvert_exporter": "python",
   "pygments_lexer": "ipython3",
   "version": "3.11.1"
  }
 },
 "nbformat": 4,
 "nbformat_minor": 5
}
