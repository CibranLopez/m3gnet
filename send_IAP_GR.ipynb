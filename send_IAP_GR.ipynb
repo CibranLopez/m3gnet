{
 "cells": [
  {
   "cell_type": "markdown",
   "id": "45f0e422",
   "metadata": {},
   "source": [
    "# Geometrical relaxations from pretrained m3gnet model"
   ]
  },
  {
   "cell_type": "code",
   "execution_count": 1,
   "id": "c2cacba1",
   "metadata": {},
   "outputs": [],
   "source": [
    "import ase \n",
    "import matgl\n",
    "import warnings\n",
    "\n",
    "from ase.io                      import read, write\n",
    "from ase.io.vasp                 import write_vasp_xdatcar\n",
    "from pymatgen.io.vasp.inputs     import Poscar\n",
    "from os                          import path\n",
    "from __future__                  import annotations\n",
    "from ase.md.velocitydistribution import MaxwellBoltzmannDistribution\n",
    "from pymatgen.core               import Lattice, Structure\n",
    "from pymatgen.io.ase             import AseAtomsAdaptor\n",
    "from matgl.ext.ase               import M3GNetCalculator, MolecularDynamics, Relaxer\n",
    "\n",
    "# To suppress warnings for clearer output\n",
    "warnings.simplefilter('ignore')"
   ]
  },
  {
   "cell_type": "code",
   "execution_count": 2,
   "id": "82c6fa43",
   "metadata": {},
   "outputs": [],
   "source": [
    "# Define paths to pretrained model and structure to be relaxed\n",
    "\n",
    "# Materials Project pretrained model as default\n",
    "model_load_path = 'finetuned_model'\n",
    "model_load_path = 'M3GNet-MP-2021.2.8-PES' if model_load_path is None else model_load_path\n",
    "\n",
    "path_to_POSCAR  = f'{path_to_dataset}/BiSI_rel_nSOC_3/as_2_I_on_S_5'"
   ]
  },
  {
   "cell_type": "code",
   "execution_count": 3,
   "id": "7630a1a2",
   "metadata": {},
   "outputs": [
    {
     "ename": "NameError",
     "evalue": "name 'path_to_dataset' is not defined",
     "output_type": "error",
     "traceback": [
      "\u001b[0;31m---------------------------------------------------------------------------\u001b[0m",
      "\u001b[0;31mNameError\u001b[0m                                 Traceback (most recent call last)",
      "Cell \u001b[0;32mIn[3], line 2\u001b[0m\n\u001b[1;32m      1\u001b[0m \u001b[38;5;66;03m# Load the structure\u001b[39;00m\n\u001b[0;32m----> 2\u001b[0m path_to_folder \u001b[38;5;241m=\u001b[39m \u001b[38;5;124mf\u001b[39m\u001b[38;5;124m'\u001b[39m\u001b[38;5;132;01m{\u001b[39;00m\u001b[43mpath_to_dataset\u001b[49m\u001b[38;5;132;01m}\u001b[39;00m\u001b[38;5;124m/BiSI_rel_nSOC_3/as_2_I_on_S_5\u001b[39m\u001b[38;5;124m'\u001b[39m\n\u001b[1;32m      3\u001b[0m atoms_ini \u001b[38;5;241m=\u001b[39m Structure\u001b[38;5;241m.\u001b[39mfrom_file(\u001b[38;5;124mf\u001b[39m\u001b[38;5;124m'\u001b[39m\u001b[38;5;132;01m{\u001b[39;00mpath_to_folder\u001b[38;5;132;01m}\u001b[39;00m\u001b[38;5;124m/POSCAR\u001b[39m\u001b[38;5;124m'\u001b[39m)\n",
      "\u001b[0;31mNameError\u001b[0m: name 'path_to_dataset' is not defined"
     ]
    }
   ],
   "source": [
    "# Load the structure to be relaxed\n",
    "atoms_ini = Structure.from_file(f'{path_to_POSCAR}/POSCAR')"
   ]
  },
  {
   "cell_type": "markdown",
   "id": "77900701",
   "metadata": {},
   "source": [
    "# Structure Relaxation\n",
    "\n",
    "To perform structure relaxation, we use the Relaxer class. Here, we demonstrate the relaxation of a simple CsCl structure."
   ]
  },
  {
   "cell_type": "code",
   "execution_count": null,
   "id": "240882fe",
   "metadata": {},
   "outputs": [],
   "source": [
    "# Load the default pre-trained model\n",
    "pot = matgl.load_model(model_load_path)\n",
    "relaxer = Relaxer(potential=pot)"
   ]
  },
  {
   "cell_type": "code",
   "execution_count": null,
   "id": "b8a4d793",
   "metadata": {
    "scrolled": true
   },
   "outputs": [],
   "source": [
    "# Relax the structure\n",
    "relax_atoms_ini = relaxer.relax(atoms_ini, verbose=True)\n",
    "atoms = relax_atoms_ini['final_structure']"
   ]
  },
  {
   "cell_type": "code",
   "execution_count": null,
   "id": "bef2b944",
   "metadata": {},
   "outputs": [],
   "source": [
    "# Save the relaxed structure as a POSCAR file\n",
    "poscar_relaxed = Poscar(atoms)\n",
    "poscar_relaxed.write_file(path_to_POSCAR)"
   ]
  },
  {
   "cell_type": "markdown",
   "id": "b4be4267",
   "metadata": {},
   "source": [
    "# Single point energy calculation\n",
    "\n",
    "Perform a single-point calculation for final structure using M3GNetCalculator."
   ]
  },
  {
   "cell_type": "code",
   "execution_count": null,
   "id": "87466c51",
   "metadata": {},
   "outputs": [],
   "source": [
    "# define the M3GNet calculator\n",
    "calc = M3GNetCalculator(pot)\n",
    "# set up the calculator for atoms object\n",
    "atoms.set_calculator(calc)\n",
    "print(f\"The calculated potential energy is {float(atoms.get_potential_energy()):.3f} eV.\")"
   ]
  }
 ],
 "metadata": {
  "kernelspec": {
   "display_name": "Python 3 (ipykernel)",
   "language": "python",
   "name": "python3"
  },
  "language_info": {
   "codemirror_mode": {
    "name": "ipython",
    "version": 3
   },
   "file_extension": ".py",
   "mimetype": "text/x-python",
   "name": "python",
   "nbconvert_exporter": "python",
   "pygments_lexer": "ipython3",
   "version": "3.11.1"
  }
 },
 "nbformat": 4,
 "nbformat_minor": 5
}
