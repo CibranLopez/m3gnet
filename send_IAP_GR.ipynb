{
 "cells": [
  {
   "cell_type": "markdown",
   "id": "45f0e422",
   "metadata": {},
   "source": [
    "# Geometrical relaxations from pretrained m3gnet model"
   ]
  },
  {
   "cell_type": "code",
   "execution_count": 1,
   "id": "c2cacba1",
   "metadata": {
    "scrolled": true
   },
   "outputs": [],
   "source": [
    "import ML_library as MLL\n",
    "import matgl\n",
    "import warnings\n",
    "\n",
    "from pymatgen.io.vasp.inputs import Poscar\n",
    "from __future__              import annotations\n",
    "from pymatgen.core           import Structure\n",
    "from matgl.ext.ase           import M3GNetCalculator, Relaxer\n",
    "from pymatgen.io.ase         import AseAtomsAdaptor\n",
    "\n",
    "# To suppress warnings for clearer output\n",
    "warnings.simplefilter('ignore')"
   ]
  },
  {
   "cell_type": "code",
   "execution_count": 2,
   "id": "82c6fa43",
   "metadata": {},
   "outputs": [],
   "source": [
    "# Define paths to pretrained model and structure to be relaxed\n",
    "\n",
    "# Materials Project pretrained model as default\n",
    "model_load_path = 'finetuned_model'\n",
    "model_load_path = 'M3GNet-MP-2021.2.8-PES' if model_load_path is None else model_load_path\n",
    "\n",
    "path_to_POSCAR  = 'examples'"
   ]
  },
  {
   "cell_type": "markdown",
   "id": "77900701",
   "metadata": {},
   "source": [
    "# Structure Relaxation\n",
    "\n",
    "To perform structure relaxation, we use the Relaxer class."
   ]
  },
  {
   "cell_type": "code",
   "execution_count": 3,
   "id": "198a6c30",
   "metadata": {},
   "outputs": [],
   "source": [
    "# Load the structure to be relaxed\n",
    "atoms_ini = Structure.from_file(f'{path_to_POSCAR}/POSCAR')"
   ]
  },
  {
   "cell_type": "code",
   "execution_count": 6,
   "id": "240882fe",
   "metadata": {},
   "outputs": [],
   "source": [
    "# Clear caché of previous model\n",
    "matgl.clear_cache()\n",
    "\n",
    "# Load the default pre-trained model\n",
    "#pot = matgl.load_model(path='M3GNet-MP-2021.2.8-PES')\n",
    "#pot.model.load(model_load_path)\n",
    "#relaxer = Relaxer(potential=pot)\n",
    "pot = matgl.load_model(path=model_load_path)\n",
    "#pot.model.load(model_load_path)\n",
    "relaxer = Relaxer(potential=pot)"
   ]
  },
  {
   "cell_type": "code",
   "execution_count": 7,
   "id": "b8a4d793",
   "metadata": {
    "scrolled": true
   },
   "outputs": [
    {
     "name": "stdout",
     "output_type": "stream",
     "text": [
      "      Step     Time          Energy         fmax\n",
      "*Force-consistent energies used in optimization.\n",
      "FIRE:    0 19:35:34      -60.460709*      26.5589\n",
      "FIRE:    1 19:35:34      -55.440250*      67.7939\n",
      "FIRE:    2 19:35:34      -60.466656*      26.5406\n",
      "FIRE:    3 19:35:34      -60.967625*       9.2131\n",
      "FIRE:    4 19:35:34      -60.914856*      10.6447\n",
      "FIRE:    5 19:35:34      -60.943428*       9.4187\n",
      "FIRE:    6 19:35:34      -60.987301*       7.0617\n",
      "FIRE:    7 19:35:35      -61.025494*       3.7696\n",
      "FIRE:    8 19:35:35      -61.038826*       1.5587\n",
      "FIRE:    9 19:35:35      -61.038937*       1.5364\n",
      "FIRE:   10 19:35:35      -61.039150*       1.4925\n",
      "FIRE:   11 19:35:35      -61.039459*       1.4284\n",
      "FIRE:   12 19:35:35      -61.039860*       1.3466\n",
      "FIRE:   13 19:35:35      -61.040340*       1.2502\n",
      "FIRE:   14 19:35:36      -61.040890*       1.1431\n",
      "FIRE:   15 19:35:36      -61.041504*       1.0301\n",
      "FIRE:   16 19:35:36      -61.042255*       0.9039\n",
      "FIRE:   17 19:35:36      -61.043167*       0.7701\n",
      "FIRE:   18 19:35:36      -61.044273*       0.6377\n",
      "FIRE:   19 19:35:36      -61.045624*       0.5459\n",
      "FIRE:   20 19:35:36      -61.047272*       0.5439\n",
      "FIRE:   21 19:35:36      -61.049263*       0.4839\n",
      "FIRE:   22 19:35:37      -61.051643*       0.3648\n",
      "FIRE:   23 19:35:37      -61.054436*       0.3905\n",
      "FIRE:   24 19:35:37      -61.057659*       0.4153\n",
      "FIRE:   25 19:35:37      -61.061398*       0.3811\n",
      "FIRE:   26 19:35:37      -61.065784*       0.2655\n",
      "FIRE:   27 19:35:37      -61.070942*       0.2663\n",
      "FIRE:   28 19:35:37      -61.076996*       0.3312\n",
      "FIRE:   29 19:35:37      -61.084244*       0.4877\n",
      "FIRE:   30 19:35:38      -61.093037*       0.4001\n",
      "FIRE:   31 19:35:38      -61.103596*       0.3900\n",
      "FIRE:   32 19:35:38      -61.116196*       0.3157\n",
      "FIRE:   33 19:35:38      -61.130878*       0.2637\n",
      "FIRE:   34 19:35:38      -61.147610*       0.2263\n",
      "FIRE:   35 19:35:38      -61.166348*       0.4583\n",
      "FIRE:   36 19:35:38      -61.187279*       0.3599\n",
      "FIRE:   37 19:35:38      -61.210579*       0.6283\n",
      "FIRE:   38 19:35:39      -61.235504*       0.6358\n",
      "FIRE:   39 19:35:39      -61.258331*       1.7851\n",
      "FIRE:   40 19:35:39      -61.265827*       4.3524\n",
      "FIRE:   41 19:35:39      -61.286346*       0.3935\n",
      "FIRE:   42 19:35:39      -61.270237*       4.2004\n",
      "FIRE:   43 19:35:39      -61.278111*       3.1223\n",
      "FIRE:   44 19:35:39      -61.286293*       1.2944\n",
      "FIRE:   45 19:35:39      -61.287350*       0.9372\n",
      "FIRE:   46 19:35:40      -61.287464*       0.8855\n",
      "FIRE:   47 19:35:40      -61.287674*       0.7852\n",
      "FIRE:   48 19:35:40      -61.287937*       0.6421\n",
      "FIRE:   49 19:35:40      -61.288212*       0.4653\n",
      "FIRE:   50 19:35:40      -61.288452*       0.2670\n",
      "FIRE:   51 19:35:40      -61.288639*       0.1277\n",
      "FIRE:   52 19:35:40      -61.288776*       0.2718\n",
      "FIRE:   53 19:35:41      -61.288925*       0.4171\n",
      "FIRE:   54 19:35:41      -61.289124*       0.5087\n",
      "FIRE:   55 19:35:41      -61.289436*       0.5263\n",
      "FIRE:   56 19:35:41      -61.289886*       0.4539\n",
      "FIRE:   57 19:35:41      -61.290470*       0.2861\n",
      "FIRE:   58 19:35:41      -61.291100*       0.1256\n",
      "FIRE:   59 19:35:41      -61.291748*       0.2180\n",
      "FIRE:   60 19:35:41      -61.292522*       0.3344\n",
      "FIRE:   61 19:35:42      -61.293571*       0.2825\n",
      "FIRE:   62 19:35:42      -61.294872*       0.1229\n",
      "FIRE:   63 19:35:42      -61.296276*       0.3226\n",
      "FIRE:   64 19:35:42      -61.297997*       0.3845\n",
      "FIRE:   65 19:35:42      -61.300163*       0.1172\n",
      "FIRE:   66 19:35:42      -61.302574*       0.3063\n",
      "FIRE:   67 19:35:42      -61.305592*       0.1209\n",
      "FIRE:   68 19:35:43      -61.308979*       0.3770\n",
      "FIRE:   69 19:35:43      -61.313095*       0.1069\n",
      "FIRE:   70 19:35:43      -61.317680*       0.2945\n",
      "FIRE:   71 19:35:43      -61.322842*       0.5064\n",
      "FIRE:   72 19:35:43      -61.328632*       0.5196\n",
      "FIRE:   73 19:35:43      -61.334576*       0.8524\n",
      "FIRE:   74 19:35:43      -61.338463*       1.8057\n",
      "FIRE:   75 19:35:44      -61.342247*       0.0815\n"
     ]
    }
   ],
   "source": [
    "# Relax the structure\n",
    "relax_atoms_ini = relaxer.relax(atoms_ini, verbose=True)\n",
    "atoms = relax_atoms_ini['final_structure']"
   ]
  },
  {
   "cell_type": "code",
   "execution_count": 8,
   "id": "bef2b944",
   "metadata": {},
   "outputs": [],
   "source": [
    "# Save the relaxed structure as a POSCAR file\n",
    "poscar_relaxed = Poscar(atoms)\n",
    "poscar_relaxed.write_file(f'{path_to_POSCAR}/CONTCAR')"
   ]
  },
  {
   "cell_type": "code",
   "execution_count": null,
   "id": "f80b952e",
   "metadata": {},
   "outputs": [],
   "source": [
    "# Or as implemented\n",
    "poscar_relaxed = MLL.structural_relaxation(path_to_POSCAR, model_load_path)"
   ]
  },
  {
   "cell_type": "markdown",
   "id": "b4be4267",
   "metadata": {},
   "source": [
    "# Single-shot energy calculation\n",
    "\n",
    "Perform a single-shot calculation for final structure using M3GNetCalculator."
   ]
  },
  {
   "cell_type": "code",
   "execution_count": null,
   "id": "87466c51",
   "metadata": {},
   "outputs": [],
   "source": [
    "# Define the M3GNet calculator\n",
    "calc = M3GNetCalculator(pot)\n",
    "\n",
    "# Load atoms adapter and adapt structure\n",
    "ase_adaptor = AseAtomsAdaptor()\n",
    "adapted_atoms = ase_adaptor.get_atoms(atoms)\n",
    "\n",
    "# Calculate potential energy\n",
    "adapted_atoms.set_calculator(calc)\n",
    "print(f'The calculated potential energy is {float(adapted_atoms.get_potential_energy()):.3f} eV/supercell')"
   ]
  },
  {
   "cell_type": "code",
   "execution_count": null,
   "id": "6e88efa9",
   "metadata": {},
   "outputs": [],
   "source": [
    "# Or as implemented\n",
    "ssc_energy = MLL.single_shot_energy_calculations(f'{path_to_POSCAR}/CONTCAR', model_load_path)\n",
    "print(f'The calculated potential energy is {ssc_energy:.3f} eV/supercell')"
   ]
  },
  {
   "cell_type": "code",
   "execution_count": null,
   "id": "c156c418",
   "metadata": {},
   "outputs": [],
   "source": [
    "# Try on 3x3x3 supercell\n",
    "ssc_energy = MLL.single_shot_energy_calculations(f'{path_to_POSCAR}/333_supercell/POSCAR', model_load_path)\n",
    "print(f'The calculated potential energy is {ssc_energy:.3f} eV/supercell')"
   ]
  }
 ],
 "metadata": {
  "kernelspec": {
   "display_name": "Python 3 (ipykernel)",
   "language": "python",
   "name": "python3"
  },
  "language_info": {
   "codemirror_mode": {
    "name": "ipython",
    "version": 3
   },
   "file_extension": ".py",
   "mimetype": "text/x-python",
   "name": "python",
   "nbconvert_exporter": "python",
   "pygments_lexer": "ipython3",
   "version": "3.11.1"
  }
 },
 "nbformat": 4,
 "nbformat_minor": 5
}
