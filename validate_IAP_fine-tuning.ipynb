{
 "cells": [
  {
   "cell_type": "markdown",
   "id": "6ae65571",
   "metadata": {},
   "source": [
    "# Ground-state energies through ionic-relaxation path from pretrained m3gnet model"
   ]
  },
  {
   "cell_type": "code",
   "execution_count": 1,
   "id": "c2cacba1",
   "metadata": {},
   "outputs": [],
   "source": [
    "import numpy             as np\n",
    "import pandas            as pd\n",
    "import pytorch_lightning as pl\n",
    "import ML_library        as MLL\n",
    "import matplotlib.pyplot as plt\n",
    "import matgl\n",
    "import os\n",
    "import shutil\n",
    "import warnings\n",
    "import glob\n",
    "import ase \n",
    "\n",
    "from os                        import path\n",
    "from __future__                import annotations\n",
    "from dgl.data.utils            import split_dataset\n",
    "from mp_api.client             import MPRester\n",
    "from pytorch_lightning.loggers import CSVLogger\n",
    "from matgl.ext.pymatgen        import Structure2Graph, get_element_list\n",
    "from matgl.graph.data          import M3GNetDataset, MGLDataLoader, collate_fn_efs\n",
    "from matgl.models              import M3GNet\n",
    "from matgl.utils.training      import PotentialLightningModule\n",
    "from ase.io                    import read, write\n",
    "from ase.io.vasp               import write_vasp_xdatcar\n",
    "from matgl.ext.ase             import M3GNetCalculator, Relaxer\n",
    "\n",
    "# To suppress warnings for clearer output\n",
    "warnings.simplefilter('ignore')"
   ]
  },
  {
   "cell_type": "code",
   "execution_count": 2,
   "id": "82c6fa43",
   "metadata": {},
   "outputs": [],
   "source": [
    "# Define paths to pretrained model and structure to be relaxed\n",
    "\n",
    "# Materials Project pretrained model as default\n",
    "model_load_path = 'finetuned_model'\n",
    "model_load_path = 'M3GNet-MP-2021.2.8-PES' if model_load_path is None else model_load_path\n",
    "\n",
    "# 0: material, 1: charge state, 2: ionic step\n",
    "depth = 1\n",
    "\n",
    "dpi = 100"
   ]
  },
  {
   "cell_type": "markdown",
   "id": "153bd08a",
   "metadata": {},
   "source": [
    "# Load simulation data"
   ]
  },
  {
   "cell_type": "code",
   "execution_count": null,
   "id": "8a049b66",
   "metadata": {},
   "outputs": [],
   "source": [
    "# Each folder names a new column, and structure, energy, forces and stresses\n",
    "# of each ionic step are loaded\n",
    "\n",
    "if path.exists(data_train_path):\n",
    "    # Load data for model training\n",
    "    m3gnet_dataset = pd.read_excel(data_train_path, index_col=0, header=[0,1,2])\n",
    "else:\n",
    "    # Path to dataset, structured as:\n",
    "    # path_to_dataset\n",
    "    #     material_i\n",
    "    #         defect_i\n",
    "    #             simulation_i (containing vasprun.xml)\n",
    "    path_to_dataset = '../../../Desktop/defects/gamma'\n",
    "\n",
    "    # Extract the data\n",
    "    source_m3gnet_dataset = MLL.extract_vaspruns_dataset(path_to_dataset)\n",
    "    #source_m3gnet_dataset.to_excel(data_train_path)\n",
    "\n",
    "source_m3gnet_dataset"
   ]
  },
  {
   "cell_type": "markdown",
   "id": "545521d8",
   "metadata": {},
   "source": [
    "# Split data into train-validation-test sets"
   ]
  },
  {
   "cell_type": "markdown",
   "id": "4fbfecc3",
   "metadata": {},
   "source": [
    "### Decide if we split in terms of mateiral, defect state or simulation directly"
   ]
  },
  {
   "cell_type": "code",
   "execution_count": null,
   "id": "67612ab4",
   "metadata": {},
   "outputs": [],
   "source": [
    "# Clone (copy) the DataFrame\n",
    "m3gnet_dataset = source_m3gnet_dataset.copy()\n",
    "\n",
    "# Remove the outer (top-level) column index up to depth-1 level\n",
    "for i in range(depth):\n",
    "    m3gnet_dataset.columns = m3gnet_dataset.columns.droplevel(0)"
   ]
  },
  {
   "cell_type": "markdown",
   "id": "1654fc50",
   "metadata": {},
   "source": [
    "### Splitting into train-validation-test sets"
   ]
  },
  {
   "cell_type": "code",
   "execution_count": null,
   "id": "e9606646",
   "metadata": {},
   "outputs": [],
   "source": [
    "# Check if data has been already split, else do it randomly\n",
    "\n",
    "path_to_test_labels       = 'test_labels.txt'\n",
    "path_to_validation_labels = 'validation_labels.txt'\n",
    "path_to_train_labels      = 'train_labels.txt'\n",
    "\n",
    "# Read labels splitting (which are strings)\n",
    "test_labels       = np.genfromtxt(path_to_test_labels,       dtype='str').tolist()\n",
    "validation_labels = np.genfromtxt(path_to_validation_labels, dtype='str').tolist()\n",
    "train_labels      = np.genfromtxt(path_to_train_labels,      dtype='str').tolist()\n",
    "\n",
    "# Use the loaded/computed labels to generate split datasets\n",
    "test_dataset       = m3gnet_dataset[test_labels]\n",
    "validation_dataset = m3gnet_dataset[validation_labels]\n",
    "train_dataset      = m3gnet_dataset[train_labels]\n",
    "\n",
    "n_test       = np.shape(test_dataset)[1]\n",
    "n_validation = np.shape(validation_dataset)[1]\n",
    "n_train      = np.shape(train_dataset)[1]\n",
    "\n",
    "print(f'Using {n_train} samples to train, {n_validation} to evaluate, and {n_test} to test')"
   ]
  },
  {
   "cell_type": "markdown",
   "id": "e55a2633",
   "metadata": {},
   "source": [
    "### Convert into graph database"
   ]
  },
  {
   "cell_type": "code",
   "execution_count": null,
   "id": "be05243a",
   "metadata": {},
   "outputs": [],
   "source": [
    "# Extract data from dataset\n",
    "labels = {\n",
    "    'energies': test_dataset.loc['energy'].values.tolist(),\n",
    "    'forces':   test_dataset.loc['force'].values.tolist(),\n",
    "    'stresses': test_dataset.loc['stress'].values.tolist(),\n",
    "}\n",
    "\n",
    "structures    = test_dataset.loc['structure'].values.tolist()\n",
    "element_types = get_element_list(structures)\n",
    "converter     = Structure2Graph(element_types=element_types, cutoff=5.0)\n",
    "\n",
    "n_electrons = test_dataset.loc['nelect'].values.tolist()\n",
    "\n",
    "# Generate dataset\n",
    "test_data = M3GNetDataset(\n",
    "    filename=f'dgl_graph-test.bin',\n",
    "    filename_line_graph=f'dgl_line_graph-test.bin',\n",
    "    filename_state_attr=f'state_attr-test.pt',\n",
    "    filename_labels=f'labels-test.json',\n",
    "    threebody_cutoff=4.0,\n",
    "    structures=structures,\n",
    "    converter=converter,\n",
    "    labels=labels,\n",
    "    graph_labels=n_electrons,\n",
    "    name=f'M3GNetDataset-test',\n",
    ")"
   ]
  },
  {
   "cell_type": "code",
   "execution_count": null,
   "id": "cf6ccc91",
   "metadata": {},
   "outputs": [],
   "source": [
    "train_loader, val_loader, test_loader = MGLDataLoader(\n",
    "    train_data=train_data,\n",
    "    val_data=val_data,\n",
    "    test_data=test_data,\n",
    "    collate_fn=collate_fn_efs,\n",
    "    batch_size=2,\n",
    "    num_workers=1,\n",
    ")\n",
    "model = M3GNet(\n",
    "    element_types=element_types,\n",
    "    is_intensive=False,\n",
    ")\n",
    "lit_module = PotentialLightningModule(model=model)"
   ]
  },
  {
   "cell_type": "code",
   "execution_count": null,
   "id": "c9a284ef",
   "metadata": {},
   "outputs": [],
   "source": []
  },
  {
   "cell_type": "code",
   "execution_count": null,
   "id": "9b76647a",
   "metadata": {},
   "outputs": [],
   "source": []
  },
  {
   "cell_type": "code",
   "execution_count": null,
   "id": "5c86b833",
   "metadata": {},
   "outputs": [],
   "source": []
  },
  {
   "cell_type": "code",
   "execution_count": null,
   "id": "d86dbfb2",
   "metadata": {},
   "outputs": [],
   "source": [
    "test_labels = np.savetxt(f'{path_to_labels}/test_labels.txt', fmt='%s')"
   ]
  },
  {
   "cell_type": "code",
   "execution_count": 3,
   "id": "7630a1a2",
   "metadata": {},
   "outputs": [
    {
     "ename": "NameError",
     "evalue": "name 'path_to_dataset' is not defined",
     "output_type": "error",
     "traceback": [
      "\u001b[0;31m---------------------------------------------------------------------------\u001b[0m",
      "\u001b[0;31mNameError\u001b[0m                                 Traceback (most recent call last)",
      "Cell \u001b[0;32mIn[3], line 2\u001b[0m\n\u001b[1;32m      1\u001b[0m \u001b[38;5;66;03m# Load the structure\u001b[39;00m\n\u001b[0;32m----> 2\u001b[0m path_to_folder \u001b[38;5;241m=\u001b[39m \u001b[38;5;124mf\u001b[39m\u001b[38;5;124m'\u001b[39m\u001b[38;5;132;01m{\u001b[39;00m\u001b[43mpath_to_dataset\u001b[49m\u001b[38;5;132;01m}\u001b[39;00m\u001b[38;5;124m/BiSI_rel_nSOC_3/as_2_I_on_S_5\u001b[39m\u001b[38;5;124m'\u001b[39m\n\u001b[1;32m      3\u001b[0m atoms_ini \u001b[38;5;241m=\u001b[39m Structure\u001b[38;5;241m.\u001b[39mfrom_file(\u001b[38;5;124mf\u001b[39m\u001b[38;5;124m'\u001b[39m\u001b[38;5;132;01m{\u001b[39;00mpath_to_folder\u001b[38;5;132;01m}\u001b[39;00m\u001b[38;5;124m/POSCAR\u001b[39m\u001b[38;5;124m'\u001b[39m)\n",
      "\u001b[0;31mNameError\u001b[0m: name 'path_to_dataset' is not defined"
     ]
    }
   ],
   "source": [
    "# Load the structure to be relaxed\n",
    "atoms_ini = Structure.from_file(f'{path_to_POSCAR}/POSCAR')"
   ]
  },
  {
   "cell_type": "markdown",
   "id": "77900701",
   "metadata": {},
   "source": [
    "# Structure Relaxation\n",
    "\n",
    "To perform structure relaxation, we use the Relaxer class. Here, we demonstrate the relaxation of a simple CsCl structure."
   ]
  },
  {
   "cell_type": "code",
   "execution_count": null,
   "id": "240882fe",
   "metadata": {},
   "outputs": [],
   "source": [
    "# Load the default pre-trained model\n",
    "pot = matgl.load_model(model_load_path)\n",
    "relaxer = Relaxer(potential=pot)"
   ]
  },
  {
   "cell_type": "code",
   "execution_count": null,
   "id": "b8a4d793",
   "metadata": {
    "scrolled": true
   },
   "outputs": [],
   "source": [
    "# Relax the structure\n",
    "relax_atoms_ini = relaxer.relax(atoms_ini, verbose=True)\n",
    "atoms = relax_atoms_ini['final_structure']"
   ]
  },
  {
   "cell_type": "code",
   "execution_count": null,
   "id": "bef2b944",
   "metadata": {},
   "outputs": [],
   "source": [
    "# Save the relaxed structure as a POSCAR file\n",
    "poscar_relaxed = Poscar(atoms)\n",
    "poscar_relaxed.write_file(path_to_POSCAR)"
   ]
  },
  {
   "cell_type": "markdown",
   "id": "b4be4267",
   "metadata": {},
   "source": [
    "# Single point energy calculation\n",
    "\n",
    "Perform a single-point calculation for final structure using M3GNetCalculator."
   ]
  },
  {
   "cell_type": "code",
   "execution_count": null,
   "id": "87466c51",
   "metadata": {},
   "outputs": [],
   "source": [
    "# define the M3GNet calculator\n",
    "calc = M3GNetCalculator(pot)\n",
    "# set up the calculator for atoms object\n",
    "atoms.set_calculator(calc)\n",
    "print(f\"The calculated potential energy is {float(atoms.get_potential_energy()):.3f} eV.\")"
   ]
  }
 ],
 "metadata": {
  "kernelspec": {
   "display_name": "Python 3 (ipykernel)",
   "language": "python",
   "name": "python3"
  },
  "language_info": {
   "codemirror_mode": {
    "name": "ipython",
    "version": 3
   },
   "file_extension": ".py",
   "mimetype": "text/x-python",
   "name": "python",
   "nbconvert_exporter": "python",
   "pygments_lexer": "ipython3",
   "version": "3.11.1"
  }
 },
 "nbformat": 4,
 "nbformat_minor": 5
}
