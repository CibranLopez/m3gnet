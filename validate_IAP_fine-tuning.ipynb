{
 "cells": [
  {
   "cell_type": "markdown",
   "id": "6ae65571",
   "metadata": {},
   "source": [
    "# Ground-state energies through ionic-relaxation path from pretrained m3gnet model"
   ]
  },
  {
   "cell_type": "code",
   "execution_count": 1,
   "id": "c2cacba1",
   "metadata": {
    "ExecuteTime": {
     "end_time": "2024-03-27T16:30:14.454646504Z",
     "start_time": "2024-03-27T16:30:12.454992213Z"
    }
   },
   "outputs": [],
   "source": [
    "import numpy             as np\n",
    "import ML_library        as MLL\n",
    "import matplotlib.pyplot as plt\n",
    "import matgl\n",
    "import os\n",
    "import warnings\n",
    "import json\n",
    "\n",
    "from __future__      import annotations\n",
    "from matgl.ext.ase   import M3GNetCalculator, Relaxer\n",
    "from pymatgen.io.ase import AseAtomsAdaptor\n",
    "\n",
    "# To suppress warnings for clearer output\n",
    "warnings.simplefilter('ignore')"
   ]
  },
  {
   "cell_type": "code",
   "execution_count": 2,
   "id": "82c6fa43",
   "metadata": {
    "ExecuteTime": {
     "end_time": "2024-03-27T16:30:14.459488242Z",
     "start_time": "2024-03-27T16:30:14.456615872Z"
    }
   },
   "outputs": [],
   "source": [
    "model_save_path = 'finetuned_model'\n",
    "\n",
    "# Define paths to pretrained model and structure to be relaxed\n",
    "# Materials Project pretrained model as default\n",
    "model_load_path = 'finetuned_model_1'\n",
    "#model_load_path = None\n",
    "model_load_path = 'M3GNet-MP-2021.2.8-PES' if model_load_path is None else model_load_path\n",
    "\n",
    "dpi = 100\n",
    "\n",
    "# Load the data from the JSON file\n",
    "with open(f'{model_save_path}/model_parameters.json', 'r') as json_file:\n",
    "    model_parameters = json.load(json_file)"
   ]
  },
  {
   "cell_type": "markdown",
   "id": "119b346d",
   "metadata": {},
   "source": [
    "# Load simulation data"
   ]
  },
  {
   "cell_type": "code",
   "execution_count": 3,
   "id": "b248264d",
   "metadata": {
    "ExecuteTime": {
     "end_time": "2024-03-27T16:30:37.170286143Z",
     "start_time": "2024-03-27T16:30:14.459555720Z"
    }
   },
   "outputs": [
    {
     "name": "stdout",
     "output_type": "stream",
     "text": [
      "\n",
      "BiSBr\n",
      "\tas_1_Bi_on_S_0\n",
      "\tas_1_Bi_on_S_1\n",
      "\tas_1_S_on_Bi_-1\n",
      "\tas_1_S_on_Bi_3\n",
      "\tas_1_S_on_Bi_5\n",
      "Error: vasprun not correctly loaded.\n",
      "\tinter_11_S_0\n",
      "\tinter_20_Br_0\n",
      "\tinter_21_Br_0\n",
      "\tvac_3_Br_-1\n",
      "\tvac_3_Br_0\n",
      "\tvac_3_Br_1\n"
     ]
    },
    {
     "data": {
      "text/html": [
       "<div>\n",
       "<style scoped>\n",
       "    .dataframe tbody tr th:only-of-type {\n",
       "        vertical-align: middle;\n",
       "    }\n",
       "\n",
       "    .dataframe tbody tr th {\n",
       "        vertical-align: top;\n",
       "    }\n",
       "\n",
       "    .dataframe thead tr th {\n",
       "        text-align: left;\n",
       "    }\n",
       "</style>\n",
       "<table border=\"1\" class=\"dataframe\">\n",
       "  <thead>\n",
       "    <tr>\n",
       "      <th></th>\n",
       "      <th colspan=\"21\" halign=\"left\">BiSBr</th>\n",
       "    </tr>\n",
       "    <tr>\n",
       "      <th></th>\n",
       "      <th colspan=\"10\" halign=\"left\">BiSBr_as_1_Bi_on_S_0</th>\n",
       "      <th>...</th>\n",
       "      <th colspan=\"2\" halign=\"left\">BiSBr_vac_3_Br_0</th>\n",
       "      <th colspan=\"8\" halign=\"left\">BiSBr_vac_3_Br_1</th>\n",
       "    </tr>\n",
       "    <tr>\n",
       "      <th></th>\n",
       "      <th>BiSBr_as_1_Bi_on_S_0_0</th>\n",
       "      <th>BiSBr_as_1_Bi_on_S_0_1</th>\n",
       "      <th>BiSBr_as_1_Bi_on_S_0_2</th>\n",
       "      <th>BiSBr_as_1_Bi_on_S_0_3</th>\n",
       "      <th>BiSBr_as_1_Bi_on_S_0_4</th>\n",
       "      <th>BiSBr_as_1_Bi_on_S_0_5</th>\n",
       "      <th>BiSBr_as_1_Bi_on_S_0_6</th>\n",
       "      <th>BiSBr_as_1_Bi_on_S_0_7</th>\n",
       "      <th>BiSBr_as_1_Bi_on_S_0_8</th>\n",
       "      <th>BiSBr_as_1_Bi_on_S_0_9</th>\n",
       "      <th>...</th>\n",
       "      <th>BiSBr_vac_3_Br_0_21</th>\n",
       "      <th>BiSBr_vac_3_Br_0_22</th>\n",
       "      <th>BiSBr_vac_3_Br_1_0</th>\n",
       "      <th>BiSBr_vac_3_Br_1_1</th>\n",
       "      <th>BiSBr_vac_3_Br_1_2</th>\n",
       "      <th>BiSBr_vac_3_Br_1_3</th>\n",
       "      <th>BiSBr_vac_3_Br_1_4</th>\n",
       "      <th>BiSBr_vac_3_Br_1_5</th>\n",
       "      <th>BiSBr_vac_3_Br_1_6</th>\n",
       "      <th>BiSBr_vac_3_Br_1_7</th>\n",
       "    </tr>\n",
       "  </thead>\n",
       "  <tbody>\n",
       "    <tr>\n",
       "      <th>structure</th>\n",
       "      <td>[[2.97958563 2.32358318 5.42154828] Bi3+, [0.8...</td>\n",
       "      <td>[[2.98097652 2.32418305 5.42250786] Bi3+, [0.8...</td>\n",
       "      <td>[[2.9851492  2.32598249 5.4253864 ] Bi3+, [0.8...</td>\n",
       "      <td>[[2.99349468 2.32958154 5.43114348] Bi3+, [0.8...</td>\n",
       "      <td>[[2.98802546 2.32722299 5.42737065] Bi3+, [0.8...</td>\n",
       "      <td>[[2.98996737 2.33020912 5.42707484] Bi3+, [0.8...</td>\n",
       "      <td>[[2.9957932  2.33916767 5.4261875 ] Bi3+, [0.8...</td>\n",
       "      <td>[[2.99709059 2.34116287 5.42598992] Bi3+, [0.8...</td>\n",
       "      <td>[[2.99910495 2.34513122 5.42645495] Bi3+, [0.9...</td>\n",
       "      <td>[[3.00127234 2.34940087 5.4269553 ] Bi3+, [0.9...</td>\n",
       "      <td>...</td>\n",
       "      <td>[[1.07415003 2.87169336 3.46336824] Bi3+, [ 1....</td>\n",
       "      <td>[[1.07431926 2.87205477 3.4636948 ] Bi3+, [ 1....</td>\n",
       "      <td>[[1.04687337 2.90783883 3.45503348] Bi2.99+, [...</td>\n",
       "      <td>[[1.04684978 2.9082431  3.45532443] Bi2.99+, [...</td>\n",
       "      <td>[[1.04677901 2.90945572 3.45619711] Bi2.99+, [...</td>\n",
       "      <td>[[1.04674732 2.9099992  3.45658829] Bi2.99+, [...</td>\n",
       "      <td>[[1.04670643 2.91015694 3.45653947] Bi2.99+, [...</td>\n",
       "      <td>[[1.04658389 2.91063    3.45639327] Bi2.99+, [...</td>\n",
       "      <td>[[1.04659514 2.9105865  3.45640669] Bi2.99+, [...</td>\n",
       "      <td>[[1.04654542 2.91023122 3.45631628] Bi2.99+, [...</td>\n",
       "    </tr>\n",
       "    <tr>\n",
       "      <th>energy</th>\n",
       "      <td>-360.760545</td>\n",
       "      <td>-360.763442</td>\n",
       "      <td>-360.768975</td>\n",
       "      <td>-360.766246</td>\n",
       "      <td>-360.770153</td>\n",
       "      <td>-360.772518</td>\n",
       "      <td>-360.776215</td>\n",
       "      <td>-360.776379</td>\n",
       "      <td>-360.778366</td>\n",
       "      <td>-360.779611</td>\n",
       "      <td>...</td>\n",
       "      <td>-357.810327</td>\n",
       "      <td>-357.810449</td>\n",
       "      <td>-363.449331</td>\n",
       "      <td>-363.450317</td>\n",
       "      <td>-363.452037</td>\n",
       "      <td>-363.452212</td>\n",
       "      <td>-363.452635</td>\n",
       "      <td>-363.453106</td>\n",
       "      <td>-363.453114</td>\n",
       "      <td>-363.453248</td>\n",
       "    </tr>\n",
       "    <tr>\n",
       "      <th>force</th>\n",
       "      <td>[[0.07207828, 0.0310842, 0.04972352], [-0.0055...</td>\n",
       "      <td>[[0.06486033, 0.03654152, 0.0371568], [0.00147...</td>\n",
       "      <td>[[0.03532649, 0.05397151, -0.00280999], [0.019...</td>\n",
       "      <td>[[-0.01159648, 0.08372168, -0.07333601], [0.05...</td>\n",
       "      <td>[[0.02034077, 0.06407088, -0.02805642], [0.032...</td>\n",
       "      <td>[[0.01561428, 0.05459537, -0.01997754], [0.030...</td>\n",
       "      <td>[[0.0070201, 0.02717547, 0.00706469], [0.02906...</td>\n",
       "      <td>[[0.00456369, 0.01994466, 0.01076315], [0.0294...</td>\n",
       "      <td>[[0.01311377, 0.0108779, 0.02011294], [0.02765...</td>\n",
       "      <td>[[0.02714164, -0.01028083, 0.03362521], [0.025...</td>\n",
       "      <td>...</td>\n",
       "      <td>[[0.00035296, -0.00034773, 0.00183927], [0.000...</td>\n",
       "      <td>[[0.00258558, 0.00496723, 0.00346246], [-0.001...</td>\n",
       "      <td>[[-0.0012218, 0.02094739, 0.01507523], [-0.000...</td>\n",
       "      <td>[[-0.00113164, 0.01738979, 0.01086564], [-0.00...</td>\n",
       "      <td>[[-0.00093064, 0.00168066, 0.00237061], [-0.00...</td>\n",
       "      <td>[[-0.00079548, -0.00142413, -0.00552381], [-0....</td>\n",
       "      <td>[[-0.00087554, -0.00078263, -0.00148098], [-0....</td>\n",
       "      <td>[[-0.0004788, -0.00936268, -0.0014493], [-0.00...</td>\n",
       "      <td>[[-0.00066526, -0.00725528, -0.0013522], [-0.0...</td>\n",
       "      <td>[[-0.00032142, -0.00213019, -0.00111052], [-0....</td>\n",
       "    </tr>\n",
       "    <tr>\n",
       "      <th>stress</th>\n",
       "      <td>[[-2.1208515980000002, 0.010806431, -0.0143243...</td>\n",
       "      <td>[[-2.1110432200000004, 0.010463909, -0.0126552...</td>\n",
       "      <td>[[-2.0844480300000003, 0.009275477, -0.0078117...</td>\n",
       "      <td>[[-2.035588583, 0.007574436, 0.001602463000000...</td>\n",
       "      <td>[[-2.06438167, 0.008902324000000001, -0.004132...</td>\n",
       "      <td>[[-2.040863056, 0.008602743000000001, -0.00327...</td>\n",
       "      <td>[[-1.9787528900000002, 0.008207387, -0.0001403...</td>\n",
       "      <td>[[-1.965631174, 0.008343637, 0.000813288000000...</td>\n",
       "      <td>[[-1.9737114, 0.009291921, -0.0013492830000000...</td>\n",
       "      <td>[[-1.975341412, 0.010532467, -0.00380604800000...</td>\n",
       "      <td>...</td>\n",
       "      <td>[[-1.501046807, 0.061856696, 0.017054780000000...</td>\n",
       "      <td>[[-1.497520691, 0.061590981, 0.01633381], [0.0...</td>\n",
       "      <td>[[-0.664278816, 0.0024805480000000004, 0.00107...</td>\n",
       "      <td>[[-0.6629477220000001, 0.0024513, 0.00109285],...</td>\n",
       "      <td>[[-0.6497951940000001, 0.002381179, 0.00115705...</td>\n",
       "      <td>[[-0.649715746, 0.002347, 0.001180398], [0.002...</td>\n",
       "      <td>[[-0.643747186, 0.002356341, 0.001179922], [0....</td>\n",
       "      <td>[[-0.578247272, 0.0023764560000000003, 0.00116...</td>\n",
       "      <td>[[-0.5848293400000001, 0.002371498, 0.00116914...</td>\n",
       "      <td>[[-0.586727318, 0.002406426, 0.001171773], [0....</td>\n",
       "    </tr>\n",
       "    <tr>\n",
       "      <th>charge_state</th>\n",
       "      <td>0.0</td>\n",
       "      <td>0.0</td>\n",
       "      <td>0.0</td>\n",
       "      <td>0.0</td>\n",
       "      <td>0.0</td>\n",
       "      <td>0.0</td>\n",
       "      <td>0.0</td>\n",
       "      <td>0.0</td>\n",
       "      <td>0.0</td>\n",
       "      <td>0.0</td>\n",
       "      <td>...</td>\n",
       "      <td>0.0</td>\n",
       "      <td>0.0</td>\n",
       "      <td>1.0</td>\n",
       "      <td>1.0</td>\n",
       "      <td>1.0</td>\n",
       "      <td>1.0</td>\n",
       "      <td>1.0</td>\n",
       "      <td>1.0</td>\n",
       "      <td>1.0</td>\n",
       "      <td>1.0</td>\n",
       "    </tr>\n",
       "  </tbody>\n",
       "</table>\n",
       "<p>5 rows × 164 columns</p>\n",
       "</div>"
      ],
      "text/plain": [
       "                                                          BiSBr  \\\n",
       "                                           BiSBr_as_1_Bi_on_S_0   \n",
       "                                         BiSBr_as_1_Bi_on_S_0_0   \n",
       "structure     [[2.97958563 2.32358318 5.42154828] Bi3+, [0.8...   \n",
       "energy                                              -360.760545   \n",
       "force         [[0.07207828, 0.0310842, 0.04972352], [-0.0055...   \n",
       "stress        [[-2.1208515980000002, 0.010806431, -0.0143243...   \n",
       "charge_state                                                0.0   \n",
       "\n",
       "                                                                 \\\n",
       "                                                                  \n",
       "                                         BiSBr_as_1_Bi_on_S_0_1   \n",
       "structure     [[2.98097652 2.32418305 5.42250786] Bi3+, [0.8...   \n",
       "energy                                              -360.763442   \n",
       "force         [[0.06486033, 0.03654152, 0.0371568], [0.00147...   \n",
       "stress        [[-2.1110432200000004, 0.010463909, -0.0126552...   \n",
       "charge_state                                                0.0   \n",
       "\n",
       "                                                                 \\\n",
       "                                                                  \n",
       "                                         BiSBr_as_1_Bi_on_S_0_2   \n",
       "structure     [[2.9851492  2.32598249 5.4253864 ] Bi3+, [0.8...   \n",
       "energy                                              -360.768975   \n",
       "force         [[0.03532649, 0.05397151, -0.00280999], [0.019...   \n",
       "stress        [[-2.0844480300000003, 0.009275477, -0.0078117...   \n",
       "charge_state                                                0.0   \n",
       "\n",
       "                                                                 \\\n",
       "                                                                  \n",
       "                                         BiSBr_as_1_Bi_on_S_0_3   \n",
       "structure     [[2.99349468 2.32958154 5.43114348] Bi3+, [0.8...   \n",
       "energy                                              -360.766246   \n",
       "force         [[-0.01159648, 0.08372168, -0.07333601], [0.05...   \n",
       "stress        [[-2.035588583, 0.007574436, 0.001602463000000...   \n",
       "charge_state                                                0.0   \n",
       "\n",
       "                                                                 \\\n",
       "                                                                  \n",
       "                                         BiSBr_as_1_Bi_on_S_0_4   \n",
       "structure     [[2.98802546 2.32722299 5.42737065] Bi3+, [0.8...   \n",
       "energy                                              -360.770153   \n",
       "force         [[0.02034077, 0.06407088, -0.02805642], [0.032...   \n",
       "stress        [[-2.06438167, 0.008902324000000001, -0.004132...   \n",
       "charge_state                                                0.0   \n",
       "\n",
       "                                                                 \\\n",
       "                                                                  \n",
       "                                         BiSBr_as_1_Bi_on_S_0_5   \n",
       "structure     [[2.98996737 2.33020912 5.42707484] Bi3+, [0.8...   \n",
       "energy                                              -360.772518   \n",
       "force         [[0.01561428, 0.05459537, -0.01997754], [0.030...   \n",
       "stress        [[-2.040863056, 0.008602743000000001, -0.00327...   \n",
       "charge_state                                                0.0   \n",
       "\n",
       "                                                                 \\\n",
       "                                                                  \n",
       "                                         BiSBr_as_1_Bi_on_S_0_6   \n",
       "structure     [[2.9957932  2.33916767 5.4261875 ] Bi3+, [0.8...   \n",
       "energy                                              -360.776215   \n",
       "force         [[0.0070201, 0.02717547, 0.00706469], [0.02906...   \n",
       "stress        [[-1.9787528900000002, 0.008207387, -0.0001403...   \n",
       "charge_state                                                0.0   \n",
       "\n",
       "                                                                 \\\n",
       "                                                                  \n",
       "                                         BiSBr_as_1_Bi_on_S_0_7   \n",
       "structure     [[2.99709059 2.34116287 5.42598992] Bi3+, [0.8...   \n",
       "energy                                              -360.776379   \n",
       "force         [[0.00456369, 0.01994466, 0.01076315], [0.0294...   \n",
       "stress        [[-1.965631174, 0.008343637, 0.000813288000000...   \n",
       "charge_state                                                0.0   \n",
       "\n",
       "                                                                 \\\n",
       "                                                                  \n",
       "                                         BiSBr_as_1_Bi_on_S_0_8   \n",
       "structure     [[2.99910495 2.34513122 5.42645495] Bi3+, [0.9...   \n",
       "energy                                              -360.778366   \n",
       "force         [[0.01311377, 0.0108779, 0.02011294], [0.02765...   \n",
       "stress        [[-1.9737114, 0.009291921, -0.0013492830000000...   \n",
       "charge_state                                                0.0   \n",
       "\n",
       "                                                                 ...  \\\n",
       "                                                                 ...   \n",
       "                                         BiSBr_as_1_Bi_on_S_0_9  ...   \n",
       "structure     [[3.00127234 2.34940087 5.4269553 ] Bi3+, [0.9...  ...   \n",
       "energy                                              -360.779611  ...   \n",
       "force         [[0.02714164, -0.01028083, 0.03362521], [0.025...  ...   \n",
       "stress        [[-1.975341412, 0.010532467, -0.00380604800000...  ...   \n",
       "charge_state                                                0.0  ...   \n",
       "\n",
       "                                                                 \\\n",
       "                                               BiSBr_vac_3_Br_0   \n",
       "                                            BiSBr_vac_3_Br_0_21   \n",
       "structure     [[1.07415003 2.87169336 3.46336824] Bi3+, [ 1....   \n",
       "energy                                              -357.810327   \n",
       "force         [[0.00035296, -0.00034773, 0.00183927], [0.000...   \n",
       "stress        [[-1.501046807, 0.061856696, 0.017054780000000...   \n",
       "charge_state                                                0.0   \n",
       "\n",
       "                                                                 \\\n",
       "                                                                  \n",
       "                                            BiSBr_vac_3_Br_0_22   \n",
       "structure     [[1.07431926 2.87205477 3.4636948 ] Bi3+, [ 1....   \n",
       "energy                                              -357.810449   \n",
       "force         [[0.00258558, 0.00496723, 0.00346246], [-0.001...   \n",
       "stress        [[-1.497520691, 0.061590981, 0.01633381], [0.0...   \n",
       "charge_state                                                0.0   \n",
       "\n",
       "                                                                 \\\n",
       "                                               BiSBr_vac_3_Br_1   \n",
       "                                             BiSBr_vac_3_Br_1_0   \n",
       "structure     [[1.04687337 2.90783883 3.45503348] Bi2.99+, [...   \n",
       "energy                                              -363.449331   \n",
       "force         [[-0.0012218, 0.02094739, 0.01507523], [-0.000...   \n",
       "stress        [[-0.664278816, 0.0024805480000000004, 0.00107...   \n",
       "charge_state                                                1.0   \n",
       "\n",
       "                                                                 \\\n",
       "                                                                  \n",
       "                                             BiSBr_vac_3_Br_1_1   \n",
       "structure     [[1.04684978 2.9082431  3.45532443] Bi2.99+, [...   \n",
       "energy                                              -363.450317   \n",
       "force         [[-0.00113164, 0.01738979, 0.01086564], [-0.00...   \n",
       "stress        [[-0.6629477220000001, 0.0024513, 0.00109285],...   \n",
       "charge_state                                                1.0   \n",
       "\n",
       "                                                                 \\\n",
       "                                                                  \n",
       "                                             BiSBr_vac_3_Br_1_2   \n",
       "structure     [[1.04677901 2.90945572 3.45619711] Bi2.99+, [...   \n",
       "energy                                              -363.452037   \n",
       "force         [[-0.00093064, 0.00168066, 0.00237061], [-0.00...   \n",
       "stress        [[-0.6497951940000001, 0.002381179, 0.00115705...   \n",
       "charge_state                                                1.0   \n",
       "\n",
       "                                                                 \\\n",
       "                                                                  \n",
       "                                             BiSBr_vac_3_Br_1_3   \n",
       "structure     [[1.04674732 2.9099992  3.45658829] Bi2.99+, [...   \n",
       "energy                                              -363.452212   \n",
       "force         [[-0.00079548, -0.00142413, -0.00552381], [-0....   \n",
       "stress        [[-0.649715746, 0.002347, 0.001180398], [0.002...   \n",
       "charge_state                                                1.0   \n",
       "\n",
       "                                                                 \\\n",
       "                                                                  \n",
       "                                             BiSBr_vac_3_Br_1_4   \n",
       "structure     [[1.04670643 2.91015694 3.45653947] Bi2.99+, [...   \n",
       "energy                                              -363.452635   \n",
       "force         [[-0.00087554, -0.00078263, -0.00148098], [-0....   \n",
       "stress        [[-0.643747186, 0.002356341, 0.001179922], [0....   \n",
       "charge_state                                                1.0   \n",
       "\n",
       "                                                                 \\\n",
       "                                                                  \n",
       "                                             BiSBr_vac_3_Br_1_5   \n",
       "structure     [[1.04658389 2.91063    3.45639327] Bi2.99+, [...   \n",
       "energy                                              -363.453106   \n",
       "force         [[-0.0004788, -0.00936268, -0.0014493], [-0.00...   \n",
       "stress        [[-0.578247272, 0.0023764560000000003, 0.00116...   \n",
       "charge_state                                                1.0   \n",
       "\n",
       "                                                                 \\\n",
       "                                                                  \n",
       "                                             BiSBr_vac_3_Br_1_6   \n",
       "structure     [[1.04659514 2.9105865  3.45640669] Bi2.99+, [...   \n",
       "energy                                              -363.453114   \n",
       "force         [[-0.00066526, -0.00725528, -0.0013522], [-0.0...   \n",
       "stress        [[-0.5848293400000001, 0.002371498, 0.00116914...   \n",
       "charge_state                                                1.0   \n",
       "\n",
       "                                                                 \n",
       "                                                                 \n",
       "                                             BiSBr_vac_3_Br_1_7  \n",
       "structure     [[1.04654542 2.91023122 3.45631628] Bi2.99+, [...  \n",
       "energy                                              -363.453248  \n",
       "force         [[-0.00032142, -0.00213019, -0.00111052], [-0....  \n",
       "stress        [[-0.586727318, 0.002406426, 0.001171773], [0....  \n",
       "charge_state                                                1.0  \n",
       "\n",
       "[5 rows x 164 columns]"
      ]
     },
     "execution_count": 3,
     "metadata": {},
     "output_type": "execute_result"
    }
   ],
   "source": [
    "# Extract the data\n",
    "source_m3gnet_dataset = MLL.extract_vaspruns_dataset(model_parameters['path_to_dataset'], charged=model_parameters['charged'])\n",
    "source_m3gnet_dataset"
   ]
  },
  {
   "cell_type": "markdown",
   "id": "8b9d2994",
   "metadata": {},
   "source": [
    "# Split data into train-validation-test sets"
   ]
  },
  {
   "cell_type": "markdown",
   "id": "43f353b5",
   "metadata": {},
   "source": [
    "### Decide if we split in terms of mateiral, defect state or simulation directly"
   ]
  },
  {
   "cell_type": "code",
   "execution_count": 4,
   "id": "1f68833b",
   "metadata": {
    "ExecuteTime": {
     "end_time": "2024-03-27T16:30:37.170905155Z",
     "start_time": "2024-03-27T16:30:37.168479215Z"
    }
   },
   "outputs": [],
   "source": [
    "# Clone (copy) the DataFrame\n",
    "m3gnet_dataset = source_m3gnet_dataset.copy()\n",
    "\n",
    "# Remove the outer (top-level) column index up to depth-1 level\n",
    "for i in range(model_parameters['depth']):\n",
    "    m3gnet_dataset.columns = m3gnet_dataset.columns.droplevel(0)"
   ]
  },
  {
   "cell_type": "markdown",
   "id": "29f7711a",
   "metadata": {},
   "source": [
    "### Splitting into train-validation-test sets"
   ]
  },
  {
   "cell_type": "code",
   "execution_count": 5,
   "id": "25ae70f6",
   "metadata": {
    "ExecuteTime": {
     "end_time": "2024-03-27T16:30:37.178396741Z",
     "start_time": "2024-03-27T16:30:37.171894701Z"
    }
   },
   "outputs": [
    {
     "name": "stdout",
     "output_type": "stream",
     "text": [
      "Using 43 samples to test\n"
     ]
    }
   ],
   "source": [
    "# Check if data has been already split, else do it randomly\n",
    "\n",
    "path_to_test_labels = 'test_labels.txt'\n",
    "\n",
    "if os.path.exists(path_to_test_labels):\n",
    "    # Read labels splitting (which are strings)\n",
    "    test_labels = np.genfromtxt(path_to_test_labels, dtype='str').tolist()\n",
    "else:\n",
    "    print('Error: test labels not available')\n",
    "\n",
    "# Use the loaded/computed labels to generate split datasets\n",
    "test_dataset = m3gnet_dataset[test_labels]\n",
    "\n",
    "n_test = np.shape(test_dataset)[1]\n",
    "\n",
    "print(f'Using {n_test} samples to test')"
   ]
  },
  {
   "cell_type": "markdown",
   "id": "77900701",
   "metadata": {},
   "source": [
    "# Structure Relaxation\n",
    "\n",
    "To perform structure relaxation, we use the Relaxer class. Here, we demonstrate the relaxation of a simple CsCl structure."
   ]
  },
  {
   "cell_type": "code",
   "execution_count": 6,
   "id": "5235f8355631ec90",
   "metadata": {
    "ExecuteTime": {
     "end_time": "2024-03-27T16:30:37.582404401Z",
     "start_time": "2024-03-27T16:30:37.177750207Z"
    },
    "collapsed": false,
    "jupyter": {
     "outputs_hidden": false
    }
   },
   "outputs": [
    {
     "name": "stdin",
     "output_type": "stream",
     "text": [
      "Do you really want to delete everything in /home/claudio/.cache/matgl (y|n)?  y\n"
     ]
    }
   ],
   "source": [
    "# Clear caché of previous model\n",
    "matgl.clear_cache()\n",
    "\n",
    "# Load the default pre-trained model\n",
    "pot = matgl.load_model(model_load_path)\n",
    "relaxer = Relaxer(potential=pot)\n",
    "\n",
    "# Define the M3GNet calculator\n",
    "calc = M3GNetCalculator(pot)"
   ]
  },
  {
   "cell_type": "code",
   "execution_count": 11,
   "id": "456ccbd6",
   "metadata": {
    "ExecuteTime": {
     "end_time": "2024-03-27T16:30:37.587541047Z",
     "start_time": "2024-03-27T16:30:37.583310947Z"
    }
   },
   "outputs": [],
   "source": [
    "# Read top-level columns\n",
    "upper_columns = [item[0] for item in m3gnet_dataset.columns]\n",
    "\n",
    "# Define unique columns\n",
    "unique_colums = np.unique(upper_columns)"
   ]
  },
  {
   "cell_type": "code",
   "execution_count": 8,
   "id": "cad151b3f577ba18",
   "metadata": {
    "ExecuteTime": {
     "end_time": "2024-03-27T16:30:53.000844940Z",
     "start_time": "2024-03-27T16:30:37.589137643Z"
    },
    "collapsed": false,
    "jupyter": {
     "outputs_hidden": false
    }
   },
   "outputs": [],
   "source": [
    "plot_states = False\n",
    "\n",
    "# Run over each ionic step and predict the energy with a single-shot calculation\n",
    "offsets    = []\n",
    "accuracies = []\n",
    "for column_name in unique_colums:\n",
    "    temp_data = m3gnet_dataset[column_name]\n",
    "    \n",
    "    # Initialize list for energies\n",
    "    computed_energies  = []\n",
    "    predicted_energies = []\n",
    "    \n",
    "    for i in range(np.shape(temp_data)[1]):\n",
    "        # Load structure and computed (DFT) energy\n",
    "        atoms           = temp_data.iloc[:, i].structure\n",
    "        computed_energy = temp_data.iloc[:, i].energy\n",
    "\n",
    "        # Load atoms adapter and adapt structure\n",
    "        ase_adaptor = AseAtomsAdaptor()\n",
    "        atoms = ase_adaptor.get_atoms(atoms)\n",
    "\n",
    "        # Predict energy (ML-IAP)\n",
    "        atoms.set_calculator(calc)\n",
    "        predicted_energy = float(atoms.get_potential_energy())\n",
    "\n",
    "        computed_energies.append(computed_energy)\n",
    "        predicted_energies.append(predicted_energy)\n",
    "    \n",
    "    # Pass to numpy array\n",
    "    computed_energies  = np.array(computed_energies)\n",
    "    predicted_energies = np.array(predicted_energies)\n",
    "    \n",
    "    # Compute metrics\n",
    "    offset   = MLL.compute_offset(computed_energies, predicted_energies)\n",
    "    accuracy = MLL.compute_accuracy(computed_energies, predicted_energies, offset)\n",
    "    \n",
    "    # Append metrics\n",
    "    offsets.append(offset)\n",
    "    accuracies.append(accuracy)\n",
    "    \n",
    "    if plot_states:\n",
    "        # Plot energy comparison\n",
    "        plt.title(f'{column_name} ($d_1:$ {offset:.2g}, $d_2:$ {accuracy:.2g})')  # eV/supercell\n",
    "        plt.plot(predicted_energies, '.', label='Predicted')\n",
    "        plt.plot(computed_energies,  '.', label='Computed')\n",
    "        plt.legend(loc='best')\n",
    "        plt.xlabel('Ionic step')\n",
    "        plt.ylabel('$E$ (eV/supercell)')\n",
    "        plt.show()"
   ]
  },
  {
   "cell_type": "code",
   "execution_count": 9,
   "id": "00fe3726",
   "metadata": {
    "ExecuteTime": {
     "end_time": "2024-03-27T16:30:53.082779443Z",
     "start_time": "2024-03-27T16:30:53.000728585Z"
    }
   },
   "outputs": [
    {
     "data": {
      "text/plain": [
       "[<matplotlib.lines.Line2D at 0x71fd87c89d80>]"
      ]
     },
     "execution_count": 9,
     "metadata": {},
     "output_type": "execute_result"
    },
    {
     "data": {
      "image/png": "[encoded data removed]",
      "text/plain": [
       "<Figure size 640x480 with 1 Axes>"
      ]
     },
     "metadata": {},
     "output_type": "display_data"
    }
   ],
   "source": [
    "plt.plot(offsets)"
   ]
  },
  {
   "cell_type": "code",
   "execution_count": 10,
   "id": "bce92ccb",
   "metadata": {
    "ExecuteTime": {
     "end_time": "2024-03-27T16:30:53.193712231Z",
     "start_time": "2024-03-27T16:30:53.090722501Z"
    }
   },
   "outputs": [
    {
     "data": {
      "text/plain": [
       "[<matplotlib.lines.Line2D at 0x71fd8f1d0580>]"
      ]
     },
     "execution_count": 10,
     "metadata": {},
     "output_type": "execute_result"
    },
    {
     "data": {
      "image/png": "[encoded data removed]",
      "text/plain": [
       "<Figure size 640x480 with 1 Axes>"
      ]
     },
     "metadata": {},
     "output_type": "display_data"
    }
   ],
   "source": [
    "plt.plot(accuracies)"
   ]
  }
 ],
 "metadata": {
  "kernelspec": {
   "display_name": "Python 3 (ipykernel)",
   "language": "python",
   "name": "python3"
  },
  "language_info": {
   "codemirror_mode": {
    "name": "ipython",
    "version": 3
   },
   "file_extension": ".py",
   "mimetype": "text/x-python",
   "name": "python",
   "nbconvert_exporter": "python",
   "pygments_lexer": "ipython3",
   "version": "3.10.12"
  }
 },
 "nbformat": 4,
 "nbformat_minor": 5
}
